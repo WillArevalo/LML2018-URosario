{
 "cells": [
  {
   "cell_type": "markdown",
   "metadata": {},
   "source": [
    "# Introduction to neural networks using Keras II\n",
    "\n",
    "#### By Julian Rincon, _Department of Applied Mathematics and Computer Science, Universidad del Rosario_\n",
    "#### Notebook originally written by Pavlos Protopapas, _Harvard Institute for Applied Computational Science_\n",
    "###### Based on the book [Deep Learning with Python](https://www.manning.com/books/deep-learning-with-python) by François Chollet."
   ]
  },
  {
   "cell_type": "markdown",
   "metadata": {},
   "source": [
    "In this (second) part of the tutorial, we will explore fundamental aspects in machine learning such as \n",
    "\n",
    "1. how to evaluate models, \n",
    "2. overfitting, and \n",
    "3. underfitting.\n",
    "\n",
    "We will go through some exercises to review those concepts."
   ]
  },
  {
   "cell_type": "markdown",
   "metadata": {},
   "source": [
    "---"
   ]
  },
  {
   "cell_type": "markdown",
   "metadata": {},
   "source": [
    "## Fundamentals of Machine Learning\n",
    "\n",
    "The `MNIST` example belongs to a category of machine learning called *supervised learning*. This is by far the most common case. It consists of learning to map out input data to known targets (also called *annotations*), given a set of examples (often annotated by humans).  Generally, almost all applications of deep learning that are in the spotlight these days belong in this category, such as optical character recognition, speech recognition, image classification, and language translation.\n",
    "\n",
    "### Evaluating machine-learning models\n",
    "\n",
    "In the `MNIST` example, we split the data into a training set and a test set. The reason not to evaluate the models on the same data they were trained on quickly became evident: after just a few epochs, the model began to *overfit*. That is, their performance on never-before-seen data started stalling (or worsening) compared to their performance on the training data, which always improves as training progresses.\n",
    "\n",
    "In machine learning, the goal is to achieve models that *generalize*, that perform well on never-before-seen data, and overfitting is the central obstacle. You can only control that which you can observe, so it's crucial to be able to reliably measure the generalization power of your model. The following sections look at strategies for mitigating overfitting and maximizing generalization. In this section, we'll focus on how to measure generalization: how to evaluate machine-learning models.\n",
    "\n",
    "At the end of the day, you'll end up with a model that performs artificially well on the training data, because that's what you optimized it for. You care about performance on completely new data, not the training data, so you need to use a completely different, never-before-seen dataset to evaluate the model: the test dataset. Your model shouldn't have had access to any information about the test set, even indirectly. If anything about the model has been tuned based on test set performance, then your measure of generalization will be flawed.\n",
    "\n",
    "Splitting your data into training and test sets may seem straightforward, but there are a few advanced ways to do it that can come in handy when little data is available. Let's review three classic model evaluation recipes: simple hold-out validation, K-fold validation, and iterated K-fold validation with shuffling.\n",
    "\n",
    "#### Simple Hold-out Validation\n",
    "\n",
    "This is what we did with the `MNIST` data. Set apart some fraction of your data as your test set. Train on the remaining data, and evaluate on the test set. This is the simplest evaluation protocol, and it suffers from one flaw: if little data is available, then your training and test sets may contain too few samples to be statistically representative of the data at hand. This is easy to recognize: if different random shuffling rounds of the data before splitting end up yielding very different measures of model performance, then you're having this issue. K-fold validation and iterated K-fold validation are two ways to address this, as discussed next.\n",
    "\n",
    "![hold out validation](holdout.png)\n",
    "\n",
    "#### K-fold Validation\n",
    "\n",
    "With this approach, you split your data into $K$ partitions of equal size. For each partition `i`, train a model on the remaining $K - 1$ partitions, and evaluate it on partition `i`. Your final score is then the averages of the $K$ scores obtained. This method is helpful when the performance of your model shows significant variance based on your train-test split. Like hold-out validation, this method doesn't exempt you from using a distinct validation set for model calibration.\n",
    "\n",
    "![K-fold validation](kfold.png)\n",
    "\n",
    "#### Iterated K-Fold Validation with Shuffling\n",
    "\n",
    "This validation method is for situations in which you have relatively little data available and you need to evaluate your model as precisely as possible. This can be helpful in [Kaggle](https://www.kaggle.com/) competitions. It consists of applying K-fold validation multiple times, shuffling the data every time before splitting it $K$ ways. The final score is the average of the scores obtained at each run of K-fold validation. Note that you end up training and evaluating $P \\times K$ models (where $P$ is the number of iterations you use), which can very expensive and time-consuming.\n",
    "\n",
    "### Overfitting and Underfitting\n",
    "\n",
    "In the `MNIST` case, the performance of the model on the hold-out validation data always peaked after a few epochs and then began to degrade: the model quickly started to overfit to the training data. Overfitting happens in every machine-learning problem. Learning how to deal with overfitting is essential to mastering machine learning.\n",
    "**_The fundamental issue in machine learning is the tension between optimization and generalization._** *Optimization* refers to the process of adjusting a model to get the best performance possible on the training data (the *learning* in *machine learning*), whereas *generalization* refers to how well the trained model performs on data it has never seen before. The goal of the game is to get good generalization, of course, but you don't control generalization; you can only adjust the model based on its training data.\n",
    "\n",
    "At the beginning of training, optimization and generalization are correlated: the lower the loss on training data, the lower the loss on test data. While this is happening, your model is said to be *underfit*: there is still progress to be made; the network hasn't yet modeled all relevant patterns in the training data. But after a certain number of iterations on the training data, generalization stops improving, and validation metrics stall and then begin to degrade: the model is starting to overfit. That is, it's beginning to learn patterns that are specific to the training data but that are misleading or irrelevant when it comes to new data.\n",
    "\n",
    "To prevent a model from learning misleading or irrelevant patterns found in the training data, *the best solution is to get more training data*. A model trained on more data will naturally generalize better. When that isn't possible, the next-best solution is to modulate the quantity of information that your model is allowed to store or to add constraints on what information it's allowed to store. If a network can only afford to memorize a small number of patterns, the optimization process will force it to focus on the most prominent patterns, which have a better chance of generalizing well. The processing of fighting overfitting this way is called *regularization*."
   ]
  },
  {
   "cell_type": "markdown",
   "metadata": {},
   "source": [
    "---"
   ]
  },
  {
   "cell_type": "markdown",
   "metadata": {},
   "source": [
    "## Examples of model evaluation using the `MNIST` data\n",
    "\n",
    "In this section we will apply two variants of model evaluation to the hand-written digit image classification problem. Can you spot what type they are? As part of the exercises, you will analyze the main differences, pros and cons, of the both evaluation methods.\n",
    "\n",
    "The code in the following example is partially completed, part of your work will be to appropriately complete the code in order to complete the subsequent exercises."
   ]
  },
  {
   "cell_type": "markdown",
   "metadata": {},
   "source": [
    "### Code setup\n",
    "\n",
    "We start importing and reading Keras, libraries for post-processing and analyzing the results, and the `MNIST` data. The coding workflow is very similar to what we did in the previous tutorial."
   ]
  },
  {
   "cell_type": "code",
   "execution_count": 1,
   "metadata": {},
   "outputs": [
    {
     "name": "stderr",
     "output_type": "stream",
     "text": [
      "Using TensorFlow backend.\n"
     ]
    }
   ],
   "source": [
    "import numpy as np\n",
    "import matplotlib.pyplot as plt\n",
    "import tensorflow as tf\n",
    "\n",
    "from keras import models\n",
    "from keras import layers\n",
    "from keras.datasets import mnist\n",
    "from keras.utils import to_categorical\n",
    "\n",
    "(train_images, train_labels), (test_images, test_labels) = mnist.load_data()"
   ]
  },
  {
   "cell_type": "markdown",
   "metadata": {},
   "source": [
    "#### Auxiliary functions\n",
    "\n",
    "We now define a couple of methods: one for training iteratively, given training and validation data, and another one for preprocessing the input images and their corresponding labels."
   ]
  },
  {
   "cell_type": "code",
   "execution_count": 2,
   "metadata": {},
   "outputs": [],
   "source": [
    "def Train(training_data, training_labels, validation_data, validation_labels):\n",
    "    \"\"\"Insert docstring here...\"\"\"\n",
    "    network = models.Sequential()\n",
    "    network.add(layers.Dense(512, activation='relu', input_shape=(28 * 28,)))\n",
    "    network.add(layers.Dense(10, activation='softmax'))\n",
    "\n",
    "    network.compile(optimizer='rmsprop', loss='categorical_crossentropy',\n",
    "                    metrics=['accuracy'])\n",
    "\n",
    "    network.fit(training_data, training_labels, epochs=5, batch_size=128)\n",
    "\n",
    "    training_score = network.evaluate(training_data, training_labels)\n",
    "    validation_score = network.evaluate(validation_data, validation_labels)\n",
    "    \n",
    "    return validation_score, training_score"
   ]
  },
  {
   "cell_type": "code",
   "execution_count": 3,
   "metadata": {},
   "outputs": [],
   "source": [
    "def Prepare(imgs, labs):\n",
    "    \"\"\"Insert docstring here...\"\"\"\n",
    "    p_imgs = imgs.reshape((len(imgs), 28 * 28))\n",
    "    p_imgs = p_imgs.astype('float32') / 255\n",
    "    p_labs = to_categorical(labs)\n",
    "    \n",
    "    return p_imgs, p_labs"
   ]
  },
  {
   "cell_type": "markdown",
   "metadata": {},
   "source": [
    "### Model evaluation\n",
    "\n",
    "The next snippet of code performs k-fold validation, as discussed at the beginning of this tutorial."
   ]
  },
  {
   "cell_type": "code",
   "execution_count": 4,
   "metadata": {},
   "outputs": [
    {
     "name": "stdout",
     "output_type": "stream",
     "text": [
      "split 12000\n",
      "**************************************** fold 0 ****************************************\n",
      "Epoch 1/5\n",
      "48000/48000 [==============================] - 4s 85us/step - loss: 0.2868 - acc: 0.9174\n",
      "Epoch 2/5\n",
      "48000/48000 [==============================] - 3s 66us/step - loss: 0.1184 - acc: 0.9654\n",
      "Epoch 3/5\n",
      "48000/48000 [==============================] - 3s 66us/step - loss: 0.0789 - acc: 0.9762\n",
      "Epoch 4/5\n",
      "48000/48000 [==============================] - 3s 70us/step - loss: 0.0562 - acc: 0.9832\n",
      "Epoch 5/5\n",
      "48000/48000 [==============================] - 3s 68us/step - loss: 0.0417 - acc: 0.9873\n",
      "48000/48000 [==============================] - 2s 40us/step\n",
      "12000/12000 [==============================] - 0s 37us/step\n",
      "**************************************** fold 1 ****************************************\n",
      "Epoch 1/5\n",
      "48000/48000 [==============================] - 3s 68us/step - loss: 0.2829 - acc: 0.9180\n",
      "Epoch 2/5\n",
      "48000/48000 [==============================] - 3s 65us/step - loss: 0.1170 - acc: 0.9651\n",
      "Epoch 3/5\n",
      "48000/48000 [==============================] - 4s 75us/step - loss: 0.0772 - acc: 0.9765\n",
      "Epoch 4/5\n",
      "48000/48000 [==============================] - 3s 71us/step - loss: 0.0554 - acc: 0.9834\n",
      "Epoch 5/5\n",
      "48000/48000 [==============================] - 3s 71us/step - loss: 0.0423 - acc: 0.9875\n",
      "48000/48000 [==============================] - 2s 44us/step\n",
      "12000/12000 [==============================] - 1s 44us/step\n",
      "**************************************** fold 2 ****************************************\n",
      "Epoch 1/5\n",
      "48000/48000 [==============================] - 4s 74us/step - loss: 0.2833 - acc: 0.9184\n",
      "Epoch 2/5\n",
      "48000/48000 [==============================] - 3s 67us/step - loss: 0.1201 - acc: 0.9649\n",
      "Epoch 3/5\n",
      "48000/48000 [==============================] - 3s 69us/step - loss: 0.0785 - acc: 0.9764\n",
      "Epoch 4/5\n",
      "48000/48000 [==============================] - 4s 73us/step - loss: 0.0563 - acc: 0.9827\n",
      "Epoch 5/5\n",
      "48000/48000 [==============================] - 3s 72us/step - loss: 0.0412 - acc: 0.9875\n",
      "48000/48000 [==============================] - 2s 41us/step\n",
      "12000/12000 [==============================] - 0s 41us/step\n",
      "**************************************** fold 3 ****************************************\n",
      "Epoch 1/5\n",
      "48000/48000 [==============================] - 4s 74us/step - loss: 0.2805 - acc: 0.9196\n",
      "Epoch 2/5\n",
      "48000/48000 [==============================] - 3s 71us/step - loss: 0.1158 - acc: 0.9663\n",
      "Epoch 3/5\n",
      "48000/48000 [==============================] - 4s 78us/step - loss: 0.0756 - acc: 0.9774\n",
      "Epoch 4/5\n",
      "48000/48000 [==============================] - 4s 78us/step - loss: 0.0537 - acc: 0.9839\n",
      "Epoch 5/5\n",
      "48000/48000 [==============================] - 4s 78us/step - loss: 0.0403 - acc: 0.9879\n",
      "48000/48000 [==============================] - 3s 61us/step\n",
      "12000/12000 [==============================] - 1s 65us/step\n",
      "**************************************** fold 4 ****************************************\n",
      "Epoch 1/5\n",
      "48000/48000 [==============================] - 4s 79us/step - loss: 0.2843 - acc: 0.9184\n",
      "Epoch 2/5\n",
      "48000/48000 [==============================] - 4s 82us/step - loss: 0.1181 - acc: 0.9649\n",
      "Epoch 3/5\n",
      "48000/48000 [==============================] - 4s 76us/step - loss: 0.0792 - acc: 0.9766\n",
      "Epoch 4/5\n",
      "48000/48000 [==============================] - 4s 74us/step - loss: 0.0568 - acc: 0.9835\n",
      "Epoch 5/5\n",
      "48000/48000 [==============================] - 4s 74us/step - loss: 0.0413 - acc: 0.9882\n",
      "48000/48000 [==============================] - 2s 43us/step\n",
      "12000/12000 [==============================] - 1s 43us/step\n"
     ]
    }
   ],
   "source": [
    "k = 5\n",
    "split = len(train_images) // k\n",
    "print('split', split)\n",
    "val_scores, tra_scores = [], []\n",
    "\n",
    "for fold in range(k):\n",
    "    print('*'*40, 'fold', fold, '*'*40)\n",
    "    beg, end = fold * split, (fold + 1) * split    \n",
    "    #print(beg, end)\n",
    "    validation_data = train_images[beg:end, :, :]\n",
    "    training_data = np.concatenate((train_images[:beg, :, :], train_images[end:, :, :]))\n",
    "    \n",
    "    validation_labels = train_labels[beg:end]\n",
    "    training_labels = np.concatenate((train_labels[:beg], train_labels[end:]))\n",
    "    #print(validation_labels.shape, training_labels.shape)\n",
    "    \n",
    "    tra_data, tra_lab = Prepare(training_data, training_labels)\n",
    "    val_data, val_lab = Prepare(validation_data, validation_labels)\n",
    "    \n",
    "    val_score, tra_score = Train(tra_data, tra_lab, val_data, val_lab)\n",
    "    val_scores.append(val_score)\n",
    "    tra_scores.append(tra_score)"
   ]
  },
  {
   "cell_type": "markdown",
   "metadata": {},
   "source": [
    "Once the model is trained using the evaluation method, we proceed to analyze its performance using the information collected from each folding. We calculate the average accuracy of the model on both the training and validation datasets."
   ]
  },
  {
   "cell_type": "code",
   "execution_count": 11,
   "metadata": {},
   "outputs": [
    {
     "name": "stdout",
     "output_type": "stream",
     "text": [
      "This couples have loss-score, and other metrics values of model, in this case accuracy\n",
      "tra_scores\n",
      " [[0.028981221967968547, 0.9918125], [0.024976949476035466, 0.993625], [0.02780272402871439, 0.99225], [0.02416945628343577, 0.9937708333333334], [0.025526779558257356, 0.9927916666666666]] \n",
      "\n",
      "avg_tra_score\n",
      " [0.02629143 0.99285   ]\n",
      "\n",
      "\n",
      "val_scores\n",
      " [[0.07637116127818203, 0.9765], [0.08262170623925826, 0.9769166666666667], [0.08338562288787216, 0.9738333333333333], [0.09394701367608893, 0.9725833333333334], [0.08354077480649964, 0.97675]] \n",
      "\n",
      "avg_val_score\n",
      " [0.08397326 0.97531667]\n"
     ]
    }
   ],
   "source": [
    "print(\"This couples have loss-score, and other metrics values of model, in this case accuracy\")\n",
    "avg_tra_score = np.average(tra_scores, axis=0)\n",
    "print('tra_scores\\n', tra_scores, '\\n\\navg_tra_score\\n', avg_tra_score)\n",
    "print(\"{}\".format(\"\\n\"))\n",
    "avg_val_score = np.average(val_scores, axis=0)\n",
    "print('val_scores\\n', val_scores, '\\n\\navg_val_score\\n', avg_val_score)"
   ]
  },
  {
   "cell_type": "markdown",
   "metadata": {},
   "source": [
    "Next, we plot training and validation accuracies for better visualization of the results."
   ]
  },
  {
   "cell_type": "code",
   "execution_count": 12,
   "metadata": {},
   "outputs": [
    {
     "data": {
      "text/plain": [
       "<matplotlib.legend.Legend at 0x7fe6bcdeeb00>"
      ]
     },
     "execution_count": 12,
     "metadata": {},
     "output_type": "execute_result"
    },
    {
     "data": {
      "image/png": "[encoded data removed]",
      "text/plain": [
       "<Figure size 432x288 with 1 Axes>"
      ]
     },
     "metadata": {},
     "output_type": "display_data"
    }
   ],
   "source": [
    "plt.plot(np.array(tra_scores)[:,1], '-o', label='training')\n",
    "plt.plot(np.array(val_scores)[:,1], '--s', label='validation')\n",
    "plt.ylabel('accuracy')\n",
    "plt.xlabel('folding')\n",
    "plt.legend()"
   ]
  },
  {
   "cell_type": "markdown",
   "metadata": {},
   "source": [
    "What can you say about the optimization and generalization of the model based on the evaluation model we just performed?"
   ]
  },
  {
   "cell_type": "markdown",
   "metadata": {},
   "source": [
    "#### Another method of model validation\n",
    "\n",
    "[Keras](https://keras.io/)' method `fit` accepts a variety of arguments. For more details follow this [link](https://keras.io/models/sequential/). One of such arguments is `validation_split`, which is another way of performing model evaluation using validation data.\n",
    "\n",
    "Let's start preparing the original data read from Keras first."
   ]
  },
  {
   "cell_type": "code",
   "execution_count": 13,
   "metadata": {},
   "outputs": [],
   "source": [
    "train_data, train_lab = Prepare(train_images, train_labels)\n",
    "#test_data, test_lab = Prepare(test_images, test_labels)"
   ]
  },
  {
   "cell_type": "markdown",
   "metadata": {},
   "source": [
    "The argument `validation_split` is defined as follows:\n",
    "\n",
    "> **validation_split**: Float between 0 and 1. Fraction of the training data to be used as validation data. The model will set apart this fraction of the training data, will not train on it, and will evaluate the loss and any model metrics on this data at the end of each epoch. The validation data is selected from the last samples in the x and y data provided, before shuffling.\n",
    "\n",
    "Complete, run, analyze the results of the model using the following snippet of code. You should already be familiar with the instructions."
   ]
  },
  {
   "cell_type": "code",
   "execution_count": 14,
   "metadata": {},
   "outputs": [
    {
     "name": "stdout",
     "output_type": "stream",
     "text": [
      "Train on 40000 samples, validate on 20000 samples\n",
      "Epoch 1/5\n",
      "40000/40000 [==============================] - 3s 83us/step - loss: 0.3036 - acc: 0.9117 - val_loss: 0.1713 - val_acc: 0.9506\n",
      "Epoch 2/5\n",
      "40000/40000 [==============================] - 3s 81us/step - loss: 0.1303 - acc: 0.9613 - val_loss: 0.1228 - val_acc: 0.9634\n",
      "Epoch 3/5\n",
      "40000/40000 [==============================] - 3s 80us/step - loss: 0.0837 - acc: 0.9745 - val_loss: 0.1116 - val_acc: 0.9673\n",
      "Epoch 4/5\n",
      "40000/40000 [==============================] - 3s 74us/step - loss: 0.0600 - acc: 0.9816 - val_loss: 0.1146 - val_acc: 0.9668\n",
      "Epoch 5/5\n",
      "40000/40000 [==============================] - 3s 74us/step - loss: 0.0439 - acc: 0.9869 - val_loss: 0.0983 - val_acc: 0.9712\n",
      "60000/60000 [==============================] - 3s 42us/step\n"
     ]
    }
   ],
   "source": [
    "network = models.Sequential()\n",
    "network.add(layers.Dense(512, activation='relu', input_shape=(28 * 28,)))\n",
    "network.add(layers.Dense(10, activation='softmax'))\n",
    "\n",
    "network.compile(optimizer='rmsprop', loss='categorical_crossentropy',\n",
    "                metrics=['accuracy'])\n",
    "\n",
    "r = network.fit(train_data, train_lab, validation_split=0.333333, \n",
    "                epochs=5, batch_size=128)\n",
    "\n",
    "train_loss, train_acc = network.evaluate(train_data, train_lab)\n",
    "#test_loss, test_acc = network.evaluate(test_data, test_lab)"
   ]
  },
  {
   "cell_type": "markdown",
   "metadata": {},
   "source": [
    "Once the model is trained using the argument `validation_split`, we proceed to analyze its performance using the information collected from the training. We calculate the average accuracy of the model on both the training and validation datasets."
   ]
  },
  {
   "cell_type": "code",
   "execution_count": 15,
   "metadata": {},
   "outputs": [],
   "source": [
    "r_acc = r.history['acc']\n",
    "v_acc = r.history['val_acc']"
   ]
  },
  {
   "cell_type": "markdown",
   "metadata": {},
   "source": [
    "Next, we plot training and validation accuracies for better visualization of the results."
   ]
  },
  {
   "cell_type": "code",
   "execution_count": 17,
   "metadata": {},
   "outputs": [
    {
     "data": {
      "text/plain": [
       "<matplotlib.legend.Legend at 0x7fe6baa8acc0>"
      ]
     },
     "execution_count": 17,
     "metadata": {},
     "output_type": "execute_result"
    },
    {
     "data": {
      "image/png": "[encoded data removed]",
      "text/plain": [
       "<Figure size 432x288 with 1 Axes>"
      ]
     },
     "metadata": {},
     "output_type": "display_data"
    }
   ],
   "source": [
    "plt.plot(r_acc, marker='o', label='training')\n",
    "plt.plot(v_acc, marker='s', linestyle='--', label='validation')\n",
    "plt.ylabel('accuracy')\n",
    "plt.xlabel('epochs')\n",
    "plt.legend()"
   ]
  },
  {
   "cell_type": "markdown",
   "metadata": {},
   "source": [
    "What can you say about the optimization and generalization of the model based on the evaluation model we just performed?"
   ]
  },
  {
   "cell_type": "markdown",
   "metadata": {},
   "source": [
    "---"
   ]
  },
  {
   "cell_type": "markdown",
   "metadata": {},
   "source": [
    "### Exercises\n",
    "\n",
    "* Evaluate and plot the accuracy of the model on the test data for both approaches.\n",
    "* Analyze and explain the main differences between the two machine-learning-model evaluation methods.\n",
    "* Evaluate the `MNIST` example using now Iterated K-Fold Validation with Shuffling.\n",
    "* Compare your results to what was obtained using K-Fold Validation. Discuss the differences."
   ]
  },
  {
   "cell_type": "markdown",
   "metadata": {},
   "source": [
    "---"
   ]
  },
  {
   "cell_type": "markdown",
   "metadata": {},
   "source": [
    "## Pseudocode for _simple hold-out_ and _k-fold validation_\n",
    "\n",
    "In this section we show pseudocode for both simple hold-out and k-fold validation methods. This can be useful when going through this tutorial.\n",
    "\n",
    "### Hold-out validation\n",
    "\n",
    "    num_validation_samples = 10000\n",
    "    np.random.shuffle(data)\n",
    "    \n",
    "    validation_data = data[:num_validation_samples]\n",
    "    data = data[num_validation_samples:]\n",
    "    \n",
    "    training_data = data[:]\n",
    "    \n",
    "    model = get_model()\n",
    "    model.train(training_data)\n",
    "    validation_score = model.evaluate(validation_data)\n",
    "    \n",
    "    # At this point you can tune your model,\n",
    "    # retrain it, evaluate it, tune it again...\n",
    "    \n",
    "    model = get_model()\n",
    "    model.train(np.concatenate([training_data, validation_data]))\n",
    "    test_score = model.evaluate(test_data)\n",
    "\n",
    "### K-fold validation\n",
    "\n",
    "    k = 4\n",
    "    num_val_sam = len(data) // k\n",
    "    \n",
    "    np.random.shuffle(data)\n",
    "    validation_scores = []\n",
    "    \n",
    "    for fold in range(k):\n",
    "        validation_data = data[num_val_sam * fold: num_val_sam * (fold + 1)]\n",
    "        training_data = data[:num_val_sam * fold] + data[num_val_sam * (fold + 1):]\n",
    "        \n",
    "        model = get_model()\n",
    "        model.train(training_data)\n",
    "    \n",
    "        validation_score = model.evaluate(validation_data)\n",
    "        validation_scores.append(validation_score)\n",
    "    \n",
    "    validation_score = np.average(validation_scores)\n",
    "    \n",
    "    model = get_model()\n",
    "    model.train(data)\n",
    "    test_score = model.evaluate(test_data)"
   ]
  },
  {
   "cell_type": "markdown",
   "metadata": {},
   "source": [
    "---"
   ]
  },
  {
   "cell_type": "markdown",
   "metadata": {},
   "source": [
    "## Further reading\n",
    "\n",
    "Most of this introduction is based on the book [Deep Learning with Python](https://www.manning.com/books/deep-learning-with-python) by François Chollet, the creator of Keras. It is a very practical introduction to Deep Learning without requiring all the mathematical background.\n",
    "\n",
    "The [Deep Learning](http://www.deeplearningbook.org/) book is a theoretical book in three parts: 1) The mathematical basis for Deep Learning, 2) Modern Practice Deep Networks, 3) Deep Learning Research. It is a good second book after getting some practical initial experience.\n",
    "\n",
    "For more advance deep learning practitioners, check out the book from the [link](https://machinelearningmastery.com/deep-learning-with-python/).\n",
    "\n",
    "We also recommend Andrew Ng's online course: https://www.deeplearning.ai/"
   ]
  },
  {
   "cell_type": "code",
   "execution_count": null,
   "metadata": {
    "collapsed": true
   },
   "outputs": [],
   "source": []
  }
 ],
 "metadata": {
  "kernelspec": {
   "display_name": "Python 3",
   "language": "python",
   "name": "python3"
  },
  "language_info": {
   "codemirror_mode": {
    "name": "ipython",
    "version": 3
   },
   "file_extension": ".py",
   "mimetype": "text/x-python",
   "name": "python",
   "nbconvert_exporter": "python",
   "pygments_lexer": "ipython3",
   "version": "3.6.6"
  }
 },
 "nbformat": 4,
 "nbformat_minor": 2
}
