{
 "cells": [
  {
   "cell_type": "markdown",
   "metadata": {},
   "source": [
    "<img src=\"Fondo_LML.png\" alt=\"Descripción gráfica de los autoencoders\" title=\"Autoencoders\" />\n",
    "\n",
    "\n",
    "\n",
    "# <font color = \"#0C78E8\"> Contruyendo Autoencoders con Keras </font>\n",
    "\n",
    "<font color = \"#4c4747\"> Dora Suárez </font>\n",
    "\n",
    "En este tutorial aprenderemos cómo construir autoencoders básicos con keras. Para ello veremos:\n",
    "\n",
    "-\tBreve descripción de los autoencoders\n",
    "-\tUn autoencoder simple basado en una red neuronal densa (Completamente conectada)\n",
    "-\tUna aplicación de los autoencoders para la eliminación de ruido en imágenes\n",
    "\n",
    "“Autoencoding” es un algoritmo de compresión de datos en donde cada una de las funciones de compresión y descompresión son específicas del conjunto de datos lo que implica que solo se pueden comprimir datos que sean similares a los que se usaron para el entrenamiento. Por ejemplo, si un autoencoder aprende a partir de imágenes de perros, será inútil para comprimir datos de plantas, por ejemplo. \n",
    "Por otro lado, los autoencoders admiten pérdida de información lo que significa que la reconstrucción de la imagen se verá más degradada en comparación a la imagen original. Para poder construir un autoencoder van a ser necesarias tres cosas básicamente \n",
    "\n",
    "-\tUna función de codificación\n",
    "-\tUna función de decodificación \n",
    "-\tUna función de distancia entre la cantidad de perdida de información de la imagen original y su reconstrucción \n",
    "\n",
    "Los autoencoders en general no son buenos para la compresión de imágenes, de hecho es difícil entrenar autoencoders para que realicen trabajos mejores que los que ya realizan algoritmos como los de JPEG que son aplicados para cualquier imagen y no solo para un conjunto de características para las que es entrenado. \n",
    "Las aplicaciones practicas mas importantes son las de eliminación de ruido y reducción de dimensionalidad para la visualización de datos. El hecho de que utilicen funciones no lineales para hacer la reducción de dimensionalidad hace de los autoencoders mas atractivos para muchas aplicaciones como por ejemplo procesamiento de lenguaje natural.\n",
    "Algunas técnicas de visualización en dos dimensiones funcionan mejor en datos con dimensiones bajas, así que usan como un preprocesamiento los autoencoders para poder tener un espacio de una dimensión reducida.\n",
    "\n",
    "<img src=\"Autoencoders.png\" alt=\"Descripción gráfica de los autoencoders\" title=\"Autoencoders\" />\n"
   ]
  },
  {
   "cell_type": "markdown",
   "metadata": {},
   "source": [
    "# <font color = \"#0C78E8\"> El autoencoder más simple de todos </font>\n",
    "\n",
    "El autoencoder más simple tiene una única capa neuronal que está totalmente conectada como codificador y decodificador, para nuestro ejemplo trabajaremos con el conjunto de datos MNIST, el objetivo es codificar y decodificar algunos dígitos y evaluar como se comporta la funcion de perdida con esta aplicacion simple."
   ]
  },
  {
   "cell_type": "code",
   "execution_count": 1,
   "metadata": {},
   "outputs": [
    {
     "name": "stderr",
     "output_type": "stream",
     "text": [
      "Using TensorFlow backend.\n"
     ]
    }
   ],
   "source": [
    "from keras.layers import Input, Dense\n",
    "from keras.models import Model"
   ]
  },
  {
   "cell_type": "markdown",
   "metadata": {},
   "source": [
    "Creamos los elementos de entrada, la cantidad de nodos que queremos que tenga nuestra representación y el __[tensor](https://www.tensorflow.org/api_docs/python/tf/Tensor)__ que va a preparar el calculo de la red neuronal."
   ]
  },
  {
   "cell_type": "code",
   "execution_count": 22,
   "metadata": {},
   "outputs": [],
   "source": [
    "encoding_dim = 36\n",
    "input_img = Input(shape=(784,))"
   ]
  },
  {
   "cell_type": "code",
   "execution_count": 23,
   "metadata": {},
   "outputs": [
    {
     "name": "stdout",
     "output_type": "stream",
     "text": [
      "Tensor(\"input_3:0\", shape=(?, 784), dtype=float32)\n"
     ]
    }
   ],
   "source": [
    "print(input_img)"
   ]
  },
  {
   "cell_type": "code",
   "execution_count": 24,
   "metadata": {},
   "outputs": [],
   "source": [
    "encoded = Dense(encoding_dim, activation='relu')(input_img) \n",
    "decoded = Dense(784, activation='relu')(encoded)"
   ]
  },
  {
   "cell_type": "markdown",
   "metadata": {},
   "source": [
    "Modelos para las codificaciones:"
   ]
  },
  {
   "cell_type": "code",
   "execution_count": 25,
   "metadata": {},
   "outputs": [],
   "source": [
    "autoencoder = Model(input_img, decoded)\n",
    "encoder = Model(input_img, encoded)"
   ]
  },
  {
   "cell_type": "markdown",
   "metadata": {},
   "source": [
    "Modelo de decodificador:"
   ]
  },
  {
   "cell_type": "code",
   "execution_count": 26,
   "metadata": {},
   "outputs": [],
   "source": [
    "encoded_input = Input(shape=(encoding_dim,)) # Entrada codificada, de 32 dimensiones \n",
    "decoder_layer = autoencoder.layers[-1] # Traemos la última capa del modelo \n",
    "decoder = Model(encoded_input, decoder_layer(encoded_input)) # Creamos el modelo decodificado"
   ]
  },
  {
   "cell_type": "markdown",
   "metadata": {},
   "source": [
    "Ahora vamos a entrenar nuestro autoencoder para reconstruir los dígitos MNIST\n",
    "\n",
    "En primer lugar, vamos a seleccionar función de __[perdida](https://keras.io/losses/)__ perdida y el __[optimizador](https://keras.io/optimizers/)__ "
   ]
  },
  {
   "cell_type": "code",
   "execution_count": 27,
   "metadata": {},
   "outputs": [],
   "source": [
    "autoencoder.compile(optimizer='adadelta', loss='mean_squared_error') # Configura el modelo para el entrenamiento, se puede seleccionar el optimizador, la funcion de pérdida, la métricas, tensores objetivo, etc."
   ]
  },
  {
   "cell_type": "markdown",
   "metadata": {},
   "source": [
    "Ahora preparemos nuestros datos de entrada, en este caso no vamos a necesitar las etiquetas ya que solo queremos codificar/decodificar las imágenes de entrada del modelo. "
   ]
  },
  {
   "cell_type": "code",
   "execution_count": 28,
   "metadata": {},
   "outputs": [],
   "source": [
    "from keras.datasets import mnist\n",
    "import numpy as np\n",
    "(x_train, _), (x_test, _) = mnist.load_data()"
   ]
  },
  {
   "cell_type": "code",
   "execution_count": 29,
   "metadata": {},
   "outputs": [
    {
     "name": "stdout",
     "output_type": "stream",
     "text": [
      "[[  0   0   0   0   0   0   0   0   0   0   0   0   0   0   0   0   0   0\n",
      "    0   0   0   0   0   0   0   0   0   0]\n",
      " [  0   0   0   0   0   0   0   0   0   0   0   0   0   0   0   0   0   0\n",
      "    0   0   0   0   0   0   0   0   0   0]\n",
      " [  0   0   0   0   0   0   0   0   0   0   0   0   0   0   0   0   0   0\n",
      "    0   0   0   0   0   0   0   0   0   0]\n",
      " [  0   0   0   0   0   0   0   0   0   0   0   0   0   0   0   0   0   0\n",
      "    0   0   0   0   0   0   0   0   0   0]\n",
      " [  0   0   0   0   0   0   0   0   0   0   0   0   0   0   0  51 159 253\n",
      "  159  50   0   0   0   0   0   0   0   0]\n",
      " [  0   0   0   0   0   0   0   0   0   0   0   0   0   0  48 238 252 252\n",
      "  252 237   0   0   0   0   0   0   0   0]\n",
      " [  0   0   0   0   0   0   0   0   0   0   0   0   0  54 227 253 252 239\n",
      "  233 252  57   6   0   0   0   0   0   0]\n",
      " [  0   0   0   0   0   0   0   0   0   0   0  10  60 224 252 253 252 202\n",
      "   84 252 253 122   0   0   0   0   0   0]\n",
      " [  0   0   0   0   0   0   0   0   0   0   0 163 252 252 252 253 252 252\n",
      "   96 189 253 167   0   0   0   0   0   0]\n",
      " [  0   0   0   0   0   0   0   0   0   0  51 238 253 253 190 114 253 228\n",
      "   47  79 255 168   0   0   0   0   0   0]\n",
      " [  0   0   0   0   0   0   0   0   0  48 238 252 252 179  12  75 121  21\n",
      "    0   0 253 243  50   0   0   0   0   0]\n",
      " [  0   0   0   0   0   0   0   0  38 165 253 233 208  84   0   0   0   0\n",
      "    0   0 253 252 165   0   0   0   0   0]\n",
      " [  0   0   0   0   0   0   0   7 178 252 240  71  19  28   0   0   0   0\n",
      "    0   0 253 252 195   0   0   0   0   0]\n",
      " [  0   0   0   0   0   0   0  57 252 252  63   0   0   0   0   0   0   0\n",
      "    0   0 253 252 195   0   0   0   0   0]\n",
      " [  0   0   0   0   0   0   0 198 253 190   0   0   0   0   0   0   0   0\n",
      "    0   0 255 253 196   0   0   0   0   0]\n",
      " [  0   0   0   0   0   0  76 246 252 112   0   0   0   0   0   0   0   0\n",
      "    0   0 253 252 148   0   0   0   0   0]\n",
      " [  0   0   0   0   0   0  85 252 230  25   0   0   0   0   0   0   0   0\n",
      "    7 135 253 186  12   0   0   0   0   0]\n",
      " [  0   0   0   0   0   0  85 252 223   0   0   0   0   0   0   0   0   7\n",
      "  131 252 225  71   0   0   0   0   0   0]\n",
      " [  0   0   0   0   0   0  85 252 145   0   0   0   0   0   0   0  48 165\n",
      "  252 173   0   0   0   0   0   0   0   0]\n",
      " [  0   0   0   0   0   0  86 253 225   0   0   0   0   0   0 114 238 253\n",
      "  162   0   0   0   0   0   0   0   0   0]\n",
      " [  0   0   0   0   0   0  85 252 249 146  48  29  85 178 225 253 223 167\n",
      "   56   0   0   0   0   0   0   0   0   0]\n",
      " [  0   0   0   0   0   0  85 252 252 252 229 215 252 252 252 196 130   0\n",
      "    0   0   0   0   0   0   0   0   0   0]\n",
      " [  0   0   0   0   0   0  28 199 252 252 253 252 252 233 145   0   0   0\n",
      "    0   0   0   0   0   0   0   0   0   0]\n",
      " [  0   0   0   0   0   0   0  25 128 252 253 252 141  37   0   0   0   0\n",
      "    0   0   0   0   0   0   0   0   0   0]\n",
      " [  0   0   0   0   0   0   0   0   0   0   0   0   0   0   0   0   0   0\n",
      "    0   0   0   0   0   0   0   0   0   0]\n",
      " [  0   0   0   0   0   0   0   0   0   0   0   0   0   0   0   0   0   0\n",
      "    0   0   0   0   0   0   0   0   0   0]\n",
      " [  0   0   0   0   0   0   0   0   0   0   0   0   0   0   0   0   0   0\n",
      "    0   0   0   0   0   0   0   0   0   0]\n",
      " [  0   0   0   0   0   0   0   0   0   0   0   0   0   0   0   0   0   0\n",
      "    0   0   0   0   0   0   0   0   0   0]]\n"
     ]
    }
   ],
   "source": [
    "print(x_train[1])"
   ]
  },
  {
   "cell_type": "code",
   "execution_count": 30,
   "metadata": {},
   "outputs": [],
   "source": [
    "x_train = x_train.astype('float32') / 255.\n",
    "x_test = x_test.astype('float32') / 255."
   ]
  },
  {
   "cell_type": "code",
   "execution_count": 31,
   "metadata": {},
   "outputs": [
    {
     "name": "stdout",
     "output_type": "stream",
     "text": [
      "[[0.         0.         0.         0.         0.         0.\n",
      "  0.         0.         0.         0.         0.         0.\n",
      "  0.         0.         0.         0.         0.         0.\n",
      "  0.         0.         0.         0.         0.         0.\n",
      "  0.         0.         0.         0.        ]\n",
      " [0.         0.         0.         0.         0.         0.\n",
      "  0.         0.         0.         0.         0.         0.\n",
      "  0.         0.         0.         0.         0.         0.\n",
      "  0.         0.         0.         0.         0.         0.\n",
      "  0.         0.         0.         0.        ]\n",
      " [0.         0.         0.         0.         0.         0.\n",
      "  0.         0.         0.         0.         0.         0.\n",
      "  0.         0.         0.         0.         0.         0.\n",
      "  0.         0.         0.         0.         0.         0.\n",
      "  0.         0.         0.         0.        ]\n",
      " [0.         0.         0.         0.         0.         0.\n",
      "  0.         0.         0.         0.         0.         0.\n",
      "  0.         0.         0.         0.         0.         0.\n",
      "  0.         0.         0.         0.         0.         0.\n",
      "  0.         0.         0.         0.        ]\n",
      " [0.         0.         0.         0.         0.         0.\n",
      "  0.         0.         0.         0.         0.         0.\n",
      "  0.         0.         0.         0.2        0.62352943 0.99215686\n",
      "  0.62352943 0.19607843 0.         0.         0.         0.\n",
      "  0.         0.         0.         0.        ]\n",
      " [0.         0.         0.         0.         0.         0.\n",
      "  0.         0.         0.         0.         0.         0.\n",
      "  0.         0.         0.1882353  0.93333334 0.9882353  0.9882353\n",
      "  0.9882353  0.92941177 0.         0.         0.         0.\n",
      "  0.         0.         0.         0.        ]\n",
      " [0.         0.         0.         0.         0.         0.\n",
      "  0.         0.         0.         0.         0.         0.\n",
      "  0.         0.21176471 0.8901961  0.99215686 0.9882353  0.9372549\n",
      "  0.9137255  0.9882353  0.22352941 0.02352941 0.         0.\n",
      "  0.         0.         0.         0.        ]\n",
      " [0.         0.         0.         0.         0.         0.\n",
      "  0.         0.         0.         0.         0.         0.03921569\n",
      "  0.23529412 0.8784314  0.9882353  0.99215686 0.9882353  0.7921569\n",
      "  0.32941177 0.9882353  0.99215686 0.47843137 0.         0.\n",
      "  0.         0.         0.         0.        ]\n",
      " [0.         0.         0.         0.         0.         0.\n",
      "  0.         0.         0.         0.         0.         0.6392157\n",
      "  0.9882353  0.9882353  0.9882353  0.99215686 0.9882353  0.9882353\n",
      "  0.3764706  0.7411765  0.99215686 0.654902   0.         0.\n",
      "  0.         0.         0.         0.        ]\n",
      " [0.         0.         0.         0.         0.         0.\n",
      "  0.         0.         0.         0.         0.2        0.93333334\n",
      "  0.99215686 0.99215686 0.74509805 0.44705883 0.99215686 0.89411765\n",
      "  0.18431373 0.30980393 1.         0.65882355 0.         0.\n",
      "  0.         0.         0.         0.        ]\n",
      " [0.         0.         0.         0.         0.         0.\n",
      "  0.         0.         0.         0.1882353  0.93333334 0.9882353\n",
      "  0.9882353  0.7019608  0.04705882 0.29411766 0.4745098  0.08235294\n",
      "  0.         0.         0.99215686 0.9529412  0.19607843 0.\n",
      "  0.         0.         0.         0.        ]\n",
      " [0.         0.         0.         0.         0.         0.\n",
      "  0.         0.         0.14901961 0.64705884 0.99215686 0.9137255\n",
      "  0.8156863  0.32941177 0.         0.         0.         0.\n",
      "  0.         0.         0.99215686 0.9882353  0.64705884 0.\n",
      "  0.         0.         0.         0.        ]\n",
      " [0.         0.         0.         0.         0.         0.\n",
      "  0.         0.02745098 0.69803923 0.9882353  0.9411765  0.2784314\n",
      "  0.07450981 0.10980392 0.         0.         0.         0.\n",
      "  0.         0.         0.99215686 0.9882353  0.7647059  0.\n",
      "  0.         0.         0.         0.        ]\n",
      " [0.         0.         0.         0.         0.         0.\n",
      "  0.         0.22352941 0.9882353  0.9882353  0.24705882 0.\n",
      "  0.         0.         0.         0.         0.         0.\n",
      "  0.         0.         0.99215686 0.9882353  0.7647059  0.\n",
      "  0.         0.         0.         0.        ]\n",
      " [0.         0.         0.         0.         0.         0.\n",
      "  0.         0.7764706  0.99215686 0.74509805 0.         0.\n",
      "  0.         0.         0.         0.         0.         0.\n",
      "  0.         0.         1.         0.99215686 0.76862746 0.\n",
      "  0.         0.         0.         0.        ]\n",
      " [0.         0.         0.         0.         0.         0.\n",
      "  0.29803923 0.9647059  0.9882353  0.4392157  0.         0.\n",
      "  0.         0.         0.         0.         0.         0.\n",
      "  0.         0.         0.99215686 0.9882353  0.5803922  0.\n",
      "  0.         0.         0.         0.        ]\n",
      " [0.         0.         0.         0.         0.         0.\n",
      "  0.33333334 0.9882353  0.9019608  0.09803922 0.         0.\n",
      "  0.         0.         0.         0.         0.         0.\n",
      "  0.02745098 0.5294118  0.99215686 0.7294118  0.04705882 0.\n",
      "  0.         0.         0.         0.        ]\n",
      " [0.         0.         0.         0.         0.         0.\n",
      "  0.33333334 0.9882353  0.8745098  0.         0.         0.\n",
      "  0.         0.         0.         0.         0.         0.02745098\n",
      "  0.5137255  0.9882353  0.88235295 0.2784314  0.         0.\n",
      "  0.         0.         0.         0.        ]\n",
      " [0.         0.         0.         0.         0.         0.\n",
      "  0.33333334 0.9882353  0.5686275  0.         0.         0.\n",
      "  0.         0.         0.         0.         0.1882353  0.64705884\n",
      "  0.9882353  0.6784314  0.         0.         0.         0.\n",
      "  0.         0.         0.         0.        ]\n",
      " [0.         0.         0.         0.         0.         0.\n",
      "  0.3372549  0.99215686 0.88235295 0.         0.         0.\n",
      "  0.         0.         0.         0.44705883 0.93333334 0.99215686\n",
      "  0.63529414 0.         0.         0.         0.         0.\n",
      "  0.         0.         0.         0.        ]\n",
      " [0.         0.         0.         0.         0.         0.\n",
      "  0.33333334 0.9882353  0.9764706  0.57254905 0.1882353  0.11372549\n",
      "  0.33333334 0.69803923 0.88235295 0.99215686 0.8745098  0.654902\n",
      "  0.21960784 0.         0.         0.         0.         0.\n",
      "  0.         0.         0.         0.        ]\n",
      " [0.         0.         0.         0.         0.         0.\n",
      "  0.33333334 0.9882353  0.9882353  0.9882353  0.8980392  0.84313726\n",
      "  0.9882353  0.9882353  0.9882353  0.76862746 0.50980395 0.\n",
      "  0.         0.         0.         0.         0.         0.\n",
      "  0.         0.         0.         0.        ]\n",
      " [0.         0.         0.         0.         0.         0.\n",
      "  0.10980392 0.78039217 0.9882353  0.9882353  0.99215686 0.9882353\n",
      "  0.9882353  0.9137255  0.5686275  0.         0.         0.\n",
      "  0.         0.         0.         0.         0.         0.\n",
      "  0.         0.         0.         0.        ]\n",
      " [0.         0.         0.         0.         0.         0.\n",
      "  0.         0.09803922 0.5019608  0.9882353  0.99215686 0.9882353\n",
      "  0.5529412  0.14509805 0.         0.         0.         0.\n",
      "  0.         0.         0.         0.         0.         0.\n",
      "  0.         0.         0.         0.        ]\n",
      " [0.         0.         0.         0.         0.         0.\n",
      "  0.         0.         0.         0.         0.         0.\n",
      "  0.         0.         0.         0.         0.         0.\n",
      "  0.         0.         0.         0.         0.         0.\n",
      "  0.         0.         0.         0.        ]\n",
      " [0.         0.         0.         0.         0.         0.\n",
      "  0.         0.         0.         0.         0.         0.\n",
      "  0.         0.         0.         0.         0.         0.\n",
      "  0.         0.         0.         0.         0.         0.\n",
      "  0.         0.         0.         0.        ]\n",
      " [0.         0.         0.         0.         0.         0.\n",
      "  0.         0.         0.         0.         0.         0.\n",
      "  0.         0.         0.         0.         0.         0.\n",
      "  0.         0.         0.         0.         0.         0.\n",
      "  0.         0.         0.         0.        ]\n",
      " [0.         0.         0.         0.         0.         0.\n",
      "  0.         0.         0.         0.         0.         0.\n",
      "  0.         0.         0.         0.         0.         0.\n",
      "  0.         0.         0.         0.         0.         0.\n",
      "  0.         0.         0.         0.        ]]\n"
     ]
    }
   ],
   "source": [
    "print(x_train[1])"
   ]
  },
  {
   "cell_type": "code",
   "execution_count": 32,
   "metadata": {},
   "outputs": [
    {
     "data": {
      "text/plain": [
       "60000"
      ]
     },
     "execution_count": 32,
     "metadata": {},
     "output_type": "execute_result"
    }
   ],
   "source": [
    "len(x_train)"
   ]
  },
  {
   "cell_type": "code",
   "execution_count": 33,
   "metadata": {},
   "outputs": [
    {
     "data": {
      "text/plain": [
       "(28, 28)"
      ]
     },
     "execution_count": 33,
     "metadata": {},
     "output_type": "execute_result"
    }
   ],
   "source": [
    "x_train.shape[1:]"
   ]
  },
  {
   "cell_type": "code",
   "execution_count": 34,
   "metadata": {},
   "outputs": [
    {
     "data": {
      "text/plain": [
       "784"
      ]
     },
     "execution_count": 34,
     "metadata": {},
     "output_type": "execute_result"
    }
   ],
   "source": [
    "np.prod(x_test.shape[1:])"
   ]
  },
  {
   "cell_type": "code",
   "execution_count": 35,
   "metadata": {},
   "outputs": [],
   "source": [
    "x_train = x_train.reshape((len(x_train), np.prod(x_train.shape[1:])))\n",
    "x_test = x_test.reshape((len(x_test), np.prod(x_test.shape[1:])))"
   ]
  },
  {
   "cell_type": "code",
   "execution_count": 36,
   "metadata": {},
   "outputs": [
    {
     "name": "stdout",
     "output_type": "stream",
     "text": [
      "[0.         0.         0.         0.         0.         0.\n",
      " 0.         0.         0.         0.         0.         0.\n",
      " 0.         0.         0.         0.         0.         0.\n",
      " 0.         0.         0.         0.         0.         0.\n",
      " 0.         0.         0.         0.         0.         0.\n",
      " 0.         0.         0.         0.         0.         0.\n",
      " 0.         0.         0.         0.         0.         0.\n",
      " 0.         0.         0.         0.         0.         0.\n",
      " 0.         0.         0.         0.         0.         0.\n",
      " 0.         0.         0.         0.         0.         0.\n",
      " 0.         0.         0.         0.         0.         0.\n",
      " 0.         0.         0.         0.         0.         0.\n",
      " 0.         0.         0.         0.         0.         0.\n",
      " 0.         0.         0.         0.         0.         0.\n",
      " 0.         0.         0.         0.         0.         0.\n",
      " 0.         0.         0.         0.         0.         0.\n",
      " 0.         0.         0.         0.         0.         0.\n",
      " 0.         0.         0.         0.         0.         0.\n",
      " 0.         0.         0.         0.         0.         0.\n",
      " 0.         0.         0.         0.         0.         0.\n",
      " 0.         0.         0.         0.         0.         0.\n",
      " 0.         0.2        0.62352943 0.99215686 0.62352943 0.19607843\n",
      " 0.         0.         0.         0.         0.         0.\n",
      " 0.         0.         0.         0.         0.         0.\n",
      " 0.         0.         0.         0.         0.         0.\n",
      " 0.         0.         0.         0.         0.1882353  0.93333334\n",
      " 0.9882353  0.9882353  0.9882353  0.92941177 0.         0.\n",
      " 0.         0.         0.         0.         0.         0.\n",
      " 0.         0.         0.         0.         0.         0.\n",
      " 0.         0.         0.         0.         0.         0.\n",
      " 0.         0.21176471 0.8901961  0.99215686 0.9882353  0.9372549\n",
      " 0.9137255  0.9882353  0.22352941 0.02352941 0.         0.\n",
      " 0.         0.         0.         0.         0.         0.\n",
      " 0.         0.         0.         0.         0.         0.\n",
      " 0.         0.         0.         0.03921569 0.23529412 0.8784314\n",
      " 0.9882353  0.99215686 0.9882353  0.7921569  0.32941177 0.9882353\n",
      " 0.99215686 0.47843137 0.         0.         0.         0.\n",
      " 0.         0.         0.         0.         0.         0.\n",
      " 0.         0.         0.         0.         0.         0.\n",
      " 0.         0.6392157  0.9882353  0.9882353  0.9882353  0.99215686\n",
      " 0.9882353  0.9882353  0.3764706  0.7411765  0.99215686 0.654902\n",
      " 0.         0.         0.         0.         0.         0.\n",
      " 0.         0.         0.         0.         0.         0.\n",
      " 0.         0.         0.         0.         0.2        0.93333334\n",
      " 0.99215686 0.99215686 0.74509805 0.44705883 0.99215686 0.89411765\n",
      " 0.18431373 0.30980393 1.         0.65882355 0.         0.\n",
      " 0.         0.         0.         0.         0.         0.\n",
      " 0.         0.         0.         0.         0.         0.\n",
      " 0.         0.1882353  0.93333334 0.9882353  0.9882353  0.7019608\n",
      " 0.04705882 0.29411766 0.4745098  0.08235294 0.         0.\n",
      " 0.99215686 0.9529412  0.19607843 0.         0.         0.\n",
      " 0.         0.         0.         0.         0.         0.\n",
      " 0.         0.         0.         0.         0.14901961 0.64705884\n",
      " 0.99215686 0.9137255  0.8156863  0.32941177 0.         0.\n",
      " 0.         0.         0.         0.         0.99215686 0.9882353\n",
      " 0.64705884 0.         0.         0.         0.         0.\n",
      " 0.         0.         0.         0.         0.         0.\n",
      " 0.         0.02745098 0.69803923 0.9882353  0.9411765  0.2784314\n",
      " 0.07450981 0.10980392 0.         0.         0.         0.\n",
      " 0.         0.         0.99215686 0.9882353  0.7647059  0.\n",
      " 0.         0.         0.         0.         0.         0.\n",
      " 0.         0.         0.         0.         0.         0.22352941\n",
      " 0.9882353  0.9882353  0.24705882 0.         0.         0.\n",
      " 0.         0.         0.         0.         0.         0.\n",
      " 0.99215686 0.9882353  0.7647059  0.         0.         0.\n",
      " 0.         0.         0.         0.         0.         0.\n",
      " 0.         0.         0.         0.7764706  0.99215686 0.74509805\n",
      " 0.         0.         0.         0.         0.         0.\n",
      " 0.         0.         0.         0.         1.         0.99215686\n",
      " 0.76862746 0.         0.         0.         0.         0.\n",
      " 0.         0.         0.         0.         0.         0.\n",
      " 0.29803923 0.9647059  0.9882353  0.4392157  0.         0.\n",
      " 0.         0.         0.         0.         0.         0.\n",
      " 0.         0.         0.99215686 0.9882353  0.5803922  0.\n",
      " 0.         0.         0.         0.         0.         0.\n",
      " 0.         0.         0.         0.         0.33333334 0.9882353\n",
      " 0.9019608  0.09803922 0.         0.         0.         0.\n",
      " 0.         0.         0.         0.         0.02745098 0.5294118\n",
      " 0.99215686 0.7294118  0.04705882 0.         0.         0.\n",
      " 0.         0.         0.         0.         0.         0.\n",
      " 0.         0.         0.33333334 0.9882353  0.8745098  0.\n",
      " 0.         0.         0.         0.         0.         0.\n",
      " 0.         0.02745098 0.5137255  0.9882353  0.88235295 0.2784314\n",
      " 0.         0.         0.         0.         0.         0.\n",
      " 0.         0.         0.         0.         0.         0.\n",
      " 0.33333334 0.9882353  0.5686275  0.         0.         0.\n",
      " 0.         0.         0.         0.         0.1882353  0.64705884\n",
      " 0.9882353  0.6784314  0.         0.         0.         0.\n",
      " 0.         0.         0.         0.         0.         0.\n",
      " 0.         0.         0.         0.         0.3372549  0.99215686\n",
      " 0.88235295 0.         0.         0.         0.         0.\n",
      " 0.         0.44705883 0.93333334 0.99215686 0.63529414 0.\n",
      " 0.         0.         0.         0.         0.         0.\n",
      " 0.         0.         0.         0.         0.         0.\n",
      " 0.         0.         0.33333334 0.9882353  0.9764706  0.57254905\n",
      " 0.1882353  0.11372549 0.33333334 0.69803923 0.88235295 0.99215686\n",
      " 0.8745098  0.654902   0.21960784 0.         0.         0.\n",
      " 0.         0.         0.         0.         0.         0.\n",
      " 0.         0.         0.         0.         0.         0.\n",
      " 0.33333334 0.9882353  0.9882353  0.9882353  0.8980392  0.84313726\n",
      " 0.9882353  0.9882353  0.9882353  0.76862746 0.50980395 0.\n",
      " 0.         0.         0.         0.         0.         0.\n",
      " 0.         0.         0.         0.         0.         0.\n",
      " 0.         0.         0.         0.         0.10980392 0.78039217\n",
      " 0.9882353  0.9882353  0.99215686 0.9882353  0.9882353  0.9137255\n",
      " 0.5686275  0.         0.         0.         0.         0.\n",
      " 0.         0.         0.         0.         0.         0.\n",
      " 0.         0.         0.         0.         0.         0.\n",
      " 0.         0.         0.         0.09803922 0.5019608  0.9882353\n",
      " 0.99215686 0.9882353  0.5529412  0.14509805 0.         0.\n",
      " 0.         0.         0.         0.         0.         0.\n",
      " 0.         0.         0.         0.         0.         0.\n",
      " 0.         0.         0.         0.         0.         0.\n",
      " 0.         0.         0.         0.         0.         0.\n",
      " 0.         0.         0.         0.         0.         0.\n",
      " 0.         0.         0.         0.         0.         0.\n",
      " 0.         0.         0.         0.         0.         0.\n",
      " 0.         0.         0.         0.         0.         0.\n",
      " 0.         0.         0.         0.         0.         0.\n",
      " 0.         0.         0.         0.         0.         0.\n",
      " 0.         0.         0.         0.         0.         0.\n",
      " 0.         0.         0.         0.         0.         0.\n",
      " 0.         0.         0.         0.         0.         0.\n",
      " 0.         0.         0.         0.         0.         0.\n",
      " 0.         0.         0.         0.         0.         0.\n",
      " 0.         0.         0.         0.         0.         0.\n",
      " 0.         0.         0.         0.         0.         0.\n",
      " 0.         0.         0.         0.         0.         0.\n",
      " 0.         0.         0.         0.         0.         0.\n",
      " 0.         0.         0.         0.         0.         0.\n",
      " 0.         0.         0.         0.        ]\n"
     ]
    }
   ],
   "source": [
    "print(x_train[1])"
   ]
  },
  {
   "cell_type": "code",
   "execution_count": 37,
   "metadata": {
    "scrolled": true
   },
   "outputs": [
    {
     "name": "stdout",
     "output_type": "stream",
     "text": [
      "(60000, 784)\n",
      "(10000, 784)\n"
     ]
    }
   ],
   "source": [
    "print(x_train.shape)\n",
    "print(x_test.shape)"
   ]
  },
  {
   "cell_type": "code",
   "execution_count": 38,
   "metadata": {},
   "outputs": [
    {
     "name": "stdout",
     "output_type": "stream",
     "text": [
      "Train on 60000 samples, validate on 10000 samples\n",
      "Epoch 1/30\n",
      "60000/60000 [==============================] - 1s 25us/step - loss: 0.0779 - val_loss: 0.0687\n",
      "Epoch 2/30\n",
      "60000/60000 [==============================] - 1s 21us/step - loss: 0.0631 - val_loss: 0.0582\n",
      "Epoch 3/30\n",
      "60000/60000 [==============================] - 1s 21us/step - loss: 0.0540 - val_loss: 0.0498\n",
      "Epoch 4/30\n",
      "60000/60000 [==============================] - 1s 21us/step - loss: 0.0468 - val_loss: 0.0439\n",
      "Epoch 5/30\n",
      "60000/60000 [==============================] - 1s 22us/step - loss: 0.0423 - val_loss: 0.0405\n",
      "Epoch 6/30\n",
      "60000/60000 [==============================] - 1s 22us/step - loss: 0.0394 - val_loss: 0.0380\n",
      "Epoch 7/30\n",
      "60000/60000 [==============================] - 1s 23us/step - loss: 0.0369 - val_loss: 0.0356\n",
      "Epoch 8/30\n",
      "60000/60000 [==============================] - 1s 23us/step - loss: 0.0350 - val_loss: 0.0340\n",
      "Epoch 9/30\n",
      "60000/60000 [==============================] - 1s 23us/step - loss: 0.0336 - val_loss: 0.0328\n",
      "Epoch 10/30\n",
      "60000/60000 [==============================] - 1s 23us/step - loss: 0.0325 - val_loss: 0.0318\n",
      "Epoch 11/30\n",
      "60000/60000 [==============================] - 1s 23us/step - loss: 0.0312 - val_loss: 0.0305\n",
      "Epoch 12/30\n",
      "60000/60000 [==============================] - 1s 23us/step - loss: 0.0304 - val_loss: 0.0298\n",
      "Epoch 13/30\n",
      "60000/60000 [==============================] - 1s 23us/step - loss: 0.0296 - val_loss: 0.0290\n",
      "Epoch 14/30\n",
      "60000/60000 [==============================] - 1s 23us/step - loss: 0.0290 - val_loss: 0.0285\n",
      "Epoch 15/30\n",
      "60000/60000 [==============================] - 1s 23us/step - loss: 0.0283 - val_loss: 0.0275\n",
      "Epoch 16/30\n",
      "60000/60000 [==============================] - 1s 23us/step - loss: 0.0275 - val_loss: 0.0269\n",
      "Epoch 17/30\n",
      "60000/60000 [==============================] - 1s 25us/step - loss: 0.0269 - val_loss: 0.0264\n",
      "Epoch 18/30\n",
      "60000/60000 [==============================] - 1s 24us/step - loss: 0.0265 - val_loss: 0.0260\n",
      "Epoch 19/30\n",
      "60000/60000 [==============================] - 1s 24us/step - loss: 0.0261 - val_loss: 0.0257\n",
      "Epoch 20/30\n",
      "60000/60000 [==============================] - 1s 24us/step - loss: 0.0258 - val_loss: 0.0254\n",
      "Epoch 21/30\n",
      "60000/60000 [==============================] - 1s 24us/step - loss: 0.0255 - val_loss: 0.0252\n",
      "Epoch 22/30\n",
      "60000/60000 [==============================] - 1s 24us/step - loss: 0.0253 - val_loss: 0.0250\n",
      "Epoch 23/30\n",
      "60000/60000 [==============================] - 1s 23us/step - loss: 0.0251 - val_loss: 0.0248\n",
      "Epoch 24/30\n",
      "60000/60000 [==============================] - 1s 22us/step - loss: 0.0249 - val_loss: 0.0246\n",
      "Epoch 25/30\n",
      "60000/60000 [==============================] - 1s 22us/step - loss: 0.0248 - val_loss: 0.0244\n",
      "Epoch 26/30\n",
      "60000/60000 [==============================] - 1s 23us/step - loss: 0.0245 - val_loss: 0.0241\n",
      "Epoch 27/30\n",
      "60000/60000 [==============================] - 1s 22us/step - loss: 0.0243 - val_loss: 0.0239\n",
      "Epoch 28/30\n",
      "60000/60000 [==============================] - 1s 22us/step - loss: 0.0241 - val_loss: 0.0238\n",
      "Epoch 29/30\n",
      "60000/60000 [==============================] - 1s 23us/step - loss: 0.0240 - val_loss: 0.0237\n",
      "Epoch 30/30\n",
      "60000/60000 [==============================] - 1s 23us/step - loss: 0.0239 - val_loss: 0.0236\n"
     ]
    },
    {
     "data": {
      "text/plain": [
       "<keras.callbacks.History at 0x7fdfe1788748>"
      ]
     },
     "execution_count": 38,
     "metadata": {},
     "output_type": "execute_result"
    }
   ],
   "source": [
    "autoencoder.fit(x_train, x_train,\n",
    "                epochs=30,\n",
    "                batch_size=256,\n",
    "                shuffle=True,\n",
    "                validation_data=(x_test, x_test))"
   ]
  },
  {
   "cell_type": "markdown",
   "metadata": {},
   "source": [
    "Despues de 50 iteraciones, el autoencoder parece alcanzar un valor de perdida estable. Podemos intentar ver las entradas reconstruidas y las representaciones recontruidas. Por la métrica se muestra el valor de la perdida por defecto"
   ]
  },
  {
   "cell_type": "code",
   "execution_count": 39,
   "metadata": {},
   "outputs": [],
   "source": [
    "encoded_imgs = encoder.predict(x_test)\n",
    "decoded_imgs = decoder.predict(encoded_imgs)"
   ]
  },
  {
   "cell_type": "code",
   "execution_count": 40,
   "metadata": {},
   "outputs": [
    {
     "data": {
      "image/png": "[encoded data removed]",
      "text/plain": [
       "<Figure size 1440x288 with 20 Axes>"
      ]
     },
     "metadata": {},
     "output_type": "display_data"
    }
   ],
   "source": [
    "import matplotlib.pyplot as plt\n",
    "\n",
    "n = 10  # Cuántos dígitos queremos codificar\n",
    "plt.figure(figsize=(20, 4))\n",
    "for i in range(n):\n",
    "    # display original\n",
    "    ax = plt.subplot(2, n, i + 1)\n",
    "    plt.imshow(x_test[i].reshape(28, 28))\n",
    "    plt.gray()\n",
    "    ax.get_xaxis().set_visible(False)\n",
    "    ax.get_yaxis().set_visible(False)\n",
    "\n",
    "    # display reconstruction\n",
    "    ax = plt.subplot(2, n, i + 1 + n)\n",
    "    plt.imshow(decoded_imgs[i].reshape(28, 28))\n",
    "    plt.gray()\n",
    "    ax.get_xaxis().set_visible(False)\n",
    "    ax.get_yaxis().set_visible(False)\n",
    "plt.show()"
   ]
  },
  {
   "cell_type": "markdown",
   "metadata": {},
   "source": [
    "# <font color = \"#0C78E8\"> Autoencoder para la eliminación de Ruido </font>\n",
    "\n",
    "Cuando hay más nodos en la capa oculta que entradas, la red se arriesga a aprender la llamada \"Función de identidad\", también llamada \"Función nula\", lo que significa que la salida es igual a la entrada, lo que hace que el Autoencoder sea inútil. \n",
    "\n",
    "Los Autoencoders de Denoising resuelven este problema al corromper los datos a propósito al convertir aleatoriamente algunos de los valores de entrada a cero. En general, el porcentaje de nodos de entrada que se establece en cero es de aproximadamente 50%. Otras fuentes sugieren un recuento menor, como el 30%. Depende de la cantidad de datos y nodos de entrada que tenga.\n",
    "\n",
    "<img src=\"denoising.png\" alt=\"Descripción gráfica de los autoencoders\" title=\"Autoencoders\" />\n",
    "\n"
   ]
  },
  {
   "cell_type": "code",
   "execution_count": 41,
   "metadata": {},
   "outputs": [],
   "source": [
    "noise_factor = 0.5\n",
    "x_train_noisy = x_train + noise_factor * np.random.normal(loc=0.0, scale=1.0, size=x_train.shape)\n",
    "x_test_noisy = x_test + noise_factor * np.random.normal(loc=0.0, scale=1.0, size=x_test.shape)\n",
    "x_train_noisy = np.clip(x_train_noisy, 0., 1.)\n",
    "x_test_noisy = np.clip(x_test_noisy, 0., 1.)"
   ]
  },
  {
   "cell_type": "code",
   "execution_count": 42,
   "metadata": {},
   "outputs": [
    {
     "data": {
      "image/png": "[encoded data removed]",
      "text/plain": [
       "<Figure size 1440x288 with 10 Axes>"
      ]
     },
     "metadata": {},
     "output_type": "display_data"
    }
   ],
   "source": [
    "n = 10  # Cuántos dígitos queremos graficar\n",
    "plt.figure(figsize=(20, 4))\n",
    "for i in range(n):\n",
    "    # display original\n",
    "    ax = plt.subplot(2, n, i + 1)\n",
    "    plt.imshow(x_train_noisy[i].reshape(28, 28))\n",
    "    plt.gray()\n",
    "    ax.get_xaxis().set_visible(False)\n",
    "    ax.get_yaxis().set_visible(False)\n",
    "plt.show()"
   ]
  },
  {
   "cell_type": "code",
   "execution_count": 43,
   "metadata": {},
   "outputs": [],
   "source": [
    "encoding_dim = 32\n",
    "\n",
    "input_img = Input(shape=(784,))\n",
    "encoded = Dense(encoding_dim, activation='relu')(input_img)\n",
    "decoded = Dense(784, activation='sigmoid')(encoded)"
   ]
  },
  {
   "cell_type": "code",
   "execution_count": 44,
   "metadata": {},
   "outputs": [],
   "source": [
    "encoder = Model(input_img, encoded)\n",
    "autoencoder = Model(input_img, decoded)"
   ]
  },
  {
   "cell_type": "code",
   "execution_count": 45,
   "metadata": {},
   "outputs": [],
   "source": [
    "encoded_input = Input(shape=(encoding_dim,))\n",
    "decoder_layer = autoencoder.layers[-1] \n",
    "decoder = Model(encoded_input, decoder_layer(encoded_input)) \n",
    "autoencoder.compile(optimizer='adadelta', loss='mean_squared_error') "
   ]
  },
  {
   "cell_type": "code",
   "execution_count": 46,
   "metadata": {},
   "outputs": [
    {
     "name": "stdout",
     "output_type": "stream",
     "text": [
      "Train on 60000 samples, validate on 10000 samples\n",
      "Epoch 1/50\n",
      "60000/60000 [==============================] - 2s 27us/step - loss: 0.1122 - val_loss: 0.0695\n",
      "Epoch 2/50\n",
      "60000/60000 [==============================] - 2s 25us/step - loss: 0.0688 - val_loss: 0.0687\n",
      "Epoch 3/50\n",
      "60000/60000 [==============================] - 2s 26us/step - loss: 0.0683 - val_loss: 0.0682\n",
      "Epoch 4/50\n",
      "60000/60000 [==============================] - 1s 23us/step - loss: 0.0678 - val_loss: 0.0677\n",
      "Epoch 5/50\n",
      "60000/60000 [==============================] - 1s 24us/step - loss: 0.0672 - val_loss: 0.0669\n",
      "Epoch 6/50\n",
      "60000/60000 [==============================] - 1s 24us/step - loss: 0.0662 - val_loss: 0.0657\n",
      "Epoch 7/50\n",
      "60000/60000 [==============================] - 2s 28us/step - loss: 0.0648 - val_loss: 0.0641\n",
      "Epoch 8/50\n",
      "60000/60000 [==============================] - 1s 25us/step - loss: 0.0631 - val_loss: 0.0621\n",
      "Epoch 9/50\n",
      "60000/60000 [==============================] - 2s 28us/step - loss: 0.0611 - val_loss: 0.0600\n",
      "Epoch 10/50\n",
      "60000/60000 [==============================] - 1s 25us/step - loss: 0.0590 - val_loss: 0.0579\n",
      "Epoch 11/50\n",
      "60000/60000 [==============================] - 2s 25us/step - loss: 0.0570 - val_loss: 0.0559\n",
      "Epoch 12/50\n",
      "60000/60000 [==============================] - 2s 25us/step - loss: 0.0551 - val_loss: 0.0539\n",
      "Epoch 13/50\n",
      "60000/60000 [==============================] - 2s 26us/step - loss: 0.0533 - val_loss: 0.0521\n",
      "Epoch 14/50\n",
      "60000/60000 [==============================] - 1s 23us/step - loss: 0.0515 - val_loss: 0.0504\n",
      "Epoch 15/50\n",
      "60000/60000 [==============================] - 1s 25us/step - loss: 0.0499 - val_loss: 0.0489\n",
      "Epoch 16/50\n",
      "60000/60000 [==============================] - 1s 23us/step - loss: 0.0485 - val_loss: 0.0475\n",
      "Epoch 17/50\n",
      "60000/60000 [==============================] - 1s 24us/step - loss: 0.0472 - val_loss: 0.0464\n",
      "Epoch 18/50\n",
      "60000/60000 [==============================] - 1s 24us/step - loss: 0.0461 - val_loss: 0.0453\n",
      "Epoch 19/50\n",
      "60000/60000 [==============================] - 2s 25us/step - loss: 0.0451 - val_loss: 0.0444\n",
      "Epoch 20/50\n",
      "60000/60000 [==============================] - 2s 26us/step - loss: 0.0443 - val_loss: 0.0435\n",
      "Epoch 21/50\n",
      "60000/60000 [==============================] - 2s 28us/step - loss: 0.0435 - val_loss: 0.0428\n",
      "Epoch 22/50\n",
      "60000/60000 [==============================] - 2s 25us/step - loss: 0.0428 - val_loss: 0.0421\n",
      "Epoch 23/50\n",
      "60000/60000 [==============================] - 2s 27us/step - loss: 0.0421 - val_loss: 0.0415\n",
      "Epoch 24/50\n",
      "60000/60000 [==============================] - 2s 26us/step - loss: 0.0415 - val_loss: 0.0409\n",
      "Epoch 25/50\n",
      "60000/60000 [==============================] - 2s 25us/step - loss: 0.0409 - val_loss: 0.0403\n",
      "Epoch 26/50\n",
      "60000/60000 [==============================] - 1s 24us/step - loss: 0.0404 - val_loss: 0.0397\n",
      "Epoch 27/50\n",
      "60000/60000 [==============================] - 1s 25us/step - loss: 0.0398 - val_loss: 0.0392\n",
      "Epoch 28/50\n",
      "60000/60000 [==============================] - 1s 24us/step - loss: 0.0393 - val_loss: 0.0387\n",
      "Epoch 29/50\n",
      "60000/60000 [==============================] - 2s 25us/step - loss: 0.0388 - val_loss: 0.0382\n",
      "Epoch 30/50\n",
      "60000/60000 [==============================] - 1s 24us/step - loss: 0.0383 - val_loss: 0.0377\n",
      "Epoch 31/50\n",
      "60000/60000 [==============================] - 2s 25us/step - loss: 0.0379 - val_loss: 0.0373\n",
      "Epoch 32/50\n",
      "60000/60000 [==============================] - 1s 23us/step - loss: 0.0375 - val_loss: 0.0369\n",
      "Epoch 33/50\n",
      "60000/60000 [==============================] - 1s 25us/step - loss: 0.0371 - val_loss: 0.0365\n",
      "Epoch 34/50\n",
      "60000/60000 [==============================] - 1s 23us/step - loss: 0.0367 - val_loss: 0.0361\n",
      "Epoch 35/50\n",
      "60000/60000 [==============================] - 2s 26us/step - loss: 0.0363 - val_loss: 0.0358\n",
      "Epoch 36/50\n",
      "60000/60000 [==============================] - 2s 25us/step - loss: 0.0360 - val_loss: 0.0355\n",
      "Epoch 37/50\n",
      "60000/60000 [==============================] - 2s 25us/step - loss: 0.0357 - val_loss: 0.0352\n",
      "Epoch 38/50\n",
      "60000/60000 [==============================] - 2s 28us/step - loss: 0.0354 - val_loss: 0.0349\n",
      "Epoch 39/50\n",
      "60000/60000 [==============================] - 2s 28us/step - loss: 0.0351 - val_loss: 0.0346\n",
      "Epoch 40/50\n",
      "60000/60000 [==============================] - 2s 25us/step - loss: 0.0349 - val_loss: 0.0344\n",
      "Epoch 41/50\n",
      "60000/60000 [==============================] - 2s 28us/step - loss: 0.0346 - val_loss: 0.0341\n",
      "Epoch 42/50\n",
      "60000/60000 [==============================] - 2s 29us/step - loss: 0.0344 - val_loss: 0.0339\n",
      "Epoch 43/50\n",
      "60000/60000 [==============================] - 2s 26us/step - loss: 0.0342 - val_loss: 0.0337\n",
      "Epoch 44/50\n",
      "60000/60000 [==============================] - 2s 29us/step - loss: 0.0340 - val_loss: 0.0335\n",
      "Epoch 45/50\n",
      "60000/60000 [==============================] - 2s 31us/step - loss: 0.0338 - val_loss: 0.0333\n",
      "Epoch 46/50\n",
      "60000/60000 [==============================] - 2s 26us/step - loss: 0.0336 - val_loss: 0.0331\n",
      "Epoch 47/50\n",
      "60000/60000 [==============================] - 2s 27us/step - loss: 0.0334 - val_loss: 0.0329\n",
      "Epoch 48/50\n",
      "60000/60000 [==============================] - 2s 26us/step - loss: 0.0332 - val_loss: 0.0327\n",
      "Epoch 49/50\n",
      "60000/60000 [==============================] - 2s 26us/step - loss: 0.0330 - val_loss: 0.0325\n",
      "Epoch 50/50\n",
      "60000/60000 [==============================] - 2s 25us/step - loss: 0.0328 - val_loss: 0.0324\n"
     ]
    },
    {
     "data": {
      "text/plain": [
       "<keras.callbacks.History at 0x7fdfe127d9e8>"
      ]
     },
     "execution_count": 46,
     "metadata": {},
     "output_type": "execute_result"
    }
   ],
   "source": [
    "autoencoder.fit(x_train_noisy, x_train,\n",
    "                epochs=50,\n",
    "                batch_size=256,\n",
    "                shuffle=True,\n",
    "                validation_data=(x_test_noisy, x_test))"
   ]
  },
  {
   "cell_type": "code",
   "execution_count": 47,
   "metadata": {},
   "outputs": [
    {
     "name": "stdout",
     "output_type": "stream",
     "text": [
      "_________________________________________________________________\n",
      "Layer (type)                 Output Shape              Param #   \n",
      "=================================================================\n",
      "input_5 (InputLayer)         (None, 784)               0         \n",
      "_________________________________________________________________\n",
      "dense_5 (Dense)              (None, 32)                25120     \n",
      "=================================================================\n",
      "Total params: 25,120\n",
      "Trainable params: 25,120\n",
      "Non-trainable params: 0\n",
      "_________________________________________________________________\n"
     ]
    }
   ],
   "source": [
    "encoded_imgs = encoder.predict(x_test_noisy)\n",
    "decoded_imgs = decoder.predict(encoded_imgs)\n",
    "encoder.summary()"
   ]
  },
  {
   "cell_type": "code",
   "execution_count": 48,
   "metadata": {},
   "outputs": [
    {
     "data": {
      "image/png": "[encoded data removed]",
      "text/plain": [
       "<Figure size 1440x288 with 20 Axes>"
      ]
     },
     "metadata": {},
     "output_type": "display_data"
    }
   ],
   "source": [
    "import matplotlib.pyplot as plt\n",
    "\n",
    "n = 10  # Cuántos dígitos queremos codificar\n",
    "plt.figure(figsize=(20, 4))\n",
    "for i in range(n):\n",
    "    # display original\n",
    "    ax = plt.subplot(2, n, i + 1)\n",
    "    plt.imshow(x_test_noisy[i].reshape(28, 28))\n",
    "    plt.gray()\n",
    "    ax.get_xaxis().set_visible(False)\n",
    "    ax.get_yaxis().set_visible(False)\n",
    "\n",
    "    # display reconstruction\n",
    "    ax = plt.subplot(2, n, i + 1 + n)\n",
    "    plt.imshow(decoded_imgs[i].reshape(28, 28))\n",
    "    plt.gray()\n",
    "    ax.get_xaxis().set_visible(False)\n",
    "    ax.get_yaxis().set_visible(False)\n",
    "plt.show()"
   ]
  },
  {
   "cell_type": "markdown",
   "metadata": {},
   "source": [
    "# <font color = \"#0C78E8\"> Ejercicio</font>\n",
    "\n",
    "- Haga un autoencoder modificando el optimizador en tu tasa de aprendizaje, decadencia y momento:\n",
    "\n",
    "`sgd = optimizers.SGD(lr=0.01, decay=1e-6, momentum=0.9, nesterov=True)\n",
    "autoencoder.compile(loss='mean_squared_error', optimizer=sgd)`\n",
    "\n",
    "Compare el desempeño (en términos de la representación y cantidad de \"epochs\" necesarios hasta obtener un punto en que la función de pérdida no varie demasiado. SI quiere saber más de los optimizadores le recomiendo el __[siguiente blog](http://ruder.io/optimizing-gradient-descent/)__\n",
    "\n",
    "\n",
    "- Modificaciones sobre la función de pérdida\n",
    "\n",
    "Utilice funciones de pérdida diferentes al error cuadratico medio, ¿observa diferencias en la reconstrucción?\n",
    "\n",
    "\n"
   ]
  },
  {
   "cell_type": "markdown",
   "metadata": {},
   "source": [
    "# <font color = \"#0C78E8\"> Un rato de dispersión</font>\n",
    "\n",
    "¿Una mejor idea de que hace la tasa de aprendizaje?\n",
    "\n",
    "__[playground.tensorflow.org](playground.tensorflow.org)__\n",
    "\n",
    "¿Un gif?\n",
    "\n",
    "__[Hagamos un gif](https://experiments.withgoogle.com/collection/ai/move-mirror/view/mirror)__\n",
    "\n",
    "Visor de reducción de dimensionalidad\n",
    "\n",
    "__[reducción](http://projector.tensorflow.org/)__\n",
    "\n",
    "Dibujitos... Yaaaaaaaay!!!\n",
    "\n",
    "__[Dibujitos](https://quickdraw.withgoogle.com/)__\n",
    "\n",
    "Musiquita... Yaaaaaaaaaay!!!\n",
    "\n",
    "__[Musica](https://musiclab.chromeexperiments.com/Song-Maker/)__\n",
    "\n"
   ]
  }
 ],
 "metadata": {
  "kernelspec": {
   "display_name": "Python 3",
   "language": "python",
   "name": "python3"
  },
  "language_info": {
   "codemirror_mode": {
    "name": "ipython",
    "version": 3
   },
   "file_extension": ".py",
   "mimetype": "text/x-python",
   "name": "python",
   "nbconvert_exporter": "python",
   "pygments_lexer": "ipython3",
   "version": "3.6.6"
  }
 },
 "nbformat": 4,
 "nbformat_minor": 2
}
