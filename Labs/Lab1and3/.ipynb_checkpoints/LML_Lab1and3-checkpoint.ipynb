{
 "cells": [
  {
   "cell_type": "markdown",
   "metadata": {},
   "source": [
    "# <img style=\"float: left; padding-right: 10px; width: 140px\" src=\"lml.png\"> LML - Learning Machine Learning 2018  \n",
    "\n",
    "\n",
    "# Labs 1 and 3: Introduction to Python\n",
    "\n",
    "\n",
    "\n",
    "**Universidad del Rosario**<br>\n",
    "**Summer School 2018**<br>\n",
    "**Main Instructor:** Pavlos Protopapas\n",
    "\n",
    "---\n"
   ]
  },
  {
   "cell_type": "markdown",
   "metadata": {},
   "source": [
    "## Programming Expectations\n",
    "All assignments for this class will use Python and the browser-based iPython notebook format you are currently viewing. Python experience is not a prerequisite for this course, as long as you are comfortable learning on your own as needed. While we strive to make the programming component of this course straightforward, we won't devote much time to teaching programming or Python syntax. \n",
    "\n",
    "We will refer to the Python 3 [documentation](https://docs.python.org/3/) in this lab and throughout the course.  There are also many introductory tutorials to help build programming skills, which we are listed in the last section of this lab."
   ]
  },
  {
   "cell_type": "markdown",
   "metadata": {},
   "source": [
    "## Table of Contents \n",
    "<ol start=\"0\">\n",
    "<li> Learning Goals </li>\n",
    "<li> Getting Started</li>\n",
    "<li> Lists </li>\n",
    "<li> Strings and Listiness </li>\n",
    "<li> Dictionaries </li>\n",
    "<li> Functions </li>\n",
    "<li> Exceptions, classes and modules </li>\n",
    "<li> Numpy </li>\n",
    "<li> I/O Processing </li>\n",
    "<li> Regular Expressions </li>\n",
    "<li> Introduction to Pandas </li>\n",
    "<li> Beautifulsoup </li>\n",
    "<li> Plotting </li>\n",
    "<li> References </li>\n",
    "</ol>"
   ]
  },
  {
   "cell_type": "markdown",
   "metadata": {},
   "source": [
    "## Part 0:  Learning Goals \n",
    "This introductory lab is a condensed tutorial in Python programming.  By the end of this lab, you will feel more comfortable:\n",
    "\n",
    "* Writing short Python code using functions, loops, arrays, dictionaries, strings,  if statements.\n",
    "* Manipulating Python lists and recognizing the list properties of other Python containers.\n",
    "* Learning and reading Python documentation.  \n",
    "* Know how to use `python` modules and libraries\n",
    "* Use practical syntax for writing functions in `python`\n",
    "* Work proficiently with `pandas`\n",
    "* Know what regular expressions are\n",
    "* Know how to work with regular expressions in `python`\n",
    "* Use `Beautiful Soup` to parse `HTML` webpages\n",
    "* Read and write files\n",
    "\n"
   ]
  },
  {
   "cell_type": "markdown",
   "metadata": {},
   "source": [
    "## Part 1: Getting Started"
   ]
  },
  {
   "cell_type": "markdown",
   "metadata": {},
   "source": [
    "### Importing modules\n",
    "All notebooks should begin with code that imports *modules*, collections of built-in, commonly-used Python functions.  Below we import the Numpy module, a fast numerical programming library for scientific computing.  Future labs will require additional modules, which we'll import with the same `import MODULE_NAME as MODULE_NICKNAME` syntax. \n",
    "\n",
    "To execute the following cell click anywhere in it and then press CTRL + ENTER or click the \"run cell\" button at the toolbar. "
   ]
  },
  {
   "cell_type": "code",
   "execution_count": 1,
   "metadata": {},
   "outputs": [],
   "source": [
    "import numpy as np #imports a fast numerical programming library and assigns it the nickname \"np\" for quick reference"
   ]
  },
  {
   "cell_type": "markdown",
   "metadata": {},
   "source": [
    "Now that Numpy has been imported, we can access some useful functions.  For example, we can use `mean` to calculate the mean of a set of numbers."
   ]
  },
  {
   "cell_type": "code",
   "execution_count": 2,
   "metadata": {},
   "outputs": [
    {
     "data": {
      "text/plain": [
       "2.1666666666666665"
      ]
     },
     "execution_count": 2,
     "metadata": {},
     "output_type": "execute_result"
    }
   ],
   "source": [
    "np.mean([1.2, 2, 3.3])"
   ]
  },
  {
   "cell_type": "markdown",
   "metadata": {},
   "source": [
    "to calculate the mean of 1.2, 2, and 3.3."
   ]
  },
  {
   "cell_type": "markdown",
   "metadata": {},
   "source": [
    "The code above is not particularly efficient, and efficiency will be important for you when dealing with large data sets. We will see more efficient options later on."
   ]
  },
  {
   "cell_type": "markdown",
   "metadata": {},
   "source": [
    "### Calculations and variables"
   ]
  },
  {
   "cell_type": "markdown",
   "metadata": {},
   "source": [
    "At the most basic level we can use Python as a simple calculator."
   ]
  },
  {
   "cell_type": "code",
   "execution_count": 3,
   "metadata": {},
   "outputs": [
    {
     "data": {
      "text/plain": [
       "3"
      ]
     },
     "execution_count": 3,
     "metadata": {},
     "output_type": "execute_result"
    }
   ],
   "source": [
    "1 + 2"
   ]
  },
  {
   "cell_type": "markdown",
   "metadata": {},
   "source": [
    "Notice integer division (//) and floating-point error below!"
   ]
  },
  {
   "cell_type": "code",
   "execution_count": 4,
   "metadata": {},
   "outputs": [
    {
     "data": {
      "text/plain": [
       "(0.5, 0, 0.5, 9.600000000000001)"
      ]
     },
     "execution_count": 4,
     "metadata": {},
     "output_type": "execute_result"
    }
   ],
   "source": [
    "1/2, 1//2, 1.0/2.0, 3*3.2"
   ]
  },
  {
   "cell_type": "markdown",
   "metadata": {},
   "source": [
    "The last line in a cell is returned as the output value, as above.  For cells with multiple lines of results, we can display results using ``print``, as can be seen below."
   ]
  },
  {
   "cell_type": "code",
   "execution_count": 5,
   "metadata": {},
   "outputs": [
    {
     "name": "stdout",
     "output_type": "stream",
     "text": [
      "4.0 \n",
      " 9 7\n"
     ]
    },
    {
     "data": {
      "text/plain": [
       "1.6666666666666667"
      ]
     },
     "execution_count": 5,
     "metadata": {},
     "output_type": "execute_result"
    }
   ],
   "source": [
    "print(1 + 3.0, \"\\n\", 9, 7)\n",
    "5/3"
   ]
  },
  {
   "cell_type": "markdown",
   "metadata": {},
   "source": [
    "We can store integer or floating point values as variables.  The other basic Python data types -- booleans, strings, lists -- can also be stored as variables. "
   ]
  },
  {
   "cell_type": "code",
   "execution_count": 6,
   "metadata": {},
   "outputs": [],
   "source": [
    "a = 1\n",
    "b = 2.0"
   ]
  },
  {
   "cell_type": "markdown",
   "metadata": {},
   "source": [
    "Here is the storing of a list:"
   ]
  },
  {
   "cell_type": "code",
   "execution_count": 7,
   "metadata": {},
   "outputs": [],
   "source": [
    "a = [1, 2, 3]"
   ]
  },
  {
   "cell_type": "markdown",
   "metadata": {},
   "source": [
    "Think of a variable as a label for a value, not a box in which you put the value. "
   ]
  },
  {
   "cell_type": "code",
   "execution_count": 8,
   "metadata": {},
   "outputs": [
    {
     "data": {
      "text/plain": [
       "[1, 2, 3]"
      ]
     },
     "execution_count": 8,
     "metadata": {},
     "output_type": "execute_result"
    }
   ],
   "source": [
    "b = a\n",
    "b"
   ]
  },
  {
   "cell_type": "markdown",
   "metadata": {},
   "source": [
    "This DOES NOT create a new copy of `a`. It merely puts a new label on the memory at a, as can be seen by the following code:"
   ]
  },
  {
   "cell_type": "code",
   "execution_count": 9,
   "metadata": {},
   "outputs": [
    {
     "name": "stdout",
     "output_type": "stream",
     "text": [
      "a: [1, 2, 3]\n",
      "b: [1, 2, 3]\n",
      "a after change: [1, 7, 3]\n",
      "b after change: [1, 7, 3]\n"
     ]
    }
   ],
   "source": [
    "print(\"a:\", a)\n",
    "print(\"b:\", b)\n",
    "a[1] = 7\n",
    "print(\"a after change:\", a)\n",
    "print(\"b after change:\", b)"
   ]
  },
  {
   "cell_type": "markdown",
   "metadata": {},
   "source": [
    "Multiple items on one line in the interface are returned as a *tuple*, an immutable sequence of Python objects. Notice the parenthesis (), instead of the [] that refer to a list."
   ]
  },
  {
   "cell_type": "code",
   "execution_count": 10,
   "metadata": {},
   "outputs": [
    {
     "data": {
      "text/plain": [
       "(2, -1.0, 4.0, 10)"
      ]
     },
     "execution_count": 10,
     "metadata": {},
     "output_type": "execute_result"
    }
   ],
   "source": [
    "a = 1\n",
    "b = 2.0\n",
    "a + a, a - b, b * b, 10*a"
   ]
  },
  {
   "cell_type": "markdown",
   "metadata": {},
   "source": [
    "We can obtain the type of a variable, and use boolean comparisons to test these types. "
   ]
  },
  {
   "cell_type": "code",
   "execution_count": 11,
   "metadata": {},
   "outputs": [
    {
     "data": {
      "text/plain": [
       "False"
      ]
     },
     "execution_count": 11,
     "metadata": {},
     "output_type": "execute_result"
    }
   ],
   "source": [
    "type(a) == float"
   ]
  },
  {
   "cell_type": "code",
   "execution_count": 12,
   "metadata": {},
   "outputs": [
    {
     "data": {
      "text/plain": [
       "True"
      ]
     },
     "execution_count": 12,
     "metadata": {},
     "output_type": "execute_result"
    }
   ],
   "source": [
    "type(a) == int"
   ]
  },
  {
   "cell_type": "markdown",
   "metadata": {},
   "source": [
    ">**EXERCISE**:  Create a tuple called `tup` with the following seven objects:\n",
    "\n",
    "> - The first element is an integer of your choice\n",
    "> - The second element is a float of your choice  \n",
    "> - The third element is the sum of the first two elements\n",
    "> - The fourth element is the difference of the first two elements\n",
    "> - The fifth element is first element divided by the second element\n",
    "\n",
    "> Display the output of `tup`.  What is the type of the variable `tup`? What happens if you try and change an item in the tuple? "
   ]
  },
  {
   "cell_type": "code",
   "execution_count": 13,
   "metadata": {},
   "outputs": [
    {
     "name": "stdout",
     "output_type": "stream",
     "text": [
      "(1, 2.0, 3.0, -1.0, 0.5)\n"
     ]
    },
    {
     "data": {
      "text/plain": [
       "tuple"
      ]
     },
     "execution_count": 13,
     "metadata": {},
     "output_type": "execute_result"
    }
   ],
   "source": [
    "# your code here\n",
    "nint = 1                #1\n",
    "nfloat = 2.0            #2\n",
    "nsum = nint + nfloat    #3\n",
    "ndiff = nint - nfloat   #4\n",
    "ndiv = nint / nfloat    #5\n",
    "tup = (nint, nfloat, nsum, ndiff, ndiv)\n",
    "print(tup)\n",
    "type(tup)\n",
    "# the tuple is unmodifiable"
   ]
  },
  {
   "cell_type": "markdown",
   "metadata": {},
   "source": [
    "## Part 2: Lists\n",
    "\n",
    "Much of Python is based on the notion of a list.  In Python, a list is a sequence of items separated by commas, all within square brackets.  The items can be integers, floating points, or another type.  Unlike in C arrays, items in a Python list can be of different types, so Python lists are more versatile than traditional arrays in C or in other languages. \n",
    "\n",
    "Let's start out by creating a few lists.  "
   ]
  },
  {
   "cell_type": "code",
   "execution_count": 14,
   "metadata": {},
   "outputs": [
    {
     "name": "stdout",
     "output_type": "stream",
     "text": [
      "[]\n",
      "[1, 2, 3, 4, 5, 6, 7, 8, 9, 10]\n",
      "[1, 2.0, 3, 4.0, 5] [1.0, 3.0, 5.0, 4.0, 2.0]\n"
     ]
    }
   ],
   "source": [
    "empty_list = []\n",
    "float_list = [1., 3., 5., 4., 2.]\n",
    "int_list = [1, 2, 3, 4, 5, 6, 7, 8, 9, 10]\n",
    "mixed_list = [1, 2., 3, 4., 5]\n",
    "print(empty_list)\n",
    "print(int_list)\n",
    "print(mixed_list, float_list)"
   ]
  },
  {
   "cell_type": "markdown",
   "metadata": {},
   "source": [
    "Lists in Python are zero-indexed, as in C.  The first entry of the list has index 0, the second has index 1, and so on."
   ]
  },
  {
   "cell_type": "code",
   "execution_count": 15,
   "metadata": {},
   "outputs": [
    {
     "name": "stdout",
     "output_type": "stream",
     "text": [
      "1\n",
      "3.0\n"
     ]
    }
   ],
   "source": [
    "print(int_list[0])\n",
    "print(float_list[1])"
   ]
  },
  {
   "cell_type": "markdown",
   "metadata": {},
   "source": [
    "What happens if we try to use an index that doesn't exist for that list?  Python will complain!"
   ]
  },
  {
   "cell_type": "code",
   "execution_count": 16,
   "metadata": {},
   "outputs": [
    {
     "ename": "IndexError",
     "evalue": "list index out of range",
     "output_type": "error",
     "traceback": [
      "\u001b[0;31m---------------------------------------------------------------------------\u001b[0m",
      "\u001b[0;31mIndexError\u001b[0m                                Traceback (most recent call last)",
      "\u001b[0;32m<ipython-input-16-0138b2c321c5>\u001b[0m in \u001b[0;36m<module>\u001b[0;34m()\u001b[0m\n\u001b[0;32m----> 1\u001b[0;31m \u001b[0mprint\u001b[0m\u001b[0;34m(\u001b[0m\u001b[0mfloat_list\u001b[0m\u001b[0;34m[\u001b[0m\u001b[0;36m10\u001b[0m\u001b[0;34m]\u001b[0m\u001b[0;34m)\u001b[0m\u001b[0;34m\u001b[0m\u001b[0m\n\u001b[0m",
      "\u001b[0;31mIndexError\u001b[0m: list index out of range"
     ]
    }
   ],
   "source": [
    "#this line generate error, because is out of range of the list\n",
    "#print(float_list[10])"
   ]
  },
  {
   "cell_type": "markdown",
   "metadata": {},
   "source": [
    "A list has a length at any given point in the execution of the code, which we can find using the `len` function."
   ]
  },
  {
   "cell_type": "code",
   "execution_count": 17,
   "metadata": {},
   "outputs": [
    {
     "name": "stdout",
     "output_type": "stream",
     "text": [
      "[1.0, 3.0, 5.0, 4.0, 2.0]\n"
     ]
    },
    {
     "data": {
      "text/plain": [
       "5"
      ]
     },
     "execution_count": 17,
     "metadata": {},
     "output_type": "execute_result"
    }
   ],
   "source": [
    "print(float_list)\n",
    "len(float_list)"
   ]
  },
  {
   "cell_type": "markdown",
   "metadata": {},
   "source": [
    "### Indexing on lists"
   ]
  },
  {
   "cell_type": "markdown",
   "metadata": {},
   "source": [
    "And since Python is zero-indexed, the last element of `float_list` is"
   ]
  },
  {
   "cell_type": "code",
   "execution_count": 18,
   "metadata": {},
   "outputs": [
    {
     "data": {
      "text/plain": [
       "2.0"
      ]
     },
     "execution_count": 18,
     "metadata": {},
     "output_type": "execute_result"
    }
   ],
   "source": [
    "float_list[len(float_list)-1]"
   ]
  },
  {
   "cell_type": "markdown",
   "metadata": {},
   "source": [
    "It is more idiomatic in python to use -1 for the last element, -2 for the second last, and so on"
   ]
  },
  {
   "cell_type": "code",
   "execution_count": 19,
   "metadata": {},
   "outputs": [
    {
     "data": {
      "text/plain": [
       "2.0"
      ]
     },
     "execution_count": 19,
     "metadata": {},
     "output_type": "execute_result"
    }
   ],
   "source": [
    "float_list[-1]"
   ]
  },
  {
   "cell_type": "markdown",
   "metadata": {},
   "source": [
    "We can use the ``:`` operator to access a subset of the list.  This is called *slicing.* "
   ]
  },
  {
   "cell_type": "code",
   "execution_count": 20,
   "metadata": {},
   "outputs": [
    {
     "name": "stdout",
     "output_type": "stream",
     "text": [
      "[3.0, 5.0, 4.0, 2.0]\n",
      "[1.0, 3.0]\n"
     ]
    }
   ],
   "source": [
    "print(float_list[1:5])\n",
    "print(float_list[0:2])"
   ]
  },
  {
   "cell_type": "markdown",
   "metadata": {},
   "source": [
    "Below is a summary of list slicing operations:\n",
    "\n",
    "<img src=\"images/ops3_v2.png\" alt=\"Drawing\" style=\"width: 600px;\"/>"
   ]
  },
  {
   "cell_type": "markdown",
   "metadata": {},
   "source": [
    "You can slice \"backwards\" as well:"
   ]
  },
  {
   "cell_type": "code",
   "execution_count": 22,
   "metadata": {},
   "outputs": [
    {
     "data": {
      "text/plain": [
       "[1.0, 3.0, 5.0]"
      ]
     },
     "execution_count": 22,
     "metadata": {},
     "output_type": "execute_result"
    }
   ],
   "source": [
    "float_list[:-2] # up to second last"
   ]
  },
  {
   "cell_type": "code",
   "execution_count": 23,
   "metadata": {},
   "outputs": [
    {
     "data": {
      "text/plain": [
       "[4.0, 2.0]"
      ]
     },
     "execution_count": 23,
     "metadata": {},
     "output_type": "execute_result"
    }
   ],
   "source": [
    "float_list[-2:] # Two last"
   ]
  },
  {
   "cell_type": "code",
   "execution_count": 24,
   "metadata": {},
   "outputs": [
    {
     "data": {
      "text/plain": [
       "[1.0, 3.0, 5.0, 4.0]"
      ]
     },
     "execution_count": 24,
     "metadata": {},
     "output_type": "execute_result"
    }
   ],
   "source": [
    "float_list[:4] # up to but not including 5th element"
   ]
  },
  {
   "cell_type": "markdown",
   "metadata": {},
   "source": [
    "You can also slice with a stride:"
   ]
  },
  {
   "cell_type": "code",
   "execution_count": 27,
   "metadata": {},
   "outputs": [
    {
     "data": {
      "text/plain": [
       "[1.0, 5.0]"
      ]
     },
     "execution_count": 27,
     "metadata": {},
     "output_type": "execute_result"
    }
   ],
   "source": [
    "float_list[:4:2] # above but skipping every second element"
   ]
  },
  {
   "cell_type": "markdown",
   "metadata": {},
   "source": [
    "We can iterate through a list using a loop.  Here's a for loop."
   ]
  },
  {
   "cell_type": "code",
   "execution_count": 28,
   "metadata": {},
   "outputs": [
    {
     "name": "stdout",
     "output_type": "stream",
     "text": [
      "1.0\n",
      "3.0\n",
      "5.0\n",
      "4.0\n",
      "2.0\n"
     ]
    }
   ],
   "source": [
    "for elem in float_list:\n",
    "    print(elem)"
   ]
  },
  {
   "cell_type": "markdown",
   "metadata": {},
   "source": [
    "Or, if we like, we can iterate through a list using the indices using a for loop with  `in range`. This is not idiomatic and is not recommended, but accomplishes the same thing as above."
   ]
  },
  {
   "cell_type": "code",
   "execution_count": 29,
   "metadata": {},
   "outputs": [
    {
     "name": "stdout",
     "output_type": "stream",
     "text": [
      "1.0\n",
      "3.0\n",
      "5.0\n",
      "4.0\n",
      "2.0\n"
     ]
    }
   ],
   "source": [
    "for i in range(len(float_list)):\n",
    "    print(float_list[i])"
   ]
  },
  {
   "cell_type": "markdown",
   "metadata": {},
   "source": [
    "What if you wanted the index as well?"
   ]
  },
  {
   "cell_type": "markdown",
   "metadata": {},
   "source": [
    "Python has other useful functions such as `enumerate`,  which can be used to create a list of tuples with each tuple of the form `(index, value)`. "
   ]
  },
  {
   "cell_type": "code",
   "execution_count": 30,
   "metadata": {
    "scrolled": true
   },
   "outputs": [
    {
     "name": "stdout",
     "output_type": "stream",
     "text": [
      "0 1.0\n",
      "1 3.0\n",
      "2 5.0\n",
      "3 4.0\n",
      "4 2.0\n"
     ]
    }
   ],
   "source": [
    "for i, elem in enumerate(float_list):\n",
    "    print(i,elem)"
   ]
  },
  {
   "cell_type": "code",
   "execution_count": 32,
   "metadata": {},
   "outputs": [
    {
     "data": {
      "text/plain": [
       "[(0, 1.0), (1, 3.0), (2, 5.0), (3, 4.0), (4, 2.0)]"
      ]
     },
     "execution_count": 32,
     "metadata": {},
     "output_type": "execute_result"
    }
   ],
   "source": [
    "list(enumerate(float_list))"
   ]
  },
  {
   "cell_type": "markdown",
   "metadata": {},
   "source": [
    "This is an example of an *iterator*, something that can be used to set up an iteration. When you call `enumerate`, a list of tuples is not created. Rather an object is created, which when iterated over (or when the `list` function is called using it as an argument), acts like you are in a loop, outputting one tuple at a time."
   ]
  },
  {
   "cell_type": "markdown",
   "metadata": {},
   "source": [
    "### Appending and deleting"
   ]
  },
  {
   "cell_type": "markdown",
   "metadata": {},
   "source": [
    "We can also append items to the end of the list using the `+` operator or with `append`."
   ]
  },
  {
   "cell_type": "code",
   "execution_count": 38,
   "metadata": {},
   "outputs": [],
   "source": [
    "float_list+= [.333]"
   ]
  },
  {
   "cell_type": "code",
   "execution_count": 39,
   "metadata": {},
   "outputs": [
    {
     "data": {
      "text/plain": [
       "7"
      ]
     },
     "execution_count": 39,
     "metadata": {},
     "output_type": "execute_result"
    }
   ],
   "source": [
    "len(float_list)"
   ]
  },
  {
   "cell_type": "code",
   "execution_count": 40,
   "metadata": {},
   "outputs": [],
   "source": [
    "float_list.append(.444)"
   ]
  },
  {
   "cell_type": "code",
   "execution_count": 41,
   "metadata": {},
   "outputs": [
    {
     "name": "stdout",
     "output_type": "stream",
     "text": [
      "[1.0, 3.0, 5.0, 4.0, 2.0, 0.444, 0.333, 0.444]\n"
     ]
    },
    {
     "data": {
      "text/plain": [
       "8"
      ]
     },
     "execution_count": 41,
     "metadata": {},
     "output_type": "execute_result"
    }
   ],
   "source": [
    "print(float_list)\n",
    "len(float_list)"
   ]
  },
  {
   "cell_type": "markdown",
   "metadata": {},
   "source": [
    "Go and run the cell with `float_list.append` a second time.  Then run the next line.  What happens?  \n",
    "\n",
    "To remove an item from the list, use `del.`"
   ]
  },
  {
   "cell_type": "code",
   "execution_count": 42,
   "metadata": {},
   "outputs": [
    {
     "name": "stdout",
     "output_type": "stream",
     "text": [
      "[1.0, 3.0, 4.0, 2.0, 0.444, 0.333, 0.444]\n"
     ]
    }
   ],
   "source": [
    "del(float_list[2])\n",
    "print(float_list)"
   ]
  },
  {
   "cell_type": "markdown",
   "metadata": {},
   "source": [
    "### List Comprehensions\n",
    "\n",
    "Lists can be constructed in a compact way using a *list comprehension*.  Here's a simple example."
   ]
  },
  {
   "cell_type": "code",
   "execution_count": 43,
   "metadata": {},
   "outputs": [
    {
     "name": "stdout",
     "output_type": "stream",
     "text": [
      "[1, 2, 3, 4, 5, 6, 7, 8, 9, 10]\n"
     ]
    },
    {
     "data": {
      "text/plain": [
       "[1, 4, 9, 16, 25, 36, 49, 64, 81, 100]"
      ]
     },
     "execution_count": 43,
     "metadata": {},
     "output_type": "execute_result"
    }
   ],
   "source": [
    "squaredlist = [i*i for i in int_list]\n",
    "print(int_list)\n",
    "squaredlist"
   ]
  },
  {
   "cell_type": "markdown",
   "metadata": {},
   "source": [
    "And here's a more complicated one, requiring a conditional."
   ]
  },
  {
   "cell_type": "code",
   "execution_count": 44,
   "metadata": {},
   "outputs": [
    {
     "name": "stdout",
     "output_type": "stream",
     "text": [
      "[1, 4, 9, 16, 25, 36, 49, 64, 81, 100]\n",
      "[8, 32, 72, 128, 200]\n"
     ]
    }
   ],
   "source": [
    "comp_list1 = [2*i for i in squaredlist if i % 2 == 0]\n",
    "print(squaredlist)\n",
    "print(comp_list1)"
   ]
  },
  {
   "cell_type": "markdown",
   "metadata": {},
   "source": [
    "This is entirely equivalent to creating `comp_list1` using a loop with a conditional, as below:"
   ]
  },
  {
   "cell_type": "code",
   "execution_count": 45,
   "metadata": {},
   "outputs": [
    {
     "data": {
      "text/plain": [
       "[8, 32, 72, 128, 200]"
      ]
     },
     "execution_count": 45,
     "metadata": {},
     "output_type": "execute_result"
    }
   ],
   "source": [
    "comp_list2 = []\n",
    "for i in squaredlist:\n",
    "    if i % 2 == 0:\n",
    "        comp_list2.append(2*i)\n",
    "        \n",
    "comp_list2"
   ]
  },
  {
   "cell_type": "markdown",
   "metadata": {},
   "source": [
    "The list comprehension syntax\n",
    "\n",
    "```\n",
    "[expression for item in list if conditional]\n",
    "\n",
    "```\n",
    "\n",
    "is equivalent to the syntax\n",
    "\n",
    "```\n",
    "for item in list:\n",
    "    if conditional:\n",
    "        expression\n",
    "```"
   ]
  },
  {
   "cell_type": "markdown",
   "metadata": {},
   "source": [
    ">**EXERCISE**:  Build a list that contains every prime number between 1 and 100, in two different ways:\n",
    "1.  Using for loops and conditional if statements.\n",
    "2.  *(Stretch Goal)* Using a list comprehension.  You should be able to do this in one line of code, and it may be helpful to look up the function `all` in the documentation."
   ]
  },
  {
   "cell_type": "code",
   "execution_count": 69,
   "metadata": {},
   "outputs": [
    {
     "name": "stdout",
     "output_type": "stream",
     "text": [
      "2\n",
      "3\n",
      "5\n",
      "7\n",
      "11\n",
      "13\n",
      "17\n",
      "19\n",
      "23\n",
      "29\n",
      "31\n",
      "37\n",
      "41\n",
      "43\n",
      "47\n",
      "53\n",
      "59\n",
      "61\n",
      "67\n",
      "71\n",
      "73\n",
      "79\n",
      "83\n",
      "89\n",
      "97\n"
     ]
    }
   ],
   "source": [
    "# your code here\n",
    "#Prime Numbers by inclusion\n",
    "for i in range(1,101): #loop 1 to 100\n",
    "    times = 0 #Counter\n",
    "    for div in range(1,i+1): #loop 1 to i+1\n",
    "        if i % div == 0: #Condition if i module of div is equal to 0 :\n",
    "            times+=1     #sum to var times\n",
    "        if times > 2:    #(Optional, is for optimization)Condition for skip to the next iteration if times is major to 2\n",
    "            continue     #(Optional, is for optimization)Next iteration\n",
    "    if times == 2:     #condition if times is equal to 2(by 1 and the same number):\n",
    "        print(i)       #print number            "
   ]
  },
  {
   "cell_type": "code",
   "execution_count": 71,
   "metadata": {},
   "outputs": [
    {
     "data": {
      "text/plain": [
       "[1,\n",
       " 2,\n",
       " 3,\n",
       " 5,\n",
       " 7,\n",
       " 11,\n",
       " 13,\n",
       " 17,\n",
       " 19,\n",
       " 23,\n",
       " 29,\n",
       " 31,\n",
       " 37,\n",
       " 41,\n",
       " 43,\n",
       " 47,\n",
       " 53,\n",
       " 59,\n",
       " 61,\n",
       " 67,\n",
       " 71,\n",
       " 73,\n",
       " 79,\n",
       " 83,\n",
       " 89,\n",
       " 97]"
      ]
     },
     "execution_count": 71,
     "metadata": {},
     "output_type": "execute_result"
    }
   ],
   "source": [
    "# your code here\n",
    "#Prime numbers by exclusion\n",
    "N = 101 #Number range\n",
    "[p for p in range(1,N) if 0 not in [p%d for d in range(2,p)]] \n",
    "#If module isn't equal to 0 between 2 without 1, to without choose the number(p)"
   ]
  },
  {
   "cell_type": "markdown",
   "metadata": {},
   "source": [
    "## Part 3:  Strings and listiness"
   ]
  },
  {
   "cell_type": "markdown",
   "metadata": {},
   "source": [
    "A list is a container that holds a bunch of objects.  We're particularly interested in Python lists because many other containers in Python, like strings, dictionaries, numpy arrays, pandas series and dataframes, and iterators like `enumerate`, have list-like properties.  This is known as [duck](https://en.wikipedia.org/wiki/Duck_typing) typing, a term coined by Alex Martelli, which refers to the notion that  *if it quacks like a duck, it is a duck*.  We'll soon see that these  containers quack like lists, so for practical purposes we can think of these containers as lists!  They are listy!\n",
    "\n",
    "Containers that are listy have a set length, can be sliced, and can be iterated over with a loop.  Let's look at some listy containers now."
   ]
  },
  {
   "cell_type": "markdown",
   "metadata": {},
   "source": [
    "### Strings\n",
    "We claim that strings are listy.  Here's a string."
   ]
  },
  {
   "cell_type": "code",
   "execution_count": 72,
   "metadata": {},
   "outputs": [],
   "source": [
    "astring = \"kevin\""
   ]
  },
  {
   "cell_type": "markdown",
   "metadata": {},
   "source": [
    "Like lists, this string has a set length, the number of characters in the string."
   ]
  },
  {
   "cell_type": "code",
   "execution_count": 73,
   "metadata": {},
   "outputs": [
    {
     "data": {
      "text/plain": [
       "5"
      ]
     },
     "execution_count": 73,
     "metadata": {},
     "output_type": "execute_result"
    }
   ],
   "source": [
    "len(astring)"
   ]
  },
  {
   "cell_type": "markdown",
   "metadata": {},
   "source": [
    "Like lists, we can slice the string."
   ]
  },
  {
   "cell_type": "code",
   "execution_count": 74,
   "metadata": {},
   "outputs": [
    {
     "name": "stdout",
     "output_type": "stream",
     "text": [
      "ke\n",
      "kvn\n",
      "n\n"
     ]
    }
   ],
   "source": [
    "print(astring[0:2])\n",
    "print(astring[0:6:2])\n",
    "print(astring[-1])"
   ]
  },
  {
   "cell_type": "markdown",
   "metadata": {},
   "source": [
    "And we can iterate through the string with a loop.  Below is a while loop:"
   ]
  },
  {
   "cell_type": "code",
   "execution_count": 75,
   "metadata": {},
   "outputs": [
    {
     "name": "stdout",
     "output_type": "stream",
     "text": [
      "k\n",
      "e\n",
      "v\n",
      "i\n",
      "n\n"
     ]
    }
   ],
   "source": [
    "i = 0\n",
    "while i < len(astring):\n",
    "    print(astring[i])\n",
    "    i = i + 1"
   ]
  },
  {
   "cell_type": "markdown",
   "metadata": {},
   "source": [
    "This is equivalent to the for loop:"
   ]
  },
  {
   "cell_type": "code",
   "execution_count": 76,
   "metadata": {},
   "outputs": [
    {
     "name": "stdout",
     "output_type": "stream",
     "text": [
      "k\n",
      "e\n",
      "v\n",
      "i\n",
      "n\n"
     ]
    }
   ],
   "source": [
    "for character in astring:\n",
    "    print(character)"
   ]
  },
  {
   "cell_type": "markdown",
   "metadata": {},
   "source": [
    "So strings are listy.  \n",
    "\n",
    "How are strings different from lists?  While lists are mutable, strings are immutable.  Note that an error occurs when we try to change the second elemnt of `string_list` from 1 to b."
   ]
  },
  {
   "cell_type": "code",
   "execution_count": 78,
   "metadata": {},
   "outputs": [
    {
     "name": "stdout",
     "output_type": "stream",
     "text": [
      "[1.0, 2.09, 4.0, 2.0, 0.444, 0.333, 0.444]\n",
      "[1.0, 2.09, 4.0, 2.0, 0.444, 0.333, 0.444]\n",
      "kevin\n",
      "kevin\n"
     ]
    }
   ],
   "source": [
    "print(float_list)\n",
    "float_list[1] = 2.09\n",
    "print(float_list)\n",
    "print(astring)\n",
    "#astring[1] = 'b' #this line trigger error\n",
    "print(astring)"
   ]
  },
  {
   "cell_type": "markdown",
   "metadata": {},
   "source": [
    "We can't use `append` but we can concatenate with `+`. Why is this?"
   ]
  },
  {
   "cell_type": "code",
   "execution_count": 79,
   "metadata": {},
   "outputs": [
    {
     "name": "stdout",
     "output_type": "stream",
     "text": [
      "kevin, pavlos, protopapas\n"
     ]
    },
    {
     "data": {
      "text/plain": [
       "str"
      ]
     },
     "execution_count": 79,
     "metadata": {},
     "output_type": "execute_result"
    }
   ],
   "source": [
    "astring = astring + ', pavlos, ' + 'protopapas'\n",
    "print(astring)\n",
    "type(astring)"
   ]
  },
  {
   "cell_type": "markdown",
   "metadata": {},
   "source": [
    "What is happening here is that we are creating a new string in memory when we do `astring + ', pavlos, ' + 'protopapas'`. Then we are relabelling this string with the old lavel `astring`. This means that the old memory that `astring` labelled is forgotten. What happens to it? We'll find out later on. "
   ]
  },
  {
   "cell_type": "markdown",
   "metadata": {},
   "source": [
    "To summarize this section, for  practical purposes all containers that are listy have the following properties:\n",
    "\n",
    "1.  Have a set length, which you can find using `len`\n",
    "2.  Are iterable (via a loop)\n",
    "3.  Are sliceable via : operations\n",
    "\n",
    "We will encounter other listy containers soon."
   ]
  },
  {
   "cell_type": "markdown",
   "metadata": {},
   "source": [
    ">**EXERCISE**: Make three strings, called `first`, `middle`, and `last`, with your first, middle, and last names, respectively.  If you don't have a middle name, make up a middle name!  \n",
    "\n",
    ">Then create a string called `full_name` that joins your first, middle, and last name, with a space separating your first, middle, and last names.  \n",
    "\n",
    ">Finally make a string called `full_name_rev` which takes `full_name` and reverses the letters.  For example, if `full_name` is `Jane Beth Doe`, then `full_name_rev` is `eoD hteB enaJ`.\n",
    "\n"
   ]
  },
  {
   "cell_type": "code",
   "execution_count": 82,
   "metadata": {},
   "outputs": [
    {
     "data": {
      "text/plain": [
       "[-1, -2, -3, -4]"
      ]
     },
     "execution_count": 82,
     "metadata": {},
     "output_type": "execute_result"
    }
   ],
   "source": [
    "list(range(-1, -5,-1))"
   ]
  },
  {
   "cell_type": "code",
   "execution_count": 89,
   "metadata": {},
   "outputs": [
    {
     "name": "stdout",
     "output_type": "stream",
     "text": [
      "Will Fabian Arevalo\n",
      "olaverA naibaF lliW\n"
     ]
    }
   ],
   "source": [
    "# your code here\n",
    "first = 'Will'\n",
    "middle = 'Fabian'\n",
    "last = 'Arevalo'\n",
    "full_name = first + ' ' + middle + ' ' + last\n",
    "full_name_rev = full_name[-1::-1]\n",
    "print(\"\"\"{}\n",
    "{}\"\"\".format(full_name,full_name_rev))"
   ]
  },
  {
   "cell_type": "markdown",
   "metadata": {},
   "source": [
    "## Part 4: Dictionaries\n",
    "A dictionary is another storage container.  Like a list, a dictionary is a sequence of items.  Unlike a list, a dictionary is unordered and its items are accessed with keys and not integer positions.  \n",
    "\n",
    "Dictionaries are the closest container we have to a database.\n",
    "\n",
    "Let's make a dictionary with a few Harvard courses and their corresponding enrollment numbers."
   ]
  },
  {
   "cell_type": "code",
   "execution_count": 90,
   "metadata": {},
   "outputs": [
    {
     "data": {
      "text/plain": [
       "{'AM21a': 153,\n",
       " 'CS109 / Stat 121 / AC 209': 312,\n",
       " 'CS50': 692,\n",
       " 'Econ1011a': 95,\n",
       " 'Stat110': 485}"
      ]
     },
     "execution_count": 90,
     "metadata": {},
     "output_type": "execute_result"
    }
   ],
   "source": [
    "enroll2016_dict = {'CS50': 692, 'CS109 / Stat 121 / AC 209': 312, 'Econ1011a': 95, 'AM21a': 153, 'Stat110': 485}\n",
    "enroll2016_dict"
   ]
  },
  {
   "cell_type": "code",
   "execution_count": 91,
   "metadata": {},
   "outputs": [
    {
     "data": {
      "text/plain": [
       "692"
      ]
     },
     "execution_count": 91,
     "metadata": {},
     "output_type": "execute_result"
    }
   ],
   "source": [
    "enroll2016_dict['CS50']"
   ]
  },
  {
   "cell_type": "code",
   "execution_count": 94,
   "metadata": {},
   "outputs": [
    {
     "data": {
      "text/plain": [
       "dict_values([692, 312, 95, 153, 485])"
      ]
     },
     "execution_count": 94,
     "metadata": {},
     "output_type": "execute_result"
    }
   ],
   "source": [
    "enroll2016_dict.values()"
   ]
  },
  {
   "cell_type": "code",
   "execution_count": 95,
   "metadata": {},
   "outputs": [
    {
     "data": {
      "text/plain": [
       "dict_keys(['CS50', 'CS109 / Stat 121 / AC 209', 'Econ1011a', 'AM21a', 'Stat110'])"
      ]
     },
     "execution_count": 95,
     "metadata": {},
     "output_type": "execute_result"
    }
   ],
   "source": [
    "enroll2016_dict.keys()"
   ]
  },
  {
   "cell_type": "code",
   "execution_count": 93,
   "metadata": {},
   "outputs": [
    {
     "data": {
      "text/plain": [
       "dict_items([('CS50', 692), ('CS109 / Stat 121 / AC 209', 312), ('Econ1011a', 95), ('AM21a', 153), ('Stat110', 485)])"
      ]
     },
     "execution_count": 93,
     "metadata": {},
     "output_type": "execute_result"
    }
   ],
   "source": [
    "enroll2016_dict.items()"
   ]
  },
  {
   "cell_type": "code",
   "execution_count": 96,
   "metadata": {},
   "outputs": [
    {
     "name": "stdout",
     "output_type": "stream",
     "text": [
      "CS50: 692\n",
      "CS109 / Stat 121 / AC 209: 312\n",
      "Econ1011a: 95\n",
      "AM21a: 153\n",
      "Stat110: 485\n"
     ]
    }
   ],
   "source": [
    "for key, value in enroll2016_dict.items():\n",
    "    print(\"%s: %d\" %(key, value))"
   ]
  },
  {
   "cell_type": "markdown",
   "metadata": {},
   "source": [
    "Simply iterating over a dictionary gives us the keys. This is useful when we want to do something with each item:"
   ]
  },
  {
   "cell_type": "code",
   "execution_count": 97,
   "metadata": {},
   "outputs": [
    {
     "data": {
      "text/plain": [
       "{'AM21a': 153,\n",
       " 'CS109 / Stat 121 / AC 209': 312,\n",
       " 'CS50': 692,\n",
       " 'Econ1011a': 95,\n",
       " 'Stat110': 485}"
      ]
     },
     "execution_count": 97,
     "metadata": {},
     "output_type": "execute_result"
    }
   ],
   "source": [
    "second_dict={}\n",
    "for key in enroll2016_dict:\n",
    "    second_dict[key] = enroll2016_dict[key]\n",
    "second_dict"
   ]
  },
  {
   "cell_type": "markdown",
   "metadata": {},
   "source": [
    "The above is an actual copy to another part of memory, unlike, `second_dict = enroll2016_dict` which would have made both variables label the same memory location."
   ]
  },
  {
   "cell_type": "markdown",
   "metadata": {},
   "source": [
    "In this example, the keys are strings corresponding to course names.  Keys don't have to be strings though.  \n",
    "\n",
    "Like lists, you can construct dictionaries using a *dictionary comprehension*, which is similar to a list comprehension. Notice the brackets {} and the use of `zip`, which is another iterator that combines two lists together."
   ]
  },
  {
   "cell_type": "code",
   "execution_count": 98,
   "metadata": {},
   "outputs": [
    {
     "data": {
      "text/plain": [
       "{1: 1.0, 2: 2.09, 3: 4.0, 4: 2.0, 5: 0.444, 6: 0.333, 7: 0.444}"
      ]
     },
     "execution_count": 98,
     "metadata": {},
     "output_type": "execute_result"
    }
   ],
   "source": [
    "my_dict = {k:v for (k, v) in zip(int_list, float_list)}\n",
    "my_dict"
   ]
  },
  {
   "cell_type": "markdown",
   "metadata": {},
   "source": [
    "You can also create dictionaries nicely using the *constructor* function `dict`."
   ]
  },
  {
   "cell_type": "code",
   "execution_count": 99,
   "metadata": {},
   "outputs": [
    {
     "data": {
      "text/plain": [
       "{'a': 1, 'b': 2}"
      ]
     },
     "execution_count": 99,
     "metadata": {},
     "output_type": "execute_result"
    }
   ],
   "source": [
    "dict(a = 1, b = 2)"
   ]
  },
  {
   "cell_type": "markdown",
   "metadata": {},
   "source": [
    "While dictionaries have some similarity to lists, they are not listy.  They do have a set length, and the can be iterated through with a loop, but they cannot be sliced, since they have no sense of an order. In technical terms, they satisfy, along with lists and strings, Python's *Sequence* protocol, which is a higher abstraction than that of a list."
   ]
  },
  {
   "cell_type": "markdown",
   "metadata": {},
   "source": [
    "### A cautionary word on iterators (read at home)\n",
    "\n",
    "Iterators are a bit different from lists in the sense that they can be \"exhausted\". Perhaps its best to explain with an example"
   ]
  },
  {
   "cell_type": "code",
   "execution_count": 110,
   "metadata": {},
   "outputs": [],
   "source": [
    "an_iterator = enumerate(astring)"
   ]
  },
  {
   "cell_type": "code",
   "execution_count": 111,
   "metadata": {},
   "outputs": [
    {
     "data": {
      "text/plain": [
       "enumerate"
      ]
     },
     "execution_count": 111,
     "metadata": {},
     "output_type": "execute_result"
    }
   ],
   "source": [
    "type(an_iterator)"
   ]
  },
  {
   "cell_type": "code",
   "execution_count": 113,
   "metadata": {},
   "outputs": [],
   "source": [
    "for i, c in an_iterator:\n",
    "    print(i,c)"
   ]
  },
  {
   "cell_type": "code",
   "execution_count": 112,
   "metadata": {},
   "outputs": [
    {
     "name": "stdout",
     "output_type": "stream",
     "text": [
      "0 k\n",
      "1 e\n",
      "2 v\n",
      "3 i\n",
      "4 n\n",
      "5 ,\n",
      "6  \n",
      "7 p\n",
      "8 a\n",
      "9 v\n",
      "10 l\n",
      "11 o\n",
      "12 s\n",
      "13 ,\n",
      "14  \n",
      "15 p\n",
      "16 r\n",
      "17 o\n",
      "18 t\n",
      "19 o\n",
      "20 p\n",
      "21 a\n",
      "22 p\n",
      "23 a\n",
      "24 s\n"
     ]
    }
   ],
   "source": [
    "for i, c in an_iterator:\n",
    "    print(i,c)"
   ]
  },
  {
   "cell_type": "markdown",
   "metadata": {},
   "source": [
    "What happens, you get nothing when you run this again! This is because the iterator has been \"exhausted\", ie, all its items are used up. I have had answers go wrong for me because I wasn't careful about this. You must either track the state of the iterator or bypass this problem by not storing `enumerate(BLA)` in a variable, so that you dont inadvertantly \"use that variable\" twice."
   ]
  },
  {
   "cell_type": "markdown",
   "metadata": {},
   "source": [
    "## Part 5: Functions\n",
    "\n",
    "A *function* is a reusable block of code that does a specfic task.  Functions are all over Python, either on their own or on objects.  \n",
    "\n",
    "We've seen built-in Python functions and methods.  For example, `len` and `print` are built-in Python functions.  And at the beginning of the lab, you called `np.mean` to calculate the mean of three numbers, where `mean` is a function in the numpy module and numpy was abbreviated as `np`. This syntax allow us to have multiple \"mean\" functions\" in different modules; calling this one as `np.mean` guarantees that we will pick up numpy's mean function.\n",
    "\n",
    "### Methods\n",
    "\n",
    "A function that belongs to an object is called a *method*. An example of this is `append` on an **existing** list. In other words, a *method* is a function on an **instance** of a type of object (also called **class**, here the list type)."
   ]
  },
  {
   "cell_type": "code",
   "execution_count": 114,
   "metadata": {},
   "outputs": [
    {
     "name": "stdout",
     "output_type": "stream",
     "text": [
      "[1.0, 2.09, 4.0, 2.0, 0.444, 0.333, 0.444]\n"
     ]
    },
    {
     "data": {
      "text/plain": [
       "[1.0, 2.09, 4.0, 2.0, 0.444, 0.333, 0.444, 56.7]"
      ]
     },
     "execution_count": 114,
     "metadata": {},
     "output_type": "execute_result"
    }
   ],
   "source": [
    "print(float_list)\n",
    "float_list.append(56.7) \n",
    "float_list"
   ]
  },
  {
   "cell_type": "markdown",
   "metadata": {},
   "source": [
    "### User-defined functions\n",
    "\n",
    "We'll now learn to write our own user-defined functions.  Below is the syntax for defining a basic function with one input argument and one output. You can also define functions with no input or output arguments, or multiple input or output arguments.\n",
    "\n",
    "```\n",
    "def name_of_function(arg):\n",
    "    ...\n",
    "    return(output)\n",
    "```"
   ]
  },
  {
   "cell_type": "markdown",
   "metadata": {},
   "source": [
    "The simplest function has no arguments whatsoever."
   ]
  },
  {
   "cell_type": "code",
   "execution_count": 115,
   "metadata": {},
   "outputs": [
    {
     "name": "stdout",
     "output_type": "stream",
     "text": [
      "Hello, welcome to LML 2018!\n"
     ]
    }
   ],
   "source": [
    "def print_greeting():\n",
    "    print(\"Hello, welcome to LML 2018!\")\n",
    "    \n",
    "print_greeting()"
   ]
  },
  {
   "cell_type": "markdown",
   "metadata": {},
   "source": [
    "We can write functions with one input and one output argument.  Here are two such functions."
   ]
  },
  {
   "cell_type": "code",
   "execution_count": 118,
   "metadata": {},
   "outputs": [
    {
     "data": {
      "text/plain": [
       "(25, 125)"
      ]
     },
     "execution_count": 118,
     "metadata": {},
     "output_type": "execute_result"
    }
   ],
   "source": [
    "def square(x):\n",
    "    x_sqr = x**2\n",
    "    return(x_sqr)\n",
    "\n",
    "def cube(x):\n",
    "    x_cub = x**3\n",
    "    return(x_cub)\n",
    "\n",
    "square(5),cube(5)"
   ]
  },
  {
   "cell_type": "markdown",
   "metadata": {},
   "source": [
    "### Lambda functions\n",
    "\n",
    "Often we define a mathematical function with a quick one-line function called a *lambda*. No return statement is needed.\n",
    "\n",
    "The big use of lambda functions in data science is for mathematical functions."
   ]
  },
  {
   "cell_type": "code",
   "execution_count": 119,
   "metadata": {},
   "outputs": [
    {
     "name": "stdout",
     "output_type": "stream",
     "text": [
      "9\n"
     ]
    },
    {
     "data": {
      "text/plain": [
       "25"
      ]
     },
     "execution_count": 119,
     "metadata": {},
     "output_type": "execute_result"
    }
   ],
   "source": [
    "square = lambda x: x**2\n",
    "print(square(3))\n",
    "\n",
    "\n",
    "hypotenuse = lambda x, y: x**2 + y**2\n",
    "\n",
    "## Same as\n",
    "\n",
    "# def hypotenuse(x, y):\n",
    "#     return(x*x + y*y)\n",
    "\n",
    "hypotenuse(3,4)"
   ]
  },
  {
   "cell_type": "markdown",
   "metadata": {},
   "source": [
    "### Refactoring using functions\n",
    "\n",
    ">**EXERCISE**: Write a function called `isprime` that takes in a positive integer $N$, and determines whether or not it is prime.  Return the $N$ if it's prime and return nothing if it isn't.  You may want to reuse part of your code from the exercise in Part 2.  \n",
    "\n",
    "> Then, using a list comprehension and `isprime`, create a list `myprimes` that contains all the prime numbers less than 100.  "
   ]
  },
  {
   "cell_type": "code",
   "execution_count": 164,
   "metadata": {},
   "outputs": [
    {
     "data": {
      "text/plain": [
       "[None,\n",
       " None,\n",
       " 2,\n",
       " 3,\n",
       " None,\n",
       " 5,\n",
       " None,\n",
       " 7,\n",
       " None,\n",
       " None,\n",
       " None,\n",
       " 11,\n",
       " None,\n",
       " 13,\n",
       " None,\n",
       " None,\n",
       " None,\n",
       " 17,\n",
       " None,\n",
       " 19,\n",
       " None,\n",
       " None,\n",
       " None,\n",
       " 23,\n",
       " None,\n",
       " None,\n",
       " None,\n",
       " None,\n",
       " None,\n",
       " 29,\n",
       " None,\n",
       " 31,\n",
       " None,\n",
       " None,\n",
       " None,\n",
       " None,\n",
       " None,\n",
       " 37,\n",
       " None,\n",
       " None,\n",
       " None,\n",
       " 41,\n",
       " None,\n",
       " 43,\n",
       " None,\n",
       " None,\n",
       " None,\n",
       " 47,\n",
       " None,\n",
       " None,\n",
       " None,\n",
       " None,\n",
       " None,\n",
       " 53,\n",
       " None,\n",
       " None,\n",
       " None,\n",
       " None,\n",
       " None,\n",
       " 59,\n",
       " None,\n",
       " 61,\n",
       " None,\n",
       " None,\n",
       " None,\n",
       " None,\n",
       " None,\n",
       " 67,\n",
       " None,\n",
       " None,\n",
       " None,\n",
       " 71,\n",
       " None,\n",
       " 73,\n",
       " None,\n",
       " None,\n",
       " None,\n",
       " None,\n",
       " None,\n",
       " 79,\n",
       " None,\n",
       " None,\n",
       " None,\n",
       " 83,\n",
       " None,\n",
       " None,\n",
       " None,\n",
       " None,\n",
       " None,\n",
       " 89,\n",
       " None,\n",
       " None,\n",
       " None,\n",
       " None,\n",
       " None,\n",
       " None,\n",
       " None,\n",
       " 97,\n",
       " None,\n",
       " None]"
      ]
     },
     "execution_count": 164,
     "metadata": {},
     "output_type": "execute_result"
    }
   ],
   "source": [
    "# your code here\n",
    "def isprime(number):\n",
    "    \"This function help you to choose prime numbers\"\n",
    "    counter = 0\n",
    "    for i in range(1,number):\n",
    "        if number%i == 0:\n",
    "            counter += 1\n",
    "    if counter == 1:\n",
    "        return number\n",
    "             \n",
    "myprimes = [isprime(i) for i in range(100)]\n",
    "myprimes"
   ]
  },
  {
   "cell_type": "markdown",
   "metadata": {},
   "source": [
    "Notice that what you just did is a **refactoring** of the algorithm you used earlier to find primes smaller than 100. This implementation reads much cleaner, and the function `isprime` which containes the \"kernel\" of the functionality of the algorithm can be **re-used** in other places. You should endeavor to write code like this."
   ]
  },
  {
   "cell_type": "markdown",
   "metadata": {},
   "source": [
    "### Default Arguments\n",
    "\n",
    "Functions may also have *default* argument values.  Functions with default values are used extensively in many libraries.  "
   ]
  },
  {
   "cell_type": "code",
   "execution_count": 165,
   "metadata": {},
   "outputs": [
    {
     "name": "stdout",
     "output_type": "stream",
     "text": [
      "With x and y: 20\n",
      "With x only: 10\n"
     ]
    }
   ],
   "source": [
    "# This function can be called with x and y, in which case it will return x*y;\n",
    "# or it can be called with x only, in which case it will return x*1.\n",
    "def get_multiple(x, y = 1):\n",
    "    return x*y\n",
    "\n",
    "print(\"With x and y:\", get_multiple(10, 2))\n",
    "print(\"With x only:\", get_multiple(10))"
   ]
  },
  {
   "cell_type": "markdown",
   "metadata": {},
   "source": [
    "We can have multiple default values. "
   ]
  },
  {
   "cell_type": "code",
   "execution_count": 166,
   "metadata": {},
   "outputs": [
    {
     "name": "stdout",
     "output_type": "stream",
     "text": [
      "Hi Pavlos\n",
      "How are you doing on this nice day?\n",
      "Hi Pavlos\n",
      "How are you doing on this Bad day?\n",
      "Please come back! \n"
     ]
    }
   ],
   "source": [
    "def print_special_greeting(name, leaving = False, condition = \"nice\"):\n",
    "    print(\"Hi\", name)\n",
    "    print(\"How are you doing on this\", condition, \"day?\")\n",
    "    if leaving:\n",
    "        print(\"Please come back! \")\n",
    "\n",
    "# Use all the default arguments.\n",
    "print_special_greeting(\"Pavlos\")\n",
    "print_special_greeting('Pavlos',True,'Bad')"
   ]
  },
  {
   "cell_type": "markdown",
   "metadata": {},
   "source": [
    "Or change all the default arguments:"
   ]
  },
  {
   "cell_type": "code",
   "execution_count": 167,
   "metadata": {},
   "outputs": [
    {
     "name": "stdout",
     "output_type": "stream",
     "text": [
      "Hi Pavlos\n",
      "How are you doing on this rainy day?\n",
      "Please come back! \n"
     ]
    }
   ],
   "source": [
    "print_special_greeting(\"Pavlos\", True, \"rainy\")"
   ]
  },
  {
   "cell_type": "markdown",
   "metadata": {},
   "source": [
    "Or use the first default argument but change the second one."
   ]
  },
  {
   "cell_type": "code",
   "execution_count": 168,
   "metadata": {},
   "outputs": [
    {
     "name": "stdout",
     "output_type": "stream",
     "text": [
      "Hi Pavlos\n",
      "How are you doing on this horrible day?\n"
     ]
    }
   ],
   "source": [
    "print_special_greeting(\"Pavlos\", condition=\"horrible\")"
   ]
  },
  {
   "cell_type": "markdown",
   "metadata": {},
   "source": [
    "### Positional and keyword arguments \n",
    "\n",
    "These allow for even more flexibility.  \n",
    "\n",
    "*Positional* arguments are used when you don't know how many input arguments your function be given.  Notice the single asterisk before the second argument name."
   ]
  },
  {
   "cell_type": "code",
   "execution_count": 169,
   "metadata": {},
   "outputs": [
    {
     "name": "stdout",
     "output_type": "stream",
     "text": [
      "John has the following siblings:\n",
      "Ashley\n",
      "Lauren\n",
      "Arthur\n",
      "\n",
      "Mike has the following siblings:\n",
      "John\n",
      "\n",
      "Terry has the following siblings:\n",
      "\n"
     ]
    }
   ],
   "source": [
    "def print_siblings(name, *siblings):\n",
    "    print(name, \"has the following siblings:\")\n",
    "    for sib in siblings:\n",
    "        print(sib)\n",
    "    print()\n",
    "print_siblings(\"John\", \"Ashley\", \"Lauren\", \"Arthur\")\n",
    "print_siblings(\"Mike\", \"John\")\n",
    "print_siblings(\"Terry\")        "
   ]
  },
  {
   "cell_type": "markdown",
   "metadata": {},
   "source": [
    "In the function above, arguments after the first input will go into a list called siblings. We can then process that list to extract the names.\n",
    "\n",
    "*Keyword* arguments mix the named argument and positional properties.  Notice the double asterisks before the second argument name."
   ]
  },
  {
   "cell_type": "code",
   "execution_count": 170,
   "metadata": {},
   "outputs": [
    {
     "name": "stdout",
     "output_type": "stream",
     "text": [
      "John has the following siblings:\n",
      "Ashley : sister\n",
      "Lauren : sister\n",
      "Arthur : brother\n",
      "\n"
     ]
    }
   ],
   "source": [
    "def print_brothers_sisters(name, **siblings):\n",
    "    print(name, \"has the following siblings:\")\n",
    "    for sib in siblings:\n",
    "        print(sib, \":\", siblings[sib])\n",
    "    print()\n",
    "    \n",
    "print_brothers_sisters(\"John\", Ashley=\"sister\", Lauren=\"sister\", Arthur=\"brother\")"
   ]
  },
  {
   "cell_type": "markdown",
   "metadata": {},
   "source": [
    "### Putting things together\n",
    "\n",
    "Finally, when putting all those things together one must follow a certain order:\n",
    "Below is a more general function definition.  The ordering of the inputs is key: arguments, default, positional, keyword arguments.\n",
    "```\n",
    "def name_of_function(arg1, arg2, opt1=True, opt2=\"CS109\", *args, **kwargs):\n",
    "    ...\n",
    "    return(output1, output2, ...)\n",
    "```\n",
    "\n",
    "Positional arguments are stored in a tuple, and keyword arguments in a dictionary."
   ]
  },
  {
   "cell_type": "code",
   "execution_count": 172,
   "metadata": {},
   "outputs": [
    {
     "name": "stdout",
     "output_type": "stream",
     "text": [
      "got 1 3 5 () {}\n",
      "1\n",
      "got 1 3 4 () {'d': 1, 'e': 3}\n",
      "1\n",
      "got 1 3 9 (11, 13) {'d': 1, 'e': 3}\n",
      "1\n"
     ]
    }
   ],
   "source": [
    "def f(a, b, c=5, *tupleargs, **dictargs):\n",
    "    print(\"got\", a, b, c, tupleargs, dictargs)\n",
    "    return a\n",
    "print(f(1,3))\n",
    "print(f(1, 3, c=4, d=1, e=3))\n",
    "print(f(1, 3, 9, 11, 13, d=1, e=3)) # try calling with c = 9 to see what happens!"
   ]
  },
  {
   "cell_type": "markdown",
   "metadata": {},
   "source": [
    "### Functions are first class\n",
    "\n",
    "Python functions are *first class*, meaning that we can pass functions to other functions, built-in or user-defined. "
   ]
  },
  {
   "cell_type": "code",
   "execution_count": 173,
   "metadata": {},
   "outputs": [
    {
     "name": "stdout",
     "output_type": "stream",
     "text": [
      "3 4 <function <lambda> at 0x7ff253811378>\n"
     ]
    },
    {
     "data": {
      "text/plain": [
       "25"
      ]
     },
     "execution_count": 173,
     "metadata": {},
     "output_type": "execute_result"
    }
   ],
   "source": [
    "def sum_of_anything(x, y, f):\n",
    "    print(x, y, f)\n",
    "    return(f(x) + f(y))\n",
    "sum_of_anything(3,4,square)"
   ]
  },
  {
   "cell_type": "markdown",
   "metadata": {},
   "source": [
    "Finally, it's important to note that any name defined in this notebook is done at the *global* scope.  This means if you define your own `len` function, you will overshadow the system `len.`"
   ]
  },
  {
   "cell_type": "markdown",
   "metadata": {},
   "source": [
    ">**EXERCISE:** Create a dictionary, called `ps_dict`, that contains with the primes less than 100 and their corresponding squares."
   ]
  },
  {
   "cell_type": "code",
   "execution_count": 176,
   "metadata": {},
   "outputs": [
    {
     "data": {
      "text/plain": [
       "{11: 121,\n",
       " 13: 169,\n",
       " 17: 289,\n",
       " 19: 361,\n",
       " 2: 4,\n",
       " 23: 529,\n",
       " 29: 841,\n",
       " 3: 9,\n",
       " 31: 961,\n",
       " 37: 1369,\n",
       " 41: 1681,\n",
       " 43: 1849,\n",
       " 47: 2209,\n",
       " 5: 25,\n",
       " 53: 2809,\n",
       " 59: 3481,\n",
       " 61: 3721,\n",
       " 67: 4489,\n",
       " 7: 49,\n",
       " 71: 5041,\n",
       " 73: 5329,\n",
       " 79: 6241,\n",
       " 83: 6889,\n",
       " 89: 7921,\n",
       " 97: 9409,\n",
       " None: 9801}"
      ]
     },
     "execution_count": 176,
     "metadata": {},
     "output_type": "execute_result"
    }
   ],
   "source": [
    "# your code here\n",
    "ps_dict = {isprime(p):square(p) for p in range(100)}\n",
    "ps_dict"
   ]
  },
  {
   "cell_type": "markdown",
   "metadata": {},
   "source": [
    "## Part 6. Exceptions, classes and modules \n",
    "\n",
    "### Python Exception Handling\n",
    "Sometimes you make a mistake when writing code.  Rather than crash, the program should fail gracefully, preferably with an informative error message.  These types of considerations are called *exception handling*.  A good way to deal with this in `python` is to use the `try-except` block.  Once again, we won't go deep here.  We'll just show you the basic structure and enthusiastically encourage you to use it when necessary.\n",
    "\n",
    "Extensive documentation can be found at [Errors and Exceptions](https://docs.python.org/3/tutorial/errors.html)."
   ]
  },
  {
   "cell_type": "markdown",
   "metadata": {},
   "source": [
    "#### Example\n",
    "Suppose you write a function that looks like\n",
    "```python\n",
    "def bad_func(x: float, y: float) -> float:\n",
    "    return x / y\n",
    "```\n",
    "and you call it with \n",
    "```python\n",
    "bad_func(1.0, 0.0)\n",
    "```\n",
    "Right away, `python` returns\n",
    "```\n",
    "---------------------------------------------------------------------------\n",
    "ZeroDivisionError                         Traceback (most recent call last)\n",
    "<ipython-input-10-4a83987fd0cc> in <module>()\n",
    "      2     return x / y\n",
    "      3 \n",
    "----> 4 bad_func(1, 0)\n",
    "\n",
    "<ipython-input-10-4a83987fd0cc> in bad_func(x, y)\n",
    "      1 def bad_func(x: float, y: float) -> float:\n",
    "----> 2     return x / y\n",
    "      3 \n",
    "      4 bad_func(1, 0)\n",
    "\n",
    "ZeroDivisionError: division by zero\n",
    "```\n",
    "This is the stack trace and it tells you where the errors occured (You will see this often in this class!). The ultimate problem is often at the very bottom (division by zero, in this case), and from top down you can see where in the code you were when tragedy struck.\n",
    "\n",
    "The error was first detected on line 4 at `bad_func(1,0)` and then at 2 line of `bad_func()`.  Then we're told that the error was a division by zero.\n",
    "\n",
    "So informative!  Can't ask for much more than that.  In fact, `python` has a whole host of exceptions that it is aware of.  You can find them at [Built-in Exception](https://docs.python.org/3/library/exceptions.html) in the documentation.\n",
    "\n",
    "Suppose you don't want your program to die when it reaches an exception and want it to automatically fix the problem (or ignore it) and continue on its merry way.  You can use a `try-except` block to handle this."
   ]
  },
  {
   "cell_type": "code",
   "execution_count": 177,
   "metadata": {},
   "outputs": [
    {
     "name": "stdout",
     "output_type": "stream",
     "text": [
      "WARNING:\n",
      "You set y = 0 but y must be non-zero.\n",
      "We are setting y = 1.  This may drastically change your results.\n",
      "\n",
      " Your important_quantity has a value of 1.000000\n"
     ]
    }
   ],
   "source": [
    "def bad_func(x: float, y: float) -> float:\n",
    "    try:\n",
    "        result = x/y\n",
    "    except ZeroDivisionError:\n",
    "        print(\"WARNING:\")\n",
    "        print(\"You set y = 0 but y must be non-zero.\")\n",
    "        print(\"We are setting y = 1.  This may drastically change your results.\")\n",
    "        y = 1.0\n",
    "        result = x/y\n",
    "    return result\n",
    "\n",
    "x, y = 1.0, 0.0\n",
    "important_quantity = bad_func(x, y)\n",
    "\n",
    "print(\"\\n Your important_quantity has a value of {0:3.6f}\".format(important_quantity))"
   ]
  },
  {
   "cell_type": "markdown",
   "metadata": {},
   "source": [
    "Notice that our program will continue to run past the point of no return.  We were good developers and warned the user about what was happening.\n",
    "\n",
    "For example, maybe $y$ is the standard deviation of a quantity.  The code must normalize all variables to the standard deviation.  If the user makes a mistake and accidentally calculates the standard deviation to be zero, then nothing else will work.  So, we just warn them what happened and don't carry out the normalization (by setting the standard deviation to $1$) and carry on with the analysis.  Hopefully it doesn't matter, but if it does, we at least warned the user about it."
   ]
  },
  {
   "cell_type": "markdown",
   "metadata": {},
   "source": [
    "### Python Classes, Modules, and Libraries\n",
    "\n",
    "#### Classes/Objects\n",
    "In true object oriented programming (OOP), the developer writes code around things called objects.  An object (or a class) groups together data and functions that operate on that data.  You might know this terminology from *C++* and other languages.\n",
    "\n",
    "For example, maybe I have one function that calculates the area of a circle and another function that calculates the perimiter.  I could group these two functions together, along with data about the circle into a class called `circle`.\n",
    "A user can create a particular circle by *instantiating* a `circle` oject, as we do below.\n",
    "\n",
    "```python\n",
    "from shapes import circle\n",
    "my_circle = circle(r=5)\n",
    "circle_area = my_circle.area()\n",
    "circle_perimiter = my_circle.perimiter()\n",
    "```\n",
    "When a function is part of an object it is called a *method* instead of a function. Notice that methods are accessed using the *dot* notation.\n",
    "**What really matters for this class is that we will often create an object and use the methods associated with it without having to worry about the object's internal workings**\n",
    "\n",
    "\n",
    "#### Modules\n",
    "Modules in python contain a bunch of code that logically fits together. Most often this is a bunch of classes and functions that address a particular need. For example, there could be a `shapes.py` file that contains the `circle` class used above, as well as a `triangle` class and maybe even a `will_they_fit` function to tell if one shape can fit inside another. That .py file would then be called a module, and we could import from it.\n",
    "\n",
    "If we only want particular portions of a module, we use the from ___ import ___ syntax above. If we want the whole module, we can do this:\n",
    "```python\n",
    "import shapes\n",
    "my_circle = shapes.circle(r=5)\n",
    "my_triangle = shapes.triangle(3,4,5)\n",
    "circle_area = my_circle.area()\n",
    "fit_flag = shapes.will_they_fit(my_circle, my_triangle)\n",
    "```\n",
    "\n",
    "#### Libraries\n",
    "Libraries may contain a bunch of modules that go together.  A library usually has a specific directory structure.  We won't discuss these further here, becuase as a user you only need to know about the import syntax above."
   ]
  },
  {
   "cell_type": "markdown",
   "metadata": {},
   "source": [
    "## Part 7. Numpy\n",
    "Scientific Python code uses a fast array structure, called the numpy array. Those who have worked in Matlab will find this very natural. Let's make a numpy array."
   ]
  },
  {
   "cell_type": "code",
   "execution_count": 178,
   "metadata": {},
   "outputs": [
    {
     "data": {
      "text/plain": [
       "array([ 5, 10, 15, 20])"
      ]
     },
     "execution_count": 178,
     "metadata": {},
     "output_type": "execute_result"
    }
   ],
   "source": [
    "my_array = np.array([5, 10, 15, 20])\n",
    "my_array"
   ]
  },
  {
   "cell_type": "markdown",
   "metadata": {},
   "source": [
    "Numpy arrays are listy. Below we compute length, slice, and iterate. But these are very bad ideas, for efficiency reasons we will see later on."
   ]
  },
  {
   "cell_type": "code",
   "execution_count": 179,
   "metadata": {},
   "outputs": [
    {
     "name": "stdout",
     "output_type": "stream",
     "text": [
      "4\n",
      "[10 15]\n",
      "5\n",
      "10\n",
      "15\n",
      "20\n"
     ]
    }
   ],
   "source": [
    "print(len(my_array))\n",
    "print(my_array[1:3])\n",
    "for elem in my_array:\n",
    "    print(elem)"
   ]
  },
  {
   "cell_type": "markdown",
   "metadata": {},
   "source": [
    "In general you should manipulate numpy arrays by using numpy module functions (`np.mean`, for example). You can calculate the mean of the array elements either by calling the method `.mean` on a numpy array or by applying the function np.mean with the numpy array as an argument."
   ]
  },
  {
   "cell_type": "code",
   "execution_count": 180,
   "metadata": {},
   "outputs": [
    {
     "name": "stdout",
     "output_type": "stream",
     "text": [
      "12.5\n",
      "12.5\n"
     ]
    }
   ],
   "source": [
    "print(my_array.mean())\n",
    "print(np.mean(my_array))"
   ]
  },
  {
   "cell_type": "markdown",
   "metadata": {},
   "source": [
    "You can generate random variates from a normal distribution with mean 0 and standard deviation 1 by doing:"
   ]
  },
  {
   "cell_type": "code",
   "execution_count": 181,
   "metadata": {},
   "outputs": [
    {
     "name": "stdout",
     "output_type": "stream",
     "text": [
      "The sample mean and standard devation are -0.012480 and 1.018576, respectively.\n"
     ]
    }
   ],
   "source": [
    "normal_array = np.random.randn(1000)\n",
    "print(\"The sample mean and standard devation are %f and %f, respectively.\" %(np.mean(normal_array), np.std(normal_array)))"
   ]
  },
  {
   "cell_type": "markdown",
   "metadata": {},
   "source": [
    "Numpy supports a concept known as broadcasting, which dictates how arrays of different sizes are combined together. There are too many rules to list here, but importantly, multiplying an array by a number multiplies each element by the number. Adding a number adds the number to each element.\n",
    "This means that if you wanted the distribution $N(5, 7)$ you could do:"
   ]
  },
  {
   "cell_type": "code",
   "execution_count": 182,
   "metadata": {},
   "outputs": [
    {
     "data": {
      "text/plain": [
       "(4.912637615294529, 7.130028984073768)"
      ]
     },
     "execution_count": 182,
     "metadata": {},
     "output_type": "execute_result"
    }
   ],
   "source": [
    "normal_5_7 = 5 + 7*normal_array\n",
    "np.mean(normal_5_7), np.std(normal_5_7)"
   ]
  },
  {
   "cell_type": "markdown",
   "metadata": {},
   "source": [
    "There are many `numpy` array *constructors*. Here are some commonly used constructors. Look them up in the documentation."
   ]
  },
  {
   "cell_type": "code",
   "execution_count": 183,
   "metadata": {},
   "outputs": [
    {
     "data": {
      "text/plain": [
       "array([0., 0., 0., 0., 0., 0., 0., 0., 0., 0.])"
      ]
     },
     "execution_count": 183,
     "metadata": {},
     "output_type": "execute_result"
    }
   ],
   "source": [
    "zeros = np.zeros(10) # generates 10 floating point zeros\n",
    "zeros"
   ]
  },
  {
   "cell_type": "code",
   "execution_count": 184,
   "metadata": {},
   "outputs": [
    {
     "data": {
      "text/plain": [
       "array([1., 1., 1.])"
      ]
     },
     "execution_count": 184,
     "metadata": {},
     "output_type": "execute_result"
    }
   ],
   "source": [
    "ones = np.ones(3)\n",
    "ones"
   ]
  },
  {
   "cell_type": "markdown",
   "metadata": {},
   "source": [
    "`Numpy` gains a lot of its efficiency from being strongly typed. That is, all elements in the array have the same type, such as integer or floating point. The default type, as can be seen above, is a float of size appropriate for the machine (64 bit on a 64 bit machine)."
   ]
  },
  {
   "cell_type": "code",
   "execution_count": 185,
   "metadata": {},
   "outputs": [
    {
     "data": {
      "text/plain": [
       "dtype('float64')"
      ]
     },
     "execution_count": 185,
     "metadata": {},
     "output_type": "execute_result"
    }
   ],
   "source": [
    "zeros.dtype"
   ]
  },
  {
   "cell_type": "code",
   "execution_count": 186,
   "metadata": {},
   "outputs": [
    {
     "data": {
      "text/plain": [
       "array([1, 1, 1, 1, 1, 1, 1, 1, 1, 1])"
      ]
     },
     "execution_count": 186,
     "metadata": {},
     "output_type": "execute_result"
    }
   ],
   "source": [
    "np.ones(10, dtype='int') # generates 10 integer ones"
   ]
  },
  {
   "cell_type": "markdown",
   "metadata": {},
   "source": [
    "Often you will want random numbers. Use the `random` constructor!"
   ]
  },
  {
   "cell_type": "code",
   "execution_count": 187,
   "metadata": {},
   "outputs": [
    {
     "data": {
      "text/plain": [
       "array([0.02719467, 0.67784414, 0.67577319, 0.90899334, 0.00756389,\n",
       "       0.81366353, 0.77371043, 0.31245696, 0.83498432, 0.9483314 ])"
      ]
     },
     "execution_count": 187,
     "metadata": {},
     "output_type": "execute_result"
    }
   ],
   "source": [
    "np.random.rand(10) # uniform on [0,1]"
   ]
  },
  {
   "cell_type": "markdown",
   "metadata": {},
   "source": [
    "#### `numpy` supports vector operations\n",
    "\n",
    "What does this mean? It means that to add two arrays instead of looping over each element (e.g. via a list comprehension as in base Python) you get to simply put a plus sign between the two arrays."
   ]
  },
  {
   "cell_type": "code",
   "execution_count": 188,
   "metadata": {},
   "outputs": [
    {
     "data": {
      "text/plain": [
       "array([3., 3., 3., 3., 3.])"
      ]
     },
     "execution_count": 188,
     "metadata": {},
     "output_type": "execute_result"
    }
   ],
   "source": [
    "ones_array = np.ones(5)\n",
    "twos_array = 2*np.ones(5)\n",
    "ones_array + twos_array"
   ]
  },
  {
   "cell_type": "markdown",
   "metadata": {},
   "source": [
    "Note that this behavior is very different from `python` lists, which just get longer when you try to + them."
   ]
  },
  {
   "cell_type": "code",
   "execution_count": 189,
   "metadata": {},
   "outputs": [
    {
     "data": {
      "text/plain": [
       "[1.0, 1.0, 1.0, 1.0, 1.0, 2.0, 2.0, 2.0, 2.0, 2.0]"
      ]
     },
     "execution_count": 189,
     "metadata": {},
     "output_type": "execute_result"
    }
   ],
   "source": [
    "first_list = [1., 1., 1., 1., 1.]\n",
    "second_list = [2., 2., 2., 2., 2.]\n",
    "first_list + second_list # not what you want"
   ]
  },
  {
   "cell_type": "markdown",
   "metadata": {},
   "source": [
    "On some computer chips nunpy's addition actually happens in parallel, so speedups can be high. But even on regular chips, the advantage of greater readability is important."
   ]
  },
  {
   "cell_type": "markdown",
   "metadata": {},
   "source": [
    "Now you have seen how to create and work with simple one dimensional arrays in `numpy`.  You have also been introduced to some important `numpy` functionality (e.g. `mean` and `std`).\n",
    "\n",
    "Next, we push ahead to two-dimensional arrays and begin to dive into some of the deeper aspects of `numpy`."
   ]
  },
  {
   "cell_type": "markdown",
   "metadata": {},
   "source": [
    "### 2D arrays\n",
    "We can create two-dimensional arrays without too much fuss."
   ]
  },
  {
   "cell_type": "code",
   "execution_count": 190,
   "metadata": {
    "scrolled": true
   },
   "outputs": [
    {
     "name": "stdout",
     "output_type": "stream",
     "text": [
      "[[1. 1. 1. 1.]\n",
      " [1. 1. 1. 1.]\n",
      " [1. 1. 1. 1.]] \n",
      "\n",
      "[[0.99303548 0.99633846 1.00194671 0.99890499]\n",
      " [1.01398138 1.00313462 0.99531727 0.98758976]\n",
      " [1.01065322 0.99585063 0.99672435 0.99333703]] \n",
      "\n",
      "[[1. 0. 0.]\n",
      " [0. 1. 0.]\n",
      " [0. 0. 1.]] \n",
      "\n"
     ]
    }
   ],
   "source": [
    "# create a 2d-array by handing a list of lists\n",
    "my_array2d = np.array([ \n",
    "    [1, 2, 3, 4], \n",
    "    [5, 6, 7, 8], \n",
    "    [9, 10, 11, 12] \n",
    "])\n",
    "\n",
    "# you can do the same without the pretty formatting (decide which style you like better)\n",
    "my_array2d = np.array([ [1, 2, 3, 4], [5, 6, 7, 8], [9, 10, 11, 12] ])\n",
    "\n",
    "\n",
    "# 3 x 4 array of ones\n",
    "ones_2d = np.ones([3, 4])\n",
    "print(ones_2d, \"\\n\")\n",
    "\n",
    "# 3 x 4 array of ones with random noise\n",
    "ones_noise = ones_2d + 0.01*np.random.randn(3, 4)\n",
    "print(ones_noise, \"\\n\")\n",
    "\n",
    "# 3 x 3 identity matrix\n",
    "my_identity = np.eye(3)\n",
    "print(my_identity, \"\\n\")"
   ]
  },
  {
   "cell_type": "markdown",
   "metadata": {},
   "source": [
    "Like lists, `numpy` arrays are $0$-indexed.  Thus we can access the $n$th row and the $m$th column of a two-dimensional array with the indices $[n - 1, m - 1]$."
   ]
  },
  {
   "cell_type": "code",
   "execution_count": 191,
   "metadata": {},
   "outputs": [
    {
     "name": "stdout",
     "output_type": "stream",
     "text": [
      "[[ 1  2  3  4]\n",
      " [ 5  6  7  8]\n",
      " [ 9 10 11 12]]\n",
      "element [2,3] is: 12\n"
     ]
    }
   ],
   "source": [
    "print(my_array2d)\n",
    "print(\"element [2,3] is:\", my_array2d[2, 3])"
   ]
  },
  {
   "cell_type": "markdown",
   "metadata": {},
   "source": [
    "Numpy arrays can be sliced, and can be iterated over with loops.  \n",
    " \n",
    "Notice that the list slicing syntax still works!  \n",
    "`array[2:,3]` says \"in the array, get rows 2 through the end, column 3]\"  \n",
    "`array[3,:]` says \"in the array, get row 3, all columns\"."
   ]
  },
  {
   "cell_type": "markdown",
   "metadata": {},
   "source": [
    "Numpy functions will by default work on the entire array:"
   ]
  },
  {
   "cell_type": "code",
   "execution_count": 192,
   "metadata": {},
   "outputs": [
    {
     "data": {
      "text/plain": [
       "12.0"
      ]
     },
     "execution_count": 192,
     "metadata": {},
     "output_type": "execute_result"
    }
   ],
   "source": [
    "np.sum(ones_2d)"
   ]
  },
  {
   "cell_type": "markdown",
   "metadata": {},
   "source": [
    "The axis `0` is the one going downwards (i.e. the rows), whereas axis `1` is the one going across (the columns). You will often use functions such as `mean` or `sum` along a particular axis. If you `sum` along axis 0 you are summing across the rows and will end up with one value per column. As a rule, any axis you list in the axis argument will dissapear."
   ]
  },
  {
   "cell_type": "code",
   "execution_count": 193,
   "metadata": {},
   "outputs": [
    {
     "data": {
      "text/plain": [
       "array([3., 3., 3., 3.])"
      ]
     },
     "execution_count": 193,
     "metadata": {},
     "output_type": "execute_result"
    }
   ],
   "source": [
    "np.sum(ones_2d, axis=0)"
   ]
  },
  {
   "cell_type": "code",
   "execution_count": 194,
   "metadata": {},
   "outputs": [
    {
     "data": {
      "text/plain": [
       "array([4., 4., 4.])"
      ]
     },
     "execution_count": 194,
     "metadata": {},
     "output_type": "execute_result"
    }
   ],
   "source": [
    "np.sum(ones_2d, axis=1)"
   ]
  },
  {
   "cell_type": "markdown",
   "metadata": {},
   "source": [
    "<div class=\"exercise\"><b>Exercise</b></div>\n",
    "* Create a two-dimensional array of size $3\\times 5$ and do the following:\n",
    "  * Print out the array\n",
    "  * Print out the shape of the array\n",
    "  * Create two slices of the array:\n",
    "    1. The first slice should be the last row and the third through last column\n",
    "    2. The second slice should be rows $1-3$ and columns $3-5$\n",
    "  * Square each element in the array and print the result"
   ]
  },
  {
   "cell_type": "code",
   "execution_count": 195,
   "metadata": {},
   "outputs": [
    {
     "name": "stdout",
     "output_type": "stream",
     "text": [
      "[[5.  4.  3.  2.  1. ]\n",
      " [1.  2.  3.  4.  5. ]\n",
      " [1.1 2.2 3.3 4.4 5.5]] \n",
      "\n",
      "(3, 5) \n",
      "\n",
      "[3.3 4.4 5.5] \n",
      "\n",
      "[[4.  5. ]\n",
      " [4.4 5.5]] \n",
      "\n",
      "[[25.   16.    9.    4.    1.  ]\n",
      " [ 1.    4.    9.   16.   25.  ]\n",
      " [ 1.21  4.84 10.89 19.36 30.25]]\n"
     ]
    }
   ],
   "source": [
    "# your code here\n",
    "A = np.array([ [5, 4, 3, 2, 1], [1, 2, 3, 4, 5], [1.1, 2.2, 3.3, 4.4, 5.5] ])\n",
    "print(A, \"\\n\")\n",
    "\n",
    "# set length(shape)\n",
    "dims = A.shape\n",
    "print(dims, \"\\n\")\n",
    "\n",
    "# slicing\n",
    "print(A[-1, 2:], \"\\n\")\n",
    "print(A[1:3, 3:5], \"\\n\")\n",
    "\n",
    "# squaring\n",
    "A2 = A ** 2\n",
    "print(A2)"
   ]
  },
  {
   "cell_type": "markdown",
   "metadata": {},
   "source": [
    "#### `numpy` supports matrix operations\n",
    "2d arrays are numpy's way of representing matrices. As such there are lots of built-in methods for manipulating them"
   ]
  },
  {
   "cell_type": "markdown",
   "metadata": {},
   "source": [
    "Earlier when we generated the one-dimensional arrays of ones and random numbers, we gave `ones` and `random`  the number of elements we wanted in the arrays. In two dimensions, we need to provide the shape of the array, i.e., the number of rows and columns of the array."
   ]
  },
  {
   "cell_type": "code",
   "execution_count": 196,
   "metadata": {
    "scrolled": true
   },
   "outputs": [
    {
     "data": {
      "text/plain": [
       "array([[1., 1., 1., 1.],\n",
       "       [1., 1., 1., 1.],\n",
       "       [1., 1., 1., 1.]])"
      ]
     },
     "execution_count": 196,
     "metadata": {},
     "output_type": "execute_result"
    }
   ],
   "source": [
    "three_by_four = np.ones([3,4])\n",
    "three_by_four"
   ]
  },
  {
   "cell_type": "markdown",
   "metadata": {},
   "source": [
    "You can transpose the array:"
   ]
  },
  {
   "cell_type": "code",
   "execution_count": 197,
   "metadata": {},
   "outputs": [
    {
     "data": {
      "text/plain": [
       "(3, 4)"
      ]
     },
     "execution_count": 197,
     "metadata": {},
     "output_type": "execute_result"
    }
   ],
   "source": [
    "three_by_four.shape"
   ]
  },
  {
   "cell_type": "code",
   "execution_count": 198,
   "metadata": {},
   "outputs": [],
   "source": [
    "four_by_three = three_by_four.T"
   ]
  },
  {
   "cell_type": "code",
   "execution_count": 199,
   "metadata": {},
   "outputs": [
    {
     "data": {
      "text/plain": [
       "(4, 3)"
      ]
     },
     "execution_count": 199,
     "metadata": {},
     "output_type": "execute_result"
    }
   ],
   "source": [
    "four_by_three.shape"
   ]
  },
  {
   "cell_type": "markdown",
   "metadata": {},
   "source": [
    "Matrix multiplication is accomplished by `np.dot`. The `*` operator will do element-wise multiplication."
   ]
  },
  {
   "cell_type": "code",
   "execution_count": 200,
   "metadata": {
    "scrolled": true
   },
   "outputs": [
    {
     "name": "stdout",
     "output_type": "stream",
     "text": [
      "[[4. 4. 4.]\n",
      " [4. 4. 4.]\n",
      " [4. 4. 4.]]\n"
     ]
    },
    {
     "data": {
      "text/plain": [
       "array([[3., 3., 3., 3.],\n",
       "       [3., 3., 3., 3.],\n",
       "       [3., 3., 3., 3.],\n",
       "       [3., 3., 3., 3.]])"
      ]
     },
     "execution_count": 200,
     "metadata": {},
     "output_type": "execute_result"
    }
   ],
   "source": [
    "print(np.dot(three_by_four, four_by_three)) # 3 x 3 matrix\n",
    "np.dot(four_by_three, three_by_four) # 4 x 4 matrix"
   ]
  },
  {
   "cell_type": "markdown",
   "metadata": {},
   "source": [
    "Numpy has functions to do the difficult matrix operations that are awful to do by hand."
   ]
  },
  {
   "cell_type": "code",
   "execution_count": 201,
   "metadata": {},
   "outputs": [
    {
     "data": {
      "text/plain": [
       "array([[0.38988323, 0.46410129, 0.66515481, 0.96970409],\n",
       "       [0.33779981, 0.37292729, 0.22288615, 0.46541911],\n",
       "       [0.87425098, 0.05494381, 0.65542994, 0.76018942],\n",
       "       [0.82875962, 0.12173713, 0.82799416, 0.66990373]])"
      ]
     },
     "execution_count": 201,
     "metadata": {},
     "output_type": "execute_result"
    }
   ],
   "source": [
    "matrix = np.random.rand(4,4) # a 4 by 4 matrix\n",
    "matrix"
   ]
  },
  {
   "cell_type": "markdown",
   "metadata": {},
   "source": [
    "Let's get the eigenvalues and eigenvectors!"
   ]
  },
  {
   "cell_type": "code",
   "execution_count": 202,
   "metadata": {},
   "outputs": [
    {
     "data": {
      "text/plain": [
       "(array([ 2.32869088,  0.27707757, -0.34950834, -0.16811592]),\n",
       " array([[ 0.54127683, -0.28899781, -0.80997464,  0.31412972],\n",
       "        [ 0.29082862, -0.87483636,  0.07697765, -0.29918191],\n",
       "        [ 0.54953728,  0.30137108,  0.54272491, -0.76009558],\n",
       "        [ 0.56608028,  0.24559537,  0.20848309,  0.48380514]]))"
      ]
     },
     "execution_count": 202,
     "metadata": {},
     "output_type": "execute_result"
    }
   ],
   "source": [
    "np.linalg.eig(matrix)"
   ]
  },
  {
   "cell_type": "markdown",
   "metadata": {},
   "source": [
    "How about inverses?"
   ]
  },
  {
   "cell_type": "code",
   "execution_count": 203,
   "metadata": {},
   "outputs": [
    {
     "name": "stdout",
     "output_type": "stream",
     "text": [
      "[[-1.96583223  2.22961848  0.92523022  0.24662989]\n",
      " [-0.78271993  3.44188418 -2.79885368  1.91780837]\n",
      " [ 0.68718665 -1.5272418  -2.91525502  3.37449355]\n",
      " [ 1.72487757 -1.49614867  2.96721008 -3.33171206]]\n"
     ]
    },
    {
     "data": {
      "text/plain": [
       "array([[ 1.00000000e+00,  1.11647118e-16, -6.64072253e-17,\n",
       "        -2.54651743e-16],\n",
       "       [ 1.13421437e-19,  1.00000000e+00,  1.23197694e-18,\n",
       "         2.13811767e-16],\n",
       "       [ 2.56224598e-16,  1.33339315e-16,  1.00000000e+00,\n",
       "        -1.33734963e-16],\n",
       "       [ 2.13099474e-16,  1.71786014e-16,  2.04099357e-16,\n",
       "         1.00000000e+00]])"
      ]
     },
     "execution_count": 203,
     "metadata": {},
     "output_type": "execute_result"
    }
   ],
   "source": [
    "inv_matrix = np.linalg.inv(matrix) # the invert matrix\n",
    "print(inv_matrix)\n",
    "\n",
    "#prove it's the inverse\n",
    "np.dot(matrix,inv_matrix)"
   ]
  },
  {
   "cell_type": "markdown",
   "metadata": {},
   "source": [
    "Notice that there is a bit of 'rounding error' in the inverse calculation. This is because the computer can't store the exact values the inverse matrix asks for (they have more decimal places than the computer can hold). Built-in numpy routines manage these errors, which is why it's very important to use pre-built tools whenever possible, and to be very cautious when writing your own.\n",
    "\n",
    "(It happens that there are even more advanced numpy functions like `np.linalg.solve` which are more accurate than just taking the naked inverse)\n",
    "\n",
    "See the documentation to learn more about `numpy` functions as needed."
   ]
  },
  {
   "cell_type": "markdown",
   "metadata": {},
   "source": [
    "## Part 8:  I/O and Preprocessing\n",
    "Much of data science and computational science involves reading data from files and writing to files.   This process is generally known as `I/O`.\n",
    "\n",
    "There are many ways of accomplishing different `I/O` tasks.  `Python` has its own built-in functionality for reading and working with files.  You can read also read data with `numpy` and `pandas` among others.  We won't cover `numpy` for basic input parsing today, but you'll probably be introduced to it eventually.  We will spend a considerable amount of time on `pandas`."
   ]
  },
  {
   "cell_type": "markdown",
   "metadata": {},
   "source": [
    "### Part 8.1:  `Python`'s built-in I/O \n",
    "We'll work with the small file called `brief_comments.txt` in the `data` directory."
   ]
  },
  {
   "cell_type": "markdown",
   "metadata": {},
   "source": [
    "You can read in a file using the `open` function.  There is a \"right\" way and a \"wrong\" way of doing this."
   ]
  },
  {
   "cell_type": "markdown",
   "metadata": {},
   "source": [
    "An alternative way of reading data from a file is to use the `with` statement."
   ]
  },
  {
   "cell_type": "code",
   "execution_count": 1,
   "metadata": {},
   "outputs": [
    {
     "name": "stdout",
     "output_type": "stream",
     "text": [
      "data  LML_Lab1and3.ipynb  lml.png\r\n"
     ]
    }
   ],
   "source": [
    "!ls"
   ]
  },
  {
   "cell_type": "code",
   "execution_count": 2,
   "metadata": {},
   "outputs": [],
   "source": [
    "# This approach should not be used!\n",
    "f = open(\"data/brief_comments.txt\", \"r\") # Open the file for reading\n",
    "dogs = f.read() # Read the file\n",
    "f.close() # Remember to close the file!"
   ]
  },
  {
   "cell_type": "code",
   "execution_count": 3,
   "metadata": {},
   "outputs": [],
   "source": [
    "# This approach is the correct way, and should always be used.\n",
    "with open(\"data/brief_comments.txt\", \"r\") as f:\n",
    "    dogs = f.read()"
   ]
  },
  {
   "cell_type": "markdown",
   "metadata": {},
   "source": [
    "#### Observations\n",
    "The `with` statement does a few things for us automatically.  First, it closes the file for us so we don't need to remember to do this.  It is important to close a file when you're done with it!  There are a few reasons for this:\n",
    "1. Having too many files open at once consumes resources\n",
    "2. Not closing a file is sloppy coding\n",
    "3. You might not see changes to the file until you close it\n",
    "\n",
    "`with` even closes the file for us if an exception was thrown.  It's nice that the `with` statement handles that for us."
   ]
  },
  {
   "cell_type": "markdown",
   "metadata": {},
   "source": [
    "### Part 8.2:  Preprocessing\n",
    "\n",
    "Now we can do some operations on the text.  We will explore a few methods here:\n",
    "1. `len`\n",
    "2. `split`\n",
    "3. `lower`\n",
    "\n",
    "There are many other methods as part of the `string` class.  These can be found in the documentation:  [String Methods](https://docs.python.org/3/library/stdtypes.html#string-methods)."
   ]
  },
  {
   "cell_type": "code",
   "execution_count": 4,
   "metadata": {},
   "outputs": [
    {
     "name": "stdout",
     "output_type": "stream",
     "text": [
      "Dogs have been with humans for millenia.  Although they do not speak human languages (e.g. English or Chinese), they have been watching and observing\n",
      "us for all that time.  Their emotional intelligence is prodigious.  We are only just beginning to scape the surface of the mind of dogs.  The nascent\n",
      "field of dog cognition is beginning to shed light on ways to form meaningful communication with dogs.\n",
      "\n"
     ]
    }
   ],
   "source": [
    "print(dogs) # What are the contents of the object we just read in?"
   ]
  },
  {
   "cell_type": "code",
   "execution_count": 5,
   "metadata": {},
   "outputs": [
    {
     "data": {
      "text/plain": [
       "str"
      ]
     },
     "execution_count": 5,
     "metadata": {},
     "output_type": "execute_result"
    }
   ],
   "source": [
    "type(dogs) # What kind of data are we dealing with?"
   ]
  },
  {
   "cell_type": "code",
   "execution_count": 6,
   "metadata": {},
   "outputs": [
    {
     "name": "stdout",
     "output_type": "stream",
     "text": [
      "402\n"
     ]
    }
   ],
   "source": [
    "l = len(dogs) # How many characters are in this string?\n",
    "print(l)"
   ]
  },
  {
   "cell_type": "code",
   "execution_count": 7,
   "metadata": {},
   "outputs": [
    {
     "data": {
      "text/plain": [
       "'b'"
      ]
     },
     "execution_count": 7,
     "metadata": {},
     "output_type": "execute_result"
    }
   ],
   "source": [
    "dogs[10] # Let's access the 11th item"
   ]
  },
  {
   "cell_type": "markdown",
   "metadata": {},
   "source": [
    "That's something of a letdown.  The `string` object is just one giant string so accessing the first item gives us the first character.  It would be more useful to access individual words.  We can use the `split` method to accomplish this: [`str.split`](https://docs.python.org/3/library/stdtypes.html#str.split)."
   ]
  },
  {
   "cell_type": "code",
   "execution_count": 8,
   "metadata": {},
   "outputs": [
    {
     "name": "stdout",
     "output_type": "stream",
     "text": [
      "['Dogs', 'have', 'been', 'with', 'humans', 'for', 'millenia.', 'Although', 'they', 'do', 'not', 'speak', 'human', 'languages', '(e.g.', 'English', 'or', 'Chinese),', 'they', 'have', 'been', 'watching', 'and', 'observing', 'us', 'for', 'all', 'that', 'time.', 'Their', 'emotional', 'intelligence', 'is', 'prodigious.', 'We', 'are', 'only', 'just', 'beginning', 'to', 'scape', 'the', 'surface', 'of', 'the', 'mind', 'of', 'dogs.', 'The', 'nascent', 'field', 'of', 'dog', 'cognition', 'is', 'beginning', 'to', 'shed', 'light', 'on', 'ways', 'to', 'form', 'meaningful', 'communication', 'with', 'dogs.']\n"
     ]
    }
   ],
   "source": [
    "words = dogs.split()\n",
    "print(words)"
   ]
  },
  {
   "cell_type": "code",
   "execution_count": 9,
   "metadata": {},
   "outputs": [
    {
     "data": {
      "text/plain": [
       "list"
      ]
     },
     "execution_count": 9,
     "metadata": {},
     "output_type": "execute_result"
    }
   ],
   "source": [
    "type(words)"
   ]
  },
  {
   "cell_type": "markdown",
   "metadata": {},
   "source": [
    "So `split` returned a `python` `list` by splitting the string into elements separated by white space.  Now let's see what the 11th item is."
   ]
  },
  {
   "cell_type": "code",
   "execution_count": 10,
   "metadata": {},
   "outputs": [
    {
     "data": {
      "text/plain": [
       "'not'"
      ]
     },
     "execution_count": 10,
     "metadata": {},
     "output_type": "execute_result"
    }
   ],
   "source": [
    "words[10]"
   ]
  },
  {
   "cell_type": "markdown",
   "metadata": {},
   "source": [
    "Very nice!  Let's explore some of the other cool string operations that we can do."
   ]
  },
  {
   "cell_type": "code",
   "execution_count": 11,
   "metadata": {},
   "outputs": [
    {
     "name": "stdout",
     "output_type": "stream",
     "text": [
      "There are 67 words in our brief comments.\n"
     ]
    }
   ],
   "source": [
    "N = len(words) # Number of words\n",
    "print(\"There are {0} words in our brief comments.\".format(N))"
   ]
  },
  {
   "cell_type": "markdown",
   "metadata": {},
   "source": [
    "#### Brief Interlude\n",
    "We used the `format` method on a string.  The *pythonic* way of doing this in `python3` can be found at the following resources:\n",
    "* [The `format` statement](https://docs.python.org/3/library/stdtypes.html#str.format) --- Syntax for using the `format` statement.\n",
    "* [Format String Syntax](https://docs.python.org/3/library/string.html#formatstrings) --- Different ways for formating strings (e.g. printing integers, floats, etc).\n",
    "* [Formatting Literal Strings](https://docs.python.org/3/reference/lexical_analysis.html#f-strings) --- An alternative way of formatting strings.  Not used in this lab.\n",
    "\n",
    "#### End Brief Interlude"
   ]
  },
  {
   "cell_type": "markdown",
   "metadata": {},
   "source": [
    "Let's get back to our nice little example.\n",
    "\n",
    "Suppose we want to count the occurance of a particular word.  We could use the `count` method (see [`list.count()`](https://docs.python.org/3/tutorial/datastructures.html)).\n",
    "\n",
    "How many times is the word `dogs` mentioned?"
   ]
  },
  {
   "cell_type": "code",
   "execution_count": 12,
   "metadata": {},
   "outputs": [
    {
     "data": {
      "text/plain": [
       "0"
      ]
     },
     "execution_count": 12,
     "metadata": {},
     "output_type": "execute_result"
    }
   ],
   "source": [
    "words.count(\"dogs\")"
   ]
  },
  {
   "cell_type": "markdown",
   "metadata": {},
   "source": [
    "That's not correct.  We can see clearly that the word `dogs` is mentioned $3$ times (it's a small enough text that we can count this manually).  The problem is that sometimes `dogs` is capitalized, sometimes it comes with a period, and sometimes it's all lowercase.  We need to do further processing."
   ]
  },
  {
   "cell_type": "code",
   "execution_count": 14,
   "metadata": {},
   "outputs": [
    {
     "data": {
      "text/plain": [
       "2"
      ]
     },
     "execution_count": 14,
     "metadata": {},
     "output_type": "execute_result"
    }
   ],
   "source": [
    "more_words = [word.split('.')[0] for word in words] # List comprehension\n",
    "more_words.count(\"dogs\")"
   ]
  },
  {
   "cell_type": "code",
   "execution_count": 15,
   "metadata": {},
   "outputs": [
    {
     "data": {
      "text/plain": [
       "['Dogs',\n",
       " 'have',\n",
       " 'been',\n",
       " 'with',\n",
       " 'humans',\n",
       " 'for',\n",
       " 'millenia',\n",
       " 'Although',\n",
       " 'they',\n",
       " 'do',\n",
       " 'not',\n",
       " 'speak',\n",
       " 'human',\n",
       " 'languages',\n",
       " '(e',\n",
       " 'English',\n",
       " 'or',\n",
       " 'Chinese),',\n",
       " 'they',\n",
       " 'have',\n",
       " 'been',\n",
       " 'watching',\n",
       " 'and',\n",
       " 'observing',\n",
       " 'us',\n",
       " 'for',\n",
       " 'all',\n",
       " 'that',\n",
       " 'time',\n",
       " 'Their',\n",
       " 'emotional',\n",
       " 'intelligence',\n",
       " 'is',\n",
       " 'prodigious',\n",
       " 'We',\n",
       " 'are',\n",
       " 'only',\n",
       " 'just',\n",
       " 'beginning',\n",
       " 'to',\n",
       " 'scape',\n",
       " 'the',\n",
       " 'surface',\n",
       " 'of',\n",
       " 'the',\n",
       " 'mind',\n",
       " 'of',\n",
       " 'dogs',\n",
       " 'The',\n",
       " 'nascent',\n",
       " 'field',\n",
       " 'of',\n",
       " 'dog',\n",
       " 'cognition',\n",
       " 'is',\n",
       " 'beginning',\n",
       " 'to',\n",
       " 'shed',\n",
       " 'light',\n",
       " 'on',\n",
       " 'ways',\n",
       " 'to',\n",
       " 'form',\n",
       " 'meaningful',\n",
       " 'communication',\n",
       " 'with',\n",
       " 'dogs']"
      ]
     },
     "execution_count": 15,
     "metadata": {},
     "output_type": "execute_result"
    }
   ],
   "source": [
    "more_words"
   ]
  },
  {
   "cell_type": "markdown",
   "metadata": {},
   "source": [
    "We found $2$ dogs!  Still not correct, but better than before.\n",
    "\n",
    "What just happened here?!"
   ]
  },
  {
   "cell_type": "code",
   "execution_count": 16,
   "metadata": {},
   "outputs": [
    {
     "data": {
      "text/plain": [
       "2"
      ]
     },
     "execution_count": 16,
     "metadata": {},
     "output_type": "execute_result"
    }
   ],
   "source": [
    "# We can write the list comprehension as a for loop as follows:\n",
    "more_words1 = []\n",
    "for word in words:\n",
    "    inter = word.split('.')\n",
    "    inter1 = inter[0]\n",
    "    more_words1.append(inter1)\n",
    "more_words1.count(\"dogs\")"
   ]
  },
  {
   "cell_type": "markdown",
   "metadata": {},
   "source": [
    "Let's put this all into English."
   ]
  },
  {
   "cell_type": "markdown",
   "metadata": {},
   "source": [
    "\n",
    "1. First of all, this time we used `split` to split on periods rather than white space.  Splitting on white space is the default.  Beyond that, you have to tell it what to do the split on.\n",
    "2. Second, we introduced a **list comprehension**.  The list comprehension structure is extremely useful.  You should take a look at the documentation:  [List Comprehensions](https://docs.python.org/3/tutorial/datastructures.html#list-comprehensions).  Basically, a list comprehension can be used to create a new list by applying operations on an old list.\n",
    "3. Third, we accessed the first element of the new list in the list comprehension.\n",
    "  * You see, each time the `split` method is called, it creates a new list.\n",
    "  * But we know that we don't want a list of lists.\n",
    "    - Try it out.  Just print the result from `[word.split('.') for word in words]` and see what it looks like.\n",
    "  * We also know that the nested lists contain just one element (a single word), so we just access that word and get a string back.  If this sentence sounds strange to you, then you probably didn't try things out on your own like we suggested you do."
   ]
  },
  {
   "cell_type": "markdown",
   "metadata": {},
   "source": [
    "Still, we have more work to do.  Only $2$ occurrances of the word `dogs` were noted.  The other occurance happens with a capital letter.  Not to fear!  We can convert strings to lower case using the `lower` method."
   ]
  },
  {
   "cell_type": "code",
   "execution_count": 17,
   "metadata": {},
   "outputs": [
    {
     "data": {
      "text/plain": [
       "'hello bonnie'"
      ]
     },
     "execution_count": 17,
     "metadata": {},
     "output_type": "execute_result"
    }
   ],
   "source": [
    "my_str = 'HELLO Bonnie'\n",
    "my_str.lower()"
   ]
  },
  {
   "cell_type": "markdown",
   "metadata": {},
   "source": [
    "<div class=\"exercise\"><b>Exercise</b></div>\n",
    "Use a list comprehension to create a list of all lower case words starting from the `more_words` list that we just created.  Then print out the number of occurrances of the word `dogs`."
   ]
  },
  {
   "cell_type": "code",
   "execution_count": 24,
   "metadata": {},
   "outputs": [
    {
     "data": {
      "text/plain": [
       "3"
      ]
     },
     "execution_count": 24,
     "metadata": {},
     "output_type": "execute_result"
    }
   ],
   "source": [
    "# Your code here\n",
    "more_more_words = [i.lower() for i in more_words]\n",
    "more_more_words.count('dogs')"
   ]
  },
  {
   "cell_type": "markdown",
   "metadata": {},
   "source": [
    "<div class=\"exercise\"><b> Exercise </b> </div>\n",
    "* `hamlet.txt` is in the `data` directory.  Open and read it into a variable called `hamlettext`.\n",
    "* What is the type of `hamlettext`?  What is its length?  Print the first $500$ items of `hamlettext`.\n",
    "* Create a list called `hamletwords` where the items are the words of the play.\n",
    "  * Confirm that the list you created is really a list\n",
    "  * Confirm that each element of the list is a string\n",
    "  * Print the first 10 items in the list.  \n",
    "  * Print \"There are $N$ total words in Hamlet.\",  where $N$ is the total number of words in Hamlet.\n",
    "* Using a *list comprehension*, create `hamletwords_lc` which converts the items in `hamletwords` to lower-case. \n",
    "* Count the number of occurences of the word \"thou\".\n",
    "* Use `set` to determine the set of unique words in `hamletwords_lc`.  Here's documentation on the `set` datatype:  [Sets](https://docs.python.org/3/tutorial/datastructures.html#sets).\n",
    "  * Print \"There are $M$ unique words in Hamlet.\", where $M$ is the number of unique words.  As a sanity check, verify that $M < N$.\n",
    "  * Your output should be \n",
    "  ```\n",
    "  \"There are 7456 unique words in Hamlet.\"\n",
    "  ```"
   ]
  },
  {
   "cell_type": "code",
   "execution_count": 16,
   "metadata": {},
   "outputs": [
    {
     "name": "stdout",
     "output_type": "stream",
     "text": [
      "\n",
      "hamlet.txt is in the data directory. Open and read it into a variable called hamlettext.\n",
      "\n",
      "\n",
      "What is the type of hamlettext?\n",
      "\n",
      "<class 'str'>\n",
      "\n",
      "What is its length?\n",
      "\n",
      "173946\n",
      "\n",
      "Print the first 500 items of hamlettext\n",
      "\n",
      "﻿XXXX\n",
      "HAMLET, PRINCE OF DENMARK\n",
      "\n",
      "by William Shakespeare\n",
      "\n",
      "\n",
      "\n",
      "\n",
      "PERSONS REPRESENTED.\n",
      "\n",
      "Claudius, King of Denmark.\n",
      "Hamlet, Son to the former, and Nephew to the present King.\n",
      "Polonius, Lord Chamberlain.\n",
      "Horatio, Friend to Hamlet.\n",
      "Laertes, Son to Polonius.\n",
      "Voltimand, Courtier.\n",
      "Cornelius, Courtier.\n",
      "Rosencrantz, Courtier.\n",
      "Guildenstern, Courtier.\n",
      "Osric, Courtier.\n",
      "A Gentleman, Courtier.\n",
      "A Priest.\n",
      "Marcellus, Officer.\n",
      "Bernardo, Officer.\n",
      "Francisco, a Soldier\n",
      "Reynaldo, Servant to Polonius.\n",
      "Players.\n",
      "Two Clowns, \n",
      "\n",
      "Create a list called hamletwords where the items are the words of the play\n",
      "\n",
      "\n",
      "Confirm that the list you created is really a list\n",
      "\n",
      "<class 'list'>\n",
      "Confirm that each element of the list is a string\n",
      "positive\n",
      "\n",
      "Print the first 10 items in the list.\n",
      "\n",
      "['\\ufeffXXXX', 'HAMLET,', 'PRINCE', 'OF', 'DENMARK', 'by', 'William', 'Shakespeare', 'PERSONS', 'REPRESENTED.']\n",
      "\n",
      "\n",
      "There are 31659 total words in Hamlet.\n",
      "\n",
      "Lower case on words of hamlet\n",
      "\n",
      "\n",
      "Count the number of occurences of the word \"thou\".\n",
      "\n",
      "82\n",
      "\n",
      "Use set to determine the set of unique words in hamletwords_lc\n",
      "\n",
      "There are 7967 unique words in Hamlet\n"
     ]
    }
   ],
   "source": [
    "# Your code here\n",
    "with open(\"data/hamlet.txt\", \"r\") as f:\n",
    "    hamlettext = f.read()\n",
    "#print(hamlettext)\n",
    "print(\"\"\"\n",
    "hamlet.txt is in the data directory. Open and read it into a variable called hamlettext.\n",
    "\"\"\")\n",
    "print(\"\"\"\n",
    "What is the type of hamlettext?\n",
    "\"\"\")\n",
    "print(type(hamlettext))\n",
    "print(\"\"\"\n",
    "What is its length?\n",
    "\"\"\")\n",
    "print(len(hamlettext))\n",
    "print(\"\"\"\n",
    "Print the first 500 items of hamlettext\n",
    "\"\"\")\n",
    "print(hamlettext[:500])\n",
    "print(\"\"\"\n",
    "Create a list called hamletwords where the items are the words of the play\n",
    "\"\"\")\n",
    "hamletwords = hamlettext.split()\n",
    "print(\"\"\"\n",
    "Confirm that the list you created is really a list\n",
    "\"\"\")\n",
    "print(type(hamletwords))\n",
    "print(\"Confirm that each element of the list is a string\")\n",
    "onlywords = True\n",
    "for word in hamletwords:\n",
    "    if type(word) != str:\n",
    "        onlywords = False\n",
    "        break\n",
    "print(\"positive\") if onlywords==True else print(\"negative\")\n",
    "    \n",
    "print(\"\"\"\n",
    "Print the first 10 items in the list.\n",
    "\"\"\")\n",
    "print(hamletwords[:10])\n",
    "print(\"\\n\")\n",
    "print(\"There are {} total words in Hamlet.\".format(len(hamletwords)))\n",
    "print(\"\"\"\n",
    "Lower case on words of hamlet\n",
    "\"\"\")\n",
    "hamletwords_lc = [word.lower() for word in hamletwords]\n",
    "print(\"\"\"\n",
    "Count the number of occurences of the word \"thou\".\n",
    "\"\"\")\n",
    "print(hamletwords.count('thou'))\n",
    "print(\"\"\"\n",
    "Use set to determine the set of unique words in hamletwords_lc\n",
    "\"\"\")\n",
    "print(\"There are {} unique words in Hamlet\".format(len(set(hamletwords))))"
   ]
  },
  {
   "cell_type": "markdown",
   "metadata": {},
   "source": [
    "### Part 8.3:  Writing Files\n",
    "So far, we've discussed how to read data from files.  We've used `python`'s built-in functionality.  Of course, you generally want to *write* data to files as well.  What's the point of generating data if you're not saving it somewhere?!\n",
    "\n",
    "We'll begin this section by generating some data to write."
   ]
  },
  {
   "cell_type": "code",
   "execution_count": 17,
   "metadata": {},
   "outputs": [
    {
     "name": "stdout",
     "output_type": "stream",
     "text": [
      "Our list is [25, 16, 9, 4, 1, 0, 1, 4, 9, 16, 25].\n"
     ]
    }
   ],
   "source": [
    "my_ints = [i for i in range(-5, 6)]\n",
    "my_ints2 = [i*i for i in my_ints]\n",
    "print(\"Our list is {0}.\".format(my_ints2))"
   ]
  },
  {
   "cell_type": "markdown",
   "metadata": {},
   "source": [
    "Now let's prepare to write this data out."
   ]
  },
  {
   "cell_type": "code",
   "execution_count": 18,
   "metadata": {},
   "outputs": [],
   "source": [
    "with open(\"data/datafile.txt\", \"w\") as dataf:\n",
    "    # header\n",
    "    dataf.write(\"Here is a list of squared ints.\\n\\n\")\n",
    "    # Columns\n",
    "    dataf.write(\"n\")\n",
    "    dataf.write(\", \")\n",
    "    dataf.write(\"n^2\" + \"\\n\")\n",
    "    # Data\n",
    "    for i, i2 in zip(my_ints, my_ints2):\n",
    "        dataf.write(\"{}, {}\\n\".format(str(i), str(i2)))"
   ]
  },
  {
   "cell_type": "markdown",
   "metadata": {},
   "source": [
    "Once again, there are a few things worth mentioning here.\n",
    "\n",
    "1. This is pretty ugly. We even had to convert the floats and ints to strings before we could write things out.\n",
    "2. We've introduced the `zip` method.\n",
    "  * Here's the documentation: [`zip` documentation](https://docs.python.org/3/library/functions.html#zip)\n",
    "  * Here's the essence:  Combine the two lists into a tuple.  Now you can iterate on the tuple.\n",
    "  * More precisely, `zip` aggregates the *iterables* `nums` and `some_data` into an *iterator* of tuples.  \n",
    "    - In our case, the iterables here are just lists (they can be iterated on).\n",
    "    - The *iterator of tuples* is formed by pairing the first elements of each list into a tuple.\n",
    "    - That tuple is iterated upon by the `for` statement during which the elements of the tuple are extracted.\n",
    "  * This sounds complicated, but it makes things very clean and nice to work with.  You should practice using `zip` whenever possible.\n",
    "3. The related cousin of `zip` is `enumerate`:  [`enumerate` documentation](https://docs.python.org/3/library/functions.html#enumerate).  We will use `enumerate` all the time, but not yet."
   ]
  },
  {
   "cell_type": "markdown",
   "metadata": {},
   "source": [
    "### `json`"
   ]
  },
  {
   "cell_type": "markdown",
   "metadata": {},
   "source": [
    "We really don't want to write out complex data forms using the `write` method.\n",
    "\n",
    "Fortunately, there are a bunch of ways to write out data:\n",
    "* [`pickle`](https://docs.python.org/3/library/pickle.html#module-pickle) --- `python` specific; used for saving and loading `python` objects\n",
    "* [`xml`](https://docs.python.org/3/library/xml.html) --- Commonly used standard for storing data.\n",
    "* [`json`](https://docs.python.org/3/library/json.html#module-json) --- Extremely commonly used standard for sharing data.\n",
    "\n",
    "We will focus on `json` because it is a commonly used standard for data exchange.  Here is a nice little tutorial on `json`: [Working With JSON Data in Python](https://realpython.com/python-json/).\n",
    "\n",
    "Here are a few comments on `json`:\n",
    "* Human readable\n",
    "* Used both within and external to the `python` ecosystem\n",
    "* Cannot represent all `python` types, but that's usually okay.  If you are only working in `python`, then you should probably just use `pickle`."
   ]
  },
  {
   "cell_type": "code",
   "execution_count": 8,
   "metadata": {},
   "outputs": [],
   "source": [
    "import json # import the json library"
   ]
  },
  {
   "cell_type": "markdown",
   "metadata": {},
   "source": [
    "Suppose we have a `python` dictionary containing information about individual dogs in a particular dog shelter."
   ]
  },
  {
   "cell_type": "code",
   "execution_count": 9,
   "metadata": {},
   "outputs": [
    {
     "data": {
      "text/plain": [
       "{'dog1': {'age': 3,\n",
       "  'breed': 'Border Collie',\n",
       "  'name': 'Cloe',\n",
       "  'playgroup': 'Yes'},\n",
       " 'dog2': {'age': 7, 'breed': 'Beagle', 'name': 'Karl', 'playgroup': 'Yes'}}"
      ]
     },
     "execution_count": 9,
     "metadata": {},
     "output_type": "execute_result"
    }
   ],
   "source": [
    "dog_shelter = {} # Initialize dictionary\n",
    "\n",
    "# Set up dictionary elements\n",
    "dog_shelter['dog1'] = {'name': 'Cloe', 'age': 3, 'breed': 'Border Collie', 'playgroup': 'Yes'}\n",
    "dog_shelter['dog2'] = {'name': 'Karl', 'age': 7, 'breed': 'Beagle', 'playgroup': 'Yes'}\n",
    "\n",
    "dog_shelter"
   ]
  },
  {
   "cell_type": "markdown",
   "metadata": {},
   "source": [
    "We can access the elements of the dictionary like so:"
   ]
  },
  {
   "cell_type": "code",
   "execution_count": 10,
   "metadata": {},
   "outputs": [
    {
     "data": {
      "text/plain": [
       "{'age': 3, 'breed': 'Border Collie', 'name': 'Cloe', 'playgroup': 'Yes'}"
      ]
     },
     "execution_count": 10,
     "metadata": {},
     "output_type": "execute_result"
    }
   ],
   "source": [
    "dog_shelter['dog1']"
   ]
  },
  {
   "cell_type": "code",
   "execution_count": 11,
   "metadata": {},
   "outputs": [
    {
     "data": {
      "text/plain": [
       "'Karl'"
      ]
     },
     "execution_count": 11,
     "metadata": {},
     "output_type": "execute_result"
    }
   ],
   "source": [
    "dog_shelter['dog2']['name']"
   ]
  },
  {
   "cell_type": "markdown",
   "metadata": {},
   "source": [
    "#### Writing to `json` file"
   ]
  },
  {
   "cell_type": "markdown",
   "metadata": {},
   "source": [
    "Now we should save the dictionary to a file.  We decide to save it in `json` format because then many people will be able to read it and work with it."
   ]
  },
  {
   "cell_type": "code",
   "execution_count": 12,
   "metadata": {},
   "outputs": [],
   "source": [
    "with open('dog_shelter_info.txt', 'w') as output:  \n",
    "    json.dump(dog_shelter, output)"
   ]
  },
  {
   "cell_type": "markdown",
   "metadata": {},
   "source": [
    "Make sure the file is there in the same folder as this script. "
   ]
  },
  {
   "cell_type": "markdown",
   "metadata": {},
   "source": [
    "#### Reading from `json` file"
   ]
  },
  {
   "cell_type": "markdown",
   "metadata": {},
   "source": [
    "Reading from a `json` file is also very easy."
   ]
  },
  {
   "cell_type": "code",
   "execution_count": 13,
   "metadata": {},
   "outputs": [],
   "source": [
    "with open('dog_shelter_info.txt', 'r') as f:\n",
    "    dog_data = json.load(f)"
   ]
  },
  {
   "cell_type": "code",
   "execution_count": 14,
   "metadata": {},
   "outputs": [
    {
     "name": "stdout",
     "output_type": "stream",
     "text": [
      "{'dog1': {'name': 'Cloe', 'age': 3, 'breed': 'Border Collie', 'playgroup': 'Yes'}, 'dog2': {'name': 'Karl', 'age': 7, 'breed': 'Beagle', 'playgroup': 'Yes'}}\n"
     ]
    }
   ],
   "source": [
    "print(dog_data)"
   ]
  },
  {
   "cell_type": "markdown",
   "metadata": {},
   "source": [
    "Let's explore the data structure.  We know that it's a `python` dictionary."
   ]
  },
  {
   "cell_type": "code",
   "execution_count": 15,
   "metadata": {
    "scrolled": true
   },
   "outputs": [
    {
     "name": "stdout",
     "output_type": "stream",
     "text": [
      "dog1\n",
      "Cloe is a 3 year old Border Collie.\n",
      "Cloe can attend playgroup.\n",
      "======================================\n",
      "\n",
      "dog2\n",
      "Karl is a 7 year old Beagle.\n",
      "Karl can attend playgroup.\n",
      "======================================\n",
      "\n"
     ]
    }
   ],
   "source": [
    "for dogid, info in dog_data.items():\n",
    "    print(dogid)\n",
    "    print(\"{0} is a {1} year old {2}.\".format(info['name'], info['age'], info['breed']))\n",
    "    if info['playgroup'].lower() == 'yes':\n",
    "        print(\"{0} can attend playgroup.\".format(info['name']))\n",
    "    else:\n",
    "        print(\"{0} is not permitted at playgroup.\".format(info['name']))\n",
    "    print(\"======================================\\n\")"
   ]
  },
  {
   "cell_type": "markdown",
   "metadata": {},
   "source": [
    "##  Part 9: Regular Expressions\n",
    "\n",
    "### Background and Motivation\n",
    "*Regular Expressions* (a.k.a. `regex` or `regexp`) are a tool for working with and manipulating text data.  We've already done some text manipulation in this lab.  We've shied away from particularly thorny examples until now.  Using `python`'s string methods is useful, but that approach has it's limitations.\n",
    "\n",
    "Regular expressions provide a set of rules for working with text data.  At first, these expressions look completely foreign (e.g. `([0-9]+(\\.[0-9]+){3})`), but once you know some of the basics they're not so bad.\n",
    "\n",
    "As it turns out, the fundamentals of regular expressions are based upon abstract algebra.  Mathematicians have studied regular expressions simply to lay down and understand their theoretical underpinnings.  We won't go anywhere near that level of detail.  For us, regular expressions will simply be used to process some gnarly text data.\n",
    "\n",
    "There are a few key `regex` patterns and concepts that you must know and be comfortable with.  That fact is, there are many ways to create a `regex` to search for a particular pattern.  Some approaches are more succinct than others.  As with most things, you will get better the more you practice.  You should try to make your `regex` patterns as crisp as possible while still mainting readabilty.\n",
    "\n",
    "### Some resources\n",
    "In order to become proficient with `regex`s, you are **strongly encouraged** to take the *RegexOne* tutorial at [https://regexone.com/](https://regexone.com/).  That tutorial is an interactive and accessible introduction to regular expressions and it can be done in an hour.  It contains problems at the end to test your knowledge.  The *RegexOne* website also contains a very nice demo for `Python3`.  This lab will borrow from the *RegexOne* `python` demo to walk you through some concepts.\n",
    "\n",
    "You may also want to consider the book [Mastering Regular Expressions](http://shop.oreilly.com/product/9780596528126.do) for more details as well as some historical comments.\n",
    "\n",
    "---"
   ]
  },
  {
   "cell_type": "markdown",
   "metadata": {},
   "source": [
    "### Learning by Example\n",
    "Suppose you have a string containing a date:"
   ]
  },
  {
   "cell_type": "code",
   "execution_count": 16,
   "metadata": {},
   "outputs": [],
   "source": [
    "birthday = \"June 11\""
   ]
  },
  {
   "cell_type": "markdown",
   "metadata": {},
   "source": [
    "You would like to search this string for the month.  For such a simple string, this can easily be done with the `python` string methods."
   ]
  },
  {
   "cell_type": "code",
   "execution_count": 17,
   "metadata": {},
   "outputs": [
    {
     "name": "stdout",
     "output_type": "stream",
     "text": [
      "June\n"
     ]
    }
   ],
   "source": [
    "birth_month = birthday.strip()[:-3]\n",
    "print(birth_month)"
   ]
  },
  {
   "cell_type": "markdown",
   "metadata": {},
   "source": [
    "We're after much more intense strings, which we'll process with regular expressions.  Let's warm up with a `regex` on this simple string."
   ]
  },
  {
   "cell_type": "code",
   "execution_count": 18,
   "metadata": {},
   "outputs": [],
   "source": [
    "regex = r\"\\w+\" # A first regular expression"
   ]
  },
  {
   "cell_type": "markdown",
   "metadata": {},
   "source": [
    "What in the world does this mean?!  Well, there are a few syntactical details here:\n",
    "1. The `r` means that the string is a *raw string*.  This just tells `python` not to interpret backslashes and other metacharacters in the string.  For example, in order to render TeX, you must use a raw string.\n",
    "2. The `\\w` indicates any alphanumeric character.\n",
    "3. The `+` indicates one or more occurances.\n",
    "\n",
    "In English words, we say that `regex` is a regular expression that tries to match one or more occurances of alphanumeric characters.\n",
    "\n",
    "We still haven't specified what string we want to find the matches in.  All we've done so far is specify a `regex`.\n",
    "\n",
    "Let's remedy that.  We will now use the `python` `re` module to start matching some regular expressions in strings.  Here are two more resources for you:\n",
    "* [`re` module documentation](https://docs.python.org/3/library/re.html) --- The official `python` documentation on the `re` module\n",
    "* [Regular Expression HOWTO](https://docs.python.org/3/howto/regex.html#regex-howto) --- A gentler introduction to using the `re` module.\n",
    "\n",
    "Honestly, your best bet is still to start with the resources found on the *RegexOne* site."
   ]
  },
  {
   "cell_type": "code",
   "execution_count": 19,
   "metadata": {},
   "outputs": [
    {
     "name": "stdout",
     "output_type": "stream",
     "text": [
      "<_sre.SRE_Match object; span=(0, 4), match='June'>\n"
     ]
    }
   ],
   "source": [
    "import re # Regular expression module\n",
    "months = re.search(regex, birthday) # Search string for regex\n",
    "print(months)"
   ]
  },
  {
   "cell_type": "markdown",
   "metadata": {},
   "source": [
    "We just searched the `birthday` string for the regular expression contained in `regex`.  If the pattern doesn't match, then we get `None` in return, otherwise we get an object that contains some information.  In our case, the pattern matches something in `birthday`.  What information did we get?\n",
    "* We are told the `start` and `end` of the matching pattern (that is the `span=(0, 4)`)\n",
    "* We are told what matched (that is the `'June'`)\n",
    "\n",
    "You can access the starting and ending indices with the `start()` and `end()` methods as follows:"
   ]
  },
  {
   "cell_type": "code",
   "execution_count": 20,
   "metadata": {},
   "outputs": [
    {
     "name": "stdout",
     "output_type": "stream",
     "text": [
      "The matched pattern starts at index 0 and ends at index 4.\n"
     ]
    }
   ],
   "source": [
    "print(\"The matched pattern starts at index {0} and ends at index {1}.\".format(months.start(), months.end()))"
   ]
  },
  {
   "cell_type": "markdown",
   "metadata": {},
   "source": [
    "Note that we could have used a very simple pattern to search for the word `June`:"
   ]
  },
  {
   "cell_type": "code",
   "execution_count": 21,
   "metadata": {},
   "outputs": [
    {
     "data": {
      "text/plain": [
       "<_sre.SRE_Match object; span=(0, 4), match='June'>"
      ]
     },
     "execution_count": 21,
     "metadata": {},
     "output_type": "execute_result"
    }
   ],
   "source": [
    "regex = r\"June\"\n",
    "re.search(regex, birthday)"
   ]
  },
  {
   "cell_type": "markdown",
   "metadata": {},
   "source": [
    "Same answer!"
   ]
  },
  {
   "cell_type": "code",
   "execution_count": 22,
   "metadata": {},
   "outputs": [],
   "source": [
    "re.search(r\"Oct\", birthday) # nothing prints out"
   ]
  },
  {
   "cell_type": "markdown",
   "metadata": {},
   "source": [
    "**Note:** When a regex fails to match, like above, it can look a little weird. Instead of getting an empty regex object that prints out, we get `None`, which doesn't dispaly anything. Printing it still works though."
   ]
  },
  {
   "cell_type": "code",
   "execution_count": 23,
   "metadata": {},
   "outputs": [
    {
     "name": "stdout",
     "output_type": "stream",
     "text": [
      "None\n"
     ]
    }
   ],
   "source": [
    "months = re.search(r\"Oct\", birthday)\n",
    "print(months) # printing the match object shows us the result, even if no match was found."
   ]
  },
  {
   "cell_type": "markdown",
   "metadata": {},
   "source": [
    "As already mentioned, regular expressions work directly with text.  You need the fancier stuff when you have more complicated strings.  We'll get to that in a moment.  First, do the following exercise."
   ]
  },
  {
   "cell_type": "markdown",
   "metadata": {},
   "source": [
    "<div class=exercise><b>Exercise</b></div>\n",
    "Consider the string \n",
    "```python\n",
    "statement = \"June is a lovely month.\"\n",
    "```\n",
    "* Use a regular expression to the find the pattern `June`.\n",
    "* Create a new string, `fragment` from `statement`, which starts just after the word `June`.\n",
    "\n",
    "Your output should be ` is a lovely month.`"
   ]
  },
  {
   "cell_type": "code",
   "execution_count": 24,
   "metadata": {
    "scrolled": true
   },
   "outputs": [
    {
     "name": "stdout",
     "output_type": "stream",
     "text": [
      " is a lovely month.\n"
     ]
    }
   ],
   "source": [
    "statement = \"June is a lovely month.\"\n",
    "regex = r\"June\"\n",
    "fragment = statement[re.search(regex, statement).end():]\n",
    "print(fragment)"
   ]
  },
  {
   "cell_type": "markdown",
   "metadata": {},
   "source": [
    "Okay, we're ready to move on to more interesting things.  We'll do this in a sequence demos."
   ]
  },
  {
   "cell_type": "markdown",
   "metadata": {},
   "source": [
    "First, let's try to get the day out of the birthday string.  We'll use some more intesting expressions to illustrate some of the important patterns."
   ]
  },
  {
   "cell_type": "markdown",
   "metadata": {},
   "source": [
    "#### We can use `\\d` to get just digits."
   ]
  },
  {
   "cell_type": "code",
   "execution_count": 25,
   "metadata": {},
   "outputs": [
    {
     "data": {
      "text/plain": [
       "<_sre.SRE_Match object; span=(5, 7), match='11'>"
      ]
     },
     "execution_count": 25,
     "metadata": {},
     "output_type": "execute_result"
    }
   ],
   "source": [
    "regex = r\"\\d+\"\n",
    "re.search(regex, birthday)"
   ]
  },
  {
   "cell_type": "markdown",
   "metadata": {},
   "source": [
    "#### We can use `[a-z]` for characters `a` to `z` and `[0-9]` for digits `0` to `9`."
   ]
  },
  {
   "cell_type": "code",
   "execution_count": 26,
   "metadata": {},
   "outputs": [
    {
     "data": {
      "text/plain": [
       "<_sre.SRE_Match object; span=(0, 4), match='June'>"
      ]
     },
     "execution_count": 26,
     "metadata": {},
     "output_type": "execute_result"
    }
   ],
   "source": [
    "regex = r\"[A-Za-z]+\"\n",
    "re.search(regex, birthday)"
   ]
  },
  {
   "cell_type": "markdown",
   "metadata": {},
   "source": [
    "Note that we had to specify both capital letters and lowercase letters.  We also needed the `+` pattern to make sure that one or more occurances of the characters were found.  If not, we would have only gotten one occurance as illustrated in the next example."
   ]
  },
  {
   "cell_type": "code",
   "execution_count": 27,
   "metadata": {},
   "outputs": [
    {
     "data": {
      "text/plain": [
       "<_sre.SRE_Match object; span=(5, 6), match='1'>"
      ]
     },
     "execution_count": 27,
     "metadata": {},
     "output_type": "execute_result"
    }
   ],
   "source": [
    "regex = r\"[0-9]\"\n",
    "re.search(regex, birthday)"
   ]
  },
  {
   "cell_type": "markdown",
   "metadata": {},
   "source": [
    "Only got the first occurance of `1`!"
   ]
  },
  {
   "cell_type": "markdown",
   "metadata": {},
   "source": [
    "#### `findall()`\n",
    "\n",
    "Let's start getting down to business.  We want the actual month and the actual day.  Not the whole thing.  That's not too hard given what we already have at our disposal."
   ]
  },
  {
   "cell_type": "code",
   "execution_count": 28,
   "metadata": {},
   "outputs": [
    {
     "name": "stdout",
     "output_type": "stream",
     "text": [
      "['June']\n",
      "['11']\n"
     ]
    }
   ],
   "source": [
    "regex_month = r\"[A-Za-z]+\"\n",
    "month = re.findall(regex_month, birthday)\n",
    "print(month)\n",
    "\n",
    "regex_day = r\"\\d+\"\n",
    "day = re.findall(regex_day, birthday)\n",
    "print(day)"
   ]
  },
  {
   "cell_type": "markdown",
   "metadata": {},
   "source": [
    "The `findall()` method returns a list of all the pattern matches.  Very cool.  Now we're ready to move on to another very important concept: *groups*."
   ]
  },
  {
   "cell_type": "markdown",
   "metadata": {},
   "source": [
    "#### Groups\n",
    "Let's say we have a busy string of birthdays:"
   ]
  },
  {
   "cell_type": "code",
   "execution_count": 29,
   "metadata": {},
   "outputs": [],
   "source": [
    "birthdays = \"June 11th, December 13th, September 21st, May 12th\""
   ]
  },
  {
   "cell_type": "markdown",
   "metadata": {},
   "source": [
    "We want to get all the months and all the days.  This looks like a job for the `findall()` method."
   ]
  },
  {
   "cell_type": "code",
   "execution_count": 30,
   "metadata": {},
   "outputs": [
    {
     "name": "stdout",
     "output_type": "stream",
     "text": [
      "['June', 'th', 'December', 'th', 'September', 'st', 'May', 'th']\n"
     ]
    }
   ],
   "source": [
    "regex = r\"[A-Za-z]+\"\n",
    "bdays = re.findall(regex, birthdays)\n",
    "print(bdays)"
   ]
  },
  {
   "cell_type": "markdown",
   "metadata": {},
   "source": [
    "That's not right.  Almost, but not quite.  We can fix things in a bunch of ways.  Let's take this opportunity to introduce groups."
   ]
  },
  {
   "cell_type": "code",
   "execution_count": 31,
   "metadata": {},
   "outputs": [
    {
     "name": "stdout",
     "output_type": "stream",
     "text": [
      "[('June', '11th'), ('December', '13th'), ('September', '21st'), ('May', '12th')]\n"
     ]
    }
   ],
   "source": [
    "regex = r\"([A-Za-z]+) (\\d+\\w+)\"\n",
    "bdays = re.findall(regex, birthdays)\n",
    "print(bdays)"
   ]
  },
  {
   "cell_type": "markdown",
   "metadata": {},
   "source": [
    "Let's try to unpack all of that:\n",
    "* The parentheses indicate a group.  So, our first set of parentheses indicate that we want a pattern of characters with one or more occurances.\n",
    "* Right after that first group, we have a space.\n",
    "* Then we have another group.  This time, the group indicates a pattern with one or more occurances of numbers followed by one or more occurances of any alphanumeric characters.\n",
    "\n",
    "We could have accomplished the same thing in a number of ways.  Here are a couple more possibilities:\n",
    "```python\n",
    "regex = r\"([A-Za-z]+)\\s(\\d+\\w+)\"\n",
    "regex = r\"([A-Za-z]+)\\s(\\w+)\"\n",
    "regex = r\"([A-Za-z]+) (\\d+[a-z]+)\"\n",
    "```\n",
    "You get the idea.\n",
    "\n",
    "It's also possible to just get the months and days separately."
   ]
  },
  {
   "cell_type": "code",
   "execution_count": 32,
   "metadata": {},
   "outputs": [
    {
     "name": "stdout",
     "output_type": "stream",
     "text": [
      "June 11\n",
      "December 13\n",
      "September 21\n",
      "May 12\n"
     ]
    }
   ],
   "source": [
    "regex = r\"[A-Za-z]+ \\d+\"\n",
    "bdays = re.findall(regex, birthdays)\n",
    "for bday in bdays:\n",
    "    print(bday)"
   ]
  },
  {
   "cell_type": "markdown",
   "metadata": {},
   "source": [
    "There are many other ways to play with these `regex` patterns.  Let's do an exercise."
   ]
  },
  {
   "cell_type": "markdown",
   "metadata": {},
   "source": [
    "<div class=exercise><b>Exercise</b></div>\n",
    "* Open and read the file `shelterdogs.xml` into a string named `dogs`.  It should look like:\n",
    "\n",
    "```\n",
    "<?xml version=\"1.0\" encoding=\"UTF-8\"?>\n",
    "\n",
    "<dogshelter>\n",
    "    <dog id=\"dog1\">\n",
    "        <name> Cloe </name>\n",
    "        <age> 3 </age>\n",
    "        <breed> Border Collie </breed>\n",
    "        <playgroup> Yes </playgroup>\n",
    "    </dog>\n",
    "    <dog id=\"dog2\"> \n",
    "        <name> Karl </name> \n",
    "        <age> 7 </age>\n",
    "        <breed> Beagle </breed>\n",
    "        <playgroup> Yes </playgroup>\n",
    "    </dog>\n",
    "</dogshelter>\n",
    "```\n",
    "* Write a regular expression to match the dog names.  That is, you want to match the name inside the name tag: `<name> dog_name </name>`.\n",
    "  * **Hint:** Use a group.\n",
    "* Print out each name.\n",
    "\n",
    "Your output should be \n",
    "```python\n",
    "Chloe\n",
    "Karl\n",
    "```"
   ]
  },
  {
   "cell_type": "code",
   "execution_count": 4,
   "metadata": {},
   "outputs": [
    {
     "name": "stdout",
     "output_type": "stream",
     "text": [
      "<?xml version=\"1.0\" encoding=\"UTF-8\"?>\n",
      "\n",
      "<dogshelter>\n",
      "    <dog id=\"dog1\">\n",
      "        <name> Cloe </name>\n",
      "        <age> 3 </age>\n",
      "        <breed> Border Collie </breed>\n",
      "        <playgroup> Yes </playgroup>\n",
      "    </dog>\n",
      "    <dog id=\"dog2\"> \n",
      "        <name> Karl </name> \n",
      "        <age> 7 </age>\n",
      "        <breed> Beagle </breed>\n",
      "        <playgroup> Yes </playgroup>\n",
      "    </dog>\n",
      "</dogshelter>\n",
      "['Cloe', 'Karl']\n"
     ]
    }
   ],
   "source": [
    "# your code here\n",
    "with open(\"data/shelterdogs.xml\", \"r\") as f:\n",
    "    dogs = f.read()\n",
    "\n",
    "print(dogs)\n",
    "print(re.findall(\"<name> (.*?) </name>\", dogs))"
   ]
  },
  {
   "cell_type": "markdown",
   "metadata": {},
   "source": [
    "<div class=exercise><b>Exercise</b></div>\n",
    "Although you successfully completed the previous exercise, you think it would have been nicer to strip out the first two lines of the `dogs` string.  Do that now.\n",
    "\n",
    "**Hints:**\n",
    "* The first line has some special metacharacters in it (e.g. ?, \", \\n).  You can escape these by using a backslash. For example, \\? treats ? like a real question mark.  Otherwise it's the *optional* character in regular expressions.\n",
    "* Consider using [\\n]+ to deal with the end of line character.\n",
    "\n",
    "Your output should be:\n",
    "```\n",
    "<dogshelter>\n",
    "    <dog id=\"dog1\">\n",
    "        <name> Cloe </name>\n",
    "        <age> 3 </age>\n",
    "        <breed> Border Collie </breed>\n",
    "        <playgroup> Yes </playgroup>\n",
    "    </dog>\n",
    "    <dog id=\"dog2\"> \n",
    "        <name> Karl </name> \n",
    "        <age> 7 </age>\n",
    "        <breed> Beagle </breed>\n",
    "        <playgroup> Yes </playgroup>\n",
    "    </dog>\n",
    "</dogshelter>\n",
    "```"
   ]
  },
  {
   "cell_type": "code",
   "execution_count": 24,
   "metadata": {},
   "outputs": [
    {
     "name": "stdout",
     "output_type": "stream",
     "text": [
      "<dogshelter>\n",
      "    <dog id=\"dog1\">\n",
      "        <name> Cloe </name>\n",
      "        <age> 3 </age>\n",
      "        <breed> Border Collie </breed>\n",
      "        <playgroup> Yes </playgroup>\n",
      "    </dog>\n",
      "    <dog id=\"dog2\"> \n",
      "        <name> Karl </name> \n",
      "        <age> 7 </age>\n",
      "        <breed> Beagle </breed>\n",
      "        <playgroup> Yes </playgroup>\n",
      "    </dog>\n",
      "</dogshelter>\n"
     ]
    }
   ],
   "source": [
    "# your code here\n",
    "dogsalt = re.sub(r'<\\?[\\w\\s\\d=\".-]{1,}\\?>\\n\\n', '', dogs)\n",
    "print(dogsalt)"
   ]
  },
  {
   "cell_type": "markdown",
   "metadata": {},
   "source": [
    "This ends the `I/O` introduction.  We've discussed the following:\n",
    "* How to read and write data using straight `python`.\n",
    "* How to process text data using `python`'s built-in string methods.\n",
    "* How to read and write `JSON` files.\n",
    "* How to use regular expressions to process text data.\n",
    "\n",
    "All of this was fine for the examples that we've done so far.  However, we are interested in working with very complicated text strings (possibly from log files and websites) and messy data.  Regular expressions will still be useful, but there are other tools available to make our lives easier.\n",
    "\n",
    "First, we will introduce the `python` library `pandas` for working with complicated data types.  After that, we'll introduce the *BeautifulSoup* `python` library for reading and parsing data from websites."
   ]
  },
  {
   "cell_type": "markdown",
   "metadata": {},
   "source": [
    "## Part 10:  Introduction to Pandas\n",
    "\n",
    "We'd like a data structure that can that can easily store variables of different types, that stores column names, and that we can reference by column name as well as by indexed position.  And it would be nice if this data structure came with built-in functions that we can use to manipulate it. \n",
    "\n",
    "`Pandas` is a package/library that does all of this!  The library is built on top of `numpy`.  \n",
    "\n",
    "There are two basic `pandas` objects, *series* and *dataframes*, which can be thought of as enhanced versions of 1D and 2D `numpy` arrays, respectively.  \n",
    "\n",
    "For reference, here is a useful `pandas` [cheatsheet](https://drive.google.com/folderview?id=0ByIrJAE4KMTtaGhRcXkxNHhmY2M&usp=sharing) and the `pandas` [documentation](https://pandas.pydata.org/pandas-docs/stable/)."
   ]
  },
  {
   "cell_type": "code",
   "execution_count": 25,
   "metadata": {},
   "outputs": [],
   "source": [
    "import pandas as pd"
   ]
  },
  {
   "cell_type": "markdown",
   "metadata": {},
   "source": [
    "### Importing data\n",
    "\n",
    "Now let's read in some automatible data as a pandas *dataframe* structure.  "
   ]
  },
  {
   "cell_type": "code",
   "execution_count": 26,
   "metadata": {
    "scrolled": true
   },
   "outputs": [
    {
     "data": {
      "text/html": [
       "<div>\n",
       "<style scoped>\n",
       "    .dataframe tbody tr th:only-of-type {\n",
       "        vertical-align: middle;\n",
       "    }\n",
       "\n",
       "    .dataframe tbody tr th {\n",
       "        vertical-align: top;\n",
       "    }\n",
       "\n",
       "    .dataframe thead th {\n",
       "        text-align: right;\n",
       "    }\n",
       "</style>\n",
       "<table border=\"1\" class=\"dataframe\">\n",
       "  <thead>\n",
       "    <tr style=\"text-align: right;\">\n",
       "      <th></th>\n",
       "      <th>Unnamed: 0</th>\n",
       "      <th>mpg</th>\n",
       "      <th>cyl</th>\n",
       "      <th>disp</th>\n",
       "      <th>hp</th>\n",
       "      <th>drat</th>\n",
       "      <th>wt</th>\n",
       "      <th>qsec</th>\n",
       "      <th>vs</th>\n",
       "      <th>am</th>\n",
       "      <th>gear</th>\n",
       "      <th>carb</th>\n",
       "    </tr>\n",
       "  </thead>\n",
       "  <tbody>\n",
       "    <tr>\n",
       "      <th>0</th>\n",
       "      <td>Mazda RX4</td>\n",
       "      <td>21.0</td>\n",
       "      <td>6</td>\n",
       "      <td>160.0</td>\n",
       "      <td>110</td>\n",
       "      <td>3.90</td>\n",
       "      <td>2.620</td>\n",
       "      <td>16.46</td>\n",
       "      <td>0</td>\n",
       "      <td>1</td>\n",
       "      <td>4</td>\n",
       "      <td>4</td>\n",
       "    </tr>\n",
       "    <tr>\n",
       "      <th>1</th>\n",
       "      <td>Mazda RX4 Wag</td>\n",
       "      <td>21.0</td>\n",
       "      <td>6</td>\n",
       "      <td>160.0</td>\n",
       "      <td>110</td>\n",
       "      <td>3.90</td>\n",
       "      <td>2.875</td>\n",
       "      <td>17.02</td>\n",
       "      <td>0</td>\n",
       "      <td>1</td>\n",
       "      <td>4</td>\n",
       "      <td>4</td>\n",
       "    </tr>\n",
       "    <tr>\n",
       "      <th>2</th>\n",
       "      <td>Datsun 710</td>\n",
       "      <td>22.8</td>\n",
       "      <td>4</td>\n",
       "      <td>108.0</td>\n",
       "      <td>93</td>\n",
       "      <td>3.85</td>\n",
       "      <td>2.320</td>\n",
       "      <td>18.61</td>\n",
       "      <td>1</td>\n",
       "      <td>1</td>\n",
       "      <td>4</td>\n",
       "      <td>1</td>\n",
       "    </tr>\n",
       "    <tr>\n",
       "      <th>3</th>\n",
       "      <td>Hornet 4 Drive</td>\n",
       "      <td>21.4</td>\n",
       "      <td>6</td>\n",
       "      <td>258.0</td>\n",
       "      <td>110</td>\n",
       "      <td>3.08</td>\n",
       "      <td>3.215</td>\n",
       "      <td>19.44</td>\n",
       "      <td>1</td>\n",
       "      <td>0</td>\n",
       "      <td>3</td>\n",
       "      <td>1</td>\n",
       "    </tr>\n",
       "    <tr>\n",
       "      <th>4</th>\n",
       "      <td>Hornet Sportabout</td>\n",
       "      <td>18.7</td>\n",
       "      <td>8</td>\n",
       "      <td>360.0</td>\n",
       "      <td>175</td>\n",
       "      <td>3.15</td>\n",
       "      <td>3.440</td>\n",
       "      <td>17.02</td>\n",
       "      <td>0</td>\n",
       "      <td>0</td>\n",
       "      <td>3</td>\n",
       "      <td>2</td>\n",
       "    </tr>\n",
       "  </tbody>\n",
       "</table>\n",
       "</div>"
      ],
      "text/plain": [
       "          Unnamed: 0   mpg  cyl   disp   hp  drat     wt   qsec  vs  am  gear  \\\n",
       "0          Mazda RX4  21.0    6  160.0  110  3.90  2.620  16.46   0   1     4   \n",
       "1      Mazda RX4 Wag  21.0    6  160.0  110  3.90  2.875  17.02   0   1     4   \n",
       "2         Datsun 710  22.8    4  108.0   93  3.85  2.320  18.61   1   1     4   \n",
       "3     Hornet 4 Drive  21.4    6  258.0  110  3.08  3.215  19.44   1   0     3   \n",
       "4  Hornet Sportabout  18.7    8  360.0  175  3.15  3.440  17.02   0   0     3   \n",
       "\n",
       "   carb  \n",
       "0     4  \n",
       "1     4  \n",
       "2     1  \n",
       "3     1  \n",
       "4     2  "
      ]
     },
     "execution_count": 26,
     "metadata": {},
     "output_type": "execute_result"
    }
   ],
   "source": [
    "# Read in the csv files\n",
    "dfcars=pd.read_csv(\"data/mtcars.csv\")\n",
    "\n",
    "# Display the header and the first five rows of data\n",
    "dfcars.head()"
   ]
  },
  {
   "cell_type": "markdown",
   "metadata": {},
   "source": [
    "Wow!  That was easy and the output looks very nice.  What we have now is a spreadsheet with indexed rows and named columns, called a *dataframe* in pandas.  `dfcars` is an instance of the `pd.DataFrame` class, created by calling the `pd.read_csv` function, which then calls the DataFrame constructor inside of it. If the last sentence is confusing, don't worry, it will become clearer later.  The take-away is that `dfcars` is a dataframe object, and it has methods (functions) belonging to it. For example, `df.head()` is a method that shows the first 5 rows of the dataframe.\n",
    "\n",
    "A pandas dataframe is a set of columns pasted together into a spreadsheet, as shown in the schematic below.  The columns in `pandas` are called *series* objects.\n",
    "\n",
    "![](images/pandastruct.png)"
   ]
  },
  {
   "cell_type": "markdown",
   "metadata": {},
   "source": [
    "Initial data exploration is as simple as a one-liner."
   ]
  },
  {
   "cell_type": "code",
   "execution_count": 27,
   "metadata": {
    "scrolled": true
   },
   "outputs": [
    {
     "data": {
      "text/html": [
       "<div>\n",
       "<style scoped>\n",
       "    .dataframe tbody tr th:only-of-type {\n",
       "        vertical-align: middle;\n",
       "    }\n",
       "\n",
       "    .dataframe tbody tr th {\n",
       "        vertical-align: top;\n",
       "    }\n",
       "\n",
       "    .dataframe thead th {\n",
       "        text-align: right;\n",
       "    }\n",
       "</style>\n",
       "<table border=\"1\" class=\"dataframe\">\n",
       "  <thead>\n",
       "    <tr style=\"text-align: right;\">\n",
       "      <th></th>\n",
       "      <th>mpg</th>\n",
       "      <th>cyl</th>\n",
       "      <th>disp</th>\n",
       "      <th>hp</th>\n",
       "      <th>drat</th>\n",
       "      <th>wt</th>\n",
       "      <th>qsec</th>\n",
       "      <th>vs</th>\n",
       "      <th>am</th>\n",
       "      <th>gear</th>\n",
       "      <th>carb</th>\n",
       "    </tr>\n",
       "  </thead>\n",
       "  <tbody>\n",
       "    <tr>\n",
       "      <th>count</th>\n",
       "      <td>32.000000</td>\n",
       "      <td>32.000000</td>\n",
       "      <td>32.000000</td>\n",
       "      <td>32.000000</td>\n",
       "      <td>32.000000</td>\n",
       "      <td>32.000000</td>\n",
       "      <td>32.000000</td>\n",
       "      <td>32.000000</td>\n",
       "      <td>32.000000</td>\n",
       "      <td>32.000000</td>\n",
       "      <td>32.0000</td>\n",
       "    </tr>\n",
       "    <tr>\n",
       "      <th>mean</th>\n",
       "      <td>20.090625</td>\n",
       "      <td>6.187500</td>\n",
       "      <td>230.721875</td>\n",
       "      <td>146.687500</td>\n",
       "      <td>3.596563</td>\n",
       "      <td>3.217250</td>\n",
       "      <td>17.848750</td>\n",
       "      <td>0.437500</td>\n",
       "      <td>0.406250</td>\n",
       "      <td>3.687500</td>\n",
       "      <td>2.8125</td>\n",
       "    </tr>\n",
       "    <tr>\n",
       "      <th>std</th>\n",
       "      <td>6.026948</td>\n",
       "      <td>1.785922</td>\n",
       "      <td>123.938694</td>\n",
       "      <td>68.562868</td>\n",
       "      <td>0.534679</td>\n",
       "      <td>0.978457</td>\n",
       "      <td>1.786943</td>\n",
       "      <td>0.504016</td>\n",
       "      <td>0.498991</td>\n",
       "      <td>0.737804</td>\n",
       "      <td>1.6152</td>\n",
       "    </tr>\n",
       "    <tr>\n",
       "      <th>min</th>\n",
       "      <td>10.400000</td>\n",
       "      <td>4.000000</td>\n",
       "      <td>71.100000</td>\n",
       "      <td>52.000000</td>\n",
       "      <td>2.760000</td>\n",
       "      <td>1.513000</td>\n",
       "      <td>14.500000</td>\n",
       "      <td>0.000000</td>\n",
       "      <td>0.000000</td>\n",
       "      <td>3.000000</td>\n",
       "      <td>1.0000</td>\n",
       "    </tr>\n",
       "    <tr>\n",
       "      <th>25%</th>\n",
       "      <td>15.425000</td>\n",
       "      <td>4.000000</td>\n",
       "      <td>120.825000</td>\n",
       "      <td>96.500000</td>\n",
       "      <td>3.080000</td>\n",
       "      <td>2.581250</td>\n",
       "      <td>16.892500</td>\n",
       "      <td>0.000000</td>\n",
       "      <td>0.000000</td>\n",
       "      <td>3.000000</td>\n",
       "      <td>2.0000</td>\n",
       "    </tr>\n",
       "    <tr>\n",
       "      <th>50%</th>\n",
       "      <td>19.200000</td>\n",
       "      <td>6.000000</td>\n",
       "      <td>196.300000</td>\n",
       "      <td>123.000000</td>\n",
       "      <td>3.695000</td>\n",
       "      <td>3.325000</td>\n",
       "      <td>17.710000</td>\n",
       "      <td>0.000000</td>\n",
       "      <td>0.000000</td>\n",
       "      <td>4.000000</td>\n",
       "      <td>2.0000</td>\n",
       "    </tr>\n",
       "    <tr>\n",
       "      <th>75%</th>\n",
       "      <td>22.800000</td>\n",
       "      <td>8.000000</td>\n",
       "      <td>326.000000</td>\n",
       "      <td>180.000000</td>\n",
       "      <td>3.920000</td>\n",
       "      <td>3.610000</td>\n",
       "      <td>18.900000</td>\n",
       "      <td>1.000000</td>\n",
       "      <td>1.000000</td>\n",
       "      <td>4.000000</td>\n",
       "      <td>4.0000</td>\n",
       "    </tr>\n",
       "    <tr>\n",
       "      <th>max</th>\n",
       "      <td>33.900000</td>\n",
       "      <td>8.000000</td>\n",
       "      <td>472.000000</td>\n",
       "      <td>335.000000</td>\n",
       "      <td>4.930000</td>\n",
       "      <td>5.424000</td>\n",
       "      <td>22.900000</td>\n",
       "      <td>1.000000</td>\n",
       "      <td>1.000000</td>\n",
       "      <td>5.000000</td>\n",
       "      <td>8.0000</td>\n",
       "    </tr>\n",
       "  </tbody>\n",
       "</table>\n",
       "</div>"
      ],
      "text/plain": [
       "             mpg        cyl        disp          hp       drat         wt  \\\n",
       "count  32.000000  32.000000   32.000000   32.000000  32.000000  32.000000   \n",
       "mean   20.090625   6.187500  230.721875  146.687500   3.596563   3.217250   \n",
       "std     6.026948   1.785922  123.938694   68.562868   0.534679   0.978457   \n",
       "min    10.400000   4.000000   71.100000   52.000000   2.760000   1.513000   \n",
       "25%    15.425000   4.000000  120.825000   96.500000   3.080000   2.581250   \n",
       "50%    19.200000   6.000000  196.300000  123.000000   3.695000   3.325000   \n",
       "75%    22.800000   8.000000  326.000000  180.000000   3.920000   3.610000   \n",
       "max    33.900000   8.000000  472.000000  335.000000   4.930000   5.424000   \n",
       "\n",
       "            qsec         vs         am       gear     carb  \n",
       "count  32.000000  32.000000  32.000000  32.000000  32.0000  \n",
       "mean   17.848750   0.437500   0.406250   3.687500   2.8125  \n",
       "std     1.786943   0.504016   0.498991   0.737804   1.6152  \n",
       "min    14.500000   0.000000   0.000000   3.000000   1.0000  \n",
       "25%    16.892500   0.000000   0.000000   3.000000   2.0000  \n",
       "50%    17.710000   0.000000   0.000000   4.000000   2.0000  \n",
       "75%    18.900000   1.000000   1.000000   4.000000   4.0000  \n",
       "max    22.900000   1.000000   1.000000   5.000000   8.0000  "
      ]
     },
     "execution_count": 27,
     "metadata": {},
     "output_type": "execute_result"
    }
   ],
   "source": [
    "dfcars.describe()"
   ]
  },
  {
   "cell_type": "markdown",
   "metadata": {},
   "source": [
    "That's about as simple as you could ever ask for.\n",
    "\n",
    "Returning to the `dfcars` dataframe, we notice that the first column has a bad name: \"Unnamed: 0\". Let's **clean** it up. "
   ]
  },
  {
   "cell_type": "code",
   "execution_count": 28,
   "metadata": {},
   "outputs": [
    {
     "data": {
      "text/html": [
       "<div>\n",
       "<style scoped>\n",
       "    .dataframe tbody tr th:only-of-type {\n",
       "        vertical-align: middle;\n",
       "    }\n",
       "\n",
       "    .dataframe tbody tr th {\n",
       "        vertical-align: top;\n",
       "    }\n",
       "\n",
       "    .dataframe thead th {\n",
       "        text-align: right;\n",
       "    }\n",
       "</style>\n",
       "<table border=\"1\" class=\"dataframe\">\n",
       "  <thead>\n",
       "    <tr style=\"text-align: right;\">\n",
       "      <th></th>\n",
       "      <th>car name</th>\n",
       "      <th>mpg</th>\n",
       "      <th>cyl</th>\n",
       "      <th>disp</th>\n",
       "      <th>hp</th>\n",
       "      <th>drat</th>\n",
       "      <th>wt</th>\n",
       "      <th>qsec</th>\n",
       "      <th>vs</th>\n",
       "      <th>am</th>\n",
       "      <th>gear</th>\n",
       "      <th>carb</th>\n",
       "    </tr>\n",
       "  </thead>\n",
       "  <tbody>\n",
       "    <tr>\n",
       "      <th>0</th>\n",
       "      <td>Mazda RX4</td>\n",
       "      <td>21.0</td>\n",
       "      <td>6</td>\n",
       "      <td>160.0</td>\n",
       "      <td>110</td>\n",
       "      <td>3.90</td>\n",
       "      <td>2.620</td>\n",
       "      <td>16.46</td>\n",
       "      <td>0</td>\n",
       "      <td>1</td>\n",
       "      <td>4</td>\n",
       "      <td>4</td>\n",
       "    </tr>\n",
       "    <tr>\n",
       "      <th>1</th>\n",
       "      <td>Mazda RX4 Wag</td>\n",
       "      <td>21.0</td>\n",
       "      <td>6</td>\n",
       "      <td>160.0</td>\n",
       "      <td>110</td>\n",
       "      <td>3.90</td>\n",
       "      <td>2.875</td>\n",
       "      <td>17.02</td>\n",
       "      <td>0</td>\n",
       "      <td>1</td>\n",
       "      <td>4</td>\n",
       "      <td>4</td>\n",
       "    </tr>\n",
       "    <tr>\n",
       "      <th>2</th>\n",
       "      <td>Datsun 710</td>\n",
       "      <td>22.8</td>\n",
       "      <td>4</td>\n",
       "      <td>108.0</td>\n",
       "      <td>93</td>\n",
       "      <td>3.85</td>\n",
       "      <td>2.320</td>\n",
       "      <td>18.61</td>\n",
       "      <td>1</td>\n",
       "      <td>1</td>\n",
       "      <td>4</td>\n",
       "      <td>1</td>\n",
       "    </tr>\n",
       "    <tr>\n",
       "      <th>3</th>\n",
       "      <td>Hornet 4 Drive</td>\n",
       "      <td>21.4</td>\n",
       "      <td>6</td>\n",
       "      <td>258.0</td>\n",
       "      <td>110</td>\n",
       "      <td>3.08</td>\n",
       "      <td>3.215</td>\n",
       "      <td>19.44</td>\n",
       "      <td>1</td>\n",
       "      <td>0</td>\n",
       "      <td>3</td>\n",
       "      <td>1</td>\n",
       "    </tr>\n",
       "    <tr>\n",
       "      <th>4</th>\n",
       "      <td>Hornet Sportabout</td>\n",
       "      <td>18.7</td>\n",
       "      <td>8</td>\n",
       "      <td>360.0</td>\n",
       "      <td>175</td>\n",
       "      <td>3.15</td>\n",
       "      <td>3.440</td>\n",
       "      <td>17.02</td>\n",
       "      <td>0</td>\n",
       "      <td>0</td>\n",
       "      <td>3</td>\n",
       "      <td>2</td>\n",
       "    </tr>\n",
       "  </tbody>\n",
       "</table>\n",
       "</div>"
      ],
      "text/plain": [
       "            car name   mpg  cyl   disp   hp  drat     wt   qsec  vs  am  gear  \\\n",
       "0          Mazda RX4  21.0    6  160.0  110  3.90  2.620  16.46   0   1     4   \n",
       "1      Mazda RX4 Wag  21.0    6  160.0  110  3.90  2.875  17.02   0   1     4   \n",
       "2         Datsun 710  22.8    4  108.0   93  3.85  2.320  18.61   1   1     4   \n",
       "3     Hornet 4 Drive  21.4    6  258.0  110  3.08  3.215  19.44   1   0     3   \n",
       "4  Hornet Sportabout  18.7    8  360.0  175  3.15  3.440  17.02   0   0     3   \n",
       "\n",
       "   carb  \n",
       "0     4  \n",
       "1     4  \n",
       "2     1  \n",
       "3     1  \n",
       "4     2  "
      ]
     },
     "execution_count": 28,
     "metadata": {},
     "output_type": "execute_result"
    }
   ],
   "source": [
    "dfcars=dfcars.rename(columns={\"Unnamed: 0\":\"car name\"})\n",
    "dfcars.head()"
   ]
  },
  {
   "cell_type": "markdown",
   "metadata": {},
   "source": [
    "### Dataframes and Series"
   ]
  },
  {
   "cell_type": "markdown",
   "metadata": {},
   "source": [
    "Now that we have our automobile data loaded as a dataframe, we'd like to be able to manipulate it and its series, say by calculating statistics and plotting distributions of features.  Fortunately, like arrays and other containers, dataframes and series are listy, so we can apply the list operations we already know to these new containers.  Below we explore our dataframe and its properties."
   ]
  },
  {
   "cell_type": "markdown",
   "metadata": {},
   "source": [
    "#### set length\n",
    "\n",
    " The attribute `shape` tells us the dimension of the dataframe, the number of rows and columns in the dataframe, `(rows, columns)`.  Somewhat strangely, but fairly usefully, (which is why the developers of Pandas probably did it ) the `len` function outputs the number of rows in the dataframe, not the number of columns as we'd expect based on how dataframes are built up from pandas series (columns).  "
   ]
  },
  {
   "cell_type": "code",
   "execution_count": 29,
   "metadata": {},
   "outputs": [
    {
     "name": "stdout",
     "output_type": "stream",
     "text": [
      "(32, 12)\n",
      "32\n",
      "32\n"
     ]
    }
   ],
   "source": [
    "print(dfcars.shape)     # 12 columns, each of length 32\n",
    "print(len(dfcars))      # the number of rows in the dataframe, also the length of a series\n",
    "print(len(dfcars.mpg))  # the length of a series"
   ]
  },
  {
   "cell_type": "markdown",
   "metadata": {},
   "source": [
    "#### iteration via loops\n",
    "\n",
    " One consequence of the column-wise construction of dataframes is that you cannot easily iterate over the rows of the dataframe.  Instead, we iterate over the columns, for example, by printing out the column names via a for loop."
   ]
  },
  {
   "cell_type": "code",
   "execution_count": 30,
   "metadata": {},
   "outputs": [
    {
     "name": "stdout",
     "output_type": "stream",
     "text": [
      "car name\n",
      "mpg\n",
      "cyl\n",
      "disp\n",
      "hp\n",
      "drat\n",
      "wt\n",
      "qsec\n",
      "vs\n",
      "am\n",
      "gear\n",
      "carb\n"
     ]
    }
   ],
   "source": [
    "for ele in dfcars: # iterating iterates over column names though, like a dictionary\n",
    "    print(ele)"
   ]
  },
  {
   "cell_type": "markdown",
   "metadata": {},
   "source": [
    "Or we can call the attribute `columns`.  Notice the `Index` in the output below. We'll return to this shortly. "
   ]
  },
  {
   "cell_type": "code",
   "execution_count": 31,
   "metadata": {},
   "outputs": [
    {
     "data": {
      "text/plain": [
       "Index(['car name', 'mpg', 'cyl', 'disp', 'hp', 'drat', 'wt', 'qsec', 'vs',\n",
       "       'am', 'gear', 'carb'],\n",
       "      dtype='object')"
      ]
     },
     "execution_count": 31,
     "metadata": {},
     "output_type": "execute_result"
    }
   ],
   "source": [
    "dfcars.columns"
   ]
  },
  {
   "cell_type": "markdown",
   "metadata": {},
   "source": [
    "We can iterate series in the same way that we iterate lists. Here we print out the number of cylinders for each of the 32 vehicles.  However, you shouldn't do this in general.  Try to use the built-in `pandas` methods."
   ]
  },
  {
   "cell_type": "code",
   "execution_count": 32,
   "metadata": {},
   "outputs": [
    {
     "name": "stdout",
     "output_type": "stream",
     "text": [
      "6\n",
      "6\n",
      "4\n",
      "6\n",
      "8\n",
      "6\n",
      "8\n",
      "4\n",
      "4\n",
      "6\n",
      "6\n",
      "8\n",
      "8\n",
      "8\n",
      "8\n",
      "8\n",
      "8\n",
      "4\n",
      "4\n",
      "4\n",
      "4\n",
      "8\n",
      "8\n",
      "8\n",
      "8\n",
      "4\n",
      "4\n",
      "4\n",
      "8\n",
      "6\n",
      "8\n",
      "4\n"
     ]
    }
   ],
   "source": [
    "for ele in dfcars.cyl:\n",
    "    print(ele)"
   ]
  },
  {
   "cell_type": "markdown",
   "metadata": {},
   "source": [
    "How do you iterate over rows?  Dataframes are put together column-by-column and you should be able to write code which never requires iteration over rows. But if you still find a need to iterate over rows, you can do it using `itertuples`.  See the documentation.  \n",
    "\n",
    "**In general direct iteration through pandas series/dataframes is a bad idea.**\n",
    "\n",
    "Instead, you should manipulate dataframes and series with `pandas` methods which are written to be very fast (i.e. they access series and dataframes at the `C` level)."
   ]
  },
  {
   "cell_type": "markdown",
   "metadata": {},
   "source": [
    "#### slicing\n",
    "\n",
    "Let's see how indexing works in dataframes.  Like lists in `python`, dataframes and series are zero-indexed."
   ]
  },
  {
   "cell_type": "code",
   "execution_count": 33,
   "metadata": {},
   "outputs": [
    {
     "data": {
      "text/html": [
       "<div>\n",
       "<style scoped>\n",
       "    .dataframe tbody tr th:only-of-type {\n",
       "        vertical-align: middle;\n",
       "    }\n",
       "\n",
       "    .dataframe tbody tr th {\n",
       "        vertical-align: top;\n",
       "    }\n",
       "\n",
       "    .dataframe thead th {\n",
       "        text-align: right;\n",
       "    }\n",
       "</style>\n",
       "<table border=\"1\" class=\"dataframe\">\n",
       "  <thead>\n",
       "    <tr style=\"text-align: right;\">\n",
       "      <th></th>\n",
       "      <th>car name</th>\n",
       "      <th>mpg</th>\n",
       "      <th>cyl</th>\n",
       "      <th>disp</th>\n",
       "      <th>hp</th>\n",
       "      <th>drat</th>\n",
       "      <th>wt</th>\n",
       "      <th>qsec</th>\n",
       "      <th>vs</th>\n",
       "      <th>am</th>\n",
       "      <th>gear</th>\n",
       "      <th>carb</th>\n",
       "    </tr>\n",
       "  </thead>\n",
       "  <tbody>\n",
       "    <tr>\n",
       "      <th>0</th>\n",
       "      <td>Mazda RX4</td>\n",
       "      <td>21.0</td>\n",
       "      <td>6</td>\n",
       "      <td>160.0</td>\n",
       "      <td>110</td>\n",
       "      <td>3.90</td>\n",
       "      <td>2.620</td>\n",
       "      <td>16.46</td>\n",
       "      <td>0</td>\n",
       "      <td>1</td>\n",
       "      <td>4</td>\n",
       "      <td>4</td>\n",
       "    </tr>\n",
       "    <tr>\n",
       "      <th>1</th>\n",
       "      <td>Mazda RX4 Wag</td>\n",
       "      <td>21.0</td>\n",
       "      <td>6</td>\n",
       "      <td>160.0</td>\n",
       "      <td>110</td>\n",
       "      <td>3.90</td>\n",
       "      <td>2.875</td>\n",
       "      <td>17.02</td>\n",
       "      <td>0</td>\n",
       "      <td>1</td>\n",
       "      <td>4</td>\n",
       "      <td>4</td>\n",
       "    </tr>\n",
       "    <tr>\n",
       "      <th>2</th>\n",
       "      <td>Datsun 710</td>\n",
       "      <td>22.8</td>\n",
       "      <td>4</td>\n",
       "      <td>108.0</td>\n",
       "      <td>93</td>\n",
       "      <td>3.85</td>\n",
       "      <td>2.320</td>\n",
       "      <td>18.61</td>\n",
       "      <td>1</td>\n",
       "      <td>1</td>\n",
       "      <td>4</td>\n",
       "      <td>1</td>\n",
       "    </tr>\n",
       "    <tr>\n",
       "      <th>3</th>\n",
       "      <td>Hornet 4 Drive</td>\n",
       "      <td>21.4</td>\n",
       "      <td>6</td>\n",
       "      <td>258.0</td>\n",
       "      <td>110</td>\n",
       "      <td>3.08</td>\n",
       "      <td>3.215</td>\n",
       "      <td>19.44</td>\n",
       "      <td>1</td>\n",
       "      <td>0</td>\n",
       "      <td>3</td>\n",
       "      <td>1</td>\n",
       "    </tr>\n",
       "    <tr>\n",
       "      <th>4</th>\n",
       "      <td>Hornet Sportabout</td>\n",
       "      <td>18.7</td>\n",
       "      <td>8</td>\n",
       "      <td>360.0</td>\n",
       "      <td>175</td>\n",
       "      <td>3.15</td>\n",
       "      <td>3.440</td>\n",
       "      <td>17.02</td>\n",
       "      <td>0</td>\n",
       "      <td>0</td>\n",
       "      <td>3</td>\n",
       "      <td>2</td>\n",
       "    </tr>\n",
       "  </tbody>\n",
       "</table>\n",
       "</div>"
      ],
      "text/plain": [
       "            car name   mpg  cyl   disp   hp  drat     wt   qsec  vs  am  gear  \\\n",
       "0          Mazda RX4  21.0    6  160.0  110  3.90  2.620  16.46   0   1     4   \n",
       "1      Mazda RX4 Wag  21.0    6  160.0  110  3.90  2.875  17.02   0   1     4   \n",
       "2         Datsun 710  22.8    4  108.0   93  3.85  2.320  18.61   1   1     4   \n",
       "3     Hornet 4 Drive  21.4    6  258.0  110  3.08  3.215  19.44   1   0     3   \n",
       "4  Hornet Sportabout  18.7    8  360.0  175  3.15  3.440  17.02   0   0     3   \n",
       "\n",
       "   carb  \n",
       "0     4  \n",
       "1     4  \n",
       "2     1  \n",
       "3     1  \n",
       "4     2  "
      ]
     },
     "execution_count": 33,
     "metadata": {},
     "output_type": "execute_result"
    }
   ],
   "source": [
    "dfcars.head()"
   ]
  },
  {
   "cell_type": "code",
   "execution_count": 34,
   "metadata": {},
   "outputs": [
    {
     "name": "stdout",
     "output_type": "stream",
     "text": [
      "[0, 1, 2, 3, 4, 5, 6, 7, 8, 9, 10, 11, 12, 13, 14, 15, 16, 17, 18, 19, 20, 21, 22, 23, 24, 25, 26, 27, 28, 29, 30, 31]\n"
     ]
    },
    {
     "data": {
      "text/plain": [
       "RangeIndex(start=0, stop=32, step=1)"
      ]
     },
     "execution_count": 34,
     "metadata": {},
     "output_type": "execute_result"
    }
   ],
   "source": [
    "# index for the dataframe\n",
    "print(list(dfcars.index))\n",
    "\n",
    "# index for the cyl series\n",
    "dfcars.cyl.index"
   ]
  },
  {
   "cell_type": "markdown",
   "metadata": {},
   "source": [
    "There are two ways to index dataframes:\n",
    "1. the `loc` property indexes by label name\n",
    "2. the `iloc` indexes by position in the index.\n",
    "\n",
    "We'll illustrate this with a slightly modified version of `dfcars`, created by relabeling the row indices of `dfcars` to start at $5$ instead of $0$."
   ]
  },
  {
   "cell_type": "code",
   "execution_count": 35,
   "metadata": {},
   "outputs": [
    {
     "data": {
      "text/html": [
       "<div>\n",
       "<style scoped>\n",
       "    .dataframe tbody tr th:only-of-type {\n",
       "        vertical-align: middle;\n",
       "    }\n",
       "\n",
       "    .dataframe tbody tr th {\n",
       "        vertical-align: top;\n",
       "    }\n",
       "\n",
       "    .dataframe thead th {\n",
       "        text-align: right;\n",
       "    }\n",
       "</style>\n",
       "<table border=\"1\" class=\"dataframe\">\n",
       "  <thead>\n",
       "    <tr style=\"text-align: right;\">\n",
       "      <th></th>\n",
       "      <th>car name</th>\n",
       "      <th>mpg</th>\n",
       "      <th>cyl</th>\n",
       "      <th>disp</th>\n",
       "      <th>hp</th>\n",
       "      <th>drat</th>\n",
       "      <th>wt</th>\n",
       "      <th>qsec</th>\n",
       "      <th>vs</th>\n",
       "      <th>am</th>\n",
       "      <th>gear</th>\n",
       "      <th>carb</th>\n",
       "    </tr>\n",
       "  </thead>\n",
       "  <tbody>\n",
       "    <tr>\n",
       "      <th>5</th>\n",
       "      <td>Valiant</td>\n",
       "      <td>18.1</td>\n",
       "      <td>6.0</td>\n",
       "      <td>225.0</td>\n",
       "      <td>105.0</td>\n",
       "      <td>2.76</td>\n",
       "      <td>3.46</td>\n",
       "      <td>20.22</td>\n",
       "      <td>1.0</td>\n",
       "      <td>0.0</td>\n",
       "      <td>3.0</td>\n",
       "      <td>1.0</td>\n",
       "    </tr>\n",
       "    <tr>\n",
       "      <th>6</th>\n",
       "      <td>Duster 360</td>\n",
       "      <td>14.3</td>\n",
       "      <td>8.0</td>\n",
       "      <td>360.0</td>\n",
       "      <td>245.0</td>\n",
       "      <td>3.21</td>\n",
       "      <td>3.57</td>\n",
       "      <td>15.84</td>\n",
       "      <td>0.0</td>\n",
       "      <td>0.0</td>\n",
       "      <td>3.0</td>\n",
       "      <td>4.0</td>\n",
       "    </tr>\n",
       "    <tr>\n",
       "      <th>7</th>\n",
       "      <td>Merc 240D</td>\n",
       "      <td>24.4</td>\n",
       "      <td>4.0</td>\n",
       "      <td>146.7</td>\n",
       "      <td>62.0</td>\n",
       "      <td>3.69</td>\n",
       "      <td>3.19</td>\n",
       "      <td>20.00</td>\n",
       "      <td>1.0</td>\n",
       "      <td>0.0</td>\n",
       "      <td>4.0</td>\n",
       "      <td>2.0</td>\n",
       "    </tr>\n",
       "    <tr>\n",
       "      <th>8</th>\n",
       "      <td>Merc 230</td>\n",
       "      <td>22.8</td>\n",
       "      <td>4.0</td>\n",
       "      <td>140.8</td>\n",
       "      <td>95.0</td>\n",
       "      <td>3.92</td>\n",
       "      <td>3.15</td>\n",
       "      <td>22.90</td>\n",
       "      <td>1.0</td>\n",
       "      <td>0.0</td>\n",
       "      <td>4.0</td>\n",
       "      <td>2.0</td>\n",
       "    </tr>\n",
       "    <tr>\n",
       "      <th>9</th>\n",
       "      <td>Merc 280</td>\n",
       "      <td>19.2</td>\n",
       "      <td>6.0</td>\n",
       "      <td>167.6</td>\n",
       "      <td>123.0</td>\n",
       "      <td>3.92</td>\n",
       "      <td>3.44</td>\n",
       "      <td>18.30</td>\n",
       "      <td>1.0</td>\n",
       "      <td>0.0</td>\n",
       "      <td>4.0</td>\n",
       "      <td>4.0</td>\n",
       "    </tr>\n",
       "  </tbody>\n",
       "</table>\n",
       "</div>"
      ],
      "text/plain": [
       "     car name   mpg  cyl   disp     hp  drat    wt   qsec   vs   am  gear  \\\n",
       "5     Valiant  18.1  6.0  225.0  105.0  2.76  3.46  20.22  1.0  0.0   3.0   \n",
       "6  Duster 360  14.3  8.0  360.0  245.0  3.21  3.57  15.84  0.0  0.0   3.0   \n",
       "7   Merc 240D  24.4  4.0  146.7   62.0  3.69  3.19  20.00  1.0  0.0   4.0   \n",
       "8    Merc 230  22.8  4.0  140.8   95.0  3.92  3.15  22.90  1.0  0.0   4.0   \n",
       "9    Merc 280  19.2  6.0  167.6  123.0  3.92  3.44  18.30  1.0  0.0   4.0   \n",
       "\n",
       "   carb  \n",
       "5   1.0  \n",
       "6   4.0  \n",
       "7   2.0  \n",
       "8   2.0  \n",
       "9   4.0  "
      ]
     },
     "execution_count": 35,
     "metadata": {},
     "output_type": "execute_result"
    }
   ],
   "source": [
    "# create values from 5 to 36\n",
    "new_index = [i+5 for i in range(32)]\n",
    "\n",
    "# new dataframe with indexed rows from 5 to 36\n",
    "dfcars_reindex = dfcars.reindex(new_index)\n",
    "dfcars_reindex.head()"
   ]
  },
  {
   "cell_type": "markdown",
   "metadata": {},
   "source": [
    "We now return the first three rows of `dfcars_reindex` in two different ways, first with `iloc` and then with `loc`. \n",
    "\n",
    "With `iloc` we use the command,"
   ]
  },
  {
   "cell_type": "code",
   "execution_count": 36,
   "metadata": {},
   "outputs": [
    {
     "data": {
      "text/html": [
       "<div>\n",
       "<style scoped>\n",
       "    .dataframe tbody tr th:only-of-type {\n",
       "        vertical-align: middle;\n",
       "    }\n",
       "\n",
       "    .dataframe tbody tr th {\n",
       "        vertical-align: top;\n",
       "    }\n",
       "\n",
       "    .dataframe thead th {\n",
       "        text-align: right;\n",
       "    }\n",
       "</style>\n",
       "<table border=\"1\" class=\"dataframe\">\n",
       "  <thead>\n",
       "    <tr style=\"text-align: right;\">\n",
       "      <th></th>\n",
       "      <th>car name</th>\n",
       "      <th>mpg</th>\n",
       "      <th>cyl</th>\n",
       "      <th>disp</th>\n",
       "      <th>hp</th>\n",
       "      <th>drat</th>\n",
       "      <th>wt</th>\n",
       "      <th>qsec</th>\n",
       "      <th>vs</th>\n",
       "      <th>am</th>\n",
       "      <th>gear</th>\n",
       "      <th>carb</th>\n",
       "    </tr>\n",
       "  </thead>\n",
       "  <tbody>\n",
       "    <tr>\n",
       "      <th>5</th>\n",
       "      <td>Valiant</td>\n",
       "      <td>18.1</td>\n",
       "      <td>6.0</td>\n",
       "      <td>225.0</td>\n",
       "      <td>105.0</td>\n",
       "      <td>2.76</td>\n",
       "      <td>3.46</td>\n",
       "      <td>20.22</td>\n",
       "      <td>1.0</td>\n",
       "      <td>0.0</td>\n",
       "      <td>3.0</td>\n",
       "      <td>1.0</td>\n",
       "    </tr>\n",
       "    <tr>\n",
       "      <th>6</th>\n",
       "      <td>Duster 360</td>\n",
       "      <td>14.3</td>\n",
       "      <td>8.0</td>\n",
       "      <td>360.0</td>\n",
       "      <td>245.0</td>\n",
       "      <td>3.21</td>\n",
       "      <td>3.57</td>\n",
       "      <td>15.84</td>\n",
       "      <td>0.0</td>\n",
       "      <td>0.0</td>\n",
       "      <td>3.0</td>\n",
       "      <td>4.0</td>\n",
       "    </tr>\n",
       "    <tr>\n",
       "      <th>7</th>\n",
       "      <td>Merc 240D</td>\n",
       "      <td>24.4</td>\n",
       "      <td>4.0</td>\n",
       "      <td>146.7</td>\n",
       "      <td>62.0</td>\n",
       "      <td>3.69</td>\n",
       "      <td>3.19</td>\n",
       "      <td>20.00</td>\n",
       "      <td>1.0</td>\n",
       "      <td>0.0</td>\n",
       "      <td>4.0</td>\n",
       "      <td>2.0</td>\n",
       "    </tr>\n",
       "  </tbody>\n",
       "</table>\n",
       "</div>"
      ],
      "text/plain": [
       "     car name   mpg  cyl   disp     hp  drat    wt   qsec   vs   am  gear  \\\n",
       "5     Valiant  18.1  6.0  225.0  105.0  2.76  3.46  20.22  1.0  0.0   3.0   \n",
       "6  Duster 360  14.3  8.0  360.0  245.0  3.21  3.57  15.84  0.0  0.0   3.0   \n",
       "7   Merc 240D  24.4  4.0  146.7   62.0  3.69  3.19  20.00  1.0  0.0   4.0   \n",
       "\n",
       "   carb  \n",
       "5   1.0  \n",
       "6   4.0  \n",
       "7   2.0  "
      ]
     },
     "execution_count": 36,
     "metadata": {},
     "output_type": "execute_result"
    }
   ],
   "source": [
    "dfcars_reindex.iloc[0:3]"
   ]
  },
  {
   "cell_type": "markdown",
   "metadata": {},
   "source": [
    "since `iloc` uses the position in the index. Notice that the argument `0:3` with `iloc` returns the first three rows of the dataframe, which have label names 5, 6, and 7. \n",
    "\n",
    "To access the same rows with `loc`, we write,"
   ]
  },
  {
   "cell_type": "code",
   "execution_count": 38,
   "metadata": {},
   "outputs": [
    {
     "data": {
      "text/html": [
       "<div>\n",
       "<style scoped>\n",
       "    .dataframe tbody tr th:only-of-type {\n",
       "        vertical-align: middle;\n",
       "    }\n",
       "\n",
       "    .dataframe tbody tr th {\n",
       "        vertical-align: top;\n",
       "    }\n",
       "\n",
       "    .dataframe thead th {\n",
       "        text-align: right;\n",
       "    }\n",
       "</style>\n",
       "<table border=\"1\" class=\"dataframe\">\n",
       "  <thead>\n",
       "    <tr style=\"text-align: right;\">\n",
       "      <th></th>\n",
       "      <th>car name</th>\n",
       "      <th>mpg</th>\n",
       "      <th>cyl</th>\n",
       "      <th>disp</th>\n",
       "      <th>hp</th>\n",
       "      <th>drat</th>\n",
       "      <th>wt</th>\n",
       "      <th>qsec</th>\n",
       "      <th>vs</th>\n",
       "      <th>am</th>\n",
       "      <th>gear</th>\n",
       "      <th>carb</th>\n",
       "    </tr>\n",
       "  </thead>\n",
       "  <tbody>\n",
       "    <tr>\n",
       "      <th>5</th>\n",
       "      <td>Valiant</td>\n",
       "      <td>18.1</td>\n",
       "      <td>6.0</td>\n",
       "      <td>225.0</td>\n",
       "      <td>105.0</td>\n",
       "      <td>2.76</td>\n",
       "      <td>3.46</td>\n",
       "      <td>20.22</td>\n",
       "      <td>1.0</td>\n",
       "      <td>0.0</td>\n",
       "      <td>3.0</td>\n",
       "      <td>1.0</td>\n",
       "    </tr>\n",
       "    <tr>\n",
       "      <th>6</th>\n",
       "      <td>Duster 360</td>\n",
       "      <td>14.3</td>\n",
       "      <td>8.0</td>\n",
       "      <td>360.0</td>\n",
       "      <td>245.0</td>\n",
       "      <td>3.21</td>\n",
       "      <td>3.57</td>\n",
       "      <td>15.84</td>\n",
       "      <td>0.0</td>\n",
       "      <td>0.0</td>\n",
       "      <td>3.0</td>\n",
       "      <td>4.0</td>\n",
       "    </tr>\n",
       "    <tr>\n",
       "      <th>7</th>\n",
       "      <td>Merc 240D</td>\n",
       "      <td>24.4</td>\n",
       "      <td>4.0</td>\n",
       "      <td>146.7</td>\n",
       "      <td>62.0</td>\n",
       "      <td>3.69</td>\n",
       "      <td>3.19</td>\n",
       "      <td>20.00</td>\n",
       "      <td>1.0</td>\n",
       "      <td>0.0</td>\n",
       "      <td>4.0</td>\n",
       "      <td>2.0</td>\n",
       "    </tr>\n",
       "  </tbody>\n",
       "</table>\n",
       "</div>"
      ],
      "text/plain": [
       "     car name   mpg  cyl   disp     hp  drat    wt   qsec   vs   am  gear  \\\n",
       "5     Valiant  18.1  6.0  225.0  105.0  2.76  3.46  20.22  1.0  0.0   3.0   \n",
       "6  Duster 360  14.3  8.0  360.0  245.0  3.21  3.57  15.84  0.0  0.0   3.0   \n",
       "7   Merc 240D  24.4  4.0  146.7   62.0  3.69  3.19  20.00  1.0  0.0   4.0   \n",
       "\n",
       "   carb  \n",
       "5   1.0  \n",
       "6   4.0  \n",
       "7   2.0  "
      ]
     },
     "execution_count": 38,
     "metadata": {},
     "output_type": "execute_result"
    }
   ],
   "source": [
    "dfcars_reindex.loc[5:7] # or dfcars_reindex.loc[0:7]"
   ]
  },
  {
   "cell_type": "markdown",
   "metadata": {},
   "source": [
    "since `loc` indexes via the label name.  \n",
    "\n",
    "Here's another example where we return three rows of `dfcars_reindex` that correspond to column attributes `mpg`, `cyl`, and `disp`.  First do it with `iloc`:"
   ]
  },
  {
   "cell_type": "code",
   "execution_count": 39,
   "metadata": {},
   "outputs": [
    {
     "data": {
      "text/html": [
       "<div>\n",
       "<style scoped>\n",
       "    .dataframe tbody tr th:only-of-type {\n",
       "        vertical-align: middle;\n",
       "    }\n",
       "\n",
       "    .dataframe tbody tr th {\n",
       "        vertical-align: top;\n",
       "    }\n",
       "\n",
       "    .dataframe thead th {\n",
       "        text-align: right;\n",
       "    }\n",
       "</style>\n",
       "<table border=\"1\" class=\"dataframe\">\n",
       "  <thead>\n",
       "    <tr style=\"text-align: right;\">\n",
       "      <th></th>\n",
       "      <th>mpg</th>\n",
       "      <th>cyl</th>\n",
       "      <th>disp</th>\n",
       "    </tr>\n",
       "  </thead>\n",
       "  <tbody>\n",
       "    <tr>\n",
       "      <th>7</th>\n",
       "      <td>24.4</td>\n",
       "      <td>4.0</td>\n",
       "      <td>146.7</td>\n",
       "    </tr>\n",
       "    <tr>\n",
       "      <th>8</th>\n",
       "      <td>22.8</td>\n",
       "      <td>4.0</td>\n",
       "      <td>140.8</td>\n",
       "    </tr>\n",
       "    <tr>\n",
       "      <th>9</th>\n",
       "      <td>19.2</td>\n",
       "      <td>6.0</td>\n",
       "      <td>167.6</td>\n",
       "    </tr>\n",
       "  </tbody>\n",
       "</table>\n",
       "</div>"
      ],
      "text/plain": [
       "    mpg  cyl   disp\n",
       "7  24.4  4.0  146.7\n",
       "8  22.8  4.0  140.8\n",
       "9  19.2  6.0  167.6"
      ]
     },
     "execution_count": 39,
     "metadata": {},
     "output_type": "execute_result"
    }
   ],
   "source": [
    "dfcars_reindex.iloc[2:5, 1:4]"
   ]
  },
  {
   "cell_type": "markdown",
   "metadata": {},
   "source": [
    "Notice that rows we're accessing, 2, 3, and 4, have label names 7, 8, and 9, and the columns we're accessing, 1, 2, and 3, have label names `mpg`, `cyl`, and `disp`.  So for both rows and columns, we're accessing elements of the dataframe using the integer position indices.  Now let's do it with `loc`:"
   ]
  },
  {
   "cell_type": "code",
   "execution_count": 40,
   "metadata": {},
   "outputs": [
    {
     "data": {
      "text/html": [
       "<div>\n",
       "<style scoped>\n",
       "    .dataframe tbody tr th:only-of-type {\n",
       "        vertical-align: middle;\n",
       "    }\n",
       "\n",
       "    .dataframe tbody tr th {\n",
       "        vertical-align: top;\n",
       "    }\n",
       "\n",
       "    .dataframe thead th {\n",
       "        text-align: right;\n",
       "    }\n",
       "</style>\n",
       "<table border=\"1\" class=\"dataframe\">\n",
       "  <thead>\n",
       "    <tr style=\"text-align: right;\">\n",
       "      <th></th>\n",
       "      <th>mpg</th>\n",
       "      <th>cyl</th>\n",
       "      <th>disp</th>\n",
       "    </tr>\n",
       "  </thead>\n",
       "  <tbody>\n",
       "    <tr>\n",
       "      <th>7</th>\n",
       "      <td>24.4</td>\n",
       "      <td>4.0</td>\n",
       "      <td>146.7</td>\n",
       "    </tr>\n",
       "    <tr>\n",
       "      <th>8</th>\n",
       "      <td>22.8</td>\n",
       "      <td>4.0</td>\n",
       "      <td>140.8</td>\n",
       "    </tr>\n",
       "    <tr>\n",
       "      <th>9</th>\n",
       "      <td>19.2</td>\n",
       "      <td>6.0</td>\n",
       "      <td>167.6</td>\n",
       "    </tr>\n",
       "  </tbody>\n",
       "</table>\n",
       "</div>"
      ],
      "text/plain": [
       "    mpg  cyl   disp\n",
       "7  24.4  4.0  146.7\n",
       "8  22.8  4.0  140.8\n",
       "9  19.2  6.0  167.6"
      ]
     },
     "execution_count": 40,
     "metadata": {},
     "output_type": "execute_result"
    }
   ],
   "source": [
    "dfcars_reindex.loc[7:9, ['mpg', 'cyl', 'disp']]"
   ]
  },
  {
   "cell_type": "markdown",
   "metadata": {},
   "source": [
    "We don't have to remember that `disp` is the third column of the dataframe --- we can simply access it with `loc` using the label name `disp`. \n",
    "\n",
    "Generally we prefer `iloc` for indexing rows and `loc` for indexing columns. "
   ]
  },
  {
   "cell_type": "markdown",
   "metadata": {},
   "source": [
    "<div class=\"exercise\"><b>Exercise (to do at home)</b></div>\n",
    "In this exercise you'll examine the documentation to generate a toy dataframe from scratch.  Go to the documentation and click on \"10 minutes to pandas\" in the table of contents.  Then do the following:\n",
    "\n",
    ">1.  Create a series called `column_1` with entries 0, 1, 2, 3.\n",
    "\n",
    ">2.  Create a second series called `column_2` with entries 4, 5, 6, 7.\n",
    "\n",
    ">3.  Glue these series into a dataframe called `table`, where the first and second labelled column of the dataframe are `column_1` and `column_2`, respectively.  In the dataframe, `column_1` should be indexed as `col_1` and `column_2` should be indexed as `col_2`.\n",
    "\n",
    ">4. Oops!  You've changed your mind about the index labels for the columns.  Use `rename` to rename `col_1` as `Col_1` and `col_2` as `Col_2`.  \n",
    "\n",
    "> *Stretch*: Can you figure out how to rename the row indexes?  Try to rename `0` as `zero`, `1` as `one`, and so on."
   ]
  },
  {
   "cell_type": "code",
   "execution_count": 44,
   "metadata": {},
   "outputs": [
    {
     "data": {
      "text/html": [
       "<div>\n",
       "<style scoped>\n",
       "    .dataframe tbody tr th:only-of-type {\n",
       "        vertical-align: middle;\n",
       "    }\n",
       "\n",
       "    .dataframe tbody tr th {\n",
       "        vertical-align: top;\n",
       "    }\n",
       "\n",
       "    .dataframe thead th {\n",
       "        text-align: right;\n",
       "    }\n",
       "</style>\n",
       "<table border=\"1\" class=\"dataframe\">\n",
       "  <thead>\n",
       "    <tr style=\"text-align: right;\">\n",
       "      <th></th>\n",
       "      <th>Col_1</th>\n",
       "      <th>Col_2</th>\n",
       "    </tr>\n",
       "  </thead>\n",
       "  <tbody>\n",
       "    <tr>\n",
       "      <th>0</th>\n",
       "      <td>0</td>\n",
       "      <td>4</td>\n",
       "    </tr>\n",
       "    <tr>\n",
       "      <th>1</th>\n",
       "      <td>1</td>\n",
       "      <td>5</td>\n",
       "    </tr>\n",
       "    <tr>\n",
       "      <th>2</th>\n",
       "      <td>2</td>\n",
       "      <td>6</td>\n",
       "    </tr>\n",
       "    <tr>\n",
       "      <th>3</th>\n",
       "      <td>3</td>\n",
       "      <td>7</td>\n",
       "    </tr>\n",
       "  </tbody>\n",
       "</table>\n",
       "</div>"
      ],
      "text/plain": [
       "   Col_1  Col_2\n",
       "0      0      4\n",
       "1      1      5\n",
       "2      2      6\n",
       "3      3      7"
      ]
     },
     "execution_count": 44,
     "metadata": {},
     "output_type": "execute_result"
    }
   ],
   "source": [
    "# your code here\n",
    "d = {'Col_1': [0, 1, 2, 3], 'Col_2': [4, 5, 6, 7]}\n",
    "table = pd.DataFrame(data=d)\n",
    "table\n"
   ]
  },
  {
   "cell_type": "markdown",
   "metadata": {},
   "source": [
    "### Reading `json` into `pandas` dataframe"
   ]
  },
  {
   "cell_type": "markdown",
   "metadata": {},
   "source": [
    "Before moving on, there is one more convenient thing to discuss.\n",
    "\n",
    "Hopefully you remember reading and writing data to `json` files from earlier in the lab.\n",
    "\n",
    "Now that you're equipped with `pandas`, we can discuss reading `json` data into `pandas` dataframes!\n",
    "\n",
    "Recall that we saved a `json` file earlier called `dog_shelter_info.txt`.  Let's load it up, convert it to a `pandas` dataframe, and take a look."
   ]
  },
  {
   "cell_type": "code",
   "execution_count": 43,
   "metadata": {},
   "outputs": [
    {
     "name": "stdout",
     "output_type": "stream",
     "text": [
      "{\"dog1\": {\"name\": \"Cloe\", \"age\": 3, \"breed\": \"Border Collie\", \"playgroup\": \"Yes\"}, \"dog2\": {\"name\": \"Karl\", \"age\": 7, \"breed\": \"Beagle\", \"playgroup\": \"Yes\"}}\n"
     ]
    },
    {
     "data": {
      "text/html": [
       "<div>\n",
       "<style scoped>\n",
       "    .dataframe tbody tr th:only-of-type {\n",
       "        vertical-align: middle;\n",
       "    }\n",
       "\n",
       "    .dataframe tbody tr th {\n",
       "        vertical-align: top;\n",
       "    }\n",
       "\n",
       "    .dataframe thead th {\n",
       "        text-align: right;\n",
       "    }\n",
       "</style>\n",
       "<table border=\"1\" class=\"dataframe\">\n",
       "  <thead>\n",
       "    <tr style=\"text-align: right;\">\n",
       "      <th></th>\n",
       "      <th>dog1</th>\n",
       "      <th>dog2</th>\n",
       "    </tr>\n",
       "  </thead>\n",
       "  <tbody>\n",
       "    <tr>\n",
       "      <th>age</th>\n",
       "      <td>3</td>\n",
       "      <td>7</td>\n",
       "    </tr>\n",
       "    <tr>\n",
       "      <th>breed</th>\n",
       "      <td>Border Collie</td>\n",
       "      <td>Beagle</td>\n",
       "    </tr>\n",
       "    <tr>\n",
       "      <th>name</th>\n",
       "      <td>Cloe</td>\n",
       "      <td>Karl</td>\n",
       "    </tr>\n",
       "    <tr>\n",
       "      <th>playgroup</th>\n",
       "      <td>Yes</td>\n",
       "      <td>Yes</td>\n",
       "    </tr>\n",
       "  </tbody>\n",
       "</table>\n",
       "</div>"
      ],
      "text/plain": [
       "                    dog1    dog2\n",
       "age                    3       7\n",
       "breed      Border Collie  Beagle\n",
       "name                Cloe    Karl\n",
       "playgroup            Yes     Yes"
      ]
     },
     "execution_count": 43,
     "metadata": {},
     "output_type": "execute_result"
    }
   ],
   "source": [
    "# Load dog shelter data\n",
    "with open('dog_shelter_info.txt', 'r') as f:\n",
    "    dog_data = json.load(f)\n",
    "\n",
    "dog_data_json_str = json.dumps(dog_data) # Convert data to json string\n",
    "print(dog_data_json_str)\n",
    "df = pd.read_json(dog_data_json_str) # Convert to pandas dataframe\n",
    "df.head() # Look at data"
   ]
  },
  {
   "cell_type": "markdown",
   "metadata": {},
   "source": [
    "#### Recap\n",
    "\n",
    "At this point, you have:\n",
    "* Refreshed your `python` knowledge\n",
    "* Learned about basic `python` I/O\n",
    "* Learned basic text processing with `python` string methods\n",
    "* Learned advanced text processing with regular expressions\n",
    "* Learned a little bit about the `json` format\n",
    "* Become proficient with `pandas`\n",
    "\n",
    "The last part of this lab will focus on working with even uglier data formats.  Specifically, we will look at parsing data from a web page.  Fortunately, there is a wonderful library out there that makes life much easier in this regard.  It is called *BeautifulSoup*."
   ]
  },
  {
   "cell_type": "markdown",
   "metadata": {},
   "source": [
    "##  Part 11: Beautiful Soup \n",
    "Data Engineering, the process of gathering and preparing data for analysis, is a very big part of Data Science.\n",
    "\n",
    "Datasets might not be formatted in the way you need (e.g. you have categorical features but your algorithm requires numerical features); or you might need to cross-reference some dataset to another that has a different format; or you might be dealing with a dataset that contains missing or invalid data.\n",
    "\n",
    "These are just a few examples of why data retrieval and cleaning are so important.\n",
    "\n",
    "---"
   ]
  },
  {
   "cell_type": "markdown",
   "metadata": {},
   "source": [
    "### `requests`:  Retrieving Data from the Web"
   ]
  },
  {
   "cell_type": "markdown",
   "metadata": {},
   "source": [
    "`Python` has many built-in libraries that were developed over the years to retrieve data from the Internet (e.g. `urllib`, `urllib2`, `urllib3`).\n",
    "\n",
    "However, these libraries are very low-level and somewhat hard to use. They become especially cumbersome when you need to issue POST requests or authenticate against a web service.\n",
    "\n",
    "Luckily, as with most tasks in `Python`, someone has developed a library that simplifies these tasks. In reality, the requests made on this lab are fairly simple, and could easily be done using one of the built-in libraries. However, it is better to get acquainted with `requests` as soon as possible, since you will probably need it in the future."
   ]
  },
  {
   "cell_type": "code",
   "execution_count": 33,
   "metadata": {},
   "outputs": [],
   "source": [
    "# You tell Python that you want to use a library with the import statement.\n",
    "import requests"
   ]
  },
  {
   "cell_type": "markdown",
   "metadata": {},
   "source": [
    "Now that the requests library was imported into our namespace, we can use the functions offered by it.\n",
    "\n",
    "In this case we'll use the appropriately named `get` function to issue a *GET* request. This is equivalent to typing a URL into your browser and hitting enter."
   ]
  },
  {
   "cell_type": "code",
   "execution_count": 34,
   "metadata": {},
   "outputs": [],
   "source": [
    "# Get the HU Wikipedia page\n",
    "req = requests.get(\"https://en.wikipedia.org/wiki/Harvard_University\")"
   ]
  },
  {
   "cell_type": "markdown",
   "metadata": {},
   "source": [
    "Python is an Object Oriented language, and everything on it is an object. Even built-in functions such as `len` are just syntactic sugar for acting on object properties.\n",
    "\n",
    "We will not dwell too long on OO concepts, but some of Python's idiosyncrasies will be easier to understand if we spend a few minutes on this subject.\n",
    "\n",
    "When you evaluate an object itself, such as the `req` object we created above, Python will automatially call the `__str__()` or `__repr__()` method of that object. The default values for these methods are usually very simple and boring. The `req` object however has a custom implementation that shows the object type (i.e. `Response`) and the HTTP status number (200 means the request was successful)."
   ]
  },
  {
   "cell_type": "code",
   "execution_count": 35,
   "metadata": {},
   "outputs": [
    {
     "data": {
      "text/plain": [
       "<Response [200]>"
      ]
     },
     "execution_count": 35,
     "metadata": {},
     "output_type": "execute_result"
    }
   ],
   "source": [
    "req"
   ]
  },
  {
   "cell_type": "markdown",
   "metadata": {},
   "source": [
    "Just to confirm, we will call the `type` function on the object to make sure it agrees with the value above."
   ]
  },
  {
   "cell_type": "code",
   "execution_count": 36,
   "metadata": {},
   "outputs": [
    {
     "data": {
      "text/plain": [
       "requests.models.Response"
      ]
     },
     "execution_count": 36,
     "metadata": {},
     "output_type": "execute_result"
    }
   ],
   "source": [
    "type(req)"
   ]
  },
  {
   "cell_type": "markdown",
   "metadata": {},
   "source": [
    "Another very nifty Python function is `dir`. You can use it to list all the properties of an object.\n",
    "\n",
    "By the way, properties starting with a single and double underscores are usually not meant to be called directly."
   ]
  },
  {
   "cell_type": "code",
   "execution_count": 37,
   "metadata": {},
   "outputs": [
    {
     "data": {
      "text/plain": [
       "['__attrs__',\n",
       " '__bool__',\n",
       " '__class__',\n",
       " '__delattr__',\n",
       " '__dict__',\n",
       " '__dir__',\n",
       " '__doc__',\n",
       " '__enter__',\n",
       " '__eq__',\n",
       " '__exit__',\n",
       " '__format__',\n",
       " '__ge__',\n",
       " '__getattribute__',\n",
       " '__getstate__',\n",
       " '__gt__',\n",
       " '__hash__',\n",
       " '__init__',\n",
       " '__init_subclass__',\n",
       " '__iter__',\n",
       " '__le__',\n",
       " '__lt__',\n",
       " '__module__',\n",
       " '__ne__',\n",
       " '__new__',\n",
       " '__nonzero__',\n",
       " '__reduce__',\n",
       " '__reduce_ex__',\n",
       " '__repr__',\n",
       " '__setattr__',\n",
       " '__setstate__',\n",
       " '__sizeof__',\n",
       " '__str__',\n",
       " '__subclasshook__',\n",
       " '__weakref__',\n",
       " '_content',\n",
       " '_content_consumed',\n",
       " '_next',\n",
       " 'apparent_encoding',\n",
       " 'close',\n",
       " 'connection',\n",
       " 'content',\n",
       " 'cookies',\n",
       " 'elapsed',\n",
       " 'encoding',\n",
       " 'headers',\n",
       " 'history',\n",
       " 'is_permanent_redirect',\n",
       " 'is_redirect',\n",
       " 'iter_content',\n",
       " 'iter_lines',\n",
       " 'json',\n",
       " 'links',\n",
       " 'next',\n",
       " 'ok',\n",
       " 'raise_for_status',\n",
       " 'raw',\n",
       " 'reason',\n",
       " 'request',\n",
       " 'status_code',\n",
       " 'text',\n",
       " 'url']"
      ]
     },
     "execution_count": 37,
     "metadata": {},
     "output_type": "execute_result"
    }
   ],
   "source": [
    "dir(req)"
   ]
  },
  {
   "cell_type": "markdown",
   "metadata": {},
   "source": [
    "Right now `req` holds a reference to a *Request* object; but we are interested in the text associated with the web page, not the object itself.\n",
    "\n",
    "So the next step is to assign the value of the `text` property of this `Request` object to a variable."
   ]
  },
  {
   "cell_type": "code",
   "execution_count": 38,
   "metadata": {},
   "outputs": [
    {
     "name": "stdout",
     "output_type": "stream",
     "text": [
      "reat Depression</a> and <a href=\"/wiki/World_War_II\" title=\"World War II\">World War II</a> and began to reform the curriculum and liberalize admissions after the war. The undergraduate college became coeducational after its 1977 merger with <a href=\"/wiki/Radcliffe_College\" title=\"Radcliffe College\">Radcliffe College</a>.\n",
      "</p><p>The university is organized into eleven separate academic units—ten faculties and the <a href=\"/wiki/Radcliffe_Institute_for_Advanced_Study\" title=\"Radcliffe Institute for Advanced Study\">Radcliffe Institute for Advanced Study</a>—with campuses throughout the <a href=\"/wiki/Greater_Boston\" title=\"Greater Boston\">Boston metropolitan area</a>:<sup id=\"cite_ref-14\" class=\"reference\"><a href=\"#cite_note-14\">&#91;14&#93;</a></sup> its 209-acre (85&#160;ha) main campus is centered on <a href=\"/wiki/Harvard_Yard\" title=\"Harvard Yard\">Harvard Yard</a> in Cambridge, approximately 3 miles (5&#160;km) northwest of Boston; the <a href=\"/wiki/Harvard_Business_School\" title=\"Harvard Business School\">business school</a> and athletics facilities, including <a href=\"/wiki/Harvard_Stadium\" title=\"Harvard Stadium\">Harvard Stadium</a>, are located across the <a href=\"/wiki/Charles_River\" title=\"Charles River\">Charles River</a> in the <a href=\"/wiki/Allston\" title=\"Allston\">Allston</a> neighborhood of Boston and the <a href=\"/wiki/Harvard_Medical_School\" title=\"Harvard Medical School\">medical</a>, <a href=\"/wiki/Harvard_School_of_Dental_Medicine\" title=\"Harvard School of Dental Medicine\">dental</a>, and <a href=\"/wiki/Harvard_School_of_Public_Health\" class=\"mw-redirect\" title=\"Harvard School of Public Health\">public health</a> schools are in the <a href=\"/wiki/Longwood_Medical_and_Academic_Area\" title=\"Longwood Medical and Academic Area\">Longwood Medical Area</a>.<sup id=\"cite_ref-Campus_15-0\" class=\"reference\"><a href=\"#cite_note-Campus-15\">&#91;15&#93;</a></sup> The <a href=\"/wiki/Harvard_University_endowment\" title=\"Harvard University endowment\">endowment of Harvard</a>'s is worth $37.1 billion, making it the <a href=\"/wiki/List_of_colleges_and_universities_in_the_United_States_by_endowment\" title=\"List of colleges and universities in the United States by endowment\">largest of any academic institution</a>.<sup id=\"cite_ref-HarvardGlance_8-1\" class=\"reference\"><a href=\"#cite_note-HarvardGlance-8\">&#91;8&#93;</a></sup>\n",
      "</p><p>Harvard is a large, highly residential research university.<sup id=\"cite_ref-Carnegie_16-0\" class=\"reference\"><a href=\"#cite_note-Carnegie-16\">&#91;16&#93;</a></sup>  The nominal cost of attendance is high, but the university's large endowment allows it to offer generous financial aid packages.<sup id=\"cite_ref-fa_17-0\" class=\"reference\"><a href=\"#cite_note-fa-17\">&#91;17&#93;</a></sup> The <a href=\"/wiki/Harvard_Library\" title=\"Harvard Library\">Harvard Library</a> is the world's largest academic and private library system, comprising 79 individual libraries holding over 18 million items.<sup id=\"cite_ref-hlar_18-0\" class=\"reference\"><a href=\"#cite_note-hlar-18\">&#91;18&#93;</a></sup><sup id=\"cite_ref-largestlibs_19-0\" class=\"reference\"><a href=\"#cite_note-largestlibs-19\">&#91;19&#93;</a></sup><sup id=\"cite_ref-speaking_20-0\" class=\"reference\"><a href=\"#cite_note-speaking-20\">&#91;20&#93;</a></sup>  The University is cited as one of the world's top tertiary institutions  by various <a href=\"/wiki/College_and_university_rankings\" title=\"College and university rankings\">organizations</a>.<sup id=\"cite_ref-Rankings_ARWU_W_21-0\" class=\"reference\"><a href=\"#cite_note-Rankings_ARWU_W-21\">&#91;21&#93;</a></sup><sup id=\"cite_ref-Rankings_QS_W_22-0\" class=\"reference\"><a href=\"#cite_note-Rankings_QS_W-22\">&#91;22&#93;</a></sup><sup id=\"cite_ref-Rankings_THES_W_23-0\" class=\"reference\"><a href=\"#cite_note-Rankings_THES_W-23\">&#91;23&#93;</a></sup><sup id=\"cite_ref-Rankings_USNWR_W_24-0\" class=\"reference\"><a href=\"#cite_note-Rankings_USNWR_W-24\">&#91;24&#93;</a></sup>\n",
      "</p><p>Harvard's alumni include <a href=\"/wiki/List_of_Presidents_of_the_United_States_by_education\" title=\"List of Presidents of the United States by education\">eight U.S. presidents</a>, several foreign heads of state, 62 living <a href=\"/wiki/Billionaires\" class=\"mw-redirect\" title=\"Billionaires\">billionaires</a>, 359 <a href=\"/wiki/Rhodes_Scholar\" class=\"mw-redirect\" title=\"Rhodes Scholar\">Rhodes Scholars</a>, and 242 <a href=\"/wiki/Marshall_Scholars\" class=\"mw-redirect\" title=\"Marshall Scholars\">Marshall Scholars</a>.<sup id=\"cite_ref-RS_25-0\" class=\"reference\"><a href=\"#cite_note-RS-25\">&#91;25&#93;</a></sup><sup id=\"cite_ref-26\" class=\"reference\"><a href=\"#cite_note-26\">&#91;26&#93;</a></sup><sup id=\"cite_ref-27\" class=\"reference\"><a href=\"#cite_note-27\">&#91;27&#93;</a></sup> To date, <a href=\"/wiki/List_of_Nobel_laureates_by_university_affiliation\" title=\"List of Nobel laureates by university affiliation\">some 157 Nobel laureates</a>, <a href=\"/wiki/List_of_Fields_Medal_winners_by_university_affiliation\" title=\"List of Fields Medal winners by university affiliation\">18 Fields Medalists</a>, and <a href=\"/wiki/List_of_Turing_Award_laureates_by_university_affiliation\" title=\"List of Turing Award laureates by university affiliation\">14 Turing Award winners</a> have been affiliated as students, faculty, or staff.<sup id=\"cite_ref-28\" class=\"reference\"><a href=\"#cite_note-28\">&#91;28&#93;</a></sup> In addition, Harvard students and alumni have won 10 <a href=\"/wiki/Academy_Award\" class=\"mw-redirect\" title=\"Academy Award\">Academy Awards</a>, 48 <a href=\"/wiki/Pulitzer_Prize\" title=\"Pulitzer Prize\">Pulitzer Prizes</a>,<sup id=\"cite_ref-29\" class=\"reference\"><a href=\"#cite_note-29\">&#91;29&#93;</a></sup> and <a href=\"/wiki/List_of_American_universities_with_Olympic_medals\" title=\"List of American universities with Olympic medals\">108 Olympic medals (46 gold, 41 silver and 21 bronze)</a>.<sup id=\"cite_ref-30\" class=\"reference\"><a href=\"#cite_note-30\">&#91;30&#93;</a></sup>\n",
      "</p>\n",
      "<div id=\"toc\" class=\"toc\"><input type=\"checkbox\" role=\"button\" id=\"toctogglecheckbox\" class=\"toctogglecheckbox\" style=\"display:none\" /><div class=\"toctitle\" lang=\"en\" dir=\"ltr\"><h2>Contents</h2><span class=\"toctogglespan\"><label class=\"toctogglelabel\" for=\"toctogglecheckbox\"></label></span></div>\n",
      "<ul>\n",
      "<li class=\"toclevel-1 tocsection-1\"><a href=\"#History\"><span class=\"tocnumber\">1</span> <span class=\"toctext\">History</span></a>\n",
      "<ul>\n",
      "<li class=\"toclevel-2 tocsection-2\"><a href=\"#Colonial\"><span class=\"tocnumber\">1.1</span> <span class=\"toctext\">Colonial</span></a></li>\n",
      "<li class=\"toclevel-2 tocsection-3\"><a href=\"#19th_century\"><span class=\"tocnumber\">1.2</span> <span class=\"toctext\">19th century</span></a></li>\n",
      "<li class=\"toclevel-2 tocsection-4\"><a href=\"#20th_century\"><span class=\"tocnumber\">1.3</span> <span class=\"toctext\">20th century</span></a></li>\n",
      "<li class=\"toclevel-2 tocsection-5\"><a href=\"#21st_century\"><span class=\"tocnumber\">1.4</span> <span class=\"toctext\">21st century</span></a></li>\n",
      "</ul>\n",
      "</li>\n",
      "<li class=\"toclevel-1 tocsection-6\"><a href=\"#Campuses\"><span class=\"tocnumber\">2</span> <span class=\"toctext\">Campuses</span></a>\n",
      "<ul>\n",
      "<li class=\"toclevel-2 tocsection-7\"><a href=\"#Cambridge\"><span class=\"tocnumber\">2.1</span> <span class=\"toctext\">Cambridge</span></a></li>\n",
      "<li class=\"toclevel-2 tocsection-8\"><a href=\"#Allston\"><span class=\"tocnumber\">2.2</span> <span class=\"toctext\">Allston</span></a></li>\n",
      "<li class=\"toclevel-2 tocsection-9\"><a href=\"#Longwood\"><span class=\"tocnumber\">2.3</span> <span class=\"toctext\">Longwood</span></a></li>\n",
      "<li class=\"toclevel-2 tocsection-10\"><a href=\"#Other\"><span class=\"tocnumber\">2.4</span> <span class=\"toctext\">Other</span></a></li>\n",
      "</ul>\n",
      "</li>\n",
      "<li class=\"toclevel-1 tocsection-11\"><a href=\"#Organization_and_administration\"><span class=\"tocnumber\">3</span> <span class=\"toctext\">Organization and administration</span></a>\n",
      "<ul>\n",
      "<li class=\"toclevel-2 tocsection-12\"><a href=\"#Governance\"><span class=\"tocnumber\">3.1</span> <span class=\"toctext\">Governance</span></a></li>\n",
      "<li class=\"toclevel-2 tocsection-13\"><a href=\"#Endowment\"><span class=\"tocnumber\">3.2</span> <span class=\"toctext\">Endowment</span></a>\n",
      "<ul>\n",
      "<li class=\"toclevel-3 tocsection-14\"><a href=\"#Divestment\"><span class=\"tocnumber\">3.2.1</span> <span class=\"toctext\">Divestment</span></a></li>\n",
      "</ul>\n",
      "</li>\n",
      "</ul>\n",
      "</li>\n",
      "<li class=\"toclevel-1 tocsection-15\"><a href=\"#Academics\"><span class=\"tocnumber\">4</span> <span class=\"toctext\">Academics</span></a>\n",
      "<ul>\n",
      "<li class=\"toclevel-2 tocsection-16\"><a href=\"#Admission\"><span class=\"tocnumber\">4.1</span> <span class=\"toctext\">Admission</span></a></li>\n",
      "<li class=\"toclevel-2 tocsection-17\"><a href=\"#Teaching_and_learning\"><span class=\"tocnumber\">4.2</span> <span class=\"toctext\">Teaching and learning</span></a></li>\n",
      "<li class=\"toclevel-2 tocsection-18\"><a href=\"#Research\"><span class=\"tocnumber\">4.3</span> <span class=\"toctext\">Research</span></a></li>\n",
      "<li class=\"toclevel-2 tocsection-19\"><a href=\"#Libraries_and_museums\"><span class=\"tocnumber\">4.4</span> <span class=\"toctext\">Libraries and museums</span></a></li>\n",
      "<li class=\"toclevel-2 tocsection-20\"><a href=\"#University_rankings\"><span class=\"tocnumber\">4.5</span> <span class=\"toctext\">University rankings</span></a></li>\n",
      "</ul>\n",
      "</li>\n",
      "<li class=\"toclevel-1 tocsection-21\"><a href=\"#Student_life\"><span class=\"tocnumber\">5</span> <span class=\"toctext\">Student life</span></a>\n",
      "<ul>\n",
      "<li class=\"toclevel-2 tocsection-22\"><a href=\"#Student_body\"><span class=\"tocnumber\">5.1</span> <span class=\"toctext\">Student body</span></a></li>\n",
      "<li class=\"toclevel-2 tocsection-23\"><a href=\"#Athletics\"><span class=\"tocnumber\">5.2</span> <span class=\"toctext\">Athletics</span></a></li>\n",
      "<li class=\"toclevel-2 tocsection-24\"><a href=\"#Song\"><span class=\"tocnumber\">5.3</span> <span class=\"toctext\">Song</span></a></li>\n",
      "</ul>\n",
      "</li>\n",
      "<li class=\"toclevel-1 tocsection-25\"><a href=\"#Notable_people\"><span class=\"tocnumber\">6</span> <span class=\"toctext\">Notable people</span></a>\n",
      "<ul>\n",
      "<li class=\"toclevel-2 tocsect\n"
     ]
    }
   ],
   "source": [
    "page = req.text\n",
    "print(page[20000:30000])"
   ]
  },
  {
   "cell_type": "markdown",
   "metadata": {},
   "source": [
    "Great! Now we have the text of the Harvard University Wikipedia page. But this mess of HTML tags would be a pain to parse manually. Which is why we will use another very cool Python library called `BeautifulSoup`."
   ]
  },
  {
   "cell_type": "markdown",
   "metadata": {},
   "source": [
    "### `BeautifulSoup`\n",
    "\n",
    "Parsing data would be a breeze if we could always use well formatted data sources, such as CSV, JSON, or XML; but some formats such as HTML are at the same time a very popular and a pain to parse.\n",
    "\n",
    "One of the problems with HTML is that over the years browsers have evolved to be very forgiving of \"malformed\" syntax. Your browser is smart enough to detect some common problems, such as open tags, and correct them on the fly.\n",
    "\n",
    "Unfortunately, we do not have the time or patience to implement all the different corner cases, so we'll let BeautifulSoup do that for us.\n",
    "\n",
    "You'll notice that the `import` statement bellow is different from what we used for `requests`. The _from library import thing_ pattern is useful when you don't want to reference a function byt its full name (like we did with `requests.get`), but you also don't want to import every single thing on that library into your namespace."
   ]
  },
  {
   "cell_type": "code",
   "execution_count": 39,
   "metadata": {},
   "outputs": [],
   "source": [
    "from bs4 import BeautifulSoup"
   ]
  },
  {
   "cell_type": "markdown",
   "metadata": {},
   "source": [
    "`BeautifulSoup` can deal with `HTML` or `XML` data, so the next line parses the contents of the `page` variable using its `HTML` parser, and assigns the result of that to the `soup` variable."
   ]
  },
  {
   "cell_type": "code",
   "execution_count": 40,
   "metadata": {},
   "outputs": [],
   "source": [
    "soup = BeautifulSoup(page, 'html.parser')"
   ]
  },
  {
   "cell_type": "code",
   "execution_count": 41,
   "metadata": {},
   "outputs": [
    {
     "data": {
      "text/plain": [
       "bs4.BeautifulSoup"
      ]
     },
     "execution_count": 41,
     "metadata": {},
     "output_type": "execute_result"
    }
   ],
   "source": [
    "type(soup)"
   ]
  },
  {
   "cell_type": "markdown",
   "metadata": {},
   "source": [
    "Doesn't look much different from the `page` object representation. Let's make sure the two are different types."
   ]
  },
  {
   "cell_type": "code",
   "execution_count": 42,
   "metadata": {},
   "outputs": [
    {
     "data": {
      "text/plain": [
       "str"
      ]
     },
     "execution_count": 42,
     "metadata": {},
     "output_type": "execute_result"
    }
   ],
   "source": [
    "type(page)"
   ]
  },
  {
   "cell_type": "markdown",
   "metadata": {},
   "source": [
    "Looks like they are indeed different.\n",
    "\n",
    "`BeautifulSoup` objects have a cool little method that allows you to see the `HTML` content in a nice, indented way."
   ]
  },
  {
   "cell_type": "code",
   "execution_count": 43,
   "metadata": {},
   "outputs": [
    {
     "name": "stdout",
     "output_type": "stream",
     "text": [
      "<!DOCTYPE html>\n",
      "<html class=\"client-nojs\" dir=\"ltr\" lang=\"en\">\n",
      " <head>\n",
      "  <meta charset=\"utf-8\"/>\n",
      "  <title>\n",
      "   Harvard University - Wikipedia\n",
      "  </title>\n",
      "  <script>\n",
      "   document.documentElement.className = document.documentElement.className.replace( /(^|\\s)client-nojs(\\s|$)/, \"$1client-js$2\" );\n",
      "  </script>\n",
      "  <script>\n",
      "   (window.RLQ=window.RLQ||[]).push(function(){mw.config.set({\"wgCanonicalNamespace\":\"\",\"wgCanonicalSpecialPageName\":false,\"wgNamespaceNumber\":0,\"wgPageName\":\"Harvard_University\",\"wgTitle\":\"Harvard University\",\"wgCurRevisionId\":855034378,\"wgRevisionId\":855034378,\"wgArticleId\":18426501,\"wgIsArticle\":true,\"wgIsRedirect\":false,\"wgAction\":\"view\",\"wgUserName\":null,\"wgUserGroups\":[\"*\"],\"wgCategories\":[\"Articles containing potentially dated statements from March 2018\",\"All articles containing potentially dated statements\",\"CS1: Julian–Gregorian uncertainty\",\"CS1 maint: Extra text: editors list\",\"Webarchive template wayback links\",\"Wikipedia indefinitely move-protected pages\",\"Use md\n"
     ]
    }
   ],
   "source": [
    "print(soup.prettify()[:1000])"
   ]
  },
  {
   "cell_type": "markdown",
   "metadata": {},
   "source": [
    "Looks like it's our page!\n",
    "\n",
    "We can now reference elements of the `HTML` document in different ways. One very convenient way is by using the dot notation, which allows us to access the elements as if they were properties of the object."
   ]
  },
  {
   "cell_type": "code",
   "execution_count": 44,
   "metadata": {},
   "outputs": [
    {
     "data": {
      "text/plain": [
       "<title>Harvard University - Wikipedia</title>"
      ]
     },
     "execution_count": 44,
     "metadata": {},
     "output_type": "execute_result"
    }
   ],
   "source": [
    "soup.title"
   ]
  },
  {
   "cell_type": "markdown",
   "metadata": {},
   "source": [
    "This is nice for `HTML` elements that only appear once per page, such the the `title` tag. But what about elements that can appear multiple times?"
   ]
  },
  {
   "cell_type": "code",
   "execution_count": 45,
   "metadata": {},
   "outputs": [
    {
     "data": {
      "text/plain": [
       "<p class=\"mw-empty-elt\">\n",
       "</p>"
      ]
     },
     "execution_count": 45,
     "metadata": {},
     "output_type": "execute_result"
    }
   ],
   "source": [
    "# Be careful with elements that show up multiple times.\n",
    "soup.p"
   ]
  },
  {
   "cell_type": "markdown",
   "metadata": {},
   "source": [
    "Uh Oh. Turns out the attribute syntax in `Beautiful` soup is what is called *syntactic sugar*. That's why it is safer to use the explicit commands behind that syntactic sugar I mentioned. These are:\n",
    "* `BeautifulSoup.find` for getting single elements, and \n",
    "* `BeautifulSoup.find_all` for retrieving multiple elements."
   ]
  },
  {
   "cell_type": "code",
   "execution_count": 46,
   "metadata": {},
   "outputs": [
    {
     "data": {
      "text/plain": [
       "79"
      ]
     },
     "execution_count": 46,
     "metadata": {},
     "output_type": "execute_result"
    }
   ],
   "source": [
    "len(soup.find_all(\"p\"))"
   ]
  },
  {
   "cell_type": "markdown",
   "metadata": {},
   "source": [
    "If you look at the Wikipedia page on your browser, you'll notice that it has a couple of tables in it. We will be working with the \"Demographics\" table, but first we need to find it.\n",
    "\n",
    "One of the `HTML` attributes that will be very useful to us is the `class` attribute.\n",
    "\n",
    "Getting the class of a single element is easy!"
   ]
  },
  {
   "cell_type": "code",
   "execution_count": 48,
   "metadata": {},
   "outputs": [
    {
     "data": {
      "text/plain": [
       "['infobox', 'vcard']"
      ]
     },
     "execution_count": 48,
     "metadata": {},
     "output_type": "execute_result"
    }
   ],
   "source": [
    "soup.table[\"class\"]"
   ]
  },
  {
   "cell_type": "markdown",
   "metadata": {},
   "source": [
    "Next we will use a *list comprehension* to see all the tables that have a `class` attribute. "
   ]
  },
  {
   "cell_type": "code",
   "execution_count": 49,
   "metadata": {},
   "outputs": [
    {
     "data": {
      "text/plain": [
       "[['infobox', 'vcard'],\n",
       " ['toccolours'],\n",
       " ['plainlinks', 'metadata', 'ambox', 'mbox-small-left', 'ambox-content'],\n",
       " ['multicol'],\n",
       " ['infobox'],\n",
       " ['wikitable', 'sortable', 'collapsible', 'collapsed'],\n",
       " ['wikitable', 'sortable', 'collapsible', 'collapsed'],\n",
       " ['wikitable'],\n",
       " ['nowraplinks', 'collapsible', 'collapsed', 'navbox-inner'],\n",
       " ['nowraplinks', 'navbox-subgroup'],\n",
       " ['nowraplinks', 'navbox-subgroup'],\n",
       " ['nowraplinks', 'collapsible', 'collapsed', 'navbox-inner'],\n",
       " ['nowraplinks', 'collapsible', 'autocollapse', 'navbox-inner'],\n",
       " ['nowraplinks', 'collapsible', 'autocollapse', 'navbox-inner'],\n",
       " ['nowraplinks', 'collapsible', 'autocollapse', 'navbox-inner'],\n",
       " ['nowraplinks', 'collapsible', 'autocollapse', 'navbox-inner'],\n",
       " ['nowraplinks', 'collapsible', 'autocollapse', 'navbox-inner'],\n",
       " ['nowraplinks', 'collapsible', 'autocollapse', 'navbox-inner'],\n",
       " ['nowraplinks', 'collapsible', 'autocollapse', 'navbox-inner'],\n",
       " ['nowraplinks', 'hlist', 'collapsible', 'autocollapse', 'navbox-inner'],\n",
       " ['nowraplinks', 'collapsible', 'autocollapse', 'navbox-inner'],\n",
       " ['nowraplinks', 'collapsible', 'autocollapse', 'navbox-inner'],\n",
       " ['nowraplinks', 'hlist', 'collapsible', 'autocollapse', 'navbox-inner'],\n",
       " ['nowraplinks', 'hlist', 'navbox-inner']]"
      ]
     },
     "execution_count": 49,
     "metadata": {},
     "output_type": "execute_result"
    }
   ],
   "source": [
    "# the classes of all tables that have a class attribute set on them\n",
    "[t[\"class\"] for t in soup.find_all(\"table\") if t.get(\"class\")]"
   ]
  },
  {
   "cell_type": "markdown",
   "metadata": {},
   "source": [
    "As already mentioned, we will be using the Demographics table for this lab. The next cell contains the `HTML` elements of said table. We will render it in different parts of the notebook to make it easier to follow along the parsing steps."
   ]
  },
  {
   "cell_type": "code",
   "execution_count": 50,
   "metadata": {},
   "outputs": [],
   "source": [
    "table_demographics = soup.find_all(\"table\", \"wikitable\")[2]"
   ]
  },
  {
   "cell_type": "code",
   "execution_count": 51,
   "metadata": {},
   "outputs": [
    {
     "data": {
      "text/html": [
       "<table class=\"wikitable\" style=\"text-align:center; float:right; font-size:85%; margin-right:2em;\">\n",
       "<caption><i>Demographics of student body</i><sup class=\"reference\" id=\"cite_ref-Head_count_134-0\"><a href=\"#cite_note-Head_count-134\">[134]</a></sup><sup class=\"reference\" id=\"cite_ref-135\"><a href=\"#cite_note-135\">[135]</a></sup><sup class=\"reference\" id=\"cite_ref-136\"><a href=\"#cite_note-136\">[136]</a></sup>\n",
       "</caption>\n",
       "<tbody><tr>\n",
       "<th></th>\n",
       "<th>Undergrad</th>\n",
       "<th>Graduate</th>\n",
       "<th>U.S. census\n",
       "</th></tr>\n",
       "<tr>\n",
       "<th>Asian/Pacific Islander\n",
       "</th>\n",
       "<td>17%</td>\n",
       "<td>11%</td>\n",
       "<td>5%\n",
       "</td></tr>\n",
       "<tr>\n",
       "<th>Black/non-Hispanic\n",
       "</th>\n",
       "<td>6%</td>\n",
       "<td>4%</td>\n",
       "<td>12%\n",
       "</td></tr>\n",
       "<tr>\n",
       "<th>Hispanics of any race\n",
       "</th>\n",
       "<td>9%</td>\n",
       "<td>5%</td>\n",
       "<td>16%\n",
       "</td></tr>\n",
       "<tr>\n",
       "<th>White/non-Hispanic\n",
       "</th>\n",
       "<td>46%</td>\n",
       "<td>43%</td>\n",
       "<td>64%\n",
       "</td></tr>\n",
       "<tr>\n",
       "<th>Mixed race/other\n",
       "</th>\n",
       "<td>10%</td>\n",
       "<td>8%</td>\n",
       "<td>9%\n",
       "</td></tr>\n",
       "<tr>\n",
       "<th>International students\n",
       "</th>\n",
       "<td>11%</td>\n",
       "<td>27%</td>\n",
       "<td>N/A\n",
       "</td></tr></tbody></table>"
      ],
      "text/plain": [
       "<IPython.core.display.HTML object>"
      ]
     },
     "execution_count": 51,
     "metadata": {},
     "output_type": "execute_result"
    }
   ],
   "source": [
    "from IPython.core.display import HTML\n",
    "HTML(str(table_demographics))"
   ]
  },
  {
   "cell_type": "markdown",
   "metadata": {},
   "source": [
    "First we'll use a list comprehension to extract the rows (*tr*) elements."
   ]
  },
  {
   "cell_type": "code",
   "execution_count": 52,
   "metadata": {
    "scrolled": true
   },
   "outputs": [
    {
     "name": "stdout",
     "output_type": "stream",
     "text": [
      "[<tr>\n",
      "<th></th>\n",
      "<th>Undergrad</th>\n",
      "<th>Graduate</th>\n",
      "<th>U.S. census\n",
      "</th></tr>, <tr>\n",
      "<th>Asian/Pacific Islander\n",
      "</th>\n",
      "<td>17%</td>\n",
      "<td>11%</td>\n",
      "<td>5%\n",
      "</td></tr>, <tr>\n",
      "<th>Black/non-Hispanic\n",
      "</th>\n",
      "<td>6%</td>\n",
      "<td>4%</td>\n",
      "<td>12%\n",
      "</td></tr>, <tr>\n",
      "<th>Hispanics of any race\n",
      "</th>\n",
      "<td>9%</td>\n",
      "<td>5%</td>\n",
      "<td>16%\n",
      "</td></tr>, <tr>\n",
      "<th>White/non-Hispanic\n",
      "</th>\n",
      "<td>46%</td>\n",
      "<td>43%</td>\n",
      "<td>64%\n",
      "</td></tr>, <tr>\n",
      "<th>Mixed race/other\n",
      "</th>\n",
      "<td>10%</td>\n",
      "<td>8%</td>\n",
      "<td>9%\n",
      "</td></tr>, <tr>\n",
      "<th>International students\n",
      "</th>\n",
      "<td>11%</td>\n",
      "<td>27%</td>\n",
      "<td>N/A\n",
      "</td></tr>]\n"
     ]
    }
   ],
   "source": [
    "rows = [row for row in table_demographics.find_all(\"tr\")]\n",
    "print(rows)"
   ]
  },
  {
   "cell_type": "code",
   "execution_count": 53,
   "metadata": {},
   "outputs": [
    {
     "data": {
      "text/html": [
       "<tr>\n",
       "<th></th>\n",
       "<th>Undergrad</th>\n",
       "<th>Graduate</th>\n",
       "<th>U.S. census\n",
       "</th></tr>"
      ],
      "text/plain": [
       "<IPython.core.display.HTML object>"
      ]
     },
     "execution_count": 53,
     "metadata": {},
     "output_type": "execute_result"
    }
   ],
   "source": [
    "header_row = rows[0]\n",
    "HTML(str(header_row))"
   ]
  },
  {
   "cell_type": "markdown",
   "metadata": {},
   "source": [
    "We will then use a `lambda` expression to replace new line characters with spaces. `Lambda` expressions are to functions what list comprehensions are to lists: namely a more concise way to achieve the same thing.\n",
    "\n",
    "In reality, both lambda expressions and list comprehensions are a little different from their function and loop counterparts. But for the purposes of this class we can ignore those differences."
   ]
  },
  {
   "cell_type": "code",
   "execution_count": 54,
   "metadata": {},
   "outputs": [],
   "source": [
    "# Lambda expressions return the value of the expression inside it.\n",
    "# In this case, it will return a string with new line characters replaced by spaces.\n",
    "rem_nl = lambda s: s.replace(\"\\n\", \" \")"
   ]
  },
  {
   "cell_type": "markdown",
   "metadata": {},
   "source": [
    "#### Splitting the data\n",
    "Next we extract the text value of the columns. If you look at the table above, you'll see that we have three columns and six rows.\n",
    "\n",
    "Here we're doing the following:\n",
    "* Taking the first element (`Python` indices start at zero)\n",
    "* Iterating over the *th* elements inside it\n",
    "* Taking the text value of those elements\n",
    "\n",
    "We should end up with a list of column names.\n",
    "\n",
    "But there is one little caveat: the first column of the table is actually an empty string (look at the cell right above the row names). We could add it to our list and then remove it afterwards; but instead we will use the `if` statement inside the list comprehension to filter that out.\n",
    "\n",
    "In the following cell, `get_text` will return an empty string for the first cell of the table, which means that the test will fail and the value will not be added to the list."
   ]
  },
  {
   "cell_type": "code",
   "execution_count": 55,
   "metadata": {},
   "outputs": [
    {
     "data": {
      "text/plain": [
       "['Undergrad', 'Graduate', 'U.S. census ']"
      ]
     },
     "execution_count": 55,
     "metadata": {},
     "output_type": "execute_result"
    }
   ],
   "source": [
    "# the if col.get_text() takes care of no-text in the upper left\n",
    "columns = [rem_nl(col.get_text()) for col in header_row.find_all(\"th\") if col.get_text()]\n",
    "columns"
   ]
  },
  {
   "cell_type": "markdown",
   "metadata": {},
   "source": [
    "Now let's do the same for the rows. Notice that since we have already parsed the header row, we will continue from the second row."
   ]
  },
  {
   "cell_type": "code",
   "execution_count": 56,
   "metadata": {},
   "outputs": [
    {
     "data": {
      "text/plain": [
       "['Asian/Pacific Islander\\n',\n",
       " 'Black/non-Hispanic\\n',\n",
       " 'Hispanics of any race\\n',\n",
       " 'White/non-Hispanic\\n',\n",
       " 'Mixed race/other\\n',\n",
       " 'International students\\n']"
      ]
     },
     "execution_count": 56,
     "metadata": {},
     "output_type": "execute_result"
    }
   ],
   "source": [
    "indexes = [row.find(\"th\").get_text() for row in rows[1:]]\n",
    "indexes"
   ]
  },
  {
   "cell_type": "markdown",
   "metadata": {},
   "source": [
    "Now we want to transform the string on the cells to integers.  To do this, we follow a very common `python` pattern:\n",
    "1. Check if the last character of the string is a percent sign\n",
    "2. If it is, then convert the characters before the percent sign to integers\n",
    "3. If one of the prior checks fails, return a value of `None`\n",
    "\n",
    "These steps can be conveniently packaged into a function using `if-else` statements."
   ]
  },
  {
   "cell_type": "code",
   "execution_count": 57,
   "metadata": {},
   "outputs": [],
   "source": [
    "def to_num(s):\n",
    "    if s[-1] == \"%\":\n",
    "        return int(s[:-1])\n",
    "    else:\n",
    "        return None"
   ]
  },
  {
   "cell_type": "markdown",
   "metadata": {},
   "source": [
    "Notice the `Python` slices are open on the upper bound. So the `[:-1]` construct will return all elements of the string, except for the last."
   ]
  },
  {
   "cell_type": "markdown",
   "metadata": {},
   "source": [
    "Another nice way to write our `to_num` function would be\n",
    "```python\n",
    "def to_num(s):\n",
    "    return int(s[:-1]) if s[-1] == \"%\" else None\n",
    "```\n",
    "Notice that we only had to write `return` one time and everything conveniently fits on one line.  I'll leave it up to you to decide if it's readable or not."
   ]
  },
  {
   "cell_type": "markdown",
   "metadata": {},
   "source": [
    "Now we use the `to_num` function in a list comprehension to parse the table values.\n",
    "\n",
    "Notice that we have two `for ... in ...` in this list comprehension. That is perfectly valid and somewhat common.\n",
    "\n",
    "Although there is no real limit to how many iterations you can perform at once, having more than two can be visually unpleasant, at which point either regular nested loops or saving intermediate comprehensions might be a better solution."
   ]
  },
  {
   "cell_type": "code",
   "execution_count": 58,
   "metadata": {},
   "outputs": [
    {
     "data": {
      "text/plain": [
       "[17, 11, None, 6, 4, None, 9, 5, None, 46, 43, None, 10, 8, None, 11, 27, None]"
      ]
     },
     "execution_count": 58,
     "metadata": {},
     "output_type": "execute_result"
    }
   ],
   "source": [
    "values = [to_num(value.get_text()) for row in rows[1:] for value in row.find_all(\"td\")]\n",
    "values"
   ]
  },
  {
   "cell_type": "markdown",
   "metadata": {},
   "source": [
    "The problem with the list above is that the values lost their grouping.\n",
    "\n",
    "The `zip` function is used to combine two sequences element wise. So \n",
    "```python\n",
    "zip([1,2,3], [4,5,6])\n",
    "```\n",
    "would return\n",
    "```python\n",
    "[(1, 4), (2, 5), (3, 6)]\n",
    "```\n",
    "\n",
    "Next we create three arrays corresponding to the three columns by putting every three values in each list."
   ]
  },
  {
   "cell_type": "code",
   "execution_count": 59,
   "metadata": {},
   "outputs": [
    {
     "data": {
      "text/plain": [
       "[[17, 6, 9, 46, 10, 11],\n",
       " [11, 4, 5, 43, 8, 27],\n",
       " [None, None, None, None, None, None]]"
      ]
     },
     "execution_count": 59,
     "metadata": {},
     "output_type": "execute_result"
    }
   ],
   "source": [
    "stacked_values_lists = [values[i::3] for i in range(len(columns))]\n",
    "stacked_values_lists"
   ]
  },
  {
   "cell_type": "markdown",
   "metadata": {},
   "source": [
    "We then use `zip`. "
   ]
  },
  {
   "cell_type": "code",
   "execution_count": 60,
   "metadata": {},
   "outputs": [
    {
     "data": {
      "text/plain": [
       "[(17, 11, None),\n",
       " (6, 4, None),\n",
       " (9, 5, None),\n",
       " (46, 43, None),\n",
       " (10, 8, None),\n",
       " (11, 27, None)]"
      ]
     },
     "execution_count": 60,
     "metadata": {},
     "output_type": "execute_result"
    }
   ],
   "source": [
    "stacked_values = zip(*stacked_values_lists)\n",
    "list(stacked_values)"
   ]
  },
  {
   "cell_type": "markdown",
   "metadata": {},
   "source": [
    "Notice the use of the `*` in front: that converts the list of lists to a set of arguments to `zip`. See the ASIDE below."
   ]
  },
  {
   "cell_type": "code",
   "execution_count": 61,
   "metadata": {},
   "outputs": [
    {
     "data": {
      "text/html": [
       "<table class=\"wikitable\" style=\"text-align:center; float:right; font-size:85%; margin-right:2em;\">\n",
       "<caption><i>Demographics of student body</i><sup class=\"reference\" id=\"cite_ref-Head_count_134-0\"><a href=\"#cite_note-Head_count-134\">[134]</a></sup><sup class=\"reference\" id=\"cite_ref-135\"><a href=\"#cite_note-135\">[135]</a></sup><sup class=\"reference\" id=\"cite_ref-136\"><a href=\"#cite_note-136\">[136]</a></sup>\n",
       "</caption>\n",
       "<tbody><tr>\n",
       "<th></th>\n",
       "<th>Undergrad</th>\n",
       "<th>Graduate</th>\n",
       "<th>U.S. census\n",
       "</th></tr>\n",
       "<tr>\n",
       "<th>Asian/Pacific Islander\n",
       "</th>\n",
       "<td>17%</td>\n",
       "<td>11%</td>\n",
       "<td>5%\n",
       "</td></tr>\n",
       "<tr>\n",
       "<th>Black/non-Hispanic\n",
       "</th>\n",
       "<td>6%</td>\n",
       "<td>4%</td>\n",
       "<td>12%\n",
       "</td></tr>\n",
       "<tr>\n",
       "<th>Hispanics of any race\n",
       "</th>\n",
       "<td>9%</td>\n",
       "<td>5%</td>\n",
       "<td>16%\n",
       "</td></tr>\n",
       "<tr>\n",
       "<th>White/non-Hispanic\n",
       "</th>\n",
       "<td>46%</td>\n",
       "<td>43%</td>\n",
       "<td>64%\n",
       "</td></tr>\n",
       "<tr>\n",
       "<th>Mixed race/other\n",
       "</th>\n",
       "<td>10%</td>\n",
       "<td>8%</td>\n",
       "<td>9%\n",
       "</td></tr>\n",
       "<tr>\n",
       "<th>International students\n",
       "</th>\n",
       "<td>11%</td>\n",
       "<td>27%</td>\n",
       "<td>N/A\n",
       "</td></tr></tbody></table>"
      ],
      "text/plain": [
       "<IPython.core.display.HTML object>"
      ]
     },
     "execution_count": 61,
     "metadata": {},
     "output_type": "execute_result"
    }
   ],
   "source": [
    "# Here's the original HTML table for visual understanding\n",
    "HTML(str(table_demographics))"
   ]
  },
  {
   "cell_type": "markdown",
   "metadata": {},
   "source": [
    "## Part 12: Plotting\n",
    "Conveying your findings convincingly is an absolutely crucial part of any analysis. Therefore, you must be able to write well and make compelling visuals.  Creating informative visuals is an involved process and we won't cover that in this lab.  However, part of creating informative data visualizations means generating *readable* figures.  If people can't read your figures or have a difficult time interpreting them, they won't understand the results of your work.  Here are some non-negotiable commandments for any plot:\n",
    "* Label $x$ and $y$ axes\n",
    "* Axes labels should be informative\n",
    "* Axes labels should be large enough to read\n",
    "* Make tick labels large enough\n",
    "* Include a legend if necessary\n",
    "* Include a title if necessary\n",
    "* Use appropriate line widths\n",
    "* Use different line styles for different lines on the plot\n",
    "* Use different markers for different lines\n",
    "\n",
    "There are other important elements, but that list should get you started on your way.\n",
    "\n",
    "Here is the anatomy of a figure:\n",
    " <img src=\"https://tacaswell.github.io/matplotlib/_images/anatomy.png\" alt=\"Drawing\" style=\"width: 500px;\"/>\n",
    " \n",
    "taken from [showcase example code: anatomy.py](https://tacaswell.github.io/matplotlib/examples/showcase/anatomy.html).\n",
    "\n",
    "We will work with `matplotlib` and `seaborn` for plotting in this class.  Today's lab will focus on `matplotlib`, which is a very powerful `python` library for making scientific plots.  `seaborn` is a little more specialized in that it was developed for statistical data visualization.  We will put in a little bit of `seaborn` at the end, but if you are comfortable with `matplotlib` then `seaborn` will be a breeze."
   ]
  },
  {
   "cell_type": "markdown",
   "metadata": {},
   "source": [
    "Before diving in, one more note should be made.  We will not focus on the internal aspects of `matplotlib`.  Today's lab will really only focus on the basics and developing good plotting practices.  There are many excellent tutorials out there for `matplotlib`.  For example,\n",
    "* [`matplotlib` homepage](https://matplotlib.org/)\n",
    "* [`matplotlib` tutorial](https://github.com/matplotlib/AnatomyOfMatplotlib)\n",
    "\n",
    "Okay, let's get started!"
   ]
  },
  {
   "cell_type": "markdown",
   "metadata": {},
   "source": [
    "### `matplotlib`"
   ]
  },
  {
   "cell_type": "markdown",
   "metadata": {},
   "source": [
    "First, let's generate some data."
   ]
  },
  {
   "cell_type": "markdown",
   "metadata": {},
   "source": [
    "<div class=\"exercise\"><b>Exercise</b></div>\n",
    "Later on in this lab, we will use the following three functions to make some plots:\n",
    "\n",
    "* Logistic function:\n",
    "  \\begin{align*}\n",
    "    f\\left(z\\right) = \\dfrac{1}{1 + be^{-az}}\n",
    "  \\end{align*}\n",
    "  where $a$ and $b$ are parameters.\n",
    "* Hyperbolic tangent:\n",
    "  \\begin{align*}\n",
    "    g\\left(z\\right) = b\\tanh\\left(az\\right) + c\n",
    "  \\end{align*}\n",
    "  where $a$, $b$, and $c$ are parameters.\n",
    "* Rectified Linear Unit:\n",
    "  \\begin{align*}\n",
    "    h\\left(z\\right) = \n",
    "    \\left\\{\n",
    "      \\begin{array}{lr}\n",
    "        z, \\quad z > 0 \\\\\n",
    "        \\epsilon z, \\quad z\\leq 0\n",
    "      \\end{array}\n",
    "    \\right.\n",
    "  \\end{align*}\n",
    "  where $\\epsilon < 0$ is a small, positive parameter.\n",
    "\n",
    "You are given the code for the first two functions.  Notice that $z$ is passed in as a `numpy` array and that the functions are returned as `numpy` arrays.  Parameters are passed in as floats.\n",
    "\n",
    "You should write a function to compute the rectified linear unit.  The input should be a `numpy` array for $z$ and a positive float for $\\epsilon$."
   ]
  },
  {
   "cell_type": "code",
   "execution_count": 62,
   "metadata": {},
   "outputs": [],
   "source": [
    "# Your code here\n",
    "import numpy as np\n",
    "\n",
    "def logistic(z: np.ndarray, a: float, b: float) -> np.ndarray:\n",
    "    \"\"\" Compute logistic function\n",
    "      Inputs:\n",
    "         a: exponential parameter\n",
    "         b: exponential prefactor\n",
    "         z: numpy array; domain\n",
    "      Outputs:\n",
    "         f: numpy array of floats, logistic function\n",
    "    \"\"\"\n",
    "    \n",
    "    den = 1.0 + b * np.exp(-a * z)\n",
    "    return 1.0 / den\n",
    "\n",
    "def stretch_tanh(z: np.ndarray, a: float, b: float, c: float) -> np.ndarray:\n",
    "    \"\"\" Compute stretched hyperbolic tangent\n",
    "      Inputs:\n",
    "         a: horizontal stretch parameter (a>1 implies a horizontal squish)\n",
    "         b: vertical stretch parameter\n",
    "         c: vertical shift parameter\n",
    "         z: numpy array; domain\n",
    "      Outputs:\n",
    "         g: numpy array of floats, stretched tanh\n",
    "    \"\"\"\n",
    "    return b * np.tanh(a * z) + c\n",
    "\n",
    "def relu(z: np.ndarray, eps: float = 0.01) -> np.ndarray:\n",
    "    \"\"\" Compute rectificed linear unit\n",
    "      Inputs:\n",
    "         eps: small positive parameter\n",
    "         z: numpy array; domain\n",
    "      Outputs:\n",
    "         h: numpy array; relu\n",
    "    \"\"\"\n",
    "    return np.fmax(z, eps * z)"
   ]
  },
  {
   "cell_type": "markdown",
   "metadata": {},
   "source": [
    "Now let's make some plots.  First, let's just warm up and plot the logistic function."
   ]
  },
  {
   "cell_type": "code",
   "execution_count": 63,
   "metadata": {},
   "outputs": [],
   "source": [
    "x = np.linspace(-5.0, 5.0, 100) # Equally spaced grid of 100 pts between -5 and 5\n",
    "\n",
    "f = logistic(x, -1.0, 1.0) # Generate data"
   ]
  },
  {
   "cell_type": "code",
   "execution_count": 64,
   "metadata": {},
   "outputs": [
    {
     "data": {
      "image/png": "[encoded data removed]",
      "text/plain": [
       "<matplotlib.figure.Figure at 0x7f59103096d8>"
      ]
     },
     "metadata": {},
     "output_type": "display_data"
    }
   ],
   "source": [
    "import matplotlib.pyplot as plt\n",
    "\n",
    "# This is only needed in Jupyter notebooks!  Displays the plots for us.\n",
    "%matplotlib inline \n",
    "\n",
    "plt.plot(x, f); # Use the semicolon to suppress some iPython output (not needed in real Python scripts)"
   ]
  },
  {
   "cell_type": "markdown",
   "metadata": {},
   "source": [
    "Wonderful!  We have a plot.  It's terribly ugly and uninformative.  Let's clean it up a bit by putting some labels on it."
   ]
  },
  {
   "cell_type": "code",
   "execution_count": 65,
   "metadata": {},
   "outputs": [
    {
     "data": {
      "image/png": "[encoded data removed]",
      "text/plain": [
       "<matplotlib.figure.Figure at 0x7f59103092e8>"
      ]
     },
     "metadata": {},
     "output_type": "display_data"
    }
   ],
   "source": [
    "plt.plot(x, f)\n",
    "plt.xlabel('x')\n",
    "plt.ylabel('f')\n",
    "plt.title('Logistic Function');"
   ]
  },
  {
   "cell_type": "markdown",
   "metadata": {},
   "source": [
    "Okay, it's getting better.  Still super ugly.  I see these kinds of plots at conferences all the time.  Unreadable.  We can do better.  Much, much better.  First, let's throw on a grid."
   ]
  },
  {
   "cell_type": "code",
   "execution_count": 66,
   "metadata": {},
   "outputs": [
    {
     "data": {
      "image/png": "[encoded data removed]",
      "text/plain": [
       "<matplotlib.figure.Figure at 0x7f59009f0e48>"
      ]
     },
     "metadata": {},
     "output_type": "display_data"
    }
   ],
   "source": [
    "plt.plot(x, f)\n",
    "plt.xlabel('x')\n",
    "plt.ylabel('f')\n",
    "plt.title('Logistic Function')\n",
    "plt.grid(True)"
   ]
  },
  {
   "cell_type": "markdown",
   "metadata": {},
   "source": [
    "At this point, our plot is starting to get a little better but also a little crowded.\n",
    "\n",
    "#### A note on gridlines\n",
    "Gridlines can be very helpful in many scientific disciplines.  They help the reader quickly pick out important points and limiting values.  On the other hand, they can really clutter the plot.  Some people recommend never using gridlines, while others insist on them being present.  The correct approach is probably somewhere in between.  Use gridlines when necessary, but dispense with them when they take away more than they provide.  Ask yourself if they help bring out some important conclusion from the plot.  If not, then best just keep them away.\n",
    "\n",
    "Before proceeding any further, I'm going to change notation.  The plotting interface we've been working with so far is okay, but not as flexible as it can be.  In fact, I don't usually generate my plots with this interface.  I work with slightly lower-level methods, which I will introduce to you now.  The reason I need to make a big deal about this is because the lower-level methods have a slightly different API.  This will become apparent in my next example."
   ]
  },
  {
   "cell_type": "code",
   "execution_count": 67,
   "metadata": {},
   "outputs": [
    {
     "data": {
      "image/png": "[encoded data removed]",
      "text/plain": [
       "<matplotlib.figure.Figure at 0x7f590095dbe0>"
      ]
     },
     "metadata": {},
     "output_type": "display_data"
    }
   ],
   "source": [
    "fig, ax = plt.subplots(1,1) # Get figure and axes objects\n",
    "\n",
    "ax.plot(x, f) # Make a plot\n",
    "\n",
    "# Create some labels\n",
    "ax.set_xlabel('x')\n",
    "ax.set_ylabel('f')\n",
    "ax.set_title('Logistic Function')\n",
    "\n",
    "# Grid\n",
    "ax.grid(True)"
   ]
  },
  {
   "cell_type": "markdown",
   "metadata": {},
   "source": [
    "Wow, it's *exactly* the same plot!  Notice, however, the use of `ax.set_xlabel()` instead of `plt.xlabel()`.  The difference is tiny, but you should be aware of it.  I will use this plotting syntax from now on.\n",
    "\n",
    "What else do we need to do to make this figure better?  Here are some options:\n",
    "* Make labels bigger!\n",
    "* Make line fatter\n",
    "* Make tick mark labels bigger\n",
    "* Make the grid less pronounced\n",
    "* Make figure bigger\n",
    "\n",
    "Let's get to it."
   ]
  },
  {
   "cell_type": "code",
   "execution_count": 68,
   "metadata": {},
   "outputs": [
    {
     "data": {
      "image/png": "[encoded data removed]",
      "text/plain": [
       "<matplotlib.figure.Figure at 0x7f590093da90>"
      ]
     },
     "metadata": {},
     "output_type": "display_data"
    }
   ],
   "source": [
    "fig, ax = plt.subplots(1,1, figsize=(10,6)) # Make figure bigger\n",
    "\n",
    "ax.plot(x, f, lw=4) # Linewidth bigger\n",
    "ax.set_xlabel('x', fontsize=24) # Fontsize bigger\n",
    "ax.set_ylabel('f', fontsize=24) # Fontsize bigger\n",
    "ax.set_title('Logistic Function', fontsize=24) # Fontsize bigger\n",
    "ax.grid(True, lw=1.5, ls='--', alpha=0.75) # Update grid"
   ]
  },
  {
   "cell_type": "markdown",
   "metadata": {},
   "source": [
    "Notice:\n",
    "* `lw` stands for `linewidth`.  We could also write `ax.plot(x, f, linewidth=4)`\n",
    "* `ls` stands for `linestyle`.\n",
    "* `alpha` stands for transparency."
   ]
  },
  {
   "cell_type": "markdown",
   "metadata": {},
   "source": [
    "Things are looking good now!  Unfortunately, people still can't read the tick mark labels.  Let's remedy that presently."
   ]
  },
  {
   "cell_type": "code",
   "execution_count": 69,
   "metadata": {},
   "outputs": [
    {
     "data": {
      "image/png": "[encoded data removed]",
      "text/plain": [
       "<matplotlib.figure.Figure at 0x7f590090beb8>"
      ]
     },
     "metadata": {},
     "output_type": "display_data"
    }
   ],
   "source": [
    "fig, ax = plt.subplots(1,1, figsize=(10,6)) # Make figure bigger\n",
    "\n",
    "# Make line plot\n",
    "ax.plot(x, f, lw=4)\n",
    "\n",
    "# Update ticklabel size\n",
    "ax.tick_params(labelsize=24)\n",
    "\n",
    "# Make labels\n",
    "ax.set_xlabel(r'$x$', fontsize=24) # Use TeX for mathematical rendering\n",
    "ax.set_ylabel(r'$f(x)$', fontsize=24) # Use TeX for mathematical rendering\n",
    "ax.set_title('Logistic Function', fontsize=24)\n",
    "\n",
    "ax.grid(True, lw=1.5, ls='--', alpha=0.75)"
   ]
  },
  {
   "cell_type": "markdown",
   "metadata": {},
   "source": [
    "The only thing remaining to do is to change the $x$ limits.  Clearly these should go from $-5$ to $5$."
   ]
  },
  {
   "cell_type": "code",
   "execution_count": 70,
   "metadata": {},
   "outputs": [
    {
     "data": {
      "image/png": "[encoded data removed]",
      "text/plain": [
       "<matplotlib.figure.Figure at 0x7f59007c1cf8>"
      ]
     },
     "metadata": {},
     "output_type": "display_data"
    }
   ],
   "source": [
    "fig, ax = plt.subplots(1,1, figsize=(10,6)) # Make figure bigger\n",
    "\n",
    "# Make line plot\n",
    "ax.plot(x, f, lw=4)\n",
    "\n",
    "# Set axes limits\n",
    "ax.set_xlim(x.min(), x.max())\n",
    "\n",
    "# Update ticklabel size\n",
    "ax.tick_params(labelsize=24)\n",
    "\n",
    "# Make labels\n",
    "ax.set_xlabel(r'$x$', fontsize=24) # Use TeX for mathematical rendering\n",
    "ax.set_ylabel(r'$f(x)$', fontsize=24) # Use TeX for mathematical rendering\n",
    "ax.set_title('Logistic Function', fontsize=24)\n",
    "\n",
    "ax.grid(True, lw=1.5, ls='--', alpha=0.75)"
   ]
  },
  {
   "cell_type": "markdown",
   "metadata": {},
   "source": [
    "You can play around with figures forever making them perfect.  At this point, everyone can read and interpret this figure just fine.  Don't spend your life making the perfect figure.  Make it good enough so that you can convey your point to your audience.  Then save if it for later."
   ]
  },
  {
   "cell_type": "code",
   "execution_count": 71,
   "metadata": {},
   "outputs": [],
   "source": [
    "fig.savefig('logistic.png')"
   ]
  },
  {
   "cell_type": "markdown",
   "metadata": {},
   "source": [
    "Done!  Let's take a look.\n",
    "![](logistic.png)"
   ]
  },
  {
   "cell_type": "markdown",
   "metadata": {},
   "source": [
    "#### Resources\n",
    "If you want to see all the styles available, please take a look at the documentation.\n",
    "* [Line styles](https://matplotlib.org/2.0.1/api/lines_api.html#matplotlib.lines.Line2D.set_linestyle)\n",
    "* [Marker styles](https://matplotlib.org/2.0.1/api/markers_api.html#module-matplotlib.markers)\n",
    "* [Everything you could ever want](https://matplotlib.org/2.0.1/api/lines_api.html#matplotlib.lines.Line2D.set_marker)\n",
    "\n",
    "We haven't discussed it yet, but you can also put a legend on a figure.  You'll do that in the next exercise.  Here are some additional resources:\n",
    "* [Legend](https://matplotlib.org/api/_as_gen/matplotlib.pyplot.legend.html)\n",
    "* [Grid](https://matplotlib.org/api/_as_gen/matplotlib.pyplot.grid.html)"
   ]
  },
  {
   "cell_type": "markdown",
   "metadata": {},
   "source": [
    "<div class=\"exercise\"><b>Exercise</b></div>\n",
    "\n",
    "Do the following:\n",
    "* Make a figure with the logistic function, hyperbolic tangent, and rectified linear unit.\n",
    "* Use different line styles for each plot\n",
    "* Put a legend on your figure\n",
    "\n",
    "Here's an example of a figure:\n",
    "![](nice_plots.png)\n",
    "\n",
    "You don't need to make the exact same figure, but it should be just as nice and readable."
   ]
  },
  {
   "cell_type": "code",
   "execution_count": 72,
   "metadata": {
    "scrolled": false
   },
   "outputs": [
    {
     "data": {
      "image/png": "[encoded data removed]",
      "text/plain": [
       "<matplotlib.figure.Figure at 0x7f590072a8d0>"
      ]
     },
     "metadata": {},
     "output_type": "display_data"
    }
   ],
   "source": [
    "# your code here\n",
    "\n",
    "# First get the data\n",
    "f = logistic(x, -2.0, 1.0)\n",
    "g = stretch_tanh(x, 2.0, 0.5, 0.5)\n",
    "h = relu(x)\n",
    "\n",
    "fig, ax = plt.subplots(1,1, figsize=(10,6)) # Create figure object\n",
    "\n",
    "# Make actual plots\n",
    "# (Notice the label argument!)\n",
    "ax.plot(x, f, lw=4, ls='-', label=r'$L(x;1)$')\n",
    "ax.plot(x, g, lw=4, ls='--', label=r'$\\tanh(2x)$')\n",
    "ax.plot(x, h, lw=4, ls='-.', label=r'$relu(x; 0.01)$')\n",
    "\n",
    "# Make the tick labels readable\n",
    "ax.tick_params(labelsize=24)\n",
    "\n",
    "# Set axes limits to make the scale nice\n",
    "ax.set_xlim(x.min(), x.max())\n",
    "ax.set_ylim(h.min(), 1.1)\n",
    "\n",
    "# Make readable labels\n",
    "ax.set_xlabel(r'$x$', fontsize=24)\n",
    "ax.set_ylabel(r'$h(x)$', fontsize=24)\n",
    "ax.set_title('Activation Functions', fontsize=24)\n",
    "\n",
    "# Set up grid\n",
    "ax.grid(True, lw=1.75, ls='--', alpha=0.75)\n",
    "\n",
    "# Put legend on figure\n",
    "ax.legend(loc='best', fontsize=24);\n",
    "\n",
    "fig.savefig('nice_plots.png')"
   ]
  },
  {
   "cell_type": "markdown",
   "metadata": {},
   "source": [
    "There a many more things you can do to the figure to spice it up.  Remember, there must be a tradeoff between making a figure look good and the time you put into it.  \n",
    "\n",
    "**The guiding principle should be that your audience needs to easily read and understand your figure.**\n",
    "\n",
    "There are of course other types of figures including, but not limited to, \n",
    "* Scatter plots (you will use these all the time)\n",
    "* Bar charts\n",
    "* Histograms\n",
    "* Contour plots\n",
    "* Surface plots\n",
    "* Heatmaps\n",
    "\n",
    "There is documentation on each one of these.  You should feel comforatable enough with the plotting API now to dig in and make readable, understandable plots.\n",
    "\n",
    "Before moving on, we will discuss another way to make your plots look good without all the hassle.  I'll make a beautiful plot without having to specify annoying arguments every single time."
   ]
  },
  {
   "cell_type": "code",
   "execution_count": 74,
   "metadata": {},
   "outputs": [
    {
     "ename": "ModuleNotFoundError",
     "evalue": "No module named 'config'",
     "output_type": "error",
     "traceback": [
      "\u001b[0;31m---------------------------------------------------------------------------\u001b[0m",
      "\u001b[0;31mModuleNotFoundError\u001b[0m                       Traceback (most recent call last)",
      "\u001b[0;32m<ipython-input-74-a6aa8afe6163>\u001b[0m in \u001b[0;36m<module>\u001b[0;34m()\u001b[0m\n\u001b[0;32m----> 1\u001b[0;31m \u001b[0;32mimport\u001b[0m \u001b[0mconfig\u001b[0m \u001b[0;31m# User-defined config file\u001b[0m\u001b[0;34m\u001b[0m\u001b[0m\n\u001b[0m\u001b[1;32m      2\u001b[0m \u001b[0mplt\u001b[0m\u001b[0;34m.\u001b[0m\u001b[0mrcParams\u001b[0m\u001b[0;34m.\u001b[0m\u001b[0mupdate\u001b[0m\u001b[0;34m(\u001b[0m\u001b[0mconfig\u001b[0m\u001b[0;34m.\u001b[0m\u001b[0mpars\u001b[0m\u001b[0;34m)\u001b[0m \u001b[0;31m# Update rcParams to make nice plots\u001b[0m\u001b[0;34m\u001b[0m\u001b[0m\n\u001b[1;32m      3\u001b[0m \u001b[0;34m\u001b[0m\u001b[0m\n\u001b[1;32m      4\u001b[0m \u001b[0;31m# First get the data\u001b[0m\u001b[0;34m\u001b[0m\u001b[0;34m\u001b[0m\u001b[0m\n\u001b[1;32m      5\u001b[0m \u001b[0mf1\u001b[0m \u001b[0;34m=\u001b[0m \u001b[0mlogistic\u001b[0m\u001b[0;34m(\u001b[0m\u001b[0mx\u001b[0m\u001b[0;34m,\u001b[0m \u001b[0;34m-\u001b[0m\u001b[0;36m1.0\u001b[0m\u001b[0;34m,\u001b[0m \u001b[0;36m1.0\u001b[0m\u001b[0;34m)\u001b[0m\u001b[0;34m\u001b[0m\u001b[0m\n",
      "\u001b[0;31mModuleNotFoundError\u001b[0m: No module named 'config'"
     ]
    }
   ],
   "source": [
    "import config # User-defined config file\n",
    "plt.rcParams.update(config.pars) # Update rcParams to make nice plots\n",
    "\n",
    "# First get the data\n",
    "f1 = logistic(x, -1.0, 1.0)\n",
    "f2 = logistic(x, -2.0, 1.0)\n",
    "f3 = logistic(x, -3.0, 1.0)\n",
    "\n",
    "fig, ax = plt.subplots(1,1, figsize=(10,6)) # Create figure object\n",
    "\n",
    "# Make actual plots\n",
    "# (Notice the label argument!)\n",
    "ax.plot(x, f1, ls='-', label=r'$L(x;-1)$')\n",
    "ax.plot(x, f2, ls='--', label=r'$L(x;-2)$')\n",
    "ax.plot(x, f3, ls='-.', label=r'$L(x;-3)$')\n",
    "\n",
    "# Set axes limits to make the scale nice\n",
    "ax.set_xlim(x.min(), x.max())\n",
    "ax.set_ylim(h.min(), 1.1)\n",
    "\n",
    "# Make readable labels\n",
    "ax.set_xlabel(r'$x$')\n",
    "ax.set_ylabel(r'$h(x)$')\n",
    "ax.set_title('Logistic Functions')\n",
    "\n",
    "# Set up grid\n",
    "ax.grid(True, lw=1.75, ls='--', alpha=0.75)\n",
    "\n",
    "# Put legend on figure\n",
    "ax.legend(loc='best')"
   ]
  },
  {
   "cell_type": "markdown",
   "metadata": {},
   "source": [
    "That's a good-looking plot!  Notice that we didn't need to have all those annoying `fontsize` specifications floating around.  If you want to reset the defaults, just use `plt.rcdefaults()`.\n",
    "\n",
    "Now, how in the world did this work?  Obviously, there is something special about the `config` file.  I didn't give you a config file, but the next exercise requires you to create one."
   ]
  },
  {
   "cell_type": "markdown",
   "metadata": {},
   "source": [
    "<div class=\"exercise\"><b>Exercise</b></div>\n",
    "* Read the *matplotlib rcParams* section at the following page: [Customizing matplotlib](https://matplotlib.org/users/customizing.html)\n",
    "* Create your very own `config.py` file.  It should have the following structure:\n",
    "```python\n",
    "pars = {}\n",
    "```\n",
    "You must fill in the `pars` dictionary yourself.  All the possible parameters can be found at the link above.  For example, if you want to set a default line width of `4`, then you would have \n",
    "```python\n",
    "pars = {'lines.linewidth': 4}\n",
    "```\n",
    "  in your `config.py` file.\n",
    "* Make sure your `config.py` file is in the same directory as your lab notebook.\n",
    "* Make a plot (similar to the one I made above) using your `config` file."
   ]
  },
  {
   "cell_type": "markdown",
   "metadata": {},
   "source": [
    "### `seaborn`\n",
    "Early on in this plotting section, I mentioned `seaborn`.  You can use `seaborn` to make very nice plots of statistical data.  Here is the main website:  [seaborn: statistical data visualization](https://seaborn.pydata.org/).\n",
    "\n",
    "We won't dive deep into `seaborn` here.  It is quite popular in the data science community, but it is ultimately up to you whether or not you choose to use it.\n",
    "\n",
    "`seaborn` works great with `pandas`.  It can also be customized easily.  Here is the basic `seaborn` tutorial: [Seaborn tutorial](https://seaborn.pydata.org/tutorial.html)."
   ]
  },
  {
   "cell_type": "markdown",
   "metadata": {},
   "source": [
    "### No Excuses\n",
    "With all of these resourses, there is no reason to have a bad figure. EVER."
   ]
  },
  {
   "cell_type": "markdown",
   "metadata": {},
   "source": [
    "## Part 13:  References\n",
    "\n",
    "Congratulations!  You've completed lab 0.  You'll likely very comfortable with some parts of the lab, and less comfortable with other parts.  Below are a few tutorials and practice problems if you'd like to do more -- check them out.\n",
    "<ol >\n",
    "<li> Tutorial: https://realpython.com/files/python_cheat_sheet_v1.pdf </li>\n",
    "<li> Short practice problems with solutions: http://www.practicepython.org</li>\n",
    "<li> Jupyter notebooks (0, 1, and 2 are more relevant): https://github.com/jrjohansson/scientific-python-lectures </li>\n",
    "</ol>\n",
    " "
   ]
  }
 ],
 "metadata": {
  "anaconda-cloud": {},
  "kernelspec": {
   "display_name": "Python 3",
   "language": "python",
   "name": "python3"
  },
  "language_info": {
   "codemirror_mode": {
    "name": "ipython",
    "version": 3
   },
   "file_extension": ".py",
   "mimetype": "text/x-python",
   "name": "python",
   "nbconvert_exporter": "python",
   "pygments_lexer": "ipython3",
   "version": "3.6.4"
  }
 },
 "nbformat": 4,
 "nbformat_minor": 1
}
