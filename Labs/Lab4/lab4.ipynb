{
 "cells": [
  {
   "cell_type": "markdown",
   "metadata": {},
   "source": [
    "# Introduction to neural networks using Keras I\n",
    "\n",
    "#### By Julian Rincon, _Department of Applied Mathematics and Computer Science, Universidad del Rosario_\n",
    "#### Notebook originally written by Pavlos Protopapas, _Harvard Institute for Applied Computational Science_\n",
    "###### Based on the book [Deep Learning with Python](https://www.manning.com/books/deep-learning-with-python) by François Chollet."
   ]
  },
  {
   "cell_type": "markdown",
   "metadata": {},
   "source": [
    "In this (first) tutorial we will cover/review the following topics:\n",
    "\n",
    "1. A quick and dirty installation and introduction to [Keras](http://keras.io).\n",
    "2. Basic concepts in neural networks seen in the lectures.\n",
    "3. A prototypical application of neural networks using Keras.\n",
    "\n",
    "Let us start by reviewing some basic components of machine and deep learning."
   ]
  },
  {
   "cell_type": "markdown",
   "metadata": {},
   "source": [
    "---"
   ]
  },
  {
   "cell_type": "markdown",
   "metadata": {},
   "source": [
    "## Theory about Neural Networks\n",
    "\n",
    "### From Linear to Deep Learning Models\n",
    "\n",
    "#### Beyond Linear Models\n",
    "\n",
    "Linear models can be fit efficiently via convex optimization, but the model capacity is limited.\n",
    "\n",
    "Alternative:\n",
    "$$ f(x) = w^T\\phi(x) $$\n",
    "where $\\phi$ is a *non-linear transform*\n",
    "\n",
    "A machine-learning model transforms its input data into meaningful outputs, a process that is \"learned\" from exposure to known examples of inputs and outputs. Therefore, _**the central problem in machine learning and deep learning is to meaningfully transform data**_: in other words, to learn useful *representations* of the input data at hand -- representations that get us closer to the expected output.\n",
    "\n",
    "#### Traditional Machine Learning\n",
    "\n",
    "One option is to use a very generic $\\phi$. If $\\phi(x)$ is of high enough dimension, we can always have enough capacity to fit the training set, but generalization to the test set often remains poor. Very generic feature mappings are usually based only on the principle of local smoothness and do not encode enough prior information to solve advanced problems.\n",
    "\n",
    "Another option is to manually engineer $\\phi$. Until the advent of deep learning, this was the dominant approach. It requires decades of human effort for each separate task, with practitioners specializing in different domains, such as speech recognition or computer vision, and with little transfer between domains.\n",
    "\n",
    "#### Deep Learning\n",
    "\n",
    "Directly learn $\\phi$ with parameters $\\theta$, specifically:\n",
    "$$f(x;\\theta) = w^T\\phi(x;\\theta)$$\n",
    "\n",
    "\n",
    "We now have parameters $\\theta$ that we use to learn $\\phi$ from a broad class of functions, and parameters that map from $\\phi(x)$ to the desired output. This is an example of a deep feed-forward network, with $\\phi$ defining a hidden layer. This approach is the only one of the three that gives up on the convexity of the training problem, but the benefits outweigh the harms. In this approach, we parametrize the representation as $\\phi(x;\\theta)$ and use the optimization algorithm to find the $\\theta$ that corresponds to a good representation. If we wish, this approach can capture the benefit of the first approach by being highly generic$-$we do so by using a very broad family $\\phi(x;\\theta)$. Deep learning can also capture the benefit of the second approach. Human practitioners can encode their knowledge to help generalization by designing families $\\phi(x;\\theta)$ that they expect will perform well. The advantage is that the human designer only needs to find the right general function family rather than finding precisely the right function.\n",
    "\n",
    "![layers of representations](representations.png)\n",
    "\n",
    "The *deep* in *deep learning* isn't a reference to any kind of deeper understanding achieved by the approach; rather, it stands for this idea of successive layers of representations. How many layers contribute to a model of the data is called the *depth* of the model. Other appropriate names for the field could have been *layered representations learning* and *hierarchical representations learning*. Modern deep learning often involves tens or even hundreds of successive layers of representations$-$and they're all learned automatically from exposure to training data."
   ]
  },
  {
   "cell_type": "markdown",
   "metadata": {},
   "source": [
    "### Components of Deep Learning\n",
    "\n",
    "To do machine learning, and in particular deep learning, we need three things:\n",
    "\n",
    "* **Input** data points$-$For instance, if the task is speech recognition, these data points could be sound files of people speaking. If the task is image tagging, they could be pictures.\n",
    "* Examples of the expected **output**$-$In a speech-recognition task, these could be human-generated transcripts of sound files. In an image task, expected outputs could be tags such as \"dog\", \"cat\", and so on.\n",
    "* A **cost (or loss) function** which is a way to measure whether the algorithm is doing a good job. This is necessary in order to determine the distance between the algorithm's current output and its expected output. The measurement is used as a feedback signal to adjust the way the algorithm works. This adjustment step is what we call *learning*.\n",
    "\n",
    "![components of deep learning](components.png)"
   ]
  },
  {
   "cell_type": "markdown",
   "metadata": {},
   "source": [
    "---"
   ]
  },
  {
   "cell_type": "markdown",
   "metadata": {},
   "source": [
    "## Instructions to set up a workstation with Keras\n",
    "\n",
    "We will assume we've already have installed on our workstation\n",
    "\n",
    "1. [Python](https://www.python.org/) 3,\n",
    "1. Linear algebra libraries: BLAS and LAPACK,\n",
    "1. Python's scientific suite: [Numpy](http://www.numpy.org/), [Scipy](https://www.scipy.org/), and [Matplotlib](https://matplotlib.org/).\n",
    "\n",
    "In order to set up a functioning workstation, it's recommended to work with [Jupyter](http://jupyter.org/) Notebooks. The Jupyter Notebook is an open-source web application that allows to code interactively. You can either install Jupyter using Python's package manager `pip` or directly install the Anaconda Distribution. Here we follow the first route. For details on how to install Jupyter go to http://jupyter.org/install.html.\n",
    "\n",
    "In case you don't have it, you will need to install `pip`. However, make sure you've updated your OS's package database. If using OSX's `port`, you must update `port`'s tree and upgrade any installed ports. (Of course, use the corresponding package manager according to your OS.) In a terminal type\n",
    "\n",
    "    sudo port selfupdate\n",
    "    sudo port upgrade outdated #this might take a while\n",
    "    sudo port install py34-pip\n",
    "    sudo port select --set pip pip34\n",
    "\n",
    "The `py34` above stands for Python3.4, again, change that accordingly in your workstation. The actual installation of [Jupyter](http://jupyter.org/) will follow from the commands:\n",
    "\n",
    "    sudo -H python3 -m pip install --upgrade pip  \n",
    "    sudo -H python3 -m pip install jupyter\n",
    "\n",
    "Consider setting up and exporting the environment variable `PATH`, if necessary.\n",
    "\n",
    "The framework [Keras](http://keras.io) is a front-end to deep learning engines such as [TensorFlow](https://www.tensorflow.org/), [Theano](https://github.com/Theano/), and Microsoft's Cognitive Toolkit [CNTK](https://www.microsoft.com/en-us/cognitive-toolkit/). It's highly recommended to use TensorFlow, so that's the back-end we will install.\n",
    "\n",
    "Next we install TensorFlow, for further details visit https://www.tensorflow.org/install/. Input in your terminal\n",
    "\n",
    "    sudo -H pip install tensorflow\n",
    "\n",
    "and follow any prompted instructions.\n",
    "\n",
    "Finally, for the last step we get to install the Keras framework:\n",
    "\n",
    "    sudo -H pip install keras\n",
    "\n",
    "More information is provided in Kera's website https://keras.io/. In order to check the successful installation of both TensorFlow and Keras open an interactive Python 3 session and type \n",
    "\n",
    "    import keras\n",
    "    keras.__version__\n",
    "\n",
    "you should see an output that includes the message \n",
    "\n",
    "> Using TensorFlow backend.  \n",
    "> '2.2.0'\n",
    "\n",
    "or something like that. If you get a message of that form then we've swimmingly installed Keras and its dependencies.\n",
    "\n",
    "Optionally, you may want to install other useful libraries. [HDF5](https://matplotlib.org/) and [h5py](https://www.h5py.org/) for quick and efficient manipulation of large files. [Graphviz](https://www.graphviz.org/) for explicit visualization of Keras models. For GPU support you will need to install CUDA, cuDNN, and install TensorFlow with GPU support. For details check out NVIDIA's web page https://developer.nvidia.com/.\n",
    "\n",
    "Let's now move on to some neural networks applications."
   ]
  },
  {
   "cell_type": "markdown",
   "metadata": {},
   "source": [
    "---"
   ]
  },
  {
   "cell_type": "markdown",
   "metadata": {},
   "source": [
    "## Deep learning examples using Keras\n",
    "\n",
    "This notebook contains the code samples found in Chapter 2, Section 1 and 5 of [Deep Learning with Python](https://www.manning.com/books/deep-learning-with-python?a_aid=keras&a_bid=76564dff) by F. Chollet. Note that the original text features far more content, in particular further explanations and figures: in this notebook, you will only find source code and related comments."
   ]
  },
  {
   "cell_type": "markdown",
   "metadata": {},
   "source": [
    "### Hand-written digit image classification\n",
    "\n",
    "We will now take a look at a first concrete example of a neural network, which makes use of the Python library Keras to learn to classify hand-written digits. Unless you already have experience with Keras or similar libraries, you will not understand everything about this first example right away. You probably haven't even installed Keras yet. Don't worry, that is perfectly fine. In the next lecture or lab, we will review each element in our example and explain them in detail. So don't worry if some steps seem arbitrary or look like magic to you! We've got to start somewhere.\n",
    "\n",
    "The problem we are trying to solve here is to classify grayscale images of handwritten digits (28 pixels by 28 pixels), into their 10 categories (0 to 9). The dataset we will use is the `MNIST` dataset, a classic dataset in the machine learning community, which has been around for almost as long as the field itself and has been very intensively studied. It's a set of 60,000 training images, plus 10,000 test images, assembled by the National Institute of Standards and Technology (NIST) in the 1980s. *You can think of \"solving\" MNIST as the \"Hello World\" of deep learning* -- it's what you do to verify that your algorithms are working as expected. As you become a machine learning practitioner, you will see MNIST come up over and over again, in scientific papers, blog posts, and so on."
   ]
  },
  {
   "cell_type": "markdown",
   "metadata": {},
   "source": [
    "The MNIST dataset comes pre-loaded in Keras, in the form of a set of four Numpy arrays:"
   ]
  },
  {
   "cell_type": "code",
   "execution_count": 1,
   "metadata": {},
   "outputs": [
    {
     "name": "stderr",
     "output_type": "stream",
     "text": [
      "Using TensorFlow backend.\n"
     ]
    }
   ],
   "source": [
    "from keras.datasets import mnist\n",
    "\n",
    "(train_images, train_labels), (test_images, test_labels) = mnist.load_data()"
   ]
  },
  {
   "cell_type": "markdown",
   "metadata": {},
   "source": [
    "`train_images` and `train_labels` form the \"training set\", the data that the model will learn from. The model will then be tested on the \"test set\", `test_images` and `test_labels`. Our images are encoded as Numpy arrays, and the labels are simply an array of digits, ranging from 0 to 9. There is a one-to-one correspondence between the images and the labels.\n",
    "\n",
    "Let's have a look at the training data:"
   ]
  },
  {
   "cell_type": "code",
   "execution_count": 2,
   "metadata": {
    "scrolled": false
   },
   "outputs": [
    {
     "data": {
      "text/plain": [
       "(60000, 28, 28)"
      ]
     },
     "execution_count": 2,
     "metadata": {},
     "output_type": "execute_result"
    }
   ],
   "source": [
    "train_images.shape"
   ]
  },
  {
   "cell_type": "code",
   "execution_count": 3,
   "metadata": {},
   "outputs": [
    {
     "data": {
      "text/plain": [
       "60000"
      ]
     },
     "execution_count": 3,
     "metadata": {},
     "output_type": "execute_result"
    }
   ],
   "source": [
    "len(train_labels)"
   ]
  },
  {
   "cell_type": "code",
   "execution_count": 4,
   "metadata": {
    "scrolled": true
   },
   "outputs": [
    {
     "name": "stdout",
     "output_type": "stream",
     "text": [
      "(60000,) 5\n"
     ]
    }
   ],
   "source": [
    "print(train_labels.shape, train_images[0])"
   ]
  },
  {
   "cell_type": "markdown",
   "metadata": {},
   "source": [
    "Let's have a look at the test data:"
   ]
  },
  {
   "cell_type": "code",
   "execution_count": 5,
   "metadata": {},
   "outputs": [
    {
     "data": {
      "text/plain": [
       "(10000, 28, 28)"
      ]
     },
     "execution_count": 5,
     "metadata": {},
     "output_type": "execute_result"
    }
   ],
   "source": [
    "test_images.shape"
   ]
  },
  {
   "cell_type": "code",
   "execution_count": 6,
   "metadata": {},
   "outputs": [
    {
     "data": {
      "text/plain": [
       "10000"
      ]
     },
     "execution_count": 6,
     "metadata": {},
     "output_type": "execute_result"
    }
   ],
   "source": [
    "len(test_labels)"
   ]
  },
  {
   "cell_type": "code",
   "execution_count": 7,
   "metadata": {},
   "outputs": [
    {
     "data": {
      "text/plain": [
       "array([7, 2, 1, ..., 4, 5, 6], dtype=uint8)"
      ]
     },
     "execution_count": 7,
     "metadata": {},
     "output_type": "execute_result"
    }
   ],
   "source": [
    "test_labels"
   ]
  },
  {
   "cell_type": "markdown",
   "metadata": {},
   "source": [
    "Let's randomly plot actual images to see and verify their content. We first need to import the `matplotlib` library for visualization, then we can plot the images."
   ]
  },
  {
   "cell_type": "code",
   "execution_count": 12,
   "metadata": {},
   "outputs": [
    {
     "data": {
      "image/png": "[encoded data removed]",
      "text/plain": [
       "<Figure size 432x288 with 1 Axes>"
      ]
     },
     "metadata": {},
     "output_type": "display_data"
    },
    {
     "name": "stdout",
     "output_type": "stream",
     "text": [
      "The label for this image is 7\n"
     ]
    }
   ],
   "source": [
    "import numpy as np\n",
    "import matplotlib.pyplot as plt\n",
    "\n",
    "img = np.random.randint(0, len(train_images))\n",
    "digit = train_images[img]\n",
    "plt.imshow(digit)\n",
    "plt.show()\n",
    "print('The label for this image is', train_labels[img])"
   ]
  },
  {
   "cell_type": "markdown",
   "metadata": {},
   "source": [
    "What does the following instruction do?"
   ]
  },
  {
   "cell_type": "code",
   "execution_count": 13,
   "metadata": {},
   "outputs": [
    {
     "data": {
      "text/plain": [
       "array([0, 1, 2, 3, 4, 5, 6, 7, 8, 9], dtype=uint8)"
      ]
     },
     "execution_count": 13,
     "metadata": {},
     "output_type": "execute_result"
    }
   ],
   "source": [
    "np.unique(train_labels)"
   ]
  },
  {
   "cell_type": "markdown",
   "metadata": {},
   "source": [
    "Our workflow will be as follow: first we will present our neural network with the training data, `train_images` and `train_labels`. The network will then learn to associate images and labels. Finally, we will ask the network to produce predictions for `test_images`, and we will verify if these predictions match the labels from `test_labels`.\n",
    "\n",
    "Let's build our network $-$ again, remember that you aren't supposed to understand everything about this example just yet."
   ]
  },
  {
   "cell_type": "code",
   "execution_count": 14,
   "metadata": {
    "collapsed": true
   },
   "outputs": [],
   "source": [
    "from keras import models\n",
    "from keras import layers\n",
    "\n",
    "network = models.Sequential()\n",
    "network.add(layers.Dense(512, activation='sigmoid', input_shape=(28 * 28,)))\n",
    "network.add(layers.Dense(10, activation='sigmoid'))"
   ]
  },
  {
   "cell_type": "markdown",
   "metadata": {},
   "source": [
    "The core building block of neural networks is the **layer**, a data-processing module which you can conceive as a \"filter\" for data. Some data comes in, and comes out in a more useful form. Precisely, layers extract _representations_ out of the data fed into them $-$ hopefully representations that are more meaningful for the problem at hand. Most of deep learning really consists of chaining together simple layers which will implement a form of progressive \"data distillation\". A deep learning model is like a sieve for data processing, made of a \n",
    "succession of increasingly refined data filters $-$ the \"layers\".\n",
    "\n",
    "Here our network consists of a sequence of two `Dense` layers, which are densely-connected  or **fully-connected** neural layers. The second (and last) layer is a 10-way \"softmax\" layer, which means it will return an array of 10 probability scores (summing to 1). Each score will be the probability that the current digit image belongs to one of our 10 digit classes.\n",
    "\n",
    "To make our network ready for training, we need to pick three more things, as part of the \"compilation\" step:\n",
    "\n",
    "* A _loss function_: this is how the network will be able to measure how good a job it's doing on its training data, and thus how it will be able to steer itself in the right direction.\n",
    "* An _optimizer_: this is the mechanism through which the network will update itself based on the data it sees and its loss function.\n",
    "* Some _metrics_ to monitor during training and testing. Here we will only care about accuracy (the fraction of the images that were correctly classified).\n",
    "\n",
    "The exact purpose of the loss function and the optimizer will be made clear throughout the next two chapters."
   ]
  },
  {
   "cell_type": "code",
   "execution_count": 16,
   "metadata": {
    "collapsed": true
   },
   "outputs": [],
   "source": [
    "network.compile(optimizer='sgd',\n",
    "                loss='categorical_crossentropy',\n",
    "                metrics=['accuracy'])"
   ]
  },
  {
   "cell_type": "markdown",
   "metadata": {},
   "source": [
    "Before training, we will preprocess our data by reshaping it into the shape that the network expects, and scaling it so that all values are in the `[0, 1]` interval. Previously, our training images for instance were stored in an array of shape `(60000, 28, 28)` of type `uint8` with values in the `[0, 255]` interval. We transform it into a `float32` array of shape `(60000, 28 * 28)` with values between 0 and 1."
   ]
  },
  {
   "cell_type": "code",
   "execution_count": 17,
   "metadata": {
    "collapsed": true
   },
   "outputs": [],
   "source": [
    "train_images = train_images.reshape((60000, 28 * 28))\n",
    "train_images = train_images.astype('float32') / 255\n",
    "\n",
    "test_images = test_images.reshape((10000, 28 * 28))\n",
    "test_images = test_images.astype('float32') / 255"
   ]
  },
  {
   "cell_type": "markdown",
   "metadata": {},
   "source": [
    "We also need to categorically encode the labels, a step which we explain in chapter 3:"
   ]
  },
  {
   "cell_type": "code",
   "execution_count": 18,
   "metadata": {
    "collapsed": true
   },
   "outputs": [],
   "source": [
    "from keras.utils import to_categorical\n",
    "\n",
    "train_labels = to_categorical(train_labels)\n",
    "test_labels = to_categorical(test_labels)"
   ]
  },
  {
   "cell_type": "code",
   "execution_count": 20,
   "metadata": {},
   "outputs": [
    {
     "name": "stdout",
     "output_type": "stream",
     "text": [
      "[[0. 0. 0. ... 0. 0. 0.]\n",
      " [1. 0. 0. ... 0. 0. 0.]\n",
      " [0. 0. 0. ... 0. 0. 0.]\n",
      " ...\n",
      " [0. 0. 0. ... 0. 0. 0.]\n",
      " [0. 0. 0. ... 0. 0. 0.]\n",
      " [0. 0. 0. ... 0. 1. 0.]]\n"
     ]
    }
   ],
   "source": [
    "print(train_labels)"
   ]
  },
  {
   "cell_type": "markdown",
   "metadata": {},
   "source": [
    "We are now ready to **train** our network, which in Keras is done via a call to the `fit` method of the network: \n",
    "we \"fit\" the model to its training data."
   ]
  },
  {
   "cell_type": "code",
   "execution_count": 21,
   "metadata": {},
   "outputs": [
    {
     "name": "stdout",
     "output_type": "stream",
     "text": [
      "Epoch 1/5\n",
      "60000/60000 [==============================] - 4s 69us/step - loss: 2.1321 - acc: 0.4757\n",
      "Epoch 2/5\n",
      "60000/60000 [==============================] - 4s 68us/step - loss: 1.5927 - acc: 0.7530\n",
      "Epoch 3/5\n",
      "60000/60000 [==============================] - 4s 66us/step - loss: 1.1621 - acc: 0.8028\n",
      "Epoch 4/5\n",
      "60000/60000 [==============================] - 4s 64us/step - loss: 0.9110 - acc: 0.8264\n",
      "Epoch 5/5\n",
      "60000/60000 [==============================] - 4s 69us/step - loss: 0.7644 - acc: 0.8407\n"
     ]
    },
    {
     "data": {
      "text/plain": [
       "<keras.callbacks.History at 0x11b2328d0>"
      ]
     },
     "execution_count": 21,
     "metadata": {},
     "output_type": "execute_result"
    }
   ],
   "source": [
    "network.fit(train_images, train_labels, epochs=5, batch_size=128)"
   ]
  },
  {
   "cell_type": "markdown",
   "metadata": {},
   "source": [
    "Two quantities are being displayed during training: the \"loss\" of the network over the training data, and the \"accuracy\" of the network over the training data.\n",
    "\n",
    "We quickly reach an accuracy of 0.989 (i.e. 98.9%) on the training data. Now let's check that our model performs well on the test set too:"
   ]
  },
  {
   "cell_type": "code",
   "execution_count": 22,
   "metadata": {},
   "outputs": [
    {
     "name": "stdout",
     "output_type": "stream",
     "text": [
      "10000/10000 [==============================] - 1s 59us/step\n"
     ]
    }
   ],
   "source": [
    "test_loss, test_acc = network.evaluate(test_images, test_labels)"
   ]
  },
  {
   "cell_type": "code",
   "execution_count": 23,
   "metadata": {},
   "outputs": [
    {
     "name": "stdout",
     "output_type": "stream",
     "text": [
      "test_acc: 0.8537 \n",
      "test_loss: 0.6914102837562561\n"
     ]
    }
   ],
   "source": [
    "print('test_acc:', test_acc, '\\ntest_loss:', test_loss)"
   ]
  },
  {
   "cell_type": "markdown",
   "metadata": {},
   "source": [
    "Just for comparison, let's explicitly evaluate the model performance information on the training data:"
   ]
  },
  {
   "cell_type": "code",
   "execution_count": 24,
   "metadata": {},
   "outputs": [
    {
     "name": "stdout",
     "output_type": "stream",
     "text": [
      "60000/60000 [==============================] - 3s 50us/step\n"
     ]
    }
   ],
   "source": [
    "train_loss, train_acc = network.evaluate(train_images, train_labels)"
   ]
  },
  {
   "cell_type": "code",
   "execution_count": 25,
   "metadata": {},
   "outputs": [
    {
     "name": "stdout",
     "output_type": "stream",
     "text": [
      "train_acc: 0.8470833333333333 \n",
      "train_loss: 0.7113502746899922\n"
     ]
    }
   ],
   "source": [
    "print('train_acc:', train_acc, '\\ntrain_loss:', train_loss)"
   ]
  },
  {
   "cell_type": "markdown",
   "metadata": {},
   "source": [
    "Our **test set accuracy** turns out to be 97.8% $-$ that's quite a bit lower than the **training set accuracy** 99.2%. \n",
    "This gap between training accuracy and test accuracy is an example of \"overfitting\", the fact that machine learning models tend to perform worse on new data than on their training data. Overfitting will be a central topic in chapter 3.\n",
    "\n",
    "This concludes our very first example $-$ you just saw how we could build and a train a neural network to classify handwritten digits, in less than 20 lines of Python code.\n",
    "\n",
    "In the next lecture/lab, we will go in detail over every moving piece we just previewed, and clarify what is really \n",
    "going on behind the scenes."
   ]
  },
  {
   "cell_type": "markdown",
   "metadata": {},
   "source": [
    "### Performance plots as a function of hyper-parameters\n",
    "\n",
    "Do the exercises propose at the end of this notebook in this section."
   ]
  },
  {
   "cell_type": "code",
   "execution_count": 40,
   "metadata": {
    "collapsed": true
   },
   "outputs": [],
   "source": [
    "import numpy as np\n",
    "import matplotlib.pyplot as plt\n",
    "\n",
    "from keras import models\n",
    "from keras import layers\n",
    "#from keras import optimizers\n",
    "from keras.datasets import mnist\n",
    "from keras.utils import to_categorical\n",
    "\n",
    "(train_images, train_labels), (test_images, test_labels) = mnist.load_data()"
   ]
  },
  {
   "cell_type": "code",
   "execution_count": 41,
   "metadata": {
    "collapsed": true
   },
   "outputs": [],
   "source": [
    "train_images = train_images.reshape((60000, 28 * 28))\n",
    "train_images = train_images.astype('float32') / 255\n",
    "\n",
    "test_images = test_images.reshape((10000, 28 * 28))\n",
    "test_images = test_images.astype('float32') / 255\n",
    "\n",
    "train_labels = to_categorical(train_labels)\n",
    "test_labels = to_categorical(test_labels)"
   ]
  },
  {
   "cell_type": "code",
   "execution_count": 62,
   "metadata": {},
   "outputs": [
    {
     "name": "stdout",
     "output_type": "stream",
     "text": [
      "**************************************** hyper-parameter 128 ****************************************\n",
      "Epoch 1/5\n",
      "60000/60000 [==============================] - 7s 111us/step - loss: 0.4714 - acc: 0.8540\n",
      "Epoch 2/5\n",
      "60000/60000 [==============================] - 6s 92us/step - loss: 0.2742 - acc: 0.9206\n",
      "Epoch 3/5\n",
      "60000/60000 [==============================] - 5s 91us/step - loss: 0.2160 - acc: 0.9375\n",
      "Epoch 4/5\n",
      "60000/60000 [==============================] - 5s 91us/step - loss: 0.1730 - acc: 0.9503\n",
      "Epoch 5/5\n",
      "60000/60000 [==============================] - 5s 89us/step - loss: 0.1424 - acc: 0.9590\n",
      "10000/10000 [==============================] - 2s 165us/step\n",
      "60000/60000 [==============================] - 6s 100us/step\n",
      "**************************************** hyper-parameter 512 ****************************************\n",
      "Epoch 1/5\n",
      "60000/60000 [==============================] - 5s 89us/step - loss: 0.7888 - acc: 0.7748\n",
      "Epoch 2/5\n",
      "60000/60000 [==============================] - 4s 61us/step - loss: 0.3412 - acc: 0.9008\n",
      "Epoch 3/5\n",
      "60000/60000 [==============================] - 4s 63us/step - loss: 0.3088 - acc: 0.9103\n",
      "Epoch 4/5\n",
      "60000/60000 [==============================] - 4s 63us/step - loss: 0.2923 - acc: 0.9151\n",
      "Epoch 5/5\n",
      "60000/60000 [==============================] - 7s 117us/step - loss: 0.2782 - acc: 0.9205\n",
      "10000/10000 [==============================] - 4s 382us/step\n",
      "60000/60000 [==============================] - 8s 126us/step\n",
      "**************************************** hyper-parameter 2048 ****************************************\n",
      "Epoch 1/5\n",
      "60000/60000 [==============================] - 5s 77us/step - loss: 1.7052 - acc: 0.5546\n",
      "Epoch 2/5\n",
      "60000/60000 [==============================] - 3s 57us/step - loss: 0.5801 - acc: 0.8511\n",
      "Epoch 3/5\n",
      "60000/60000 [==============================] - 3s 55us/step - loss: 0.4227 - acc: 0.8816\n",
      "Epoch 4/5\n",
      "60000/60000 [==============================] - 3s 47us/step - loss: 0.3766 - acc: 0.8926\n",
      "Epoch 5/5\n",
      "60000/60000 [==============================] - 3s 46us/step - loss: 0.3526 - acc: 0.8983\n",
      "10000/10000 [==============================] - 2s 175us/step\n",
      "60000/60000 [==============================] - 7s 116us/step\n"
     ]
    }
   ],
   "source": [
    "hp_list, train_acc_list, test_acc_list = [], [], []\n",
    "\n",
    "for q in range(5, 13, 2):\n",
    "    hp =  2 ** q\n",
    "    print('*'*40, 'hyper-parameter', hp, '*'*40)\n",
    "    \n",
    "    network = models.Sequential()\n",
    "    network.add(layers.Dense(512, activation='sigmoid', input_shape=(28 * 28,)))\n",
    "    network.add(layers.Dense(10, activation='sigmoid'))\n",
    "\n",
    "    #sgd = optimizers.SGD(lr=.001, momentum=0.9, nesterov=True, decay=1e-6)\n",
    "    network.compile(optimizer='sgd', loss='categorical_crossentropy', metrics=['accuracy'])\n",
    "    network.fit(train_images, train_labels, epochs=5, batch_size=hp)\n",
    "\n",
    "    test_loss, test_acc = network.evaluate(test_images, test_labels)\n",
    "    train_loss, train_acc = network.evaluate(train_images, train_labels)\n",
    "    \n",
    "    hp_list.append(hp)\n",
    "    test_acc_list.append(test_acc)\n",
    "    train_acc_list.append(train_acc)"
   ]
  },
  {
   "cell_type": "code",
   "execution_count": 26,
   "metadata": {},
   "outputs": [
    {
     "name": "stdout",
     "output_type": "stream",
     "text": [
      "train_acc_list [0.9817166666666667, 0.97145, 0.94045, 0.9160166666666667]\n",
      "test_acc_list [0.974, 0.9656, 0.9371, 0.9177]\n"
     ]
    }
   ],
   "source": [
    "#rmsprop\n",
    "print('train_acc_list', train_acc_list)\n",
    "print('test_acc_list', test_acc_list)"
   ]
  },
  {
   "cell_type": "code",
   "execution_count": 64,
   "metadata": {},
   "outputs": [
    {
     "name": "stdout",
     "output_type": "stream",
     "text": [
      "train_acc_list [0.9658166666666667, 0.9227, 0.9016333333333333]\n",
      "test_acc_list [0.9611, 0.9234, 0.9074]\n"
     ]
    }
   ],
   "source": [
    "#sgd\n",
    "print('train_acc_list', train_acc_list)\n",
    "print('test_acc_list', test_acc_list)"
   ]
  },
  {
   "cell_type": "code",
   "execution_count": 65,
   "metadata": {},
   "outputs": [
    {
     "data": {
      "image/png": "[encoded data removed]",
      "text/plain": [
       "<Figure size 432x288 with 1 Axes>"
      ]
     },
     "metadata": {},
     "output_type": "display_data"
    }
   ],
   "source": [
    "plt.plot(hp_list, train_acc_list, '-o', label='train acc')\n",
    "plt.plot(hp_list, test_acc_list, '-.o', label='test acc')\n",
    "plt.xlabel('hyper-parameter')\n",
    "plt.ylabel('accuracy')\n",
    "plt.legend()\n",
    "plt.show()"
   ]
  },
  {
   "cell_type": "markdown",
   "metadata": {},
   "source": [
    "### Checking image prediction\n",
    "\n",
    "So far we've dealing with pretty technical stuff: how to build neural network models, train them, test them, etc. Let's now check whether a given image is correctly classified within their corresponding class. How do we do that? Well...\n",
    "\n",
    "1. Choose and load a random image in the appropriate format from the appropriate dataset.\n",
    "1. Use the `predict_classes` method from Keras. (Find its documentation.)\n",
    "1. Extract the prediction from whatever structure the above method returns.\n",
    "1. Display the selected image and print the corresponding class prediction.\n",
    "\n",
    "Try to implement this during the lab. Discuss what kind of models you encountered."
   ]
  },
  {
   "cell_type": "code",
   "execution_count": null,
   "metadata": {
    "collapsed": true
   },
   "outputs": [],
   "source": [
    "(train_images, train_labels), (test_images, test_labels) = mnist.load_data()"
   ]
  },
  {
   "cell_type": "code",
   "execution_count": null,
   "metadata": {
    "collapsed": true
   },
   "outputs": [],
   "source": [
    "img = np.random.randint(0, len(test_images))\n",
    "check_image = test_images[img].reshape((1,784))"
   ]
  },
  {
   "cell_type": "code",
   "execution_count": null,
   "metadata": {
    "collapsed": true
   },
   "outputs": [],
   "source": [
    "check_class = network.predict_classes(check_image)\n",
    "print(type(check_class))\n",
    "\n",
    "prediction = check_class[0]"
   ]
  },
  {
   "cell_type": "code",
   "execution_count": null,
   "metadata": {
    "collapsed": true
   },
   "outputs": [],
   "source": [
    "digit = test_images[img]\n",
    "plt.imshow(digit)\n",
    "plt.show()\n",
    "print('The label for this image is', test_labels[img])"
   ]
  },
  {
   "cell_type": "markdown",
   "metadata": {},
   "source": [
    "### Exercises\n",
    "\n",
    "Now that you are a little bit more acquainted with the framework Keras, it's time to play around with some of the hyper-parameters that we can modify when constructing and training a neural network. The idea is to keep using the hand-written digit recognition example.\n",
    "\n",
    "In this exercise, you will plot and analyze how the neural network model performs, i.e. inspect accuracy and loss, when you modify the following parameters keeping all the other model parameters fixed:\n",
    "\n",
    "* Number of epochs, fixed batch size,\n",
    "* Batch size, fixed number of epochs,\n",
    "* Number of neurons per layer, fixed number of layers,\n",
    "* Number of layers, fixed number of neurons per layer.\n",
    "\n",
    "Time permitting, it is also enlightening to analyze loss and accuracy when the activation parameter is modified. For instance, try changing `relu`s for `sigmoid`s and check out the performance of the neural network. What happen if the output layer's activation function is not `sigmoid` but a `softmax`?"
   ]
  },
  {
   "cell_type": "markdown",
   "metadata": {},
   "source": [
    "---"
   ]
  },
  {
   "cell_type": "markdown",
   "metadata": {},
   "source": [
    "## Further reading\n",
    "\n",
    "Most of this introduction is based on the book [Deep Learning with Python](https://www.manning.com/books/deep-learning-with-python) by François Chollet, the creator of Keras. It is a very practical introduction to Deep Learning without requiring all the mathematical background.\n",
    "\n",
    "The [Deep Learning](http://www.deeplearningbook.org/) book is a theoretical book in three parts: 1) The mathematical basis for Deep Learning, 2) Modern Practice Deep Networks, 3) Deep Learning Research. It is a good second book after getting some practical initial experience.\n",
    "\n",
    "For more advance deep learning practitioners, check out the book from the [link](https://machinelearningmastery.com/deep-learning-with-python/).\n",
    "\n",
    "We also recommend Andrew Ng's online course: https://www.deeplearning.ai/"
   ]
  },
  {
   "cell_type": "code",
   "execution_count": null,
   "metadata": {
    "collapsed": true
   },
   "outputs": [],
   "source": []
  }
 ],
 "metadata": {
  "kernelspec": {
   "display_name": "Python 3",
   "language": "python",
   "name": "python3"
  },
  "language_info": {
   "codemirror_mode": {
    "name": "ipython",
    "version": 3
   },
   "file_extension": ".py",
   "mimetype": "text/x-python",
   "name": "python",
   "nbconvert_exporter": "python",
   "pygments_lexer": "ipython3",
   "version": "3.6.3"
  }
 },
 "nbformat": 4,
 "nbformat_minor": 2
}
