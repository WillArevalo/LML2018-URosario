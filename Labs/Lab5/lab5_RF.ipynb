{
 "cells": [
  {
   "cell_type": "code",
   "execution_count": null,
   "metadata": {
    "collapsed": true
   },
   "outputs": [],
   "source": [
    "## ENTRENAMIENTO Y PRUEBA DE MODELO DE RANDOM FOREST EN\n",
    "## PREDICCION DE TIEMPO DE ESTANCIA EN HOSPITAL\n",
    "\n",
    "import pandas as pd\n",
    "import numpy as np\n",
    "import matplotlib.pyplot as plt\n",
    "\n",
    "from sklearn.ensemble import RandomForestClassifier\n",
    "from sklearn.model_selection import train_test_split\n",
    "from sklearn.metrics import accuracy_score"
   ]
  },
  {
   "cell_type": "code",
   "execution_count": null,
   "metadata": {
    "collapsed": false
   },
   "outputs": [],
   "source": [
    "#####################################################\n",
    "# Cargar datos\n",
    "print('Cargando datos...')\n",
    "X = pd.read_csv('data_preprocesada.csv')\n",
    "y= pd.read_csv('y.csv')\n",
    "feat_labels = ['Diagnostico','Hospital','via_Ingreso','codigo_Administradora','Causa_Externa','Edad','Ocupacion','Num_Reinserciones']\n",
    "\n",
    "\n",
    "# Separar en datos de entrenamiento y validacion\n",
    "X_train, X_test, y_train, y_test = train_test_split(X, y, test_size=0.4, random_state=0)\n"
   ]
  },
  {
   "cell_type": "code",
   "execution_count": null,
   "metadata": {
    "collapsed": false
   },
   "outputs": [],
   "source": [
    "######################################################\n",
    "# Entrenar clasificador\n",
    "print('Entrenando modelo Random Forest ...')\n",
    "model_rf = RandomForestClassifier(n_estimators=1000, max_features=4, min_samples_leaf=10,random_state=0, n_jobs=2)\n",
    "model_rf.fit(X_train, y_train.values.ravel())\n"
   ]
  },
  {
   "cell_type": "code",
   "execution_count": null,
   "metadata": {
    "collapsed": false
   },
   "outputs": [],
   "source": [
    "#####################################################\n",
    "# Encontrar importancia de cada variable, y graficar\n",
    "importanciaVars=model_rf.feature_importances_\n",
    "print('Calculando importancia de variables para prediccion ...')"
   ]
  },
  {
   "cell_type": "code",
   "execution_count": null,
   "metadata": {
    "collapsed": false
   },
   "outputs": [],
   "source": [
    "# Graficar barras\n",
    "pos=[1, 2, 3, 4, 5, 6, 7, 8]\n",
    "plt.rcdefaults()\n",
    "fig, ax = plt.subplots()\n",
    "ax.barh(pos, importanciaVars, align='center',color='blue')\n",
    "ax.set_yticks(pos)\n",
    "ax.set_yticklabels(feat_labels)\n",
    "ax.invert_yaxis()  # labels read top-to-bottom\n",
    "ax.set_xlabel('Importancia Variables')\n",
    "plt.show()"
   ]
  },
  {
   "cell_type": "code",
   "execution_count": null,
   "metadata": {
    "collapsed": false
   },
   "outputs": [],
   "source": [
    "######################################################\n",
    "# Realizar prediccion en datos de validacion\n",
    "print('Prediccion en datos de validacion...')\n",
    "y_pred = model_rf.predict(X_test)\n",
    "precision=accuracy_score(y_test, y_pred)\n",
    "print(precision)"
   ]
  },
  {
   "cell_type": "code",
   "execution_count": null,
   "metadata": {
    "collapsed": false
   },
   "outputs": [],
   "source": [
    "# Matriz de confusion\n",
    "tabla=pd.crosstab(y_test.values.ravel(), y_pred, rownames=['Actual LOS'], colnames=['Predicted LOS'])\n",
    "print(tabla)"
   ]
  }
 ],
 "metadata": {
  "kernelspec": {
   "display_name": "Python 3",
   "language": "python",
   "name": "python3"
  },
  "language_info": {
   "codemirror_mode": {
    "name": "ipython",
    "version": 3
   },
   "file_extension": ".py",
   "mimetype": "text/x-python",
   "name": "python",
   "nbconvert_exporter": "python",
   "pygments_lexer": "ipython3",
   "version": "3.5.5"
  }
 },
 "nbformat": 4,
 "nbformat_minor": 2
}
