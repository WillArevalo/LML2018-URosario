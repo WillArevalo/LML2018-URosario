{
 "cells": [
  {
   "cell_type": "code",
   "execution_count": 1,
   "metadata": {},
   "outputs": [],
   "source": [
    "## ENTRENAMIENTO Y PRUEBA DE MODELO DE RANDOM FOREST EN\n",
    "## PREDICCION DE TIEMPO DE ESTANCIA EN HOSPITAL\n",
    "\n",
    "import pandas as pd\n",
    "import numpy as np\n",
    "import matplotlib.pyplot as plt\n",
    "\n",
    "from sklearn.ensemble import RandomForestClassifier\n",
    "from sklearn.model_selection import train_test_split\n",
    "from sklearn.metrics import accuracy_score"
   ]
  },
  {
   "cell_type": "code",
   "execution_count": 2,
   "metadata": {},
   "outputs": [
    {
     "name": "stdout",
     "output_type": "stream",
     "text": [
      "Cargando datos...\n",
      "Fin de carga de datos\n"
     ]
    }
   ],
   "source": [
    "#####################################################\n",
    "# Cargar datos\n",
    "print('Cargando datos...')\n",
    "X = pd.read_csv('data_preprocesada.csv')\n",
    "y = pd.read_csv('y.csv')\n",
    "feat_labels = ['Diagnostico','Hospital','via_Ingreso','codigo_Administradora','Causa_Externa','Edad','Ocupacion','Num_Reinserciones']\n",
    "\n",
    "\n",
    "# Separar en datos de entrenamiento y validacion\n",
    "X_train, X_test, y_train, y_test = train_test_split(X, y, test_size=0.4, random_state=0)\n",
    "print('Fin de carga de datos')"
   ]
  },
  {
   "cell_type": "code",
   "execution_count": 3,
   "metadata": {},
   "outputs": [
    {
     "name": "stdout",
     "output_type": "stream",
     "text": [
      "Entrenando modelo Random Forest ...\n"
     ]
    },
    {
     "data": {
      "text/plain": [
       "RandomForestClassifier(bootstrap=True, class_weight=None, criterion='gini',\n",
       "            max_depth=None, max_features=4, max_leaf_nodes=None,\n",
       "            min_impurity_decrease=0.0, min_impurity_split=None,\n",
       "            min_samples_leaf=10, min_samples_split=2,\n",
       "            min_weight_fraction_leaf=0.0, n_estimators=1000, n_jobs=2,\n",
       "            oob_score=False, random_state=0, verbose=0, warm_start=False)"
      ]
     },
     "execution_count": 3,
     "metadata": {},
     "output_type": "execute_result"
    }
   ],
   "source": [
    "######################################################\n",
    "# Entrenar clasificador\n",
    "print('Entrenando modelo Random Forest ...')\n",
    "model_rf = RandomForestClassifier(n_estimators=1000, max_features=4, min_samples_leaf=10,random_state=0, n_jobs=2)\n",
    "model_rf.fit(X_train, y_train.values.ravel())\n"
   ]
  },
  {
   "cell_type": "code",
   "execution_count": 4,
   "metadata": {},
   "outputs": [
    {
     "name": "stdout",
     "output_type": "stream",
     "text": [
      "Calculando importancia de variables para prediccion ...\n",
      "[0.2236197  0.31334617 0.07555891 0.04490827 0.01300379 0.19020985\n",
      " 0.13139655 0.00795677]\n"
     ]
    }
   ],
   "source": [
    "#####################################################\n",
    "# Encontrar importancia de cada variable, y graficar\n",
    "importanciaVars=model_rf.feature_importances_\n",
    "print('Calculando importancia de variables para prediccion ...')\n",
    "print(importanciaVars)"
   ]
  },
  {
   "cell_type": "code",
   "execution_count": 5,
   "metadata": {},
   "outputs": [
    {
     "data": {
      "image/png": "[encoded data removed]",
      "text/plain": [
       "<Figure size 640x480 with 1 Axes>"
      ]
     },
     "metadata": {},
     "output_type": "display_data"
    }
   ],
   "source": [
    "# Graficar barras\n",
    "pos=[1, 2, 3, 4, 5, 6, 7, 8]\n",
    "plt.rcdefaults()\n",
    "fig, ax = plt.subplots()\n",
    "ax.barh(pos, importanciaVars, align='center',color='blue')\n",
    "ax.set_yticks(pos)\n",
    "ax.set_yticklabels(feat_labels)\n",
    "ax.invert_yaxis()  # labels read top-to-bottom\n",
    "ax.set_xlabel('Importancia Variables')\n",
    "plt.show()"
   ]
  },
  {
   "cell_type": "code",
   "execution_count": 6,
   "metadata": {},
   "outputs": [
    {
     "name": "stdout",
     "output_type": "stream",
     "text": [
      "Prediccion en datos de validacion...\n",
      "87776   87776\n",
      "0.6524106817353262\n"
     ]
    }
   ],
   "source": [
    "######################################################\n",
    "# Realizar prediccion en datos de validacion\n",
    "print('Prediccion en datos de validacion...')\n",
    "y_pred = model_rf.predict(X_test)\n",
    "print(len(y_pred),\" \",len(y_test))\n",
    "precision=accuracy_score(y_test, y_pred)\n",
    "print(precision)"
   ]
  },
  {
   "cell_type": "code",
   "execution_count": 7,
   "metadata": {},
   "outputs": [
    {
     "name": "stdout",
     "output_type": "stream",
     "text": [
      "Predicted LOS      1      2      3\n",
      "Actual LOS                        \n",
      "1              19785   5721   3800\n",
      "2               4935  16338   8402\n",
      "3               1846   5806  21143\n"
     ]
    }
   ],
   "source": [
    "# Matriz de confusion\n",
    "tabla=pd.crosstab(y_test.values.ravel(), y_pred, rownames=['Actual LOS'], colnames=['Predicted LOS'])\n",
    "print(tabla)"
   ]
  },
  {
   "cell_type": "code",
   "execution_count": null,
   "metadata": {},
   "outputs": [],
   "source": []
  }
 ],
 "metadata": {
  "kernelspec": {
   "display_name": "Python 3",
   "language": "python",
   "name": "python3"
  },
  "language_info": {
   "codemirror_mode": {
    "name": "ipython",
    "version": 3
   },
   "file_extension": ".py",
   "mimetype": "text/x-python",
   "name": "python",
   "nbconvert_exporter": "python",
   "pygments_lexer": "ipython3",
   "version": "3.6.6"
  }
 },
 "nbformat": 4,
 "nbformat_minor": 2
}
