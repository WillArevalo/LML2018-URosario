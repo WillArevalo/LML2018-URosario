{
 "cells": [
  {
   "cell_type": "code",
   "execution_count": 6,
   "metadata": {},
   "outputs": [],
   "source": [
    "## ENTRENAMIENTO Y PRUEBA DE MODELO DE XGBOOST EN\n",
    "## PREDICCION DE TIEMPO DE ESTANCIA EN HOSPITAL\n",
    "\n",
    "# Hay que instalar paquete xgboost\n",
    "#conda install -c anaconda py-xgboost-cpu\n",
    "\n",
    "import pandas as pd\n",
    "import numpy as np\n",
    "import matplotlib.pyplot as plt\n",
    "\n",
    "from xgboost import XGBClassifier\n",
    "\n",
    "from sklearn.model_selection import train_test_split\n",
    "from sklearn.metrics import accuracy_score"
   ]
  },
  {
   "cell_type": "code",
   "execution_count": 8,
   "metadata": {},
   "outputs": [
    {
     "name": "stdout",
     "output_type": "stream",
     "text": [
      "Cargando datos...\n",
      "Fin de carga de datos\n"
     ]
    }
   ],
   "source": [
    "# Escribir aqui el codigo fuente que resuelva el problema\n",
    "#####################################################\n",
    "# Cargar datos\n",
    "print('Cargando datos...')\n",
    "X = pd.read_csv('data_preprocesada.csv')\n",
    "y = pd.read_csv('y.csv')\n",
    "feat_labels = ['Diagnostico','Hospital','via_Ingreso','codigo_Administradora','Causa_Externa','Edad','Ocupacion','Num_Reinserciones']\n",
    "\n",
    "\n",
    "# Separar en datos de entrenamiento y validacion\n",
    "X_train, X_test, y_train, y_test = train_test_split(X, y, test_size=0.4, random_state=0)\n",
    "print('Fin de carga de datos')"
   ]
  },
  {
   "cell_type": "code",
   "execution_count": 10,
   "metadata": {},
   "outputs": [
    {
     "name": "stdout",
     "output_type": "stream",
     "text": [
      "Entrenando modelo Random Forest ...\n"
     ]
    },
    {
     "data": {
      "text/plain": [
       "XGBClassifier(base_score=0.5, booster='gbtree', colsample_bylevel=1,\n",
       "       colsample_bytree=1, gamma=0, learning_rate=0.1, max_delta_step=0,\n",
       "       max_depth=8, min_child_weight=1, missing=None, n_estimators=1000,\n",
       "       n_jobs=3, nthread=None, objective='multi:softprob', random_state=0,\n",
       "       reg_alpha=0, reg_lambda=1, scale_pos_weight=1, seed=None,\n",
       "       silent=True, subsample=1)"
      ]
     },
     "execution_count": 10,
     "metadata": {},
     "output_type": "execute_result"
    }
   ],
   "source": [
    "######################################################\n",
    "# Entrenar clasificador\n",
    "print('Entrenando modelo Random Forest ...')\n",
    "model_XGB = XGBClassifier(max_depth=8, n_estimators=1000,random_state=0, n_jobs=3)\n",
    "model_XGB.fit(X_train, y_train.values.ravel())"
   ]
  },
  {
   "cell_type": "code",
   "execution_count": 11,
   "metadata": {},
   "outputs": [
    {
     "name": "stdout",
     "output_type": "stream",
     "text": [
      "Calculando importancia de variables para prediccion ...\n",
      "[0.24610896 0.14585555 0.05357172 0.05292879 0.01118154 0.23946808\n",
      " 0.23357461 0.01731075]\n"
     ]
    }
   ],
   "source": [
    "#####################################################\n",
    "# Encontrar importancia de cada variable, y graficar\n",
    "importanciaVars=model_XGB.feature_importances_\n",
    "print('Calculando importancia de variables para prediccion ...')\n",
    "print(importanciaVars)"
   ]
  },
  {
   "cell_type": "code",
   "execution_count": 12,
   "metadata": {},
   "outputs": [
    {
     "data": {
      "image/png": "[encoded data removed]",
      "text/plain": [
       "<Figure size 640x480 with 1 Axes>"
      ]
     },
     "metadata": {},
     "output_type": "display_data"
    }
   ],
   "source": [
    "# Graficar barras\n",
    "pos=[1, 2, 3, 4, 5, 6, 7, 8]\n",
    "plt.rcdefaults()\n",
    "fig, ax = plt.subplots()\n",
    "ax.barh(pos, importanciaVars, align='center',color='blue')\n",
    "ax.set_yticks(pos)\n",
    "ax.set_yticklabels(feat_labels)\n",
    "ax.invert_yaxis()  # labels read top-to-bottom\n",
    "ax.set_xlabel('Importancia Variables')\n",
    "plt.show()"
   ]
  },
  {
   "cell_type": "code",
   "execution_count": 13,
   "metadata": {},
   "outputs": [
    {
     "name": "stdout",
     "output_type": "stream",
     "text": [
      "Prediccion en datos de validacion...\n",
      "87776   87776\n",
      "0.6586538461538461\n"
     ]
    },
    {
     "name": "stderr",
     "output_type": "stream",
     "text": [
      "/home/development/anaconda3/lib/python3.6/site-packages/sklearn/preprocessing/label.py:151: DeprecationWarning: The truth value of an empty array is ambiguous. Returning False, but in future this will result in an error. Use `array.size > 0` to check that an array is not empty.\n",
      "  if diff:\n"
     ]
    }
   ],
   "source": [
    "######################################################\n",
    "# Realizar prediccion en datos de validacion\n",
    "print('Prediccion en datos de validacion...')\n",
    "y_pred = model_XGB.predict(X_test)\n",
    "print(len(y_pred),\" \",len(y_test))\n",
    "precision=accuracy_score(y_test, y_pred)\n",
    "print(precision)"
   ]
  },
  {
   "cell_type": "code",
   "execution_count": 14,
   "metadata": {},
   "outputs": [
    {
     "name": "stdout",
     "output_type": "stream",
     "text": [
      "Predicted LOS      1      2      3\n",
      "Actual LOS                        \n",
      "1              20476   5658   3172\n",
      "2               5223  16721   7731\n",
      "3               1932   6246  20617\n"
     ]
    }
   ],
   "source": [
    "# Matriz de confusion\n",
    "tabla=pd.crosstab(y_test.values.ravel(), y_pred, rownames=['Actual LOS'], colnames=['Predicted LOS'])\n",
    "print(tabla)"
   ]
  },
  {
   "cell_type": "code",
   "execution_count": null,
   "metadata": {},
   "outputs": [],
   "source": []
  }
 ],
 "metadata": {
  "kernelspec": {
   "display_name": "Python 3",
   "language": "python",
   "name": "python3"
  },
  "language_info": {
   "codemirror_mode": {
    "name": "ipython",
    "version": 3
   },
   "file_extension": ".py",
   "mimetype": "text/x-python",
   "name": "python",
   "nbconvert_exporter": "python",
   "pygments_lexer": "ipython3",
   "version": "3.6.6"
  }
 },
 "nbformat": 4,
 "nbformat_minor": 2
}
