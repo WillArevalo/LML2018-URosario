{
 "cells": [
  {
   "cell_type": "code",
   "execution_count": 5,
   "metadata": {},
   "outputs": [],
   "source": [
    "import pandas as pd\n",
    "import numpy as np\n",
    "#loading database\n",
    "DR12Q_selected=pd.read_csv('DR12Q_selected.csv')\n",
    "len(DR12Q_selected.columns)\n",
    "# this paper discribes the data https://www.aanda.org/articles/aa/pdf/2017/01/aa27999-15.pdf\n",
    "#features tu use\n",
    "COLS_FWMG= ['Z_VI', 'Z_PIPE', 'Z_PCA', 'Z_CIV', 'Z_CIII', 'Z_MGII','ALPHA_NU', \n",
    "            'FWHM_CIV','BHWHM_CIV', 'RHWHM_CIV', 'AMP_CIV', 'REWE_CIV',\n",
    "            'FWHM_CIII', 'BHWHM_CIII', 'RHWHM_CIII', 'AMP_CIII', 'REWE_CIII',\n",
    "            'BI_CIV', 'AI_CIV', 'VMIN_CIV_2000', 'VMAX_CIV_2000', 'NCIV_450',\n",
    "            'VMIN_CIV_450', 'VMAX_CIV_450', 'REW_SIIV', 'REW_CIV', 'REW_ALIII','FUV', 'NUV',\n",
    "            'FWHM_CIVC', 'U', 'G', 'R', 'I', 'Z', 'Ur', 'Gr', 'Rr', 'Ir', 'Zr',\n",
    "            'Y', 'J', 'H', 'K', 'W1', 'W2', 'W3', 'W4', 'FUV-NUV','FUV-U', 'FUV-G', \n",
    "            'FUV-R', 'FUV-I', 'FUV-Z', 'FUV-Y', 'FUV-J', 'FUV-H',\n",
    "            'FUV-K', 'FUV-W1', 'FUV-W2', 'FUV-W3', 'FUV-W4', 'NUV-U', 'NUV-G',\n",
    "            'NUV-R', 'NUV-I', 'NUV-Z', 'NUV-W1', \n",
    "            'NUV-W2', 'NUV-W3', 'NUV-W4', 'U-G', 'U-R',\n",
    "            'U-I', 'U-Z', 'U-W1', 'U-W2', 'U-W3',\n",
    "            'U-W4', 'G-R', 'G-I','G-Z', 'G-W1', 'G-W2', 'G-W3', 'G-W4',\n",
    "            'R-I', 'R-Z',  'R-W1', 'R-W2', 'R-W3',\n",
    "            'R-W4', 'I-Z', 'I-Y', 'I-W1', 'I-W2', 'I-W3', 'I-W4',\n",
    "            'W1-W2', 'W1-W3', 'W1-W4', 'W2-W3', 'W2-W4',\n",
    "            'W3-W4', 'L1350', 'MBH_CIV']\n",
    "\n",
    "\n",
    "COL_FWMG_YTR=['FWHM_MGII']\n",
    "COL_MBHMG_YTR=['MBH_MgII']\n",
    "#Defining the feature variable\n",
    "X=DR12Q_selected[COLS_FWMG]\n",
    "\n",
    "\n",
    "#two possibilities for response variable, the idea is to see which one performs better\n",
    "# first option. \n",
    "Y1=DR12Q_selected[COL_FWMG_YTR]\n",
    "# second option\n",
    "Y2=DR12Q_selected[COL_FWMG_YTR]"
   ]
  },
  {
   "cell_type": "code",
   "execution_count": 6,
   "metadata": {},
   "outputs": [],
   "source": [
    "import os\n",
    "os.chdir('/Users/jmejiar/AGN/gitlab/mass_learning/')"
   ]
  },
  {
   "cell_type": "code",
   "execution_count": null,
   "metadata": {},
   "outputs": [],
   "source": []
  }
 ],
 "metadata": {
  "kernelspec": {
   "display_name": "Python 3",
   "language": "python",
   "name": "python3"
  },
  "language_info": {
   "codemirror_mode": {
    "name": "ipython",
    "version": 3
   },
   "file_extension": ".py",
   "mimetype": "text/x-python",
   "name": "python",
   "nbconvert_exporter": "python",
   "pygments_lexer": "ipython3",
   "version": "3.6.4"
  }
 },
 "nbformat": 4,
 "nbformat_minor": 2
}
